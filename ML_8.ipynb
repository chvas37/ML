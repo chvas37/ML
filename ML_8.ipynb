{
 "cells": [
  {
   "cell_type": "code",
   "execution_count": 3,
   "id": "cd26ca49",
   "metadata": {},
   "outputs": [],
   "source": [
    "import pandas as pd\n",
    "from sklearn.datasets import fetch_20newsgroups\n",
    "news = fetch_20newsgroups(subset='all')"
   ]
  },
  {
   "cell_type": "code",
   "execution_count": 4,
   "id": "db3dcb85",
   "metadata": {},
   "outputs": [],
   "source": [
    "from sklearn.feature_extraction.text import CountVectorizer"
   ]
  },
  {
   "cell_type": "code",
   "execution_count": 5,
   "id": "0227cb3d",
   "metadata": {},
   "outputs": [],
   "source": [
    "vectorizer = CountVectorizer()\n",
    "X = vectorizer.fit_transform(news)"
   ]
  },
  {
   "cell_type": "code",
   "execution_count": 6,
   "id": "04804073",
   "metadata": {},
   "outputs": [
    {
     "data": {
      "text/html": [
       "<div>\n",
       "<style scoped>\n",
       "    .dataframe tbody tr th:only-of-type {\n",
       "        vertical-align: middle;\n",
       "    }\n",
       "\n",
       "    .dataframe tbody tr th {\n",
       "        vertical-align: top;\n",
       "    }\n",
       "\n",
       "    .dataframe thead th {\n",
       "        text-align: right;\n",
       "    }\n",
       "</style>\n",
       "<table border=\"1\" class=\"dataframe\">\n",
       "  <thead>\n",
       "    <tr style=\"text-align: right;\">\n",
       "      <th></th>\n",
       "      <th>text</th>\n",
       "      <th>categories</th>\n",
       "    </tr>\n",
       "  </thead>\n",
       "  <tbody>\n",
       "    <tr>\n",
       "      <th>0</th>\n",
       "      <td>From: Mamatha Devineni Ratnam &lt;mr47+@andrew.cm...</td>\n",
       "      <td>rec.sport.hockey</td>\n",
       "    </tr>\n",
       "    <tr>\n",
       "      <th>1</th>\n",
       "      <td>From: mblawson@midway.ecn.uoknor.edu (Matthew ...</td>\n",
       "      <td>comp.sys.ibm.pc.hardware</td>\n",
       "    </tr>\n",
       "    <tr>\n",
       "      <th>2</th>\n",
       "      <td>From: hilmi-er@dsv.su.se (Hilmi Eren)\\nSubject...</td>\n",
       "      <td>talk.politics.mideast</td>\n",
       "    </tr>\n",
       "    <tr>\n",
       "      <th>3</th>\n",
       "      <td>From: guyd@austin.ibm.com (Guy Dawson)\\nSubjec...</td>\n",
       "      <td>comp.sys.ibm.pc.hardware</td>\n",
       "    </tr>\n",
       "    <tr>\n",
       "      <th>4</th>\n",
       "      <td>From: Alexander Samuel McDiarmid &lt;am2o+@andrew...</td>\n",
       "      <td>comp.sys.mac.hardware</td>\n",
       "    </tr>\n",
       "  </tbody>\n",
       "</table>\n",
       "</div>"
      ],
      "text/plain": [
       "                                                text                categories\n",
       "0  From: Mamatha Devineni Ratnam <mr47+@andrew.cm...          rec.sport.hockey\n",
       "1  From: mblawson@midway.ecn.uoknor.edu (Matthew ...  comp.sys.ibm.pc.hardware\n",
       "2  From: hilmi-er@dsv.su.se (Hilmi Eren)\\nSubject...     talk.politics.mideast\n",
       "3  From: guyd@austin.ibm.com (Guy Dawson)\\nSubjec...  comp.sys.ibm.pc.hardware\n",
       "4  From: Alexander Samuel McDiarmid <am2o+@andrew...     comp.sys.mac.hardware"
      ]
     },
     "execution_count": 6,
     "metadata": {},
     "output_type": "execute_result"
    }
   ],
   "source": [
    "df = pd.DataFrame(news.data, columns=['text'])\n",
    "df['categories'] = [news.target_names[index] for index in news.target]\n",
    "df.head()"
   ]
  },
  {
   "cell_type": "code",
   "execution_count": 7,
   "id": "89d5fce3",
   "metadata": {},
   "outputs": [],
   "source": [
    "data_train = fetch_20newsgroups(subset='train', categories=None,\n",
    "                                remove=('headers', 'footers',       \n",
    "                                'quotes'))\n",
    "data_test = fetch_20newsgroups(subset='test', categories=None,\n",
    "                               remove=('headers', 'footers', \n",
    "                               'quotes'))\n",
    "X_train = data_train.data\n",
    "y_train = data_train.target\n",
    "X_test = data_test.data\n",
    "y_test = data_test.target"
   ]
  },
  {
   "cell_type": "code",
   "execution_count": 8,
   "id": "9045a68b",
   "metadata": {},
   "outputs": [],
   "source": [
    "vectorizer = CountVectorizer()\n",
    "X_train = vectorizer.fit_transform(X_train)\n",
    "X_test = vectorizer.transform(X_test)"
   ]
  },
  {
   "cell_type": "code",
   "execution_count": 9,
   "id": "480c62f3",
   "metadata": {},
   "outputs": [],
   "source": [
    "from sklearn.naive_bayes import GaussianNB"
   ]
  },
  {
   "cell_type": "code",
   "execution_count": 10,
   "id": "3fa3c180",
   "metadata": {},
   "outputs": [
    {
     "data": {
      "text/html": [
       "<style>#sk-container-id-1 {color: black;background-color: white;}#sk-container-id-1 pre{padding: 0;}#sk-container-id-1 div.sk-toggleable {background-color: white;}#sk-container-id-1 label.sk-toggleable__label {cursor: pointer;display: block;width: 100%;margin-bottom: 0;padding: 0.3em;box-sizing: border-box;text-align: center;}#sk-container-id-1 label.sk-toggleable__label-arrow:before {content: \"▸\";float: left;margin-right: 0.25em;color: #696969;}#sk-container-id-1 label.sk-toggleable__label-arrow:hover:before {color: black;}#sk-container-id-1 div.sk-estimator:hover label.sk-toggleable__label-arrow:before {color: black;}#sk-container-id-1 div.sk-toggleable__content {max-height: 0;max-width: 0;overflow: hidden;text-align: left;background-color: #f0f8ff;}#sk-container-id-1 div.sk-toggleable__content pre {margin: 0.2em;color: black;border-radius: 0.25em;background-color: #f0f8ff;}#sk-container-id-1 input.sk-toggleable__control:checked~div.sk-toggleable__content {max-height: 200px;max-width: 100%;overflow: auto;}#sk-container-id-1 input.sk-toggleable__control:checked~label.sk-toggleable__label-arrow:before {content: \"▾\";}#sk-container-id-1 div.sk-estimator input.sk-toggleable__control:checked~label.sk-toggleable__label {background-color: #d4ebff;}#sk-container-id-1 div.sk-label input.sk-toggleable__control:checked~label.sk-toggleable__label {background-color: #d4ebff;}#sk-container-id-1 input.sk-hidden--visually {border: 0;clip: rect(1px 1px 1px 1px);clip: rect(1px, 1px, 1px, 1px);height: 1px;margin: -1px;overflow: hidden;padding: 0;position: absolute;width: 1px;}#sk-container-id-1 div.sk-estimator {font-family: monospace;background-color: #f0f8ff;border: 1px dotted black;border-radius: 0.25em;box-sizing: border-box;margin-bottom: 0.5em;}#sk-container-id-1 div.sk-estimator:hover {background-color: #d4ebff;}#sk-container-id-1 div.sk-parallel-item::after {content: \"\";width: 100%;border-bottom: 1px solid gray;flex-grow: 1;}#sk-container-id-1 div.sk-label:hover label.sk-toggleable__label {background-color: #d4ebff;}#sk-container-id-1 div.sk-serial::before {content: \"\";position: absolute;border-left: 1px solid gray;box-sizing: border-box;top: 0;bottom: 0;left: 50%;z-index: 0;}#sk-container-id-1 div.sk-serial {display: flex;flex-direction: column;align-items: center;background-color: white;padding-right: 0.2em;padding-left: 0.2em;position: relative;}#sk-container-id-1 div.sk-item {position: relative;z-index: 1;}#sk-container-id-1 div.sk-parallel {display: flex;align-items: stretch;justify-content: center;background-color: white;position: relative;}#sk-container-id-1 div.sk-item::before, #sk-container-id-1 div.sk-parallel-item::before {content: \"\";position: absolute;border-left: 1px solid gray;box-sizing: border-box;top: 0;bottom: 0;left: 50%;z-index: -1;}#sk-container-id-1 div.sk-parallel-item {display: flex;flex-direction: column;z-index: 1;position: relative;background-color: white;}#sk-container-id-1 div.sk-parallel-item:first-child::after {align-self: flex-end;width: 50%;}#sk-container-id-1 div.sk-parallel-item:last-child::after {align-self: flex-start;width: 50%;}#sk-container-id-1 div.sk-parallel-item:only-child::after {width: 0;}#sk-container-id-1 div.sk-dashed-wrapped {border: 1px dashed gray;margin: 0 0.4em 0.5em 0.4em;box-sizing: border-box;padding-bottom: 0.4em;background-color: white;}#sk-container-id-1 div.sk-label label {font-family: monospace;font-weight: bold;display: inline-block;line-height: 1.2em;}#sk-container-id-1 div.sk-label-container {text-align: center;}#sk-container-id-1 div.sk-container {/* jupyter's `normalize.less` sets `[hidden] { display: none; }` but bootstrap.min.css set `[hidden] { display: none !important; }` so we also need the `!important` here to be able to override the default hidden behavior on the sphinx rendered scikit-learn.org. See: https://github.com/scikit-learn/scikit-learn/issues/21755 */display: inline-block !important;position: relative;}#sk-container-id-1 div.sk-text-repr-fallback {display: none;}</style><div id=\"sk-container-id-1\" class=\"sk-top-container\"><div class=\"sk-text-repr-fallback\"><pre>GaussianNB()</pre><b>In a Jupyter environment, please rerun this cell to show the HTML representation or trust the notebook. <br />On GitHub, the HTML representation is unable to render, please try loading this page with nbviewer.org.</b></div><div class=\"sk-container\" hidden><div class=\"sk-item\"><div class=\"sk-estimator sk-toggleable\"><input class=\"sk-toggleable__control sk-hidden--visually\" id=\"sk-estimator-id-1\" type=\"checkbox\" checked><label for=\"sk-estimator-id-1\" class=\"sk-toggleable__label sk-toggleable__label-arrow\">GaussianNB</label><div class=\"sk-toggleable__content\"><pre>GaussianNB()</pre></div></div></div></div></div>"
      ],
      "text/plain": [
       "GaussianNB()"
      ]
     },
     "execution_count": 10,
     "metadata": {},
     "output_type": "execute_result"
    }
   ],
   "source": [
    "classifier = GaussianNB()\n",
    "classifier.fit(X_train.toarray(), y_train)"
   ]
  },
  {
   "cell_type": "code",
   "execution_count": 11,
   "id": "99549459",
   "metadata": {},
   "outputs": [],
   "source": [
    "y_pred = classifier.predict(X_test.toarray())"
   ]
  },
  {
   "cell_type": "code",
   "execution_count": 12,
   "id": "85dc9d9d",
   "metadata": {},
   "outputs": [],
   "source": [
    "from sklearn import metrics"
   ]
  },
  {
   "cell_type": "code",
   "execution_count": 13,
   "id": "1d55a85d",
   "metadata": {},
   "outputs": [
    {
     "name": "stdout",
     "output_type": "stream",
     "text": [
      "[[120   2   0   5  18   2   2   5   4   4   4   4   2   2   9  62   8  16\n",
      "   19  31]\n",
      " [  1 222   4  23  35  33   4   1   4   2   0  22   9   9  15   2   1   1\n",
      "    1   0]\n",
      " [  3  63  27  95  64  52  15   1   1   4   2  16   9  16  14   5   1   0\n",
      "    5   1]\n",
      " [  0  24   7 217  75  11  14   1   5   1   2   9  19   4   2   0   0   0\n",
      "    1   0]\n",
      " [  0  25   2  37 230   7  15   7   3   6   3   7  20   7  10   0   3   0\n",
      "    1   2]\n",
      " [  0  58   3  12  25 254   2   1   4   6   0  11   2   8   7   0   1   1\n",
      "    0   0]\n",
      " [  1  15   0  39  52   8 199  15  12   5   4   5   9   9  10   0   1   4\n",
      "    2   0]\n",
      " [  2   3   0   1  38   0  11 243  40   8   0   6  14   2  10   6   3   1\n",
      "    8   0]\n",
      " [  8   1   0   1  27   1  10  55 232   8   4   4  10   2   4   1  10   6\n",
      "    7   7]\n",
      " [  5   1   0   0  24   1   2   1   5 297  16   2   1   5   6   3   9   2\n",
      "   15   2]\n",
      " [  5   2   0   1  15   0   5   5   2  14 327   2   2   2   2   1   3   6\n",
      "    3   2]\n",
      " [ 11   4   0   5  29   3   2   5  14   4   4 248  11   5  11   3   7  11\n",
      "   14   5]\n",
      " [  3  19   0  29  32   9  19  28  13   3   0  24 169  16  22   2   0   4\n",
      "    1   0]\n",
      " [  4   3   0   5  20   1   5  13   7   9   1   2   6 259   8  20   7   9\n",
      "   11   6]\n",
      " [  5  11   0   2  23   1   3   8  10   9   4   5   7   8 263   7   4   9\n",
      "   14   1]\n",
      " [ 29   4   0   0  15   0   1   1   2   1   1   1   1   3   2 268   1  12\n",
      "   12  44]\n",
      " [ 14   0   0   2  23   1   0  16   7   5   4  17   3   7   4  11 163  19\n",
      "   37  31]\n",
      " [ 16   2   0   3  10   1   1   1   5  12   1   6   2   0   1  24   3 258\n",
      "   20  10]\n",
      " [ 23   1   0   0  13   1   1   7   9   1   1  10   1   8  11  13  54  25\n",
      "  118  13]\n",
      " [ 45   0   0   1  12   0   0   6   8   8   1   7   3   4   7  50  14  16\n",
      "   15  54]]\n",
      "              precision    recall  f1-score   support\n",
      "\n",
      "           0       0.41      0.38      0.39       319\n",
      "           1       0.48      0.57      0.52       389\n",
      "           2       0.63      0.07      0.12       394\n",
      "           3       0.45      0.55      0.50       392\n",
      "           4       0.29      0.60      0.39       385\n",
      "           5       0.66      0.64      0.65       395\n",
      "           6       0.64      0.51      0.57       390\n",
      "           7       0.58      0.61      0.60       396\n",
      "           8       0.60      0.58      0.59       398\n",
      "           9       0.73      0.75      0.74       397\n",
      "          10       0.86      0.82      0.84       399\n",
      "          11       0.61      0.63      0.62       396\n",
      "          12       0.56      0.43      0.49       393\n",
      "          13       0.69      0.65      0.67       396\n",
      "          14       0.63      0.67      0.65       394\n",
      "          15       0.56      0.67      0.61       398\n",
      "          16       0.56      0.45      0.50       364\n",
      "          17       0.65      0.69      0.66       376\n",
      "          18       0.39      0.38      0.38       310\n",
      "          19       0.26      0.22      0.23       251\n",
      "\n",
      "    accuracy                           0.55      7532\n",
      "   macro avg       0.56      0.54      0.54      7532\n",
      "weighted avg       0.57      0.55      0.55      7532\n",
      "\n"
     ]
    }
   ],
   "source": [
    "from sklearn.metrics import classification_report, confusion_matrix \n",
    "print(confusion_matrix(y_test,y_pred)) \n",
    "print(classification_report(y_test,y_pred))"
   ]
  },
  {
   "cell_type": "code",
   "execution_count": 14,
   "id": "6b93812a",
   "metadata": {},
   "outputs": [],
   "source": [
    "from sklearn.model_selection import train_test_split\n",
    "from sklearn.preprocessing import StandardScaler\n",
    "from sklearn.pipeline import make_pipeline\n",
    "from sklearn.linear_model import LogisticRegression\n",
    "from sklearn.model_selection import learning_curve\n",
    "from sklearn import datasets\n",
    "import matplotlib.pyplot as plt\n",
    "import  numpy as np\n"
   ]
  },
  {
   "cell_type": "code",
   "execution_count": 15,
   "id": "6c640778",
   "metadata": {},
   "outputs": [],
   "source": [
    "def plot_learning_curve(x_train, x_test, y_train_, y_test, model, name):\n",
    "  # Создайте конвейер; Это будет передано в качестве оценки в метод кривой обучения\n",
    "    pipeline = make_pipeline(StandardScaler(), model)\n",
    "\n",
    "  # Используйте кривую обучения, чтобы получить результаты тренировок и тестов, а также размеры поездов\n",
    "    train_sizes, train_scores, test_scores = learning_curve(estimator=pipeline, X=x_train, y=y_train,\n",
    "    cv=10, train_sizes=np.linspace(0.1, 1.0, 10),\n",
    "    n_jobs=1)\n",
    "\n",
    "  # Рассчитайте среднее значение обучения и тестирования и std\n",
    "    train_mean = np.mean(train_scores, axis=1)\n",
    "    train_std = np.std(train_scores, axis=1)\n",
    "    test_mean = np.mean(test_scores, axis=1)\n",
    "    test_std = np.std(test_scores, axis=1)\n",
    "\n",
    "  # Постройте кривую обучения\n",
    "    plt.plot(train_sizes, train_mean, color='blue', marker='o', markersize=5, label='Training Accuracy')\n",
    "    plt.fill_between(train_sizes, train_mean + train_std, train_mean - train_std, alpha=0.15, color='blue')\n",
    "    plt.plot(train_sizes, test_mean, color='green', marker='+', markersize=5, linestyle='--', label='Validation Accuracy')\n",
    "    plt.fill_between(train_sizes, test_mean + test_std, test_mean - test_std, alpha=0.15, color='green')\n",
    "    plt.title(f'Learning Curve of {name}')\n",
    "    plt.xlabel('Training Data Size')\n",
    "    plt.ylabel('Model accuracy')\n",
    "    plt.grid()\n",
    "    plt.legend(loc='lower right')\n",
    "    plt.show()"
   ]
  },
  {
   "cell_type": "code",
   "execution_count": 17,
   "id": "0a207131",
   "metadata": {},
   "outputs": [
    {
     "data": {
      "image/png": "[encoded data removed]",
      "text/plain": [
       "<Figure size 432x288 with 1 Axes>"
      ]
     },
     "metadata": {
      "needs_background": "light"
     },
     "output_type": "display_data"
    }
   ],
   "source": [
    "plot_learning_curve(X_train, X_test, y_train, y_test, classifier, 'GNB')"
   ]
  },
  {
   "cell_type": "markdown",
   "id": "b9ac956f",
   "metadata": {},
   "source": [
    "# Постройте модели классификации для данной задачи на основе следующих методов:\n",
    "-логистическая регрессия (LogisticRegression);\n",
    "-метод опорных векторов с гауссовым ядром (SVC);\n",
    "-метод опорных векторов с полиномиальным ядром (SVC);\n",
    "-метод k ближайших соседей (KNeighborsClassifier);\n",
    "-многослойный перцептрон (MLP);\n",
    "-другие методы по желанию;"
   ]
  },
  {
   "cell_type": "code",
   "execution_count": 16,
   "id": "5d7cf83a",
   "metadata": {},
   "outputs": [],
   "source": [
    "from sklearn.linear_model import LogisticRegression"
   ]
  },
  {
   "cell_type": "code",
   "execution_count": 17,
   "id": "a7c23afa",
   "metadata": {},
   "outputs": [
    {
     "name": "stderr",
     "output_type": "stream",
     "text": [
      "C:\\Users\\-\\Downloads\\anaconda\\lib\\site-packages\\sklearn\\linear_model\\_logistic.py:444: ConvergenceWarning: lbfgs failed to converge (status=1):\n",
      "STOP: TOTAL NO. of ITERATIONS REACHED LIMIT.\n",
      "\n",
      "Increase the number of iterations (max_iter) or scale the data as shown in:\n",
      "    https://scikit-learn.org/stable/modules/preprocessing.html\n",
      "Please also refer to the documentation for alternative solver options:\n",
      "    https://scikit-learn.org/stable/modules/linear_model.html#logistic-regression\n",
      "  n_iter_i = _check_optimize_result(\n"
     ]
    },
    {
     "name": "stdout",
     "output_type": "stream",
     "text": [
      "Wall time: 44.9 s\n"
     ]
    },
    {
     "data": {
      "text/html": [
       "<style>#sk-container-id-2 {color: black;background-color: white;}#sk-container-id-2 pre{padding: 0;}#sk-container-id-2 div.sk-toggleable {background-color: white;}#sk-container-id-2 label.sk-toggleable__label {cursor: pointer;display: block;width: 100%;margin-bottom: 0;padding: 0.3em;box-sizing: border-box;text-align: center;}#sk-container-id-2 label.sk-toggleable__label-arrow:before {content: \"▸\";float: left;margin-right: 0.25em;color: #696969;}#sk-container-id-2 label.sk-toggleable__label-arrow:hover:before {color: black;}#sk-container-id-2 div.sk-estimator:hover label.sk-toggleable__label-arrow:before {color: black;}#sk-container-id-2 div.sk-toggleable__content {max-height: 0;max-width: 0;overflow: hidden;text-align: left;background-color: #f0f8ff;}#sk-container-id-2 div.sk-toggleable__content pre {margin: 0.2em;color: black;border-radius: 0.25em;background-color: #f0f8ff;}#sk-container-id-2 input.sk-toggleable__control:checked~div.sk-toggleable__content {max-height: 200px;max-width: 100%;overflow: auto;}#sk-container-id-2 input.sk-toggleable__control:checked~label.sk-toggleable__label-arrow:before {content: \"▾\";}#sk-container-id-2 div.sk-estimator input.sk-toggleable__control:checked~label.sk-toggleable__label {background-color: #d4ebff;}#sk-container-id-2 div.sk-label input.sk-toggleable__control:checked~label.sk-toggleable__label {background-color: #d4ebff;}#sk-container-id-2 input.sk-hidden--visually {border: 0;clip: rect(1px 1px 1px 1px);clip: rect(1px, 1px, 1px, 1px);height: 1px;margin: -1px;overflow: hidden;padding: 0;position: absolute;width: 1px;}#sk-container-id-2 div.sk-estimator {font-family: monospace;background-color: #f0f8ff;border: 1px dotted black;border-radius: 0.25em;box-sizing: border-box;margin-bottom: 0.5em;}#sk-container-id-2 div.sk-estimator:hover {background-color: #d4ebff;}#sk-container-id-2 div.sk-parallel-item::after {content: \"\";width: 100%;border-bottom: 1px solid gray;flex-grow: 1;}#sk-container-id-2 div.sk-label:hover label.sk-toggleable__label {background-color: #d4ebff;}#sk-container-id-2 div.sk-serial::before {content: \"\";position: absolute;border-left: 1px solid gray;box-sizing: border-box;top: 0;bottom: 0;left: 50%;z-index: 0;}#sk-container-id-2 div.sk-serial {display: flex;flex-direction: column;align-items: center;background-color: white;padding-right: 0.2em;padding-left: 0.2em;position: relative;}#sk-container-id-2 div.sk-item {position: relative;z-index: 1;}#sk-container-id-2 div.sk-parallel {display: flex;align-items: stretch;justify-content: center;background-color: white;position: relative;}#sk-container-id-2 div.sk-item::before, #sk-container-id-2 div.sk-parallel-item::before {content: \"\";position: absolute;border-left: 1px solid gray;box-sizing: border-box;top: 0;bottom: 0;left: 50%;z-index: -1;}#sk-container-id-2 div.sk-parallel-item {display: flex;flex-direction: column;z-index: 1;position: relative;background-color: white;}#sk-container-id-2 div.sk-parallel-item:first-child::after {align-self: flex-end;width: 50%;}#sk-container-id-2 div.sk-parallel-item:last-child::after {align-self: flex-start;width: 50%;}#sk-container-id-2 div.sk-parallel-item:only-child::after {width: 0;}#sk-container-id-2 div.sk-dashed-wrapped {border: 1px dashed gray;margin: 0 0.4em 0.5em 0.4em;box-sizing: border-box;padding-bottom: 0.4em;background-color: white;}#sk-container-id-2 div.sk-label label {font-family: monospace;font-weight: bold;display: inline-block;line-height: 1.2em;}#sk-container-id-2 div.sk-label-container {text-align: center;}#sk-container-id-2 div.sk-container {/* jupyter's `normalize.less` sets `[hidden] { display: none; }` but bootstrap.min.css set `[hidden] { display: none !important; }` so we also need the `!important` here to be able to override the default hidden behavior on the sphinx rendered scikit-learn.org. See: https://github.com/scikit-learn/scikit-learn/issues/21755 */display: inline-block !important;position: relative;}#sk-container-id-2 div.sk-text-repr-fallback {display: none;}</style><div id=\"sk-container-id-2\" class=\"sk-top-container\"><div class=\"sk-text-repr-fallback\"><pre>LogisticRegression()</pre><b>In a Jupyter environment, please rerun this cell to show the HTML representation or trust the notebook. <br />On GitHub, the HTML representation is unable to render, please try loading this page with nbviewer.org.</b></div><div class=\"sk-container\" hidden><div class=\"sk-item\"><div class=\"sk-estimator sk-toggleable\"><input class=\"sk-toggleable__control sk-hidden--visually\" id=\"sk-estimator-id-2\" type=\"checkbox\" checked><label for=\"sk-estimator-id-2\" class=\"sk-toggleable__label sk-toggleable__label-arrow\">LogisticRegression</label><div class=\"sk-toggleable__content\"><pre>LogisticRegression()</pre></div></div></div></div></div>"
      ],
      "text/plain": [
       "LogisticRegression()"
      ]
     },
     "execution_count": 17,
     "metadata": {},
     "output_type": "execute_result"
    }
   ],
   "source": [
    "%%time\n",
    "\n",
    "cls = LogisticRegression()\n",
    "cls.fit(X_train, y_train)\n",
    "y_pred = cls.predict(X_test)\n",
    "import time\n",
    "time.sleep(1)\n",
    "time.sleep(0.2)\n",
    "\n",
    "cls"
   ]
  },
  {
   "cell_type": "code",
   "execution_count": 18,
   "id": "0034c405",
   "metadata": {},
   "outputs": [
    {
     "name": "stdout",
     "output_type": "stream",
     "text": [
      "[[133   2   3   0   2   3   2   7   6  17   3   4   9  11  14  36  13   6\n",
      "    6  42]\n",
      " [  3 247  20  11   8  24   9   7   3  15   3   2  14   4  12   1   1   1\n",
      "    2   2]\n",
      " [  4  30 208  51  19  18   2   5   4  22   1   5   2   6   6   1   2   1\n",
      "    5   2]\n",
      " [  2  17  41 228  27   4  12   3   2  10   3   1  37   1   1   0   1   0\n",
      "    2   0]\n",
      " [  0  12  12  39 226   4  13  10   5  15   5   1  29   3   7   1   2   1\n",
      "    0   0]\n",
      " [  1  53  34  11   3 246   5   4   2  17   0   3   5   0   5   2   0   4\n",
      "    0   0]\n",
      " [  0   4   5  17  12   1 292  12   9  15   1   2  11   0   3   2   1   2\n",
      "    0   1]\n",
      " [  9   1   1   3   1   0  11 261  20  34   2   2  21   3   6   1   4   2\n",
      "   10   4]\n",
      " [  7   6   2   5   5   1   5  35 261  23   1   3  16   5   9   0   3   6\n",
      "    4   1]\n",
      " [  7   3   0   0   3   0   3   7   8 300  33   0   4   4   7   5   2   4\n",
      "    4   3]\n",
      " [  6   0   2   0   0   0   2   3   3  33 330   2   2   2   5   0   2   3\n",
      "    4   0]\n",
      " [  4   7  11   4   6   2   4   5   7  27   3 246  18   5   9   2  14   7\n",
      "   11   4]\n",
      " [  5  22  11  25  19   9  16  17  10  15   3  11 199  11  11   2   1   2\n",
      "    3   1]\n",
      " [  7  16   6   2   3   1   8  12   9  16   2   2  13 254   9  10   9   4\n",
      "    9   4]\n",
      " [  7  14   4   3   4   3   1  13   6  23   5   2  20   6 256   5   6   5\n",
      "   11   0]\n",
      " [ 31   3   2   1   1   2   1   3   6  16   2   2   6   7   2 264   1   4\n",
      "    9  35]\n",
      " [ 13   4   2   1   1   0   2  13  14  23   5  11   4   8   9  11 193   7\n",
      "   26  17]\n",
      " [ 29   1   0   0   1   0   2   6   9  15   3   3   5   4   4   9  11 249\n",
      "   17   8]\n",
      " [ 14   2   0   1   0   1   3   8   8  12   7  11   0   7  12   7  79  11\n",
      "  115  12]\n",
      " [ 42   7   2   2   1   1   3   6   5  10   3   3   1   9   7  43  19  13\n",
      "    8  66]]\n",
      "              precision    recall  f1-score   support\n",
      "\n",
      "           0       0.41      0.42      0.41       319\n",
      "           1       0.55      0.63      0.59       389\n",
      "           2       0.57      0.53      0.55       394\n",
      "           3       0.56      0.58      0.57       392\n",
      "           4       0.66      0.59      0.62       385\n",
      "           5       0.77      0.62      0.69       395\n",
      "           6       0.74      0.75      0.74       390\n",
      "           7       0.60      0.66      0.63       396\n",
      "           8       0.66      0.66      0.66       398\n",
      "           9       0.46      0.76      0.57       397\n",
      "          10       0.80      0.83      0.81       399\n",
      "          11       0.78      0.62      0.69       396\n",
      "          12       0.48      0.51      0.49       393\n",
      "          13       0.73      0.64      0.68       396\n",
      "          14       0.65      0.65      0.65       394\n",
      "          15       0.66      0.66      0.66       398\n",
      "          16       0.53      0.53      0.53       364\n",
      "          17       0.75      0.66      0.70       376\n",
      "          18       0.47      0.37      0.41       310\n",
      "          19       0.33      0.26      0.29       251\n",
      "\n",
      "    accuracy                           0.61      7532\n",
      "   macro avg       0.61      0.60      0.60      7532\n",
      "weighted avg       0.62      0.61      0.61      7532\n",
      "\n"
     ]
    }
   ],
   "source": [
    "from sklearn.metrics import classification_report, confusion_matrix \n",
    "print(confusion_matrix(y_test,y_pred)) \n",
    "print(classification_report(y_test,y_pred))"
   ]
  },
  {
   "cell_type": "code",
   "execution_count": 19,
   "id": "da66db3c",
   "metadata": {},
   "outputs": [],
   "source": [
    "from sklearn.svm import SVC"
   ]
  },
  {
   "cell_type": "code",
   "execution_count": 20,
   "id": "2a3a4fba",
   "metadata": {},
   "outputs": [
    {
     "name": "stdout",
     "output_type": "stream",
     "text": [
      "Wall time: 3min 24s\n"
     ]
    }
   ],
   "source": [
    "%%time\n",
    "\n",
    "clr = SVC(kernel='rbf', random_state=True)\n",
    "clr.fit(X_train, y_train)\n",
    "y_pred = clr.predict(X_test)\n",
    "\n",
    "import time\n",
    "time.sleep(1)\n",
    "time.sleep(0.2)"
   ]
  },
  {
   "cell_type": "code",
   "execution_count": 21,
   "id": "738a3091",
   "metadata": {},
   "outputs": [
    {
     "name": "stdout",
     "output_type": "stream",
     "text": [
      "[[  0   0   0   0   0   0 197   0  69   1   0   4   0   7   0  36   0   5\n",
      "    0   0]\n",
      " [  0   6   0   0   0   0 324   0  32   2   0  12   0   4   2   5   0   2\n",
      "    0   0]\n",
      " [  0   0   1   1   0   0 323   0  57   2   0   6   0   0   0   1   0   3\n",
      "    0   0]\n",
      " [  0   0   0   2   0   0 310   1  64   0   0  11   1   1   0   2   0   0\n",
      "    0   0]\n",
      " [  0   0   1   1   0   0 321   1  52   1   0   6   0   0   0   1   0   1\n",
      "    0   0]\n",
      " [  0   0   3   0   0   3 306   2  63   1   0  11   0   1   1   4   0   0\n",
      "    0   0]\n",
      " [  0   0   0   0   0   0 377   0   6   0   0   3   0   2   0   2   0   0\n",
      "    0   0]\n",
      " [  0   0   0   0   0   0 314   3  64   0   1   7   0   2   1   3   0   1\n",
      "    0   0]\n",
      " [  0   0   0   0   0   0 316   0  67   0   0  10   0   0   1   4   0   0\n",
      "    0   0]\n",
      " [  0   0   0   0   0   0 285   1  74  18   2   2   0   2   0  13   0   0\n",
      "    0   0]\n",
      " [  0   0   0   0   0   0 275   0  93   9  12   2   0   3   0   5   0   0\n",
      "    0   0]\n",
      " [  0   0   0   0   0   0 260   0  89   1   0  34   0   3   0   8   0   0\n",
      "    1   0]\n",
      " [  0   0   0   1   0   0 310   1  61   0   1  11   0   2   0   6   0   0\n",
      "    0   0]\n",
      " [  0   0   0   0   0   0 273   4  69   2   0   5   0  23   1  15   0   4\n",
      "    0   0]\n",
      " [  0   0   2   0   0   0 261   3  88   4   0  12   0   9   6   9   0   0\n",
      "    0   0]\n",
      " [  1   0   1   0   0   0 182   1  75   5   0   6   0   4   1 116   0   6\n",
      "    0   0]\n",
      " [  0   0   0   0   0   0 235   0  78   4   1  16   0   4   2  18   2   4\n",
      "    0   0]\n",
      " [  0   0   3   0   0   0 180   1  75   6   0  16   0   8   2  28   0  57\n",
      "    0   0]\n",
      " [  0   0   1   0   0   0 179   1  73   2   0  13   0   7   0  19   2   9\n",
      "    4   0]\n",
      " [  0   0   1   0   0   0 155   1  43   2   0   3   0   6   1  37   0   2\n",
      "    0   0]]\n",
      "              precision    recall  f1-score   support\n",
      "\n",
      "           0       0.00      0.00      0.00       319\n",
      "           1       1.00      0.02      0.03       389\n",
      "           2       0.08      0.00      0.00       394\n",
      "           3       0.40      0.01      0.01       392\n",
      "           4       0.00      0.00      0.00       385\n",
      "           5       1.00      0.01      0.02       395\n",
      "           6       0.07      0.97      0.13       390\n",
      "           7       0.15      0.01      0.01       396\n",
      "           8       0.05      0.17      0.08       398\n",
      "           9       0.30      0.05      0.08       397\n",
      "          10       0.71      0.03      0.06       399\n",
      "          11       0.18      0.09      0.12       396\n",
      "          12       0.00      0.00      0.00       393\n",
      "          13       0.26      0.06      0.10       396\n",
      "          14       0.33      0.02      0.03       394\n",
      "          15       0.35      0.29      0.32       398\n",
      "          16       0.50      0.01      0.01       364\n",
      "          17       0.61      0.15      0.24       376\n",
      "          18       0.80      0.01      0.03       310\n",
      "          19       0.00      0.00      0.00       251\n",
      "\n",
      "    accuracy                           0.10      7532\n",
      "   macro avg       0.34      0.09      0.06      7532\n",
      "weighted avg       0.34      0.10      0.07      7532\n",
      "\n"
     ]
    },
    {
     "name": "stderr",
     "output_type": "stream",
     "text": [
      "C:\\Users\\-\\Downloads\\anaconda\\lib\\site-packages\\sklearn\\metrics\\_classification.py:1334: UndefinedMetricWarning: Precision and F-score are ill-defined and being set to 0.0 in labels with no predicted samples. Use `zero_division` parameter to control this behavior.\n",
      "  _warn_prf(average, modifier, msg_start, len(result))\n",
      "C:\\Users\\-\\Downloads\\anaconda\\lib\\site-packages\\sklearn\\metrics\\_classification.py:1334: UndefinedMetricWarning: Precision and F-score are ill-defined and being set to 0.0 in labels with no predicted samples. Use `zero_division` parameter to control this behavior.\n",
      "  _warn_prf(average, modifier, msg_start, len(result))\n",
      "C:\\Users\\-\\Downloads\\anaconda\\lib\\site-packages\\sklearn\\metrics\\_classification.py:1334: UndefinedMetricWarning: Precision and F-score are ill-defined and being set to 0.0 in labels with no predicted samples. Use `zero_division` parameter to control this behavior.\n",
      "  _warn_prf(average, modifier, msg_start, len(result))\n"
     ]
    }
   ],
   "source": [
    "from sklearn.metrics import classification_report, confusion_matrix \n",
    "print(confusion_matrix(y_test,y_pred)) \n",
    "print(classification_report(y_test,y_pred))"
   ]
  },
  {
   "cell_type": "code",
   "execution_count": 22,
   "id": "31fde107",
   "metadata": {},
   "outputs": [],
   "source": [
    "from sklearn.svm import SVC"
   ]
  },
  {
   "cell_type": "code",
   "execution_count": 23,
   "id": "d9b6073a",
   "metadata": {},
   "outputs": [
    {
     "name": "stdout",
     "output_type": "stream",
     "text": [
      "Wall time: 2min 52s\n"
     ]
    }
   ],
   "source": [
    "%%time\n",
    "\n",
    "clm = SVC(kernel='poly', random_state=True)\n",
    "clm.fit(X_train, y_train)\n",
    "y_pred = clm.predict(X_test)\n",
    "import time\n",
    "time.sleep(1)\n",
    "time.sleep(0.2)"
   ]
  },
  {
   "cell_type": "code",
   "execution_count": 24,
   "id": "86fb5a7f",
   "metadata": {},
   "outputs": [
    {
     "name": "stdout",
     "output_type": "stream",
     "text": [
      "[[  0   0   0   0   0   0   0   0 317   0   0   0   0   0   0   2   0   0\n",
      "    0   0]\n",
      " [  0   5   0   0   0   0   0   0 383   0   0   1   0   0   0   0   0   0\n",
      "    0   0]\n",
      " [  0   0   0   0   0   0   0   0 392   0   0   0   0   0   0   1   0   1\n",
      "    0   0]\n",
      " [  0   0   0   0   0   0   0   0 392   0   0   0   0   0   0   0   0   0\n",
      "    0   0]\n",
      " [  0   0   0   0   0   0   0   0 384   0   0   0   0   0   0   0   0   0\n",
      "    0   1]\n",
      " [  0   0   0   0   0   2   0   0 391   0   0   0   0   1   0   0   0   0\n",
      "    0   1]\n",
      " [  0   0   0   0   0   0   1   0 389   0   0   0   0   0   0   0   0   0\n",
      "    0   0]\n",
      " [  0   0   0   0   0   0   0   0 395   0   0   0   0   0   0   0   0   1\n",
      "    0   0]\n",
      " [  0   0   0   0   0   0   0   0 398   0   0   0   0   0   0   0   0   0\n",
      "    0   0]\n",
      " [  0   0   0   0   0   0   0   0 397   0   0   0   0   0   0   0   0   0\n",
      "    0   0]\n",
      " [  0   0   0   0   0   0   0   0 399   0   0   0   0   0   0   0   0   0\n",
      "    0   0]\n",
      " [  0   0   0   0   0   0   0   0 395   0   0   0   0   0   0   0   0   0\n",
      "    0   1]\n",
      " [  0   0   0   0   0   0   0   0 393   0   0   0   0   0   0   0   0   0\n",
      "    0   0]\n",
      " [  0   0   0   0   0   0   0   0 390   0   0   0   0   2   0   2   0   2\n",
      "    0   0]\n",
      " [  0   0   0   0   0   0   0   0 392   0   0   0   0   0   0   0   0   0\n",
      "    0   2]\n",
      " [  0   0   0   0   0   0   0   0 389   0   0   0   0   0   0   6   0   1\n",
      "    1   1]\n",
      " [  0   0   0   0   0   0   0   0 363   0   0   1   0   0   0   0   0   0\n",
      "    0   0]\n",
      " [  0   0   0   0   0   0   0   0 362   0   0   0   0   0   0   1   0  11\n",
      "    0   2]\n",
      " [  0   0   0   0   0   0   0   0 304   0   0   0   0   0   0   0   1   1\n",
      "    3   1]\n",
      " [  0   0   0   0   0   0   0   0 248   0   0   0   0   0   1   1   0   0\n",
      "    0   1]]\n",
      "              precision    recall  f1-score   support\n",
      "\n",
      "           0       0.00      0.00      0.00       319\n",
      "           1       1.00      0.01      0.03       389\n",
      "           2       0.00      0.00      0.00       394\n",
      "           3       0.00      0.00      0.00       392\n",
      "           4       0.00      0.00      0.00       385\n",
      "           5       1.00      0.01      0.01       395\n",
      "           6       1.00      0.00      0.01       390\n",
      "           7       0.00      0.00      0.00       396\n",
      "           8       0.05      1.00      0.10       398\n",
      "           9       0.00      0.00      0.00       397\n",
      "          10       0.00      0.00      0.00       399\n",
      "          11       0.00      0.00      0.00       396\n",
      "          12       0.00      0.00      0.00       393\n",
      "          13       0.67      0.01      0.01       396\n",
      "          14       0.00      0.00      0.00       394\n",
      "          15       0.46      0.02      0.03       398\n",
      "          16       0.00      0.00      0.00       364\n",
      "          17       0.65      0.03      0.06       376\n",
      "          18       0.75      0.01      0.02       310\n",
      "          19       0.10      0.00      0.01       251\n",
      "\n",
      "    accuracy                           0.06      7532\n",
      "   macro avg       0.28      0.05      0.01      7532\n",
      "weighted avg       0.28      0.06      0.01      7532\n",
      "\n"
     ]
    },
    {
     "name": "stderr",
     "output_type": "stream",
     "text": [
      "C:\\Users\\-\\Downloads\\anaconda\\lib\\site-packages\\sklearn\\metrics\\_classification.py:1334: UndefinedMetricWarning: Precision and F-score are ill-defined and being set to 0.0 in labels with no predicted samples. Use `zero_division` parameter to control this behavior.\n",
      "  _warn_prf(average, modifier, msg_start, len(result))\n",
      "C:\\Users\\-\\Downloads\\anaconda\\lib\\site-packages\\sklearn\\metrics\\_classification.py:1334: UndefinedMetricWarning: Precision and F-score are ill-defined and being set to 0.0 in labels with no predicted samples. Use `zero_division` parameter to control this behavior.\n",
      "  _warn_prf(average, modifier, msg_start, len(result))\n",
      "C:\\Users\\-\\Downloads\\anaconda\\lib\\site-packages\\sklearn\\metrics\\_classification.py:1334: UndefinedMetricWarning: Precision and F-score are ill-defined and being set to 0.0 in labels with no predicted samples. Use `zero_division` parameter to control this behavior.\n",
      "  _warn_prf(average, modifier, msg_start, len(result))\n"
     ]
    }
   ],
   "source": [
    "from sklearn.metrics import classification_report, confusion_matrix \n",
    "print(confusion_matrix(y_test,y_pred)) \n",
    "print(classification_report(y_test,y_pred))"
   ]
  },
  {
   "cell_type": "code",
   "execution_count": 25,
   "id": "8c1df3a5",
   "metadata": {},
   "outputs": [],
   "source": [
    "from sklearn.neighbors import KNeighborsClassifier"
   ]
  },
  {
   "cell_type": "code",
   "execution_count": 26,
   "id": "cf50d4ea",
   "metadata": {},
   "outputs": [
    {
     "name": "stdout",
     "output_type": "stream",
     "text": [
      "Wall time: 5.78 s\n"
     ]
    }
   ],
   "source": [
    "%%time\n",
    "\n",
    "model1 = KNeighborsClassifier()\n",
    "model1.fit(X_train, y_train)\n",
    "y_pred = model1.predict(X_test)\n",
    "y_pred\n",
    "import time\n",
    "time.sleep(1)\n",
    "time.sleep(0.2)"
   ]
  },
  {
   "cell_type": "code",
   "execution_count": 27,
   "id": "e5226b9a",
   "metadata": {},
   "outputs": [
    {
     "name": "stdout",
     "output_type": "stream",
     "text": [
      "[[101  15  20   6  19   4   3  16  11  15   5  12   2   7  11  32   5  17\n",
      "    3  15]\n",
      " [ 36  91  50  27  26  27  15  17  13   7   8  12   7  10   7   6   5  13\n",
      "    7   5]\n",
      " [ 55  64  82  25  31  19   5  22  14  18   4   8   2  16   7   2   2   6\n",
      "    3   9]\n",
      " [ 33  59  49  70  52  13  10  15  16  14   5  10   5  18   5   6   3   4\n",
      "    0   5]\n",
      " [ 54  36  51  43  67  16   8  24  15  12  10  11   5   4  11   3   3   3\n",
      "    3   6]\n",
      " [ 29  66  61  21  21  72  11  23  12  17  11   8   5  10   8   5   2   5\n",
      "    2   6]\n",
      " [ 32  58  20  28  30  12  99  25  21  10   6   4   2  11   5   2   5  14\n",
      "    2   4]\n",
      " [ 69  39  35  19  45  17   8  54  23  21  14   6   3  15   3   4   6   9\n",
      "    3   3]\n",
      " [ 52  33  47  15  41  12   5  44  53  19  11  10   3   8   9   2   5  19\n",
      "    5   5]\n",
      " [ 62  30  22  19  21  13   8  27  18  71  27   1   3  14  12  16   4  15\n",
      "    5   9]\n",
      " [ 39  26  30  13  33   9  11  30  24  43  92   6   1   4  10   6   3  11\n",
      "    7   1]\n",
      " [ 59  39  29  19  24  21   6  27  29  13  13  57   2   5  12   9  10  14\n",
      "    3   5]\n",
      " [ 44  49  50  30  36  20  10  32  21  15   7  23   7  11  10   6   3  12\n",
      "    2   5]\n",
      " [ 65  39  32  17  33  15   8  22  20  17   6  16   3  33   7  19   3  28\n",
      "    5   8]\n",
      " [ 57  33  27  18  31  15   5  27  22  14  13  24   4  16  37  15   8  18\n",
      "    7   3]\n",
      " [ 60  19  22   6  22   8   4  18  13  13  10  20   1  17   9  96  10  20\n",
      "    8  22]\n",
      " [ 62  26  29  11  21  12   4  31  19  20  14  16   1   8   8  14  34  15\n",
      "    6  13]\n",
      " [ 54  18  18   9  25  12   1  14  10  16   9  15   1   9  16  23  12 102\n",
      "    3   9]\n",
      " [ 50  23  14  15  10  10   6  25  18  17  11  16   0   7  12  13  13  18\n",
      "   22  10]\n",
      " [ 46  19  22   9   9   7   5  18  13  11   5  12   1   5   4  23   5  15\n",
      "    8  14]]\n",
      "              precision    recall  f1-score   support\n",
      "\n",
      "           0       0.10      0.32      0.15       319\n",
      "           1       0.12      0.23      0.16       389\n",
      "           2       0.12      0.21      0.15       394\n",
      "           3       0.17      0.18      0.17       392\n",
      "           4       0.11      0.17      0.14       385\n",
      "           5       0.22      0.18      0.20       395\n",
      "           6       0.43      0.25      0.32       390\n",
      "           7       0.11      0.14      0.12       396\n",
      "           8       0.14      0.13      0.14       398\n",
      "           9       0.19      0.18      0.18       397\n",
      "          10       0.33      0.23      0.27       399\n",
      "          11       0.20      0.14      0.17       396\n",
      "          12       0.12      0.02      0.03       393\n",
      "          13       0.14      0.08      0.11       396\n",
      "          14       0.18      0.09      0.12       394\n",
      "          15       0.32      0.24      0.27       398\n",
      "          16       0.24      0.09      0.13       364\n",
      "          17       0.28      0.27      0.28       376\n",
      "          18       0.21      0.07      0.11       310\n",
      "          19       0.09      0.06      0.07       251\n",
      "\n",
      "    accuracy                           0.17      7532\n",
      "   macro avg       0.19      0.16      0.16      7532\n",
      "weighted avg       0.19      0.17      0.17      7532\n",
      "\n"
     ]
    }
   ],
   "source": [
    "from sklearn.metrics import classification_report, confusion_matrix \n",
    "print(confusion_matrix(y_test,y_pred)) \n",
    "print(classification_report(y_test,y_pred))"
   ]
  },
  {
   "cell_type": "code",
   "execution_count": 28,
   "id": "2b48b396",
   "metadata": {},
   "outputs": [],
   "source": [
    "from sklearn.neural_network import MLPClassifier"
   ]
  },
  {
   "cell_type": "code",
   "execution_count": 29,
   "id": "94bec3f3",
   "metadata": {},
   "outputs": [
    {
     "name": "stderr",
     "output_type": "stream",
     "text": [
      "C:\\Users\\-\\Downloads\\anaconda\\lib\\site-packages\\sklearn\\neural_network\\_multilayer_perceptron.py:709: UserWarning: Training interrupted by user.\n",
      "  warnings.warn(\"Training interrupted by user.\")\n"
     ]
    },
    {
     "name": "stdout",
     "output_type": "stream",
     "text": [
      "Wall time: 30min 25s\n"
     ]
    }
   ],
   "source": [
    "%%time\n",
    "\n",
    "model2 = MLPClassifier()\n",
    "model2.fit(X_train, y_train)\n",
    "y_pred = model2.predict(X_test)\n",
    "y_pred\n",
    "\n",
    "import time\n",
    "time.sleep(1)\n",
    "time.sleep(0.2)"
   ]
  },
  {
   "cell_type": "code",
   "execution_count": 30,
   "id": "66e5852e",
   "metadata": {},
   "outputs": [
    {
     "name": "stdout",
     "output_type": "stream",
     "text": [
      "[[144   1   6   0   4   0   1  13   9   6   3  10   3   3   6  34   6   9\n",
      "    8  53]\n",
      " [  4 249  22  18  13   9   4  13   5   6   0  16   7   7   6   0   1   0\n",
      "    4   5]\n",
      " [  5  25 224  51  15   6   4  20   1   3   2   9   3   0   7   2   1   5\n",
      "    5   6]\n",
      " [  2  13  30 259  25   4  11  10   1   1   2   3  27   2   1   1   0   0\n",
      "    0   0]\n",
      " [  2   6  18  37 239   1  13  20   2   2   5   8  16   9   2   2   0   0\n",
      "    2   1]\n",
      " [  3  55  49  21  11 206   5   5   2   2   0  15   2   5   8   0   2   2\n",
      "    1   1]\n",
      " [  1   2   4  20  14   1 288  19   9   4   3   3  11   2   1   2   0   3\n",
      "    1   2]\n",
      " [  4   2   7   6   5   1  14 283  14   4   3   3  14   3  10   3   0   5\n",
      "   10   5]\n",
      " [  5   6  11   1   7   2   3  42 261  11   7   5   5   4   5   1   4   7\n",
      "    7   4]\n",
      " [ 10   1   1   2   1   3   4  22   7 296  21   1   0   3   5   5   0   6\n",
      "    5   4]\n",
      " [  7   1   2   1   4   0   0  14   7  24 318   4   1   0   1   2   0   3\n",
      "    0  10]\n",
      " [  5   6   7   3   4   0   5  19   3   2   7 282  12   2   2   1   6   9\n",
      "   10  11]\n",
      " [  4  10   9  47  14   2  14  25   6   4   4  26 197  11  12   3   0   1\n",
      "    2   2]\n",
      " [ 14   9   9   7   4   0   9  26  10   2   6  10   8 239   7  11   5   7\n",
      "    4   9]\n",
      " [ 11  13   8   1   3   0   1  27   4   7   3  22  17   4 249   2   2   2\n",
      "   13   5]\n",
      " [ 29   1   6   2   2   2   1  16   1   2   0   4   0   3   6 261   1   4\n",
      "    4  53]\n",
      " [ 12   2   6   1   3   0   0  25   8   3   0  21   2   5   9   4 173  21\n",
      "   32  37]\n",
      " [ 33   0   3   4   2   1   1   8   1   5   3  15   1   2   2   5   4 255\n",
      "   22   9]\n",
      " [ 17   1   1   3   0   0   1  14   3   8   4  18   4   5  10   3  63  11\n",
      "  126  18]\n",
      " [ 40   2   1   7   2   0   0  12   3   3   0   9   2   2   4  39   7  11\n",
      "   10  97]]\n",
      "              precision    recall  f1-score   support\n",
      "\n",
      "           0       0.41      0.45      0.43       319\n",
      "           1       0.61      0.64      0.63       389\n",
      "           2       0.53      0.57      0.55       394\n",
      "           3       0.53      0.66      0.59       392\n",
      "           4       0.64      0.62      0.63       385\n",
      "           5       0.87      0.52      0.65       395\n",
      "           6       0.76      0.74      0.75       390\n",
      "           7       0.45      0.71      0.55       396\n",
      "           8       0.73      0.66      0.69       398\n",
      "           9       0.75      0.75      0.75       397\n",
      "          10       0.81      0.80      0.81       399\n",
      "          11       0.58      0.71      0.64       396\n",
      "          12       0.59      0.50      0.54       393\n",
      "          13       0.77      0.60      0.68       396\n",
      "          14       0.71      0.63      0.67       394\n",
      "          15       0.69      0.66      0.67       398\n",
      "          16       0.63      0.48      0.54       364\n",
      "          17       0.71      0.68      0.69       376\n",
      "          18       0.47      0.41      0.44       310\n",
      "          19       0.29      0.39      0.33       251\n",
      "\n",
      "    accuracy                           0.62      7532\n",
      "   macro avg       0.63      0.61      0.61      7532\n",
      "weighted avg       0.64      0.62      0.62      7532\n",
      "\n"
     ]
    }
   ],
   "source": [
    "from sklearn.metrics import classification_report, confusion_matrix \n",
    "print(confusion_matrix(y_test,y_pred)) \n",
    "print(classification_report(y_test,y_pred))"
   ]
  },
  {
   "cell_type": "code",
   "execution_count": 34,
   "id": "8d031ef0",
   "metadata": {},
   "outputs": [],
   "source": [
    "from sklearn.model_selection import train_test_split\n",
    "from sklearn.preprocessing import StandardScaler\n",
    "from sklearn.pipeline import make_pipeline\n",
    "from sklearn.linear_model import LogisticRegression\n",
    "from sklearn.model_selection import learning_curve\n",
    "from sklearn import datasets\n",
    "import matplotlib.pyplot as plt"
   ]
  },
  {
   "cell_type": "code",
   "execution_count": 35,
   "id": "fba4bbd5",
   "metadata": {},
   "outputs": [],
   "source": [
    "def plot_learning_curve(x_train, x_test, y_train_, y_test, model, name, ax):\n",
    "  # Создайте конвейер; Это будет передано в качестве оценки в метод кривой обучения\n",
    "  pipeline = make_pipeline(StandardScaler(), model)\n",
    "\n",
    "  # Используйте кривую обучения, чтобы получить результаты тренировок и тестов, а также размеры поездов\n",
    "  train_sizes, train_scores, test_scores = learning_curve(estimator=pipeline, X=x_train, y=y_train,\n",
    "  cv=10, train_sizes=np.linspace(0.1, 1.0, 10),\n",
    "  n_jobs=1)\n",
    "\n",
    "  # Рассчитайте среднее значение обучения и тестирования и std\n",
    "  train_mean = np.mean(train_scores, axis=1)\n",
    "  train_std = np.std(train_scores, axis=1)\n",
    "  test_mean = np.mean(test_scores, axis=1)\n",
    "  test_std = np.std(test_scores, axis=1)\n",
    "\n",
    "  # Постройте кривую обучения\n",
    "  ax.plot(train_sizes, train_mean, color='blue', marker='o', markersize=5, label='Training Accuracy')\n",
    "  ax.fill_between(train_sizes, train_mean + train_std, train_mean - train_std, alpha=0.15, color='blue')\n",
    "  ax.plot(train_sizes, test_mean, color='green', marker='+', markersize=5, linestyle='--', label='Validation Accuracy')\n",
    "  ax.fill_between(train_sizes, test_mean + test_std, test_mean - test_std, alpha=0.15, color='green')\n",
    "  ax.set_title(f'Learning Curve of {name}')\n",
    "  ax.set_xlabel('Training Data Size')\n",
    "  ax.set_ylabel('Model accuracy')\n",
    "  ax.grid()\n",
    "  ax.legend(loc='lower right')\n"
   ]
  },
  {
   "cell_type": "code",
   "execution_count": 36,
   "id": "310e2c9b",
   "metadata": {},
   "outputs": [
    {
     "data": {
      "image/png": "[encoded data removed]",
      "text/plain": [
       "<Figure size 1080x2160 with 5 Axes>"
      ]
     },
     "metadata": {
      "needs_background": "light"
     },
     "output_type": "display_data"
    }
   ],
   "source": [
    "fig, (ax1, ax2, ax3, ax4, ax5) = plt.subplots(5, 1, figsize=(15, 30))\n",
    "\n",
    "plot_learning_curve(X_train, X_test, y_train, y_test, cls, 'LogisticRegression', ax1)\n",
    "plot_learning_curve(X_train, X_test, y_train, y_test, clr, 'SVC (rbf)', ax2)\n",
    "plot_learning_curve(X_train, X_test, y_train, y_test, clm, 'SVC (poly)', ax3)\n",
    "plot_learning_curve(X_train, X_test, y_train, y_test, model1, 'KNeighborsClassifier', ax4)\n",
    "#plot_learning_curve(X_train, X_test, y_train, y_test, model2, 'MLPClassifier', ax5)"
   ]
  },
  {
   "cell_type": "code",
   "execution_count": null,
   "id": "92fde3a4",
   "metadata": {},
   "outputs": [],
   "source": []
  }
 ],
 "metadata": {
  "kernelspec": {
   "display_name": "Python 3",
   "language": "python",
   "name": "python3"
  },
  "language_info": {
   "codemirror_mode": {
    "name": "ipython",
    "version": 3
   },
   "file_extension": ".py",
   "mimetype": "text/x-python",
   "name": "python",
   "nbconvert_exporter": "python",
   "pygments_lexer": "ipython3",
   "version": "3.8.8"
  }
 },
 "nbformat": 4,
 "nbformat_minor": 5
}
