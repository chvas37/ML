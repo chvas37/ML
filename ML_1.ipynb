{
  "cells": [
    {
      "cell_type": "markdown",
      "metadata": {
        "id": "jrOGRbtCC5GY"
      },
      "source": [
        "<h1 align='center'>Numpy - многомерные массивы данных</h1>"
      ]
    },
    {
      "cell_type": "markdown",
      "metadata": {
        "id": "zWxN61i9C5Ga"
      },
      "source": [
        "[Cсылка](https://disk.yandex.ru/d/IE8K3D5e7q4fEw) на файлы лабораторной"
      ]
    },
    {
      "cell_type": "code",
      "execution_count": 2,
      "metadata": {
        "id": "nyVK_2BWC5Gb"
      },
      "outputs": [],
      "source": [
        "# комменарий\n",
        "%matplotlib inline \n",
        "#команда об интерактивном использовании matplotlib\n",
        "import matplotlib.pyplot as plt #импорт функций подмодуля pyplot об интерактивном \n",
        "#использовании matplotlib"
      ]
    },
    {
      "cell_type": "markdown",
      "metadata": {
        "id": "xmZRdGL_C5Gb"
      },
      "source": [
        "## Введение"
      ]
    },
    {
      "cell_type": "markdown",
      "metadata": {
        "id": "LKw_OgxCC5Gc"
      },
      "source": [
        "Пакет `numpy` (модуль) используется почти во всех численных вычислениях с использованием Python. Это пакет, который обеспечивает высокопроизводительные векторные, матричные и многомерные структуры данных для Python. Он реализован на C и Fortran, поэтому, когда вычисления векторизуются (формулируются векторами и матрицами), производительность очень хорошая.\n",
        "Чтобы использовать `numpy`, вам нужно импортировать модуль, используя, например,:"
      ]
    },
    {
      "cell_type": "code",
      "execution_count": 3,
      "metadata": {
        "id": "lCSB8A_RC5Gc"
      },
      "outputs": [],
      "source": [
        "from numpy import * #при этом отсутсвует необходимость использования numpy.array\n",
        "#import nympy as np - позволяет сократить имя объекта используя np.array"
      ]
    },
    {
      "cell_type": "code",
      "source": [],
      "metadata": {
        "id": "BTYpI__nDZFE"
      },
      "execution_count": null,
      "outputs": []
    },
    {
      "cell_type": "markdown",
      "metadata": {
        "id": "SZ-SdvcXC5Gd"
      },
      "source": [
        "В пакете `numpy` терминологией, используемой для векторов, матриц и многомерных наборов данных, является *array*.\n"
      ]
    },
    {
      "cell_type": "markdown",
      "metadata": {
        "id": "VhzqizJVC5Gd"
      },
      "source": [
        "## Создание `numpy` *arrays*"
      ]
    },
    {
      "cell_type": "markdown",
      "metadata": {
        "id": "vGyDFjeYC5Gd"
      },
      "source": [
        "Существует несколько способов инициализации новых массивов numpy, например из\n",
        "\n",
        "* список Python или кортежи\n",
        "* использование функций, предназначенных для генерации массивов numpy, таких как `arange`, `linspace` и т. д.\n",
        "* чтение данных из файлов"
      ]
    },
    {
      "cell_type": "markdown",
      "metadata": {
        "id": "E_8-9WLmC5Ge"
      },
      "source": [
        "### Создание из списка (*list*)"
      ]
    },
    {
      "cell_type": "markdown",
      "metadata": {
        "id": "q6cppGX2C5Ge"
      },
      "source": [
        "Например, для создания новых векторных и матричных массивов из списков Python мы можем использовать `numpy.array`."
      ]
    },
    {
      "cell_type": "code",
      "execution_count": null,
      "metadata": {
        "id": "_oB0XxYVC5Gf",
        "outputId": "f4fb4d47-27f3-43ca-d995-bb8eba34fb80"
      },
      "outputs": [
        {
          "data": {
            "text/plain": [
              "array([1, 2, 3, 4])"
            ]
          },
          "execution_count": 71,
          "metadata": {},
          "output_type": "execute_result"
        }
      ],
      "source": [
        "# вектор: аргумент функции array список (list) Python\n",
        "v = array([1,2,3,4])\n",
        "\n",
        "v"
      ]
    },
    {
      "cell_type": "code",
      "execution_count": null,
      "metadata": {
        "id": "R5QDCwX0C5Gf",
        "outputId": "f31932ff-7941-4740-c0e3-05fc65b1388c"
      },
      "outputs": [
        {
          "data": {
            "text/plain": [
              "array([[1, 2],\n",
              "       [3, 4]])"
            ]
          },
          "execution_count": 72,
          "metadata": {},
          "output_type": "execute_result"
        }
      ],
      "source": [
        "# матрица: аргумент функции array вложенный список (nestled list) Python\n",
        "M = array([[1, 2], [3, 4]])\n",
        "M"
      ]
    },
    {
      "cell_type": "markdown",
      "metadata": {
        "id": "pt9mZG9oC5Gg"
      },
      "source": [
        " `v` и `M` -- объекты общего типа `ndarray`, который создает модуль `numpy`."
      ]
    },
    {
      "cell_type": "code",
      "execution_count": null,
      "metadata": {
        "id": "odezewXOC5Gg",
        "outputId": "22affef5-d0ed-4aa0-98fc-2a59695fe9f1"
      },
      "outputs": [
        {
          "data": {
            "text/plain": [
              "(numpy.ndarray, numpy.ndarray)"
            ]
          },
          "execution_count": 73,
          "metadata": {},
          "output_type": "execute_result"
        }
      ],
      "source": [
        "type(v), type(M)"
      ]
    },
    {
      "cell_type": "markdown",
      "metadata": {
        "id": "Pue8uBOXC5Gg"
      },
      "source": [
        "Разница между `v` и `M` заключается только в их форме. Мы можем получить информацию о форме массива с помощью `ndarray.shape` свойства."
      ]
    },
    {
      "cell_type": "code",
      "execution_count": null,
      "metadata": {
        "id": "Cazw2z4jC5Gg",
        "outputId": "1b8c4deb-a936-464b-9570-1ccd8c47a9e9"
      },
      "outputs": [
        {
          "data": {
            "text/plain": [
              "(4,)"
            ]
          },
          "execution_count": 74,
          "metadata": {},
          "output_type": "execute_result"
        }
      ],
      "source": [
        "v.shape"
      ]
    },
    {
      "cell_type": "code",
      "execution_count": null,
      "metadata": {
        "id": "TS2ZBVLOC5Gh",
        "outputId": "4d43ee06-22e3-426e-e1f7-8be04e751c57"
      },
      "outputs": [
        {
          "data": {
            "text/plain": [
              "(2, 2)"
            ]
          },
          "execution_count": 75,
          "metadata": {},
          "output_type": "execute_result"
        }
      ],
      "source": [
        "M.shape"
      ]
    },
    {
      "cell_type": "markdown",
      "metadata": {
        "id": "P_rcLYeQC5Gh"
      },
      "source": [
        "Количество элементов в массиве доступно через свойство `ndarray.size`:"
      ]
    },
    {
      "cell_type": "code",
      "execution_count": null,
      "metadata": {
        "id": "Ypun3yMjC5Gh",
        "outputId": "b437f750-347f-4886-fe8e-71460e47fb90"
      },
      "outputs": [
        {
          "data": {
            "text/plain": [
              "4"
            ]
          },
          "execution_count": 76,
          "metadata": {},
          "output_type": "execute_result"
        }
      ],
      "source": [
        "M.size"
      ]
    },
    {
      "cell_type": "markdown",
      "metadata": {
        "id": "0_OWBWhfC5Gh"
      },
      "source": [
        "Так же можно использовать функции `numpy.shape` и `numpy.size`. Использование дублирующих методы функций характерно для Python как языка поддерживающего как объектно-ориентированную так и функциональную парадигмы программирования."
      ]
    },
    {
      "cell_type": "code",
      "execution_count": null,
      "metadata": {
        "id": "RJk9haalC5Gh",
        "outputId": "31c9e63e-1633-4f78-bd2f-8019ecc5ae44"
      },
      "outputs": [
        {
          "data": {
            "text/plain": [
              "(2, 2)"
            ]
          },
          "execution_count": 77,
          "metadata": {},
          "output_type": "execute_result"
        }
      ],
      "source": [
        "shape(M)"
      ]
    },
    {
      "cell_type": "code",
      "execution_count": null,
      "metadata": {
        "id": "s2vkvygbC5Gi",
        "outputId": "308879c0-bc47-407a-fd0f-b1882629888d"
      },
      "outputs": [
        {
          "data": {
            "text/plain": [
              "4"
            ]
          },
          "execution_count": 78,
          "metadata": {},
          "output_type": "execute_result"
        }
      ],
      "source": [
        "size(M)"
      ]
    },
    {
      "cell_type": "markdown",
      "metadata": {
        "id": "9orlJtG2C5Gi"
      },
      "source": [
        "До сих пор `numpy.ndarray` ужасно похож на список Python (или вложенный список). Почему бы просто не использовать списки Python для вычислений вместо создания нового типа массива?\n",
        "\n",
        "Есть несколько причин:\n",
        "\n",
        "* Списки Python очень общие. Они могут содержать любой вид объекта. Они динамически типизируются. Они не поддерживают математические функции, такие как матричное и точечное умножение и т. д. Реализация таких функций для списков Python была бы не очень эффективной из-за динамической типизации.\n",
        "* Массивы Numpy **статически типизированы** и **однородны**. Тип элементов определяется при создании массива.\n",
        "* Массивы Numpy эффективны для работы с памятью.\n",
        "* Из-за статической типизации быстро реализуются математические функции, такие как умножение и сложение массивов `numpy`, функции могут быть реализованы на компилируемом языке (используется C и Fortran).\n",
        "\n",
        "Используя свойство `dtype` (тип данных) `ndarray`, мы можем увидеть, какой тип имеют данные массива:"
      ]
    },
    {
      "cell_type": "code",
      "execution_count": null,
      "metadata": {
        "id": "KoIXfI8uC5Gi",
        "outputId": "765f989e-9a52-4018-bdfa-3c50c37a4ac1"
      },
      "outputs": [
        {
          "data": {
            "text/plain": [
              "dtype('int32')"
            ]
          },
          "execution_count": 79,
          "metadata": {},
          "output_type": "execute_result"
        }
      ],
      "source": [
        "M.dtype"
      ]
    },
    {
      "cell_type": "markdown",
      "metadata": {
        "id": "exRon3IXC5Gi"
      },
      "source": [
        "Обратите внимание, что при не совпадении типов при присвоении будет выдана ошибка, что есть следствие статической типизации `ndarray`:"
      ]
    },
    {
      "cell_type": "code",
      "execution_count": null,
      "metadata": {
        "id": "rEQ4U5HTC5Gj",
        "outputId": "b7a455f4-ea48-4d43-959f-0b8e94e2e207"
      },
      "outputs": [
        {
          "ename": "ValueError",
          "evalue": "invalid literal for int() with base 10: 'hello'",
          "output_type": "error",
          "traceback": [
            "\u001b[1;31m---------------------------------------------------------------------------\u001b[0m",
            "\u001b[1;31mValueError\u001b[0m                                Traceback (most recent call last)",
            "\u001b[1;32m<ipython-input-80-e1f336250f69>\u001b[0m in \u001b[0;36m<module>\u001b[1;34m\u001b[0m\n\u001b[1;32m----> 1\u001b[1;33m \u001b[0mM\u001b[0m\u001b[1;33m[\u001b[0m\u001b[1;36m0\u001b[0m\u001b[1;33m,\u001b[0m\u001b[1;36m0\u001b[0m\u001b[1;33m]\u001b[0m \u001b[1;33m=\u001b[0m \u001b[1;34m\"hello\"\u001b[0m\u001b[1;33m\u001b[0m\u001b[1;33m\u001b[0m\u001b[0m\n\u001b[0m",
            "\u001b[1;31mValueError\u001b[0m: invalid literal for int() with base 10: 'hello'"
          ]
        }
      ],
      "source": [
        "M[0,0] = \"hello\""
      ]
    },
    {
      "cell_type": "markdown",
      "metadata": {
        "id": "aYtomIWIC5Gj"
      },
      "source": [
        "Если мы хотим, мы можем явно определить тип данных массива при его создании, используя аргумент ключевого слова `dtype`:"
      ]
    },
    {
      "cell_type": "code",
      "execution_count": null,
      "metadata": {
        "id": "7Kv-IzSSC5Gj",
        "outputId": "1080740e-f1df-4920-a294-d4a2227627b8"
      },
      "outputs": [
        {
          "data": {
            "text/plain": [
              "array([[1.+0.j, 2.+0.j],\n",
              "       [3.+0.j, 4.+0.j]])"
            ]
          },
          "execution_count": 81,
          "metadata": {},
          "output_type": "execute_result"
        }
      ],
      "source": [
        "M = array([[1, 2], [3, 4]], dtype=complex)\n",
        "\n",
        "M"
      ]
    },
    {
      "cell_type": "markdown",
      "metadata": {
        "id": "bYk5SIZVC5Gj"
      },
      "source": [
        "Общие типы данных, которые можно использовать с `dtype`: `int`, `float`, `complex`, `bool`, `object` и т. д.\n",
        "\n",
        "Мы также можем явно определить битовый размер типов данных, например: `int64`, `int16`, `float128`, `complex128`."
      ]
    },
    {
      "cell_type": "markdown",
      "metadata": {
        "id": "KAwQ9kEnC5Gj"
      },
      "source": [
        "### Задание 1\n",
        "Создайте матрицу таблицы умножения с использованием списков"
      ]
    },
    {
      "cell_type": "code",
      "source": [
        "a = arange(1,10,1)\n",
        "a*a.reshape(9,1)\n",
        "#a*a.append[:,None]"
      ],
      "metadata": {
        "colab": {
          "base_uri": "https://localhost:8080/"
        },
        "id": "xUWwKxawDgK6",
        "outputId": "02a04263-9be7-417e-ca7c-a9af9adf6fb2"
      },
      "execution_count": null,
      "outputs": [
        {
          "output_type": "execute_result",
          "data": {
            "text/plain": [
              "array([[ 1,  2,  3,  4,  5,  6,  7,  8,  9],\n",
              "       [ 2,  4,  6,  8, 10, 12, 14, 16, 18],\n",
              "       [ 3,  6,  9, 12, 15, 18, 21, 24, 27],\n",
              "       [ 4,  8, 12, 16, 20, 24, 28, 32, 36],\n",
              "       [ 5, 10, 15, 20, 25, 30, 35, 40, 45],\n",
              "       [ 6, 12, 18, 24, 30, 36, 42, 48, 54],\n",
              "       [ 7, 14, 21, 28, 35, 42, 49, 56, 63],\n",
              "       [ 8, 16, 24, 32, 40, 48, 56, 64, 72],\n",
              "       [ 9, 18, 27, 36, 45, 54, 63, 72, 81]])"
            ]
          },
          "metadata": {},
          "execution_count": 30
        }
      ]
    },
    {
      "cell_type": "markdown",
      "metadata": {
        "id": "MNtq1qlrC5Gj"
      },
      "source": [
        "### Функции генерирующие массивы."
      ]
    },
    {
      "cell_type": "markdown",
      "metadata": {
        "id": "aD3DdUihC5Gk"
      },
      "source": [
        "Для больших массивов нецелесообразно инициализировать данные вручную, используя явные списки Python. Вместо этого мы можем использовать одну из многих функций в `numpy`, которые генерируют массивы различных форм. Некоторые из наиболее распространенных являются:"
      ]
    },
    {
      "cell_type": "markdown",
      "metadata": {
        "id": "G-c7DD2-C5Gk"
      },
      "source": [
        "#### Функция arange"
      ]
    },
    {
      "cell_type": "code",
      "execution_count": null,
      "metadata": {
        "colab": {
          "base_uri": "https://localhost:8080/"
        },
        "id": "sKZmE72ZC5Gk",
        "outputId": "1b78b9f7-ebef-4081-d064-7b2826f2684c"
      },
      "outputs": [
        {
          "output_type": "execute_result",
          "data": {
            "text/plain": [
              "array([10,  9,  8,  7,  6])"
            ]
          },
          "metadata": {},
          "execution_count": 6
        }
      ],
      "source": [
        "# массив целых от 0 до 10\n",
        "\n",
        "x = arange(10, 5, -1) # аргументы: начало, конец, шаг\n",
        "x"
      ]
    },
    {
      "cell_type": "code",
      "execution_count": null,
      "metadata": {
        "colab": {
          "base_uri": "https://localhost:8080/"
        },
        "id": "KDoh4ktaC5Gk",
        "outputId": "e68fcbe3-8074-4f6b-e32d-deab23e363a5"
      },
      "outputs": [
        {
          "output_type": "execute_result",
          "data": {
            "text/plain": [
              "array([-1.00000000e+00, -9.00000000e-01, -8.00000000e-01, -7.00000000e-01,\n",
              "       -6.00000000e-01, -5.00000000e-01, -4.00000000e-01, -3.00000000e-01,\n",
              "       -2.00000000e-01, -1.00000000e-01, -2.22044605e-16,  1.00000000e-01,\n",
              "        2.00000000e-01,  3.00000000e-01,  4.00000000e-01,  5.00000000e-01,\n",
              "        6.00000000e-01,  7.00000000e-01,  8.00000000e-01,  9.00000000e-01])"
            ]
          },
          "metadata": {},
          "execution_count": 7
        }
      ],
      "source": [
        "x = arange(-1, 1, 0.1)\n",
        "\n",
        "x"
      ]
    },
    {
      "cell_type": "markdown",
      "metadata": {
        "id": "hmBqDUaEC5Gk"
      },
      "source": [
        "#### Функции linspace и logspace"
      ]
    },
    {
      "cell_type": "code",
      "execution_count": null,
      "metadata": {
        "colab": {
          "base_uri": "https://localhost:8080/"
        },
        "id": "wW1xVoqeC5Gk",
        "outputId": "9217144d-cd31-4939-cdd9-9b1cc84bc8bf"
      },
      "outputs": [
        {
          "output_type": "execute_result",
          "data": {
            "text/plain": [
              "array([ 5. ,  5.5,  6. ,  6.5,  7. ,  7.5,  8. ,  8.5,  9. ,  9.5, 10. ])"
            ]
          },
          "metadata": {},
          "execution_count": 15
        }
      ],
      "source": [
        "# использование linspace, оба конечных значения включены\n",
        "linspace(5, 10, 11)"
      ]
    },
    {
      "cell_type": "code",
      "execution_count": null,
      "metadata": {
        "id": "W82faIaSC5Gl"
      },
      "outputs": [],
      "source": [
        "logspace(0, 10, 11, base=10) # создание равномерной последовальности в логарифмической шкале"
      ]
    },
    {
      "cell_type": "markdown",
      "metadata": {
        "id": "2NUVo1vyC5Gl"
      },
      "source": [
        "#### Функция mgrid"
      ]
    },
    {
      "cell_type": "code",
      "execution_count": null,
      "metadata": {
        "id": "zKa8nF3nC5Gl"
      },
      "outputs": [],
      "source": [
        "x, y = mgrid[0:5, 0:5] #создает сетку равномерно расположенных значений подобно meshgrid в MATLAB"
      ]
    },
    {
      "cell_type": "code",
      "execution_count": null,
      "metadata": {
        "colab": {
          "base_uri": "https://localhost:8080/"
        },
        "id": "0yQ0N03tC5Gl",
        "outputId": "314983a8-ee3f-4498-af89-0006312883ad"
      },
      "outputs": [
        {
          "output_type": "execute_result",
          "data": {
            "text/plain": [
              "array([[0, 0, 0, 0, 0],\n",
              "       [1, 1, 1, 1, 1],\n",
              "       [2, 2, 2, 2, 2],\n",
              "       [3, 3, 3, 3, 3],\n",
              "       [4, 4, 4, 4, 4]])"
            ]
          },
          "metadata": {},
          "execution_count": 13
        }
      ],
      "source": [
        "x"
      ]
    },
    {
      "cell_type": "code",
      "execution_count": null,
      "metadata": {
        "colab": {
          "base_uri": "https://localhost:8080/"
        },
        "id": "HcdY8_iUC5Gl",
        "outputId": "970830b9-c00b-4b9a-d6a6-0f17816d0123"
      },
      "outputs": [
        {
          "output_type": "execute_result",
          "data": {
            "text/plain": [
              "array([[0, 1, 2, 3, 4],\n",
              "       [0, 1, 2, 3, 4],\n",
              "       [0, 1, 2, 3, 4],\n",
              "       [0, 1, 2, 3, 4],\n",
              "       [0, 1, 2, 3, 4]])"
            ]
          },
          "metadata": {},
          "execution_count": 14
        }
      ],
      "source": [
        "y"
      ]
    },
    {
      "cell_type": "markdown",
      "metadata": {
        "id": "W0Rty8_iC5Gl"
      },
      "source": [
        "#### Создание случайных данных средствами random"
      ]
    },
    {
      "cell_type": "code",
      "execution_count": null,
      "metadata": {
        "id": "7ri1zViWC5Gl"
      },
      "outputs": [],
      "source": [
        "from numpy import random"
      ]
    },
    {
      "cell_type": "code",
      "execution_count": null,
      "metadata": {
        "id": "plEWQQcXC5Gl"
      },
      "outputs": [],
      "source": [
        "# случайные данные с равномерным распределением в отрезке [0,1]\n",
        "random.rand(5,5)"
      ]
    },
    {
      "cell_type": "code",
      "execution_count": null,
      "metadata": {
        "id": "8SYhGEHNC5Gm"
      },
      "outputs": [],
      "source": [
        "# случайные данные с нормальным распределением\n",
        "random.randn(5,5)"
      ]
    },
    {
      "cell_type": "markdown",
      "metadata": {
        "id": "-BF8-6hsC5Gm"
      },
      "source": [
        "#### Создание квадратных матриц функцией diag"
      ]
    },
    {
      "cell_type": "code",
      "execution_count": null,
      "metadata": {
        "colab": {
          "base_uri": "https://localhost:8080/"
        },
        "id": "q7PxG1OAC5Gm",
        "outputId": "6ec8d751-de70-4993-afab-2e4cd6ddd632"
      },
      "outputs": [
        {
          "output_type": "execute_result",
          "data": {
            "text/plain": [
              "array([[1, 0, 0],\n",
              "       [0, 2, 0],\n",
              "       [0, 0, 3]])"
            ]
          },
          "metadata": {},
          "execution_count": 16
        }
      ],
      "source": [
        "# матрица с диагональю\n",
        "diag([1,2,3])"
      ]
    },
    {
      "cell_type": "code",
      "execution_count": null,
      "metadata": {
        "colab": {
          "base_uri": "https://localhost:8080/"
        },
        "id": "z0OYZbQiC5Gm",
        "outputId": "6f9e2f49-a64a-4a77-934b-ab68b22e9f27"
      },
      "outputs": [
        {
          "output_type": "execute_result",
          "data": {
            "text/plain": [
              "array([[0, 1, 0, 0],\n",
              "       [0, 0, 2, 0],\n",
              "       [0, 0, 0, 3],\n",
              "       [0, 0, 0, 0]])"
            ]
          },
          "metadata": {},
          "execution_count": 17
        }
      ],
      "source": [
        "# матрица со сдвинутой диагональю\n",
        "diag([1,2,3], k=1) "
      ]
    },
    {
      "cell_type": "markdown",
      "metadata": {
        "id": "lkny0p-MC5Gm"
      },
      "source": [
        "#### Матрицы или спецмассивы zeros и ones"
      ]
    },
    {
      "cell_type": "code",
      "execution_count": null,
      "metadata": {
        "id": "57MgGaoXC5Gm"
      },
      "outputs": [],
      "source": [
        "zeros((3,3))"
      ]
    },
    {
      "cell_type": "code",
      "execution_count": null,
      "metadata": {
        "id": "mhax2LplC5Gm"
      },
      "outputs": [],
      "source": [
        "ones((3,3))"
      ]
    },
    {
      "cell_type": "markdown",
      "metadata": {
        "id": "O_AkNaKkC5Gn"
      },
      "source": [
        "### Задание 2\n",
        "Создайте функцию, которая принимает как аргументы целое число N и первый элемент (вещественное число el1), и разность (вещественное число d) и создает матрицу по диагонали, которой распологаются первые N членов арифметической прогрессии. "
      ]
    },
    {
      "cell_type": "code",
      "source": [
        "N = int(input())\n",
        "el = float(input())\n",
        "d = float(input())\n",
        "V = arange(el,el+((N+1)-1)*d,d)\n",
        "diag(V)"
      ],
      "metadata": {
        "colab": {
          "base_uri": "https://localhost:8080/"
        },
        "id": "Fd0elTu-ErCm",
        "outputId": "74f6560b-275b-4f74-8656-d481f09c4b3d"
      },
      "execution_count": null,
      "outputs": [
        {
          "name": "stdout",
          "output_type": "stream",
          "text": [
            "10\n",
            "1\n",
            "2\n"
          ]
        },
        {
          "output_type": "execute_result",
          "data": {
            "text/plain": [
              "array([[ 1.,  0.,  0.,  0.,  0.,  0.,  0.,  0.,  0.,  0.],\n",
              "       [ 0.,  3.,  0.,  0.,  0.,  0.,  0.,  0.,  0.,  0.],\n",
              "       [ 0.,  0.,  5.,  0.,  0.,  0.,  0.,  0.,  0.,  0.],\n",
              "       [ 0.,  0.,  0.,  7.,  0.,  0.,  0.,  0.,  0.,  0.],\n",
              "       [ 0.,  0.,  0.,  0.,  9.,  0.,  0.,  0.,  0.,  0.],\n",
              "       [ 0.,  0.,  0.,  0.,  0., 11.,  0.,  0.,  0.,  0.],\n",
              "       [ 0.,  0.,  0.,  0.,  0.,  0., 13.,  0.,  0.,  0.],\n",
              "       [ 0.,  0.,  0.,  0.,  0.,  0.,  0., 15.,  0.,  0.],\n",
              "       [ 0.,  0.,  0.,  0.,  0.,  0.,  0.,  0., 17.,  0.],\n",
              "       [ 0.,  0.,  0.,  0.,  0.,  0.,  0.,  0.,  0., 19.]])"
            ]
          },
          "metadata": {},
          "execution_count": 41
        }
      ]
    },
    {
      "cell_type": "markdown",
      "metadata": {
        "id": "4fzAMu4qC5Gn"
      },
      "source": [
        "## Запись и чтение в файл"
      ]
    },
    {
      "cell_type": "markdown",
      "metadata": {
        "id": "vLDpS8_aC5Gn"
      },
      "source": [
        "### Файлы данных Comma-separated values (CSV)"
      ]
    },
    {
      "cell_type": "markdown",
      "metadata": {
        "id": "PdDpK7uZC5Gn"
      },
      "source": [
        "Очень распространенным форматом файлов данных являются значения, разделенные запятыми (CSV), или связанные с ними форматы, такие как TSV (значения, разделенные табуляциями). Для чтения данных из таких файлов в массивы Numpy мы можем использовать функцию `numpy.genfromtxt`. Например:"
      ]
    },
    {
      "cell_type": "code",
      "execution_count": null,
      "metadata": {
        "id": "Sc3qv1ZTC5Gn"
      },
      "outputs": [],
      "source": [
        "data = genfromtxt('stockholm_td_adj.dat')"
      ]
    },
    {
      "cell_type": "code",
      "execution_count": null,
      "metadata": {
        "id": "4ukdLRliC5Gn",
        "outputId": "8de5180a-2c4c-4d04-a7ae-708bc0d9fefa"
      },
      "outputs": [
        {
          "data": {
            "text/plain": [
              "(77431, 7)"
            ]
          },
          "execution_count": 97,
          "metadata": {},
          "output_type": "execute_result"
        }
      ],
      "source": [
        "data.shape"
      ]
    },
    {
      "cell_type": "code",
      "execution_count": null,
      "metadata": {
        "id": "ZzgRLI26C5Gn",
        "outputId": "d6290376-c93f-495c-d236-4e77c20f4f6d"
      },
      "outputs": [
        {
          "data": {
            "image/png": "[encoded data removed]",
            "text/plain": [
              "<Figure size 1008x288 with 1 Axes>"
            ]
          },
          "metadata": {
            "needs_background": "light"
          },
          "output_type": "display_data"
        }
      ],
      "source": [
        "fig, ax = plt.subplots(figsize=(14,4))\n",
        "x=linspace(1,32,31)\n",
        "y=array([data[i,5] for i in range(data.shape[0]) if (data[i,0]==1950)*(data[i,1]==5)])\n",
        "ax.plot(x,y)\n",
        "ax.axis('tight')\n",
        "ax.set_title('tempeatures in Stockholm')\n",
        "ax.set_xlabel('year')\n",
        "ax.set_ylabel('temperature (C)');\n"
      ]
    },
    {
      "cell_type": "markdown",
      "metadata": {
        "id": "XHCSk6-FC5Gn"
      },
      "source": [
        "Используя `numpy.savetxt` можно записать Numpy массив в файл CSV формате:"
      ]
    },
    {
      "cell_type": "code",
      "execution_count": null,
      "metadata": {
        "id": "OdVBd9uTC5Go",
        "outputId": "fd3ae6a3-07f8-497e-800d-5a6f7b1c8680"
      },
      "outputs": [
        {
          "data": {
            "text/plain": [
              "array([[0.01957785, 0.26105203, 0.59452319],\n",
              "       [0.84042664, 0.36882056, 0.06497298],\n",
              "       [0.88157179, 0.65403621, 0.7400268 ]])"
            ]
          },
          "execution_count": 100,
          "metadata": {},
          "output_type": "execute_result"
        }
      ],
      "source": [
        "M = random.rand(3,3)\n",
        "\n",
        "M"
      ]
    },
    {
      "cell_type": "code",
      "execution_count": null,
      "metadata": {
        "id": "Xhtnw7iXC5Go"
      },
      "outputs": [],
      "source": [
        "savetxt(\"random-matrix.csv\", M)"
      ]
    },
    {
      "cell_type": "code",
      "execution_count": null,
      "metadata": {
        "id": "JFZfilHXC5Go",
        "outputId": "834987c6-f6a8-4a80-b81d-e05ab0dd7c2a"
      },
      "outputs": [
        {
          "data": {
            "text/plain": [
              "array([[0.01958, 0.26105, 0.59452],\n",
              "       [0.84043, 0.36882, 0.06497],\n",
              "       [0.88157, 0.65404, 0.74003]])"
            ]
          },
          "execution_count": 103,
          "metadata": {},
          "output_type": "execute_result"
        }
      ],
      "source": [
        "savetxt(\"random-matrix.csv\", M, fmt='%.5f') # fmt определяет формат данных\n",
        "rand_data = genfromtxt('random-matrix.csv')\n",
        "rand_data"
      ]
    },
    {
      "cell_type": "markdown",
      "metadata": {
        "id": "s4Rotc0mC5Go"
      },
      "source": [
        "### Формат файлов Numpy"
      ]
    },
    {
      "cell_type": "markdown",
      "metadata": {
        "id": "x2cuyqbSC5Go"
      },
      "source": [
        "Полезно при хранении и считывании данных массива numpy. Используйте функции `numpy.save` и `numpy.load`:"
      ]
    },
    {
      "cell_type": "code",
      "execution_count": null,
      "metadata": {
        "id": "ro2aUOQvC5Go"
      },
      "outputs": [],
      "source": [
        "save(\"random-matrix.npy\", M)"
      ]
    },
    {
      "cell_type": "code",
      "execution_count": null,
      "metadata": {
        "id": "9LjNO5GyC5Go",
        "outputId": "5a529d85-8451-48b4-91f0-8907eb9b0915"
      },
      "outputs": [
        {
          "data": {
            "text/plain": [
              "array([[0.01957785, 0.26105203, 0.59452319],\n",
              "       [0.84042664, 0.36882056, 0.06497298],\n",
              "       [0.88157179, 0.65403621, 0.7400268 ]])"
            ]
          },
          "execution_count": 105,
          "metadata": {},
          "output_type": "execute_result"
        }
      ],
      "source": [
        "load(\"random-matrix.npy\")"
      ]
    },
    {
      "cell_type": "markdown",
      "metadata": {
        "id": "N694RoWuC5Go"
      },
      "source": [
        "### Задание 3\n",
        "Из данных по температуре в Стокгольме выбрать данные относящиеся к октябрю 1970 года и записать их в бинарный и текстовый файлы oct70.bin и oct70.txt. Затем прочитайте их импортировав в тетрадь ноутбука и сравните."
      ]
    },
    {
      "cell_type": "code",
      "source": [
        "data = genfromtxt('stockholm_td_adj.dat.txt')\n",
        "A = data[(data[:,0]==1970) & (data[:,1]==10)]\n",
        "A"
      ],
      "metadata": {
        "colab": {
          "base_uri": "https://localhost:8080/"
        },
        "id": "81vOAlBvN3mz",
        "outputId": "5f2aef5b-847d-4232-9350-747c6f18b77a"
      },
      "execution_count": 6,
      "outputs": [
        {
          "output_type": "execute_result",
          "data": {
            "text/plain": [
              "array([[1.97e+03, 1.00e+01, 1.00e+00, 1.07e+01, 1.04e+01, 1.04e+01,\n",
              "        1.00e+00],\n",
              "       [1.97e+03, 1.00e+01, 2.00e+00, 9.30e+00, 9.00e+00, 9.00e+00,\n",
              "        1.00e+00],\n",
              "       [1.97e+03, 1.00e+01, 3.00e+00, 8.10e+00, 7.80e+00, 7.80e+00,\n",
              "        1.00e+00],\n",
              "       [1.97e+03, 1.00e+01, 4.00e+00, 6.90e+00, 6.60e+00, 6.60e+00,\n",
              "        1.00e+00],\n",
              "       [1.97e+03, 1.00e+01, 5.00e+00, 8.20e+00, 7.90e+00, 7.90e+00,\n",
              "        1.00e+00],\n",
              "       [1.97e+03, 1.00e+01, 6.00e+00, 1.10e+01, 1.07e+01, 1.07e+01,\n",
              "        1.00e+00],\n",
              "       [1.97e+03, 1.00e+01, 7.00e+00, 1.25e+01, 1.22e+01, 1.22e+01,\n",
              "        1.00e+00],\n",
              "       [1.97e+03, 1.00e+01, 8.00e+00, 1.25e+01, 1.22e+01, 1.22e+01,\n",
              "        1.00e+00],\n",
              "       [1.97e+03, 1.00e+01, 9.00e+00, 1.05e+01, 1.02e+01, 1.02e+01,\n",
              "        1.00e+00],\n",
              "       [1.97e+03, 1.00e+01, 1.00e+01, 1.11e+01, 1.09e+01, 1.09e+01,\n",
              "        1.00e+00],\n",
              "       [1.97e+03, 1.00e+01, 1.10e+01, 9.90e+00, 9.70e+00, 9.70e+00,\n",
              "        1.00e+00],\n",
              "       [1.97e+03, 1.00e+01, 1.20e+01, 9.20e+00, 9.00e+00, 9.00e+00,\n",
              "        1.00e+00],\n",
              "       [1.97e+03, 1.00e+01, 1.30e+01, 6.90e+00, 6.70e+00, 6.70e+00,\n",
              "        1.00e+00],\n",
              "       [1.97e+03, 1.00e+01, 1.40e+01, 5.00e+00, 4.80e+00, 4.80e+00,\n",
              "        1.00e+00],\n",
              "       [1.97e+03, 1.00e+01, 1.50e+01, 8.40e+00, 8.20e+00, 8.20e+00,\n",
              "        1.00e+00],\n",
              "       [1.97e+03, 1.00e+01, 1.60e+01, 1.01e+01, 9.90e+00, 9.90e+00,\n",
              "        1.00e+00],\n",
              "       [1.97e+03, 1.00e+01, 1.70e+01, 1.01e+01, 9.80e+00, 9.80e+00,\n",
              "        1.00e+00],\n",
              "       [1.97e+03, 1.00e+01, 1.80e+01, 8.90e+00, 8.60e+00, 8.60e+00,\n",
              "        1.00e+00],\n",
              "       [1.97e+03, 1.00e+01, 1.90e+01, 9.10e+00, 8.80e+00, 8.80e+00,\n",
              "        1.00e+00],\n",
              "       [1.97e+03, 1.00e+01, 2.00e+01, 7.60e+00, 7.30e+00, 7.30e+00,\n",
              "        1.00e+00],\n",
              "       [1.97e+03, 1.00e+01, 2.10e+01, 6.50e+00, 6.20e+00, 6.20e+00,\n",
              "        1.00e+00],\n",
              "       [1.97e+03, 1.00e+01, 2.20e+01, 3.30e+00, 3.00e+00, 3.00e+00,\n",
              "        1.00e+00],\n",
              "       [1.97e+03, 1.00e+01, 2.30e+01, 8.00e-01, 5.00e-01, 5.00e-01,\n",
              "        1.00e+00],\n",
              "       [1.97e+03, 1.00e+01, 2.40e+01, 4.80e+00, 4.50e+00, 4.50e+00,\n",
              "        1.00e+00],\n",
              "       [1.97e+03, 1.00e+01, 2.50e+01, 6.60e+00, 6.30e+00, 6.30e+00,\n",
              "        1.00e+00],\n",
              "       [1.97e+03, 1.00e+01, 2.60e+01, 3.60e+00, 3.30e+00, 3.30e+00,\n",
              "        1.00e+00],\n",
              "       [1.97e+03, 1.00e+01, 2.70e+01, 1.90e+00, 1.60e+00, 1.60e+00,\n",
              "        1.00e+00],\n",
              "       [1.97e+03, 1.00e+01, 2.80e+01, 2.00e+00, 1.70e+00, 1.70e+00,\n",
              "        1.00e+00],\n",
              "       [1.97e+03, 1.00e+01, 2.90e+01, 2.60e+00, 2.30e+00, 2.30e+00,\n",
              "        1.00e+00],\n",
              "       [1.97e+03, 1.00e+01, 3.00e+01, 2.20e+00, 1.80e+00, 1.80e+00,\n",
              "        1.00e+00],\n",
              "       [1.97e+03, 1.00e+01, 3.10e+01, 1.50e+00, 1.10e+00, 1.10e+00,\n",
              "        1.00e+00]])"
            ]
          },
          "metadata": {},
          "execution_count": 6
        }
      ]
    },
    {
      "cell_type": "code",
      "source": [
        "savetxt(\"oct70.bin\", A)\n",
        "a = genfromtxt('oct70.bin')\n",
        "a"
      ],
      "metadata": {
        "colab": {
          "base_uri": "https://localhost:8080/"
        },
        "id": "sWw7sEljO6Z0",
        "outputId": "77c71969-adb4-43f9-9417-e3883718ee1a"
      },
      "execution_count": 8,
      "outputs": [
        {
          "output_type": "execute_result",
          "data": {
            "text/plain": [
              "array([[1.97e+03, 1.00e+01, 1.00e+00, 1.07e+01, 1.04e+01, 1.04e+01,\n",
              "        1.00e+00],\n",
              "       [1.97e+03, 1.00e+01, 2.00e+00, 9.30e+00, 9.00e+00, 9.00e+00,\n",
              "        1.00e+00],\n",
              "       [1.97e+03, 1.00e+01, 3.00e+00, 8.10e+00, 7.80e+00, 7.80e+00,\n",
              "        1.00e+00],\n",
              "       [1.97e+03, 1.00e+01, 4.00e+00, 6.90e+00, 6.60e+00, 6.60e+00,\n",
              "        1.00e+00],\n",
              "       [1.97e+03, 1.00e+01, 5.00e+00, 8.20e+00, 7.90e+00, 7.90e+00,\n",
              "        1.00e+00],\n",
              "       [1.97e+03, 1.00e+01, 6.00e+00, 1.10e+01, 1.07e+01, 1.07e+01,\n",
              "        1.00e+00],\n",
              "       [1.97e+03, 1.00e+01, 7.00e+00, 1.25e+01, 1.22e+01, 1.22e+01,\n",
              "        1.00e+00],\n",
              "       [1.97e+03, 1.00e+01, 8.00e+00, 1.25e+01, 1.22e+01, 1.22e+01,\n",
              "        1.00e+00],\n",
              "       [1.97e+03, 1.00e+01, 9.00e+00, 1.05e+01, 1.02e+01, 1.02e+01,\n",
              "        1.00e+00],\n",
              "       [1.97e+03, 1.00e+01, 1.00e+01, 1.11e+01, 1.09e+01, 1.09e+01,\n",
              "        1.00e+00],\n",
              "       [1.97e+03, 1.00e+01, 1.10e+01, 9.90e+00, 9.70e+00, 9.70e+00,\n",
              "        1.00e+00],\n",
              "       [1.97e+03, 1.00e+01, 1.20e+01, 9.20e+00, 9.00e+00, 9.00e+00,\n",
              "        1.00e+00],\n",
              "       [1.97e+03, 1.00e+01, 1.30e+01, 6.90e+00, 6.70e+00, 6.70e+00,\n",
              "        1.00e+00],\n",
              "       [1.97e+03, 1.00e+01, 1.40e+01, 5.00e+00, 4.80e+00, 4.80e+00,\n",
              "        1.00e+00],\n",
              "       [1.97e+03, 1.00e+01, 1.50e+01, 8.40e+00, 8.20e+00, 8.20e+00,\n",
              "        1.00e+00],\n",
              "       [1.97e+03, 1.00e+01, 1.60e+01, 1.01e+01, 9.90e+00, 9.90e+00,\n",
              "        1.00e+00],\n",
              "       [1.97e+03, 1.00e+01, 1.70e+01, 1.01e+01, 9.80e+00, 9.80e+00,\n",
              "        1.00e+00],\n",
              "       [1.97e+03, 1.00e+01, 1.80e+01, 8.90e+00, 8.60e+00, 8.60e+00,\n",
              "        1.00e+00],\n",
              "       [1.97e+03, 1.00e+01, 1.90e+01, 9.10e+00, 8.80e+00, 8.80e+00,\n",
              "        1.00e+00],\n",
              "       [1.97e+03, 1.00e+01, 2.00e+01, 7.60e+00, 7.30e+00, 7.30e+00,\n",
              "        1.00e+00],\n",
              "       [1.97e+03, 1.00e+01, 2.10e+01, 6.50e+00, 6.20e+00, 6.20e+00,\n",
              "        1.00e+00],\n",
              "       [1.97e+03, 1.00e+01, 2.20e+01, 3.30e+00, 3.00e+00, 3.00e+00,\n",
              "        1.00e+00],\n",
              "       [1.97e+03, 1.00e+01, 2.30e+01, 8.00e-01, 5.00e-01, 5.00e-01,\n",
              "        1.00e+00],\n",
              "       [1.97e+03, 1.00e+01, 2.40e+01, 4.80e+00, 4.50e+00, 4.50e+00,\n",
              "        1.00e+00],\n",
              "       [1.97e+03, 1.00e+01, 2.50e+01, 6.60e+00, 6.30e+00, 6.30e+00,\n",
              "        1.00e+00],\n",
              "       [1.97e+03, 1.00e+01, 2.60e+01, 3.60e+00, 3.30e+00, 3.30e+00,\n",
              "        1.00e+00],\n",
              "       [1.97e+03, 1.00e+01, 2.70e+01, 1.90e+00, 1.60e+00, 1.60e+00,\n",
              "        1.00e+00],\n",
              "       [1.97e+03, 1.00e+01, 2.80e+01, 2.00e+00, 1.70e+00, 1.70e+00,\n",
              "        1.00e+00],\n",
              "       [1.97e+03, 1.00e+01, 2.90e+01, 2.60e+00, 2.30e+00, 2.30e+00,\n",
              "        1.00e+00],\n",
              "       [1.97e+03, 1.00e+01, 3.00e+01, 2.20e+00, 1.80e+00, 1.80e+00,\n",
              "        1.00e+00],\n",
              "       [1.97e+03, 1.00e+01, 3.10e+01, 1.50e+00, 1.10e+00, 1.10e+00,\n",
              "        1.00e+00]])"
            ]
          },
          "metadata": {},
          "execution_count": 8
        }
      ]
    },
    {
      "cell_type": "code",
      "source": [
        "savetxt(\"oct70.txt\", A)\n",
        "b = genfromtxt('oct70.txt')\n",
        "b"
      ],
      "metadata": {
        "colab": {
          "base_uri": "https://localhost:8080/"
        },
        "id": "mbwEakobPJ4b",
        "outputId": "01a6d137-bf78-4e7f-9cf6-d003117b66b4"
      },
      "execution_count": 9,
      "outputs": [
        {
          "output_type": "execute_result",
          "data": {
            "text/plain": [
              "array([[1.97e+03, 1.00e+01, 1.00e+00, 1.07e+01, 1.04e+01, 1.04e+01,\n",
              "        1.00e+00],\n",
              "       [1.97e+03, 1.00e+01, 2.00e+00, 9.30e+00, 9.00e+00, 9.00e+00,\n",
              "        1.00e+00],\n",
              "       [1.97e+03, 1.00e+01, 3.00e+00, 8.10e+00, 7.80e+00, 7.80e+00,\n",
              "        1.00e+00],\n",
              "       [1.97e+03, 1.00e+01, 4.00e+00, 6.90e+00, 6.60e+00, 6.60e+00,\n",
              "        1.00e+00],\n",
              "       [1.97e+03, 1.00e+01, 5.00e+00, 8.20e+00, 7.90e+00, 7.90e+00,\n",
              "        1.00e+00],\n",
              "       [1.97e+03, 1.00e+01, 6.00e+00, 1.10e+01, 1.07e+01, 1.07e+01,\n",
              "        1.00e+00],\n",
              "       [1.97e+03, 1.00e+01, 7.00e+00, 1.25e+01, 1.22e+01, 1.22e+01,\n",
              "        1.00e+00],\n",
              "       [1.97e+03, 1.00e+01, 8.00e+00, 1.25e+01, 1.22e+01, 1.22e+01,\n",
              "        1.00e+00],\n",
              "       [1.97e+03, 1.00e+01, 9.00e+00, 1.05e+01, 1.02e+01, 1.02e+01,\n",
              "        1.00e+00],\n",
              "       [1.97e+03, 1.00e+01, 1.00e+01, 1.11e+01, 1.09e+01, 1.09e+01,\n",
              "        1.00e+00],\n",
              "       [1.97e+03, 1.00e+01, 1.10e+01, 9.90e+00, 9.70e+00, 9.70e+00,\n",
              "        1.00e+00],\n",
              "       [1.97e+03, 1.00e+01, 1.20e+01, 9.20e+00, 9.00e+00, 9.00e+00,\n",
              "        1.00e+00],\n",
              "       [1.97e+03, 1.00e+01, 1.30e+01, 6.90e+00, 6.70e+00, 6.70e+00,\n",
              "        1.00e+00],\n",
              "       [1.97e+03, 1.00e+01, 1.40e+01, 5.00e+00, 4.80e+00, 4.80e+00,\n",
              "        1.00e+00],\n",
              "       [1.97e+03, 1.00e+01, 1.50e+01, 8.40e+00, 8.20e+00, 8.20e+00,\n",
              "        1.00e+00],\n",
              "       [1.97e+03, 1.00e+01, 1.60e+01, 1.01e+01, 9.90e+00, 9.90e+00,\n",
              "        1.00e+00],\n",
              "       [1.97e+03, 1.00e+01, 1.70e+01, 1.01e+01, 9.80e+00, 9.80e+00,\n",
              "        1.00e+00],\n",
              "       [1.97e+03, 1.00e+01, 1.80e+01, 8.90e+00, 8.60e+00, 8.60e+00,\n",
              "        1.00e+00],\n",
              "       [1.97e+03, 1.00e+01, 1.90e+01, 9.10e+00, 8.80e+00, 8.80e+00,\n",
              "        1.00e+00],\n",
              "       [1.97e+03, 1.00e+01, 2.00e+01, 7.60e+00, 7.30e+00, 7.30e+00,\n",
              "        1.00e+00],\n",
              "       [1.97e+03, 1.00e+01, 2.10e+01, 6.50e+00, 6.20e+00, 6.20e+00,\n",
              "        1.00e+00],\n",
              "       [1.97e+03, 1.00e+01, 2.20e+01, 3.30e+00, 3.00e+00, 3.00e+00,\n",
              "        1.00e+00],\n",
              "       [1.97e+03, 1.00e+01, 2.30e+01, 8.00e-01, 5.00e-01, 5.00e-01,\n",
              "        1.00e+00],\n",
              "       [1.97e+03, 1.00e+01, 2.40e+01, 4.80e+00, 4.50e+00, 4.50e+00,\n",
              "        1.00e+00],\n",
              "       [1.97e+03, 1.00e+01, 2.50e+01, 6.60e+00, 6.30e+00, 6.30e+00,\n",
              "        1.00e+00],\n",
              "       [1.97e+03, 1.00e+01, 2.60e+01, 3.60e+00, 3.30e+00, 3.30e+00,\n",
              "        1.00e+00],\n",
              "       [1.97e+03, 1.00e+01, 2.70e+01, 1.90e+00, 1.60e+00, 1.60e+00,\n",
              "        1.00e+00],\n",
              "       [1.97e+03, 1.00e+01, 2.80e+01, 2.00e+00, 1.70e+00, 1.70e+00,\n",
              "        1.00e+00],\n",
              "       [1.97e+03, 1.00e+01, 2.90e+01, 2.60e+00, 2.30e+00, 2.30e+00,\n",
              "        1.00e+00],\n",
              "       [1.97e+03, 1.00e+01, 3.00e+01, 2.20e+00, 1.80e+00, 1.80e+00,\n",
              "        1.00e+00],\n",
              "       [1.97e+03, 1.00e+01, 3.10e+01, 1.50e+00, 1.10e+00, 1.10e+00,\n",
              "        1.00e+00]])"
            ]
          },
          "metadata": {},
          "execution_count": 9
        }
      ]
    },
    {
      "cell_type": "markdown",
      "metadata": {
        "id": "qUZhOY6sC5Gp"
      },
      "source": [
        "## Дополнительные свойства `numpy` *arrays*"
      ]
    },
    {
      "cell_type": "code",
      "execution_count": null,
      "metadata": {
        "id": "ZPFs_vl-C5Gp",
        "outputId": "d16479a4-7f31-4d98-fb91-81ebfa80eaa2"
      },
      "outputs": [
        {
          "data": {
            "text/plain": [
              "8"
            ]
          },
          "execution_count": 106,
          "metadata": {},
          "output_type": "execute_result"
        }
      ],
      "source": [
        "M.itemsize # размер элемента в байтах"
      ]
    },
    {
      "cell_type": "code",
      "execution_count": null,
      "metadata": {
        "id": "86rMuN8kC5Gp",
        "outputId": "668501b2-b821-4c98-ac3c-f132560afe5c"
      },
      "outputs": [
        {
          "data": {
            "text/plain": [
              "72"
            ]
          },
          "execution_count": 107,
          "metadata": {},
          "output_type": "execute_result"
        }
      ],
      "source": [
        "M.nbytes # кол-во байт"
      ]
    },
    {
      "cell_type": "code",
      "execution_count": null,
      "metadata": {
        "id": "hcTOeQb1C5Gp",
        "outputId": "ae1e169b-7ac4-4337-8cc4-a8bd9fefe382"
      },
      "outputs": [
        {
          "data": {
            "text/plain": [
              "2"
            ]
          },
          "execution_count": 108,
          "metadata": {},
          "output_type": "execute_result"
        }
      ],
      "source": [
        "M.ndim # размерность"
      ]
    },
    {
      "cell_type": "markdown",
      "metadata": {
        "id": "f51vEN97C5Gp"
      },
      "source": [
        "## Преобразование массивов"
      ]
    },
    {
      "cell_type": "markdown",
      "metadata": {
        "id": "1cgQTvEXC5Gp"
      },
      "source": [
        "### Использование индексов"
      ]
    },
    {
      "cell_type": "markdown",
      "metadata": {
        "id": "iB6p5XSvC5Gp"
      },
      "source": [
        "Доступ к элементам через индекс:"
      ]
    },
    {
      "cell_type": "code",
      "execution_count": null,
      "metadata": {
        "id": "YkxKr_lcC5Gp",
        "outputId": "8c403658-c5bf-439c-c8ff-56c7aa23ed27"
      },
      "outputs": [
        {
          "data": {
            "text/plain": [
              "1"
            ]
          },
          "execution_count": 109,
          "metadata": {},
          "output_type": "execute_result"
        }
      ],
      "source": [
        "# v -- вектор, размерность 1, испльзуем 1 индекс\n",
        "v[0]"
      ]
    },
    {
      "cell_type": "code",
      "execution_count": null,
      "metadata": {
        "id": "SdSdH5fdC5Gp",
        "outputId": "5abf67ff-4586-4929-9ee4-325f536b7a10"
      },
      "outputs": [
        {
          "data": {
            "text/plain": [
              "0.36882056243262484"
            ]
          },
          "execution_count": 110,
          "metadata": {},
          "output_type": "execute_result"
        }
      ],
      "source": [
        "# M -- матрица, 2-х мерный объект, используем 2 индекса \n",
        "M[1,1]"
      ]
    },
    {
      "cell_type": "markdown",
      "metadata": {
        "id": "jZiE4G9HC5Gq"
      },
      "source": [
        "Если мы опустим один из индексов, то получим объект пониженной размерности. В случае двумерной матрицы, получим вектор. "
      ]
    },
    {
      "cell_type": "code",
      "execution_count": null,
      "metadata": {
        "id": "Y6P8BhpUC5Gq",
        "outputId": "f333b851-4338-4cab-b846-432b743e6bdd"
      },
      "outputs": [
        {
          "data": {
            "text/plain": [
              "array([[0.01957785, 0.26105203, 0.59452319],\n",
              "       [0.84042664, 0.36882056, 0.06497298],\n",
              "       [0.88157179, 0.65403621, 0.7400268 ]])"
            ]
          },
          "execution_count": 111,
          "metadata": {},
          "output_type": "execute_result"
        }
      ],
      "source": [
        "M"
      ]
    },
    {
      "cell_type": "code",
      "execution_count": null,
      "metadata": {
        "id": "x2hHwHOWC5Gq",
        "outputId": "c94afabe-98c9-4cac-db78-8bbac6fb5d0e"
      },
      "outputs": [
        {
          "data": {
            "text/plain": [
              "array([0.84042664, 0.36882056, 0.06497298])"
            ]
          },
          "execution_count": 112,
          "metadata": {},
          "output_type": "execute_result"
        }
      ],
      "source": [
        "M[1]"
      ]
    },
    {
      "cell_type": "markdown",
      "metadata": {
        "id": "EJS1hYegC5Gq"
      },
      "source": [
        "Такой же эффект получится при использовании `:` на месте индекса:"
      ]
    },
    {
      "cell_type": "code",
      "execution_count": null,
      "metadata": {
        "id": "aujJth2nC5Gq",
        "outputId": "ab8329b1-e754-4c16-a77c-0f09cab8d264"
      },
      "outputs": [
        {
          "data": {
            "text/plain": [
              "array([0.84042664, 0.36882056, 0.06497298])"
            ]
          },
          "execution_count": 113,
          "metadata": {},
          "output_type": "execute_result"
        }
      ],
      "source": [
        "M[1,:] # строка (row) 1"
      ]
    },
    {
      "cell_type": "code",
      "execution_count": null,
      "metadata": {
        "id": "C4Y77jAiC5Gq",
        "outputId": "f9c739ef-2407-4e20-9556-9f4794874cf1"
      },
      "outputs": [
        {
          "data": {
            "text/plain": [
              "array([0.26105203, 0.36882056, 0.65403621])"
            ]
          },
          "execution_count": 114,
          "metadata": {},
          "output_type": "execute_result"
        }
      ],
      "source": [
        "M[:,1] # столбец (column) 1"
      ]
    },
    {
      "cell_type": "markdown",
      "metadata": {
        "id": "Ptch60w_C5Gq"
      },
      "source": [
        "Мы можем присваивать новые значения элементам массива с помощью индексации:"
      ]
    },
    {
      "cell_type": "code",
      "execution_count": null,
      "metadata": {
        "id": "W_4T2oqHC5Gq"
      },
      "outputs": [],
      "source": [
        "M[0,0] = 1"
      ]
    },
    {
      "cell_type": "code",
      "execution_count": null,
      "metadata": {
        "id": "OeNsdJ5-C5Gr",
        "outputId": "d5af8c76-5238-4281-f1c1-07129e52eded"
      },
      "outputs": [
        {
          "data": {
            "text/plain": [
              "array([[1.        , 0.26105203, 0.59452319],\n",
              "       [0.84042664, 0.36882056, 0.06497298],\n",
              "       [0.88157179, 0.65403621, 0.7400268 ]])"
            ]
          },
          "execution_count": 116,
          "metadata": {},
          "output_type": "execute_result"
        }
      ],
      "source": [
        "M"
      ]
    },
    {
      "cell_type": "code",
      "execution_count": null,
      "metadata": {
        "id": "Y3SB3GDrC5Gr"
      },
      "outputs": [],
      "source": [
        "# также работает для строк и столбцов\n",
        "M[1,:] = 0\n",
        "M[:,2] = -1"
      ]
    },
    {
      "cell_type": "code",
      "execution_count": null,
      "metadata": {
        "id": "eUrbBXapC5Gr",
        "outputId": "1f32430d-1b84-46c7-8758-c1a85a72b700"
      },
      "outputs": [
        {
          "data": {
            "text/plain": [
              "array([[ 1.        ,  0.26105203, -1.        ],\n",
              "       [ 0.        ,  0.        , -1.        ],\n",
              "       [ 0.88157179,  0.65403621, -1.        ]])"
            ]
          },
          "execution_count": 118,
          "metadata": {},
          "output_type": "execute_result"
        }
      ],
      "source": [
        "M"
      ]
    },
    {
      "cell_type": "markdown",
      "metadata": {
        "id": "NyjF8ZxMC5Gr"
      },
      "source": [
        "### Срезы (*slice*) по индексам"
      ]
    },
    {
      "cell_type": "markdown",
      "metadata": {
        "id": "LDlBItlMC5Gr"
      },
      "source": [
        "Срезы по индексам техническое название `M[нижний индекс:верхний индекс:шаг]` предназначенные для извлечения части массива:"
      ]
    },
    {
      "cell_type": "code",
      "execution_count": null,
      "metadata": {
        "id": "YrbsqnoiC5Gr",
        "outputId": "1a34d989-6214-4679-e78d-afdf9c4553ab"
      },
      "outputs": [
        {
          "data": {
            "text/plain": [
              "array([1, 2, 3, 4, 5])"
            ]
          },
          "execution_count": 119,
          "metadata": {},
          "output_type": "execute_result"
        }
      ],
      "source": [
        "A = array([1,2,3,4,5])\n",
        "A"
      ]
    },
    {
      "cell_type": "code",
      "execution_count": null,
      "metadata": {
        "id": "31OVzCsIC5Gr",
        "outputId": "5f5d9a71-54a5-48e9-c36c-9405cf59e9d3"
      },
      "outputs": [
        {
          "data": {
            "text/plain": [
              "array([2, 3])"
            ]
          },
          "execution_count": 120,
          "metadata": {},
          "output_type": "execute_result"
        }
      ],
      "source": [
        "A[1:3]"
      ]
    },
    {
      "cell_type": "markdown",
      "metadata": {
        "id": "Lje1odF5C5Gr"
      },
      "source": [
        "Срезы массива являются *изменяемыми (mutable)*: если им присвоено новое значение, то исходный массив, из которого был извлечен срез, изменяется:"
      ]
    },
    {
      "cell_type": "code",
      "execution_count": null,
      "metadata": {
        "id": "OckRa3TBC5Gr",
        "outputId": "e7edae98-9a51-4b90-8e82-d524a3fdc7c9"
      },
      "outputs": [
        {
          "data": {
            "text/plain": [
              "array([ 1, -2, -3,  4,  5])"
            ]
          },
          "execution_count": 121,
          "metadata": {},
          "output_type": "execute_result"
        }
      ],
      "source": [
        "A[1:3] = [-2,-3]\n",
        "\n",
        "A"
      ]
    },
    {
      "cell_type": "markdown",
      "metadata": {
        "id": "zFqOcwI7C5Gs"
      },
      "source": [
        "Можно не указывать любой из трех параметров среза`M[нижний индекс:верхний индекс:шаг]`:"
      ]
    },
    {
      "cell_type": "code",
      "execution_count": null,
      "metadata": {
        "id": "zjq-WCAtC5Gs",
        "outputId": "2a2f4bf3-f8e3-4e3e-e297-aca2d8b0acd5"
      },
      "outputs": [
        {
          "data": {
            "text/plain": [
              "array([ 1, -2, -3,  4,  5])"
            ]
          },
          "execution_count": 122,
          "metadata": {},
          "output_type": "execute_result"
        }
      ],
      "source": [
        "A[::] # нижний, верхний индексы и шаг (=1) принимают значения по умолчанию"
      ]
    },
    {
      "cell_type": "code",
      "execution_count": null,
      "metadata": {
        "id": "HR9sRCVVC5Gs",
        "outputId": "12ae2597-3b85-41fd-bdd5-ec14286e3a32"
      },
      "outputs": [
        {
          "data": {
            "text/plain": [
              "array([ 1, -3,  5])"
            ]
          },
          "execution_count": 123,
          "metadata": {},
          "output_type": "execute_result"
        }
      ],
      "source": [
        "A[::2] # шаг равен 2, нижний и верхний индексы принимают значения начала и конца массива"
      ]
    },
    {
      "cell_type": "code",
      "execution_count": null,
      "metadata": {
        "id": "3DOw0X06C5Gs",
        "outputId": "d579fe4d-918d-4888-d3eb-e13a023969fa"
      },
      "outputs": [
        {
          "data": {
            "text/plain": [
              "array([ 1, -2, -3])"
            ]
          },
          "execution_count": 124,
          "metadata": {},
          "output_type": "execute_result"
        }
      ],
      "source": [
        "A[:3] # первые три элемента"
      ]
    },
    {
      "cell_type": "code",
      "execution_count": null,
      "metadata": {
        "id": "i-vkAp1JC5Gs",
        "outputId": "8c5e074f-ab30-4019-f411-ffe7e7af6b99"
      },
      "outputs": [
        {
          "data": {
            "text/plain": [
              "array([4, 5])"
            ]
          },
          "execution_count": 125,
          "metadata": {},
          "output_type": "execute_result"
        }
      ],
      "source": [
        "A[3:] # элементы с индекса 3"
      ]
    },
    {
      "cell_type": "markdown",
      "metadata": {
        "id": "cjUMee2QC5Gs"
      },
      "source": [
        "Отрицательные индексы отсчитываются с конца массива (положительные - с начала):"
      ]
    },
    {
      "cell_type": "code",
      "execution_count": null,
      "metadata": {
        "id": "Cxl65POaC5Gs"
      },
      "outputs": [],
      "source": [
        "A = array([1,2,3,4,5])"
      ]
    },
    {
      "cell_type": "code",
      "execution_count": null,
      "metadata": {
        "id": "xm460V8-C5Gs",
        "outputId": "4328a4fb-52f3-423d-ccce-2787663cff0a"
      },
      "outputs": [
        {
          "data": {
            "text/plain": [
              "5"
            ]
          },
          "execution_count": 127,
          "metadata": {},
          "output_type": "execute_result"
        }
      ],
      "source": [
        "A[-1] # последний элемент массива"
      ]
    },
    {
      "cell_type": "code",
      "execution_count": null,
      "metadata": {
        "id": "1RpzC3niC5Gt",
        "outputId": "68c4a268-e674-41c3-8594-ce9d15251ebb"
      },
      "outputs": [
        {
          "data": {
            "text/plain": [
              "array([3, 4, 5])"
            ]
          },
          "execution_count": 128,
          "metadata": {},
          "output_type": "execute_result"
        }
      ],
      "source": [
        "A[-3:] # последние 3 элемента"
      ]
    },
    {
      "cell_type": "markdown",
      "metadata": {
        "id": "EQ0Fo8KwC5Gt"
      },
      "source": [
        "Индексный срез работает точно так же для многомерных массивов:"
      ]
    },
    {
      "cell_type": "code",
      "execution_count": 11,
      "metadata": {
        "id": "fAix9ZoWC5Gt",
        "outputId": "f641ba1c-e746-4985-b565-5eb3a8e338f9",
        "colab": {
          "base_uri": "https://localhost:8080/"
        }
      },
      "outputs": [
        {
          "output_type": "execute_result",
          "data": {
            "text/plain": [
              "array([[ 0,  1,  2,  3,  4],\n",
              "       [10, 11, 12, 13, 14],\n",
              "       [20, 21, 22, 23, 24],\n",
              "       [30, 31, 32, 33, 34],\n",
              "       [40, 41, 42, 43, 44]])"
            ]
          },
          "metadata": {},
          "execution_count": 11
        }
      ],
      "source": [
        "A = array([[n+m*10 for n in range(5)] for m in range(5)])\n",
        "\n",
        "A"
      ]
    },
    {
      "cell_type": "code",
      "execution_count": null,
      "metadata": {
        "id": "IOGsAAhbC5Gt",
        "outputId": "40523459-7723-40d2-a9f4-c1946752ce14"
      },
      "outputs": [
        {
          "data": {
            "text/plain": [
              "array([[11, 12, 13],\n",
              "       [21, 22, 23],\n",
              "       [31, 32, 33]])"
            ]
          },
          "execution_count": 130,
          "metadata": {},
          "output_type": "execute_result"
        }
      ],
      "source": [
        "# часть массива\n",
        "A[1:4, 1:4]"
      ]
    },
    {
      "cell_type": "code",
      "execution_count": null,
      "metadata": {
        "id": "v_1_086EC5Gt",
        "outputId": "0994fa36-1ed8-41c1-ca10-be762169a9fc"
      },
      "outputs": [
        {
          "data": {
            "text/plain": [
              "array([[ 0,  2,  4],\n",
              "       [20, 22, 24],\n",
              "       [40, 42, 44]])"
            ]
          },
          "execution_count": 131,
          "metadata": {},
          "output_type": "execute_result"
        }
      ],
      "source": [
        "# пошаговое извлечение\n",
        "A[::2, ::2]"
      ]
    },
    {
      "cell_type": "markdown",
      "metadata": {
        "id": "SGp4t9OCC5Gt"
      },
      "source": [
        "### Задание 4\n",
        "Используя срезы извлеките нечетные элементы матрицы А. "
      ]
    },
    {
      "cell_type": "code",
      "source": [
        "A[:,1::2]"
      ],
      "metadata": {
        "colab": {
          "base_uri": "https://localhost:8080/"
        },
        "id": "kt4CaCY9Pzn1",
        "outputId": "237e2c69-17cb-409c-cea8-4bd310fb8ddd"
      },
      "execution_count": 16,
      "outputs": [
        {
          "output_type": "execute_result",
          "data": {
            "text/plain": [
              "array([[ 1,  3],\n",
              "       [11, 13],\n",
              "       [21, 23],\n",
              "       [31, 33],\n",
              "       [41, 43]])"
            ]
          },
          "metadata": {},
          "execution_count": 16
        }
      ]
    },
    {
      "cell_type": "markdown",
      "metadata": {
        "id": "zyZ6JaztC5Gt"
      },
      "source": [
        "### Необычное индексирование"
      ]
    },
    {
      "cell_type": "markdown",
      "metadata": {
        "id": "lDFdr-KFC5Gt"
      },
      "source": [
        "О необычном индексировании говорят, когда массив или список используется в качестве индекса: "
      ]
    },
    {
      "cell_type": "code",
      "execution_count": null,
      "metadata": {
        "id": "Fxn2ScsbC5Gu",
        "outputId": "9d1064cf-ed1a-414e-8b13-b16e977b06b3"
      },
      "outputs": [
        {
          "data": {
            "text/plain": [
              "array([[10, 11, 12, 13, 14],\n",
              "       [20, 21, 22, 23, 24],\n",
              "       [30, 31, 32, 33, 34]])"
            ]
          },
          "execution_count": 132,
          "metadata": {},
          "output_type": "execute_result"
        }
      ],
      "source": [
        "row_indices = [1, 2, 3]\n",
        "A[row_indices]"
      ]
    },
    {
      "cell_type": "code",
      "execution_count": null,
      "metadata": {
        "id": "OZQ-fjPaC5Gu",
        "outputId": "dce33288-9906-4f35-9780-29943128b866"
      },
      "outputs": [
        {
          "data": {
            "text/plain": [
              "array([[ 1,  2,  4],\n",
              "       [11, 12, 14],\n",
              "       [21, 22, 24],\n",
              "       [31, 32, 34],\n",
              "       [41, 42, 44]])"
            ]
          },
          "execution_count": 4,
          "metadata": {},
          "output_type": "execute_result"
        }
      ],
      "source": [
        "col_indices = [1, 2, -1] # вспомним, что -1 это последний элемент\n",
        "A[:,col_indices]"
      ]
    },
    {
      "cell_type": "markdown",
      "metadata": {
        "id": "6x_XFO15C5Gu"
      },
      "source": [
        "Можно также использовать индексные маски: Если индексная маска представляет собой массив Numpy типа данных `bool`, то элемент выбирается (True) или нет (False) в зависимости от значения индексной маски в позиции каждого элемента:"
      ]
    },
    {
      "cell_type": "code",
      "execution_count": null,
      "metadata": {
        "id": "vTtFxJlZC5Gu",
        "outputId": "0272012a-548a-4ae5-b46f-57341e8714ac"
      },
      "outputs": [
        {
          "data": {
            "text/plain": [
              "array([0, 1, 2, 3, 4])"
            ]
          },
          "execution_count": 134,
          "metadata": {},
          "output_type": "execute_result"
        }
      ],
      "source": [
        "B = array([n for n in range(5)])\n",
        "B"
      ]
    },
    {
      "cell_type": "code",
      "execution_count": null,
      "metadata": {
        "id": "wQ-NEScvC5Gu",
        "outputId": "37435fd7-faae-4553-909e-0d68552be324"
      },
      "outputs": [
        {
          "data": {
            "text/plain": [
              "array([0, 2])"
            ]
          },
          "execution_count": 135,
          "metadata": {},
          "output_type": "execute_result"
        }
      ],
      "source": [
        "row_mask = array([True, False, True, False, False])\n",
        "B[row_mask]"
      ]
    },
    {
      "cell_type": "code",
      "execution_count": null,
      "metadata": {
        "id": "4RJzBttrC5Gu",
        "outputId": "c5924050-7272-482c-c1f9-421a7ac172e4"
      },
      "outputs": [
        {
          "data": {
            "text/plain": [
              "array([0, 2])"
            ]
          },
          "execution_count": 136,
          "metadata": {},
          "output_type": "execute_result"
        }
      ],
      "source": [
        "# тот же результат\n",
        "row_mask = array([1,0,1,0,0], dtype=bool)\n",
        "B[row_mask]"
      ]
    },
    {
      "cell_type": "markdown",
      "metadata": {
        "id": "cGdiV4v3C5Gu"
      },
      "source": [
        "Эта функция очень полезна для условного выбора элементов из массива, используя, например, операторы сравнения:"
      ]
    },
    {
      "cell_type": "code",
      "execution_count": null,
      "metadata": {
        "id": "YS2BU1bBC5Gu",
        "outputId": "41f20fe0-1d99-4674-b412-7524875d3b85"
      },
      "outputs": [
        {
          "data": {
            "text/plain": [
              "array([0. , 0.5, 1. , 1.5, 2. , 2.5, 3. , 3.5, 4. , 4.5, 5. , 5.5, 6. ,\n",
              "       6.5, 7. , 7.5, 8. , 8.5, 9. , 9.5])"
            ]
          },
          "execution_count": 137,
          "metadata": {},
          "output_type": "execute_result"
        }
      ],
      "source": [
        "x = arange(0, 10, 0.5)\n",
        "x"
      ]
    },
    {
      "cell_type": "code",
      "execution_count": null,
      "metadata": {
        "id": "upgWGKUmC5Gv",
        "outputId": "4c03dbfb-40ea-4c57-e0c8-b8c722ba7c80"
      },
      "outputs": [
        {
          "data": {
            "text/plain": [
              "array([False, False, False, False, False, False, False, False, False,\n",
              "       False, False,  True,  True,  True,  True, False, False, False,\n",
              "       False, False])"
            ]
          },
          "execution_count": 138,
          "metadata": {},
          "output_type": "execute_result"
        }
      ],
      "source": [
        "mask = (5 < x) * (x < 7.5)\n",
        "\n",
        "mask"
      ]
    },
    {
      "cell_type": "code",
      "execution_count": null,
      "metadata": {
        "id": "8hadq62GC5Gv",
        "outputId": "66c2bfb4-fb68-4d84-852b-6e6525ff07a2"
      },
      "outputs": [
        {
          "data": {
            "text/plain": [
              "array([5.5, 6. , 6.5, 7. ])"
            ]
          },
          "execution_count": 139,
          "metadata": {},
          "output_type": "execute_result"
        }
      ],
      "source": [
        "x[mask]"
      ]
    },
    {
      "cell_type": "markdown",
      "metadata": {
        "id": "puYsHQ1UC5Gv"
      },
      "source": [
        "### Задание 5\n",
        "Используйте массив из задания 1 (таблицу умножения) извлеките из него при помощи маски все числа кратные 3. "
      ]
    },
    {
      "cell_type": "code",
      "source": [
        "a = arange(1,10,1)\n",
        "A = a*a.reshape(9,1)\n",
        "A[A%3==0]"
      ],
      "metadata": {
        "colab": {
          "base_uri": "https://localhost:8080/"
        },
        "id": "AlboqrrmRT0c",
        "outputId": "8a711085-65a1-408c-8a69-5cb4f82ac7dd"
      },
      "execution_count": 19,
      "outputs": [
        {
          "output_type": "execute_result",
          "data": {
            "text/plain": [
              "array([ 3,  6,  9,  6, 12, 18,  3,  6,  9, 12, 15, 18, 21, 24, 27, 12, 24,\n",
              "       36, 15, 30, 45,  6, 12, 18, 24, 30, 36, 42, 48, 54, 21, 42, 63, 24,\n",
              "       48, 72,  9, 18, 27, 36, 45, 54, 63, 72, 81])"
            ]
          },
          "metadata": {},
          "execution_count": 19
        }
      ]
    },
    {
      "cell_type": "markdown",
      "metadata": {
        "id": "QuG2yZgTC5Gv"
      },
      "source": [
        "## Функции для извлечения данных из массивов и создания массивов"
      ]
    },
    {
      "cell_type": "markdown",
      "metadata": {
        "id": "SGyBeDEEC5Gv"
      },
      "source": [
        "### Функция where"
      ]
    },
    {
      "cell_type": "markdown",
      "metadata": {
        "id": "0L3IvXyGC5Gv"
      },
      "source": [
        "Индексную маску можно превратить в список индексов, используя `where`:"
      ]
    },
    {
      "cell_type": "code",
      "execution_count": null,
      "metadata": {
        "id": "IFPrVp0BC5Gv",
        "outputId": "0a29aeb4-8770-490b-b994-097376b48e6d"
      },
      "outputs": [
        {
          "data": {
            "text/plain": [
              "(array([11, 12, 13, 14], dtype=int64),)"
            ]
          },
          "execution_count": 140,
          "metadata": {},
          "output_type": "execute_result"
        }
      ],
      "source": [
        "indices = where(mask)\n",
        "\n",
        "indices"
      ]
    },
    {
      "cell_type": "code",
      "execution_count": null,
      "metadata": {
        "id": "YFQGiezzC5Gv",
        "outputId": "23e7b9e3-a966-4684-a84e-751be1fa2b77"
      },
      "outputs": [
        {
          "data": {
            "text/plain": [
              "array([5.5, 6. , 6.5, 7. ])"
            ]
          },
          "execution_count": 141,
          "metadata": {},
          "output_type": "execute_result"
        }
      ],
      "source": [
        "x[indices] # действие этого списка эквивалентно маске, т.е. x[mask]"
      ]
    },
    {
      "cell_type": "markdown",
      "metadata": {
        "id": "w1VATBr8C5Gw"
      },
      "source": [
        "### Функция diag"
      ]
    },
    {
      "cell_type": "markdown",
      "metadata": {
        "id": "tA_WbykOC5Gw"
      },
      "source": [
        "При помощи функции diag можно извлекать диагональные элементы с главной и смещенных диагоналей:"
      ]
    },
    {
      "cell_type": "code",
      "execution_count": null,
      "metadata": {
        "id": "pqPwZrrdC5Gw",
        "outputId": "dc538958-415b-4625-d2c0-c659f45d2f22"
      },
      "outputs": [
        {
          "data": {
            "text/plain": [
              "array([ 0, 11, 22, 33, 44])"
            ]
          },
          "execution_count": 142,
          "metadata": {},
          "output_type": "execute_result"
        }
      ],
      "source": [
        "diag(A)"
      ]
    },
    {
      "cell_type": "code",
      "execution_count": null,
      "metadata": {
        "id": "OHJraVQXC5Gw",
        "outputId": "799d4a16-b632-4041-da57-30093bf255db"
      },
      "outputs": [
        {
          "data": {
            "text/plain": [
              "array([10, 21, 32, 43])"
            ]
          },
          "execution_count": 143,
          "metadata": {},
          "output_type": "execute_result"
        }
      ],
      "source": [
        "diag(A, -1)"
      ]
    },
    {
      "cell_type": "markdown",
      "metadata": {
        "id": "lfa5B0XuC5Gw"
      },
      "source": [
        "### Функция take"
      ]
    },
    {
      "cell_type": "markdown",
      "metadata": {
        "id": "Tny4rPC4C5Gw"
      },
      "source": [
        "Функция `take` подобна описанной выше необычной индексации:"
      ]
    },
    {
      "cell_type": "code",
      "execution_count": null,
      "metadata": {
        "id": "89lP9DfQC5Gw",
        "outputId": "1a0f9ea0-f5d6-4289-a37f-d9969db3bbeb"
      },
      "outputs": [
        {
          "data": {
            "text/plain": [
              "array([-3, -2, -1,  0,  1,  2])"
            ]
          },
          "execution_count": 144,
          "metadata": {},
          "output_type": "execute_result"
        }
      ],
      "source": [
        "v2 = arange(-3,3)\n",
        "v2"
      ]
    },
    {
      "cell_type": "code",
      "execution_count": null,
      "metadata": {
        "id": "-o0druklC5Gw",
        "outputId": "8b2028db-64b0-47f8-de2d-cf1db973b4fa"
      },
      "outputs": [
        {
          "data": {
            "text/plain": [
              "array([-2,  0,  2])"
            ]
          },
          "execution_count": 145,
          "metadata": {},
          "output_type": "execute_result"
        }
      ],
      "source": [
        "row_indices = [1, 3, 5]\n",
        "v2[row_indices] # необычная индексация"
      ]
    },
    {
      "cell_type": "code",
      "execution_count": null,
      "metadata": {
        "id": "z8VV4qP8C5Gw",
        "outputId": "4183a151-9b33-4e67-8968-442c3da88385"
      },
      "outputs": [
        {
          "data": {
            "text/plain": [
              "array([-2,  0,  2])"
            ]
          },
          "execution_count": 146,
          "metadata": {},
          "output_type": "execute_result"
        }
      ],
      "source": [
        "v2.take(row_indices)"
      ]
    },
    {
      "cell_type": "markdown",
      "metadata": {
        "id": "Ib1uhuSYC5Gx"
      },
      "source": [
        "Но функция `take` так же работает на списках и других объектах:"
      ]
    },
    {
      "cell_type": "code",
      "execution_count": null,
      "metadata": {
        "id": "EavRZtktC5Gx",
        "outputId": "6fbe5067-7bd0-4194-a0b9-80e1d1fc34f0"
      },
      "outputs": [
        {
          "data": {
            "text/plain": [
              "array([-2,  0,  2])"
            ]
          },
          "execution_count": 147,
          "metadata": {},
          "output_type": "execute_result"
        }
      ],
      "source": [
        "take([-3, -2, -1,  0,  1,  2], row_indices)"
      ]
    },
    {
      "cell_type": "markdown",
      "metadata": {
        "id": "jW39d61fC5Gx"
      },
      "source": [
        "### Функция choose"
      ]
    },
    {
      "cell_type": "markdown",
      "metadata": {
        "id": "KhiZ4fFVC5Gx"
      },
      "source": [
        "Создает массив собирая элементы из нескольких массивов:"
      ]
    },
    {
      "cell_type": "code",
      "execution_count": null,
      "metadata": {
        "id": "-O3IdG6dC5Gx",
        "outputId": "7ad85ef8-228c-458e-e6e1-64488673aabb"
      },
      "outputs": [
        {
          "data": {
            "text/plain": [
              "array([ 5, -2,  5, -2])"
            ]
          },
          "execution_count": 148,
          "metadata": {},
          "output_type": "execute_result"
        }
      ],
      "source": [
        "which = [1, 0, 1, 0]\n",
        "choices = [[-2,-2,-2,-2], [5,5,5,5]]\n",
        "\n",
        "choose(which, choices)"
      ]
    },
    {
      "cell_type": "markdown",
      "metadata": {
        "id": "ZeLmebxrC5Gx"
      },
      "source": [
        "### Задание 7\n",
        "Разбить массив таблицы умножения из задания 1 на два массива содержащие четные и нечетные значения, а затем собрать его в исходное состояние используя choose()"
      ]
    },
    {
      "cell_type": "code",
      "source": [
        "a = arange(1,10,1)\n",
        "A = a*a.reshape(9,1)\n",
        "A1 = A[A%2==0]\n",
        "B= A[A%2==1]\n",
        "C = [A1,B]\n",
        "choose(arange(1,81,1),C)"
      ],
      "metadata": {
        "colab": {
          "base_uri": "https://localhost:8080/",
          "height": 380
        },
        "id": "5giUr66CSNv4",
        "outputId": "4948e3c6-da6e-4c71-ccdd-057873a2a9e5"
      },
      "execution_count": 31,
      "outputs": [
        {
          "output_type": "error",
          "ename": "ValueError",
          "evalue": "ignored",
          "traceback": [
            "\u001b[0;31m---------------------------------------------------------------------------\u001b[0m",
            "\u001b[0;31mValueError\u001b[0m                                Traceback (most recent call last)",
            "\u001b[0;32m<ipython-input-31-63a6be4f54dc>\u001b[0m in \u001b[0;36m<module>\u001b[0;34m\u001b[0m\n\u001b[1;32m      4\u001b[0m \u001b[0mB\u001b[0m\u001b[0;34m=\u001b[0m \u001b[0mA\u001b[0m\u001b[0;34m[\u001b[0m\u001b[0mA\u001b[0m\u001b[0;34m%\u001b[0m\u001b[0;36m2\u001b[0m\u001b[0;34m==\u001b[0m\u001b[0;36m1\u001b[0m\u001b[0;34m]\u001b[0m\u001b[0;34m\u001b[0m\u001b[0;34m\u001b[0m\u001b[0m\n\u001b[1;32m      5\u001b[0m \u001b[0mC\u001b[0m \u001b[0;34m=\u001b[0m \u001b[0;34m[\u001b[0m\u001b[0mA1\u001b[0m\u001b[0;34m,\u001b[0m\u001b[0mB\u001b[0m\u001b[0;34m]\u001b[0m\u001b[0;34m\u001b[0m\u001b[0;34m\u001b[0m\u001b[0m\n\u001b[0;32m----> 6\u001b[0;31m \u001b[0mchoose\u001b[0m\u001b[0;34m(\u001b[0m\u001b[0marange\u001b[0m\u001b[0;34m(\u001b[0m\u001b[0;36m1\u001b[0m\u001b[0;34m,\u001b[0m\u001b[0;36m81\u001b[0m\u001b[0;34m,\u001b[0m\u001b[0;36m1\u001b[0m\u001b[0;34m)\u001b[0m\u001b[0;34m,\u001b[0m\u001b[0mC\u001b[0m\u001b[0;34m)\u001b[0m\u001b[0;34m\u001b[0m\u001b[0;34m\u001b[0m\u001b[0m\n\u001b[0m",
            "\u001b[0;32m<__array_function__ internals>\u001b[0m in \u001b[0;36mchoose\u001b[0;34m(*args, **kwargs)\u001b[0m\n",
            "\u001b[0;32m/usr/local/lib/python3.7/dist-packages/numpy/core/fromnumeric.py\u001b[0m in \u001b[0;36mchoose\u001b[0;34m(a, choices, out, mode)\u001b[0m\n\u001b[1;32m    427\u001b[0m \u001b[0;34m\u001b[0m\u001b[0m\n\u001b[1;32m    428\u001b[0m     \"\"\"\n\u001b[0;32m--> 429\u001b[0;31m     \u001b[0;32mreturn\u001b[0m \u001b[0m_wrapfunc\u001b[0m\u001b[0;34m(\u001b[0m\u001b[0ma\u001b[0m\u001b[0;34m,\u001b[0m \u001b[0;34m'choose'\u001b[0m\u001b[0;34m,\u001b[0m \u001b[0mchoices\u001b[0m\u001b[0;34m,\u001b[0m \u001b[0mout\u001b[0m\u001b[0;34m=\u001b[0m\u001b[0mout\u001b[0m\u001b[0;34m,\u001b[0m \u001b[0mmode\u001b[0m\u001b[0;34m=\u001b[0m\u001b[0mmode\u001b[0m\u001b[0;34m)\u001b[0m\u001b[0;34m\u001b[0m\u001b[0;34m\u001b[0m\u001b[0m\n\u001b[0m\u001b[1;32m    430\u001b[0m \u001b[0;34m\u001b[0m\u001b[0m\n\u001b[1;32m    431\u001b[0m \u001b[0;34m\u001b[0m\u001b[0m\n",
            "\u001b[0;32m/usr/local/lib/python3.7/dist-packages/numpy/core/fromnumeric.py\u001b[0m in \u001b[0;36m_wrapfunc\u001b[0;34m(obj, method, *args, **kwds)\u001b[0m\n\u001b[1;32m     55\u001b[0m \u001b[0;34m\u001b[0m\u001b[0m\n\u001b[1;32m     56\u001b[0m     \u001b[0;32mtry\u001b[0m\u001b[0;34m:\u001b[0m\u001b[0;34m\u001b[0m\u001b[0;34m\u001b[0m\u001b[0m\n\u001b[0;32m---> 57\u001b[0;31m         \u001b[0;32mreturn\u001b[0m \u001b[0mbound\u001b[0m\u001b[0;34m(\u001b[0m\u001b[0;34m*\u001b[0m\u001b[0margs\u001b[0m\u001b[0;34m,\u001b[0m \u001b[0;34m**\u001b[0m\u001b[0mkwds\u001b[0m\u001b[0;34m)\u001b[0m\u001b[0;34m\u001b[0m\u001b[0;34m\u001b[0m\u001b[0m\n\u001b[0m\u001b[1;32m     58\u001b[0m     \u001b[0;32mexcept\u001b[0m \u001b[0mTypeError\u001b[0m\u001b[0;34m:\u001b[0m\u001b[0;34m\u001b[0m\u001b[0;34m\u001b[0m\u001b[0m\n\u001b[1;32m     59\u001b[0m         \u001b[0;31m# A TypeError occurs if the object does have such a method in its\u001b[0m\u001b[0;34m\u001b[0m\u001b[0;34m\u001b[0m\u001b[0;34m\u001b[0m\u001b[0m\n",
            "\u001b[0;31mValueError\u001b[0m: shape mismatch: objects cannot be broadcast to a single shape"
          ]
        }
      ]
    },
    {
      "cell_type": "markdown",
      "metadata": {
        "id": "Z23Pjpk0C5Gx"
      },
      "source": [
        "## Линейная алгебра"
      ]
    },
    {
      "cell_type": "markdown",
      "metadata": {
        "id": "rmVaTLPEC5Gx"
      },
      "source": [
        "Векторизация кода-это ключ к написанию эффективных численных вычислений с помощью Python / Numpy. Это означает, что максимально возможная часть программы должна быть сформулирована в терминах матричных и векторных операций, таких как матричного умножения."
      ]
    },
    {
      "cell_type": "markdown",
      "metadata": {
        "id": "WdQW4Q_-C5Gx"
      },
      "source": [
        "### Операции между числами и векторами"
      ]
    },
    {
      "cell_type": "markdown",
      "metadata": {
        "id": "Dt2CJTF7C5Gy"
      },
      "source": [
        "Мы можем использовать обычные арифметические операторы для умножения, сложения, вычитания и деления массивов со скалярами или обычными числами."
      ]
    },
    {
      "cell_type": "code",
      "execution_count": null,
      "metadata": {
        "id": "whclQQPiC5Gy"
      },
      "outputs": [],
      "source": [
        "v1 = arange(0, 5)"
      ]
    },
    {
      "cell_type": "code",
      "execution_count": null,
      "metadata": {
        "id": "fmq4pOZbC5Gy",
        "outputId": "15b4c427-af63-460d-ac92-ec5da940299d"
      },
      "outputs": [
        {
          "data": {
            "text/plain": [
              "array([0, 2, 4, 6, 8])"
            ]
          },
          "execution_count": 150,
          "metadata": {},
          "output_type": "execute_result"
        }
      ],
      "source": [
        "v1 * 2"
      ]
    },
    {
      "cell_type": "code",
      "execution_count": null,
      "metadata": {
        "id": "nHA12XSXC5Gy",
        "outputId": "15b0cbed-9bc0-4e39-ec9b-83723970ef48"
      },
      "outputs": [
        {
          "data": {
            "text/plain": [
              "array([2, 3, 4, 5, 6])"
            ]
          },
          "execution_count": 151,
          "metadata": {},
          "output_type": "execute_result"
        }
      ],
      "source": [
        "v1 + 2"
      ]
    },
    {
      "cell_type": "code",
      "execution_count": null,
      "metadata": {
        "id": "wurG0X80C5Gy",
        "outputId": "26d96543-6923-4f65-d89d-647769110d20"
      },
      "outputs": [
        {
          "data": {
            "text/plain": [
              "(array([[ 0,  2,  4,  6,  8],\n",
              "        [20, 22, 24, 26, 28],\n",
              "        [40, 42, 44, 46, 48],\n",
              "        [60, 62, 64, 66, 68],\n",
              "        [80, 82, 84, 86, 88]]),\n",
              " array([[ 2,  3,  4,  5,  6],\n",
              "        [12, 13, 14, 15, 16],\n",
              "        [22, 23, 24, 25, 26],\n",
              "        [32, 33, 34, 35, 36],\n",
              "        [42, 43, 44, 45, 46]]))"
            ]
          },
          "execution_count": 152,
          "metadata": {},
          "output_type": "execute_result"
        }
      ],
      "source": [
        "A * 2, A + 2"
      ]
    },
    {
      "cell_type": "markdown",
      "metadata": {
        "id": "9hANpE9pC5Gy"
      },
      "source": [
        "### Поэлементные операции между массивами"
      ]
    },
    {
      "cell_type": "markdown",
      "metadata": {
        "id": "56DhwaymC5Gy"
      },
      "source": [
        "Когда мы складываем, вычитаем, умножаем и делим массивы друг с другом, поведение по умолчанию-это операции **по элементам**, т.е. между элементами с совпадающими индексами:"
      ]
    },
    {
      "cell_type": "code",
      "execution_count": null,
      "metadata": {
        "id": "Y4nXcdZcC5Gy",
        "outputId": "dbe5f82e-d4cf-4273-e457-53ef508b3455"
      },
      "outputs": [
        {
          "data": {
            "text/plain": [
              "array([[   0,    1,    4,    9,   16],\n",
              "       [ 100,  121,  144,  169,  196],\n",
              "       [ 400,  441,  484,  529,  576],\n",
              "       [ 900,  961, 1024, 1089, 1156],\n",
              "       [1600, 1681, 1764, 1849, 1936]])"
            ]
          },
          "execution_count": 153,
          "metadata": {},
          "output_type": "execute_result"
        }
      ],
      "source": [
        "A * A # поэлементное умножение"
      ]
    },
    {
      "cell_type": "code",
      "execution_count": null,
      "metadata": {
        "id": "yymHJ6kuC5Gz",
        "outputId": "74438480-eb9f-420c-e43b-81b3003d2d15"
      },
      "outputs": [
        {
          "data": {
            "text/plain": [
              "array([ 0,  1,  4,  9, 16])"
            ]
          },
          "execution_count": 154,
          "metadata": {},
          "output_type": "execute_result"
        }
      ],
      "source": [
        "v1 * v1"
      ]
    },
    {
      "cell_type": "markdown",
      "metadata": {
        "id": "-3k-B7kBC5Gz"
      },
      "source": [
        "Если мы умножим массивы с совместимыми размерами, то получим элементарное умножение каждой строки:"
      ]
    },
    {
      "cell_type": "code",
      "execution_count": null,
      "metadata": {
        "id": "oa6W1VXUC5Gz",
        "outputId": "ac461067-9ebf-404b-8e0b-5b3476749e44"
      },
      "outputs": [
        {
          "data": {
            "text/plain": [
              "((5, 5), (5,))"
            ]
          },
          "execution_count": 155,
          "metadata": {},
          "output_type": "execute_result"
        }
      ],
      "source": [
        "A.shape, v1.shape"
      ]
    },
    {
      "cell_type": "code",
      "execution_count": null,
      "metadata": {
        "id": "yPfcLm9aC5Gz",
        "outputId": "4f2495a0-1b31-4ba1-de28-d61b24ab2c1a"
      },
      "outputs": [
        {
          "data": {
            "text/plain": [
              "array([[  0,   1,   4,   9,  16],\n",
              "       [  0,  11,  24,  39,  56],\n",
              "       [  0,  21,  44,  69,  96],\n",
              "       [  0,  31,  64,  99, 136],\n",
              "       [  0,  41,  84, 129, 176]])"
            ]
          },
          "execution_count": 156,
          "metadata": {},
          "output_type": "execute_result"
        }
      ],
      "source": [
        "A * v1"
      ]
    },
    {
      "cell_type": "markdown",
      "metadata": {
        "id": "qfJY9lZfC5Gz"
      },
      "source": [
        "### Алгебра матриц"
      ]
    },
    {
      "cell_type": "markdown",
      "metadata": {
        "id": "JH8IMLy_C5Gz"
      },
      "source": [
        "А как насчет умножения матриц? Есть два пути. Мы можем либо использовать функцию `dot`, которая применяет умножение матрица-матрица, матрица-вектор или скалярное векторное к своим двум аргументам:"
      ]
    },
    {
      "cell_type": "code",
      "execution_count": null,
      "metadata": {
        "id": "OoLrw_CZC5Gz",
        "outputId": "0221640e-c722-40cd-c87e-47ec40f25c65"
      },
      "outputs": [
        {
          "data": {
            "text/plain": [
              "array([[ 300,  310,  320,  330,  340],\n",
              "       [1300, 1360, 1420, 1480, 1540],\n",
              "       [2300, 2410, 2520, 2630, 2740],\n",
              "       [3300, 3460, 3620, 3780, 3940],\n",
              "       [4300, 4510, 4720, 4930, 5140]])"
            ]
          },
          "execution_count": 157,
          "metadata": {},
          "output_type": "execute_result"
        }
      ],
      "source": [
        "dot(A, A)"
      ]
    },
    {
      "cell_type": "code",
      "execution_count": null,
      "metadata": {
        "id": "aAWd0kGeC5Gz",
        "outputId": "346579e3-9031-4406-9f5e-ecc0b6d46748"
      },
      "outputs": [
        {
          "data": {
            "text/plain": [
              "array([ 30, 130, 230, 330, 430])"
            ]
          },
          "execution_count": 158,
          "metadata": {},
          "output_type": "execute_result"
        }
      ],
      "source": [
        "dot(A, v1)"
      ]
    },
    {
      "cell_type": "code",
      "execution_count": null,
      "metadata": {
        "id": "1sV3F5vRC5Gz",
        "outputId": "31663b71-9fe0-4022-dbdb-108127a2ec83"
      },
      "outputs": [
        {
          "data": {
            "text/plain": [
              "30"
            ]
          },
          "execution_count": 159,
          "metadata": {},
          "output_type": "execute_result"
        }
      ],
      "source": [
        "dot(v1, v1)"
      ]
    },
    {
      "cell_type": "markdown",
      "metadata": {
        "id": "WWgUSXQlC5G0"
      },
      "source": [
        "В качестве альтернативы мы можем привести объекты типа массива к типу `matrix`. Это изменяет поведение стандартных арифметических операторов `+, -, *` для использования алгебры матриц."
      ]
    },
    {
      "cell_type": "code",
      "execution_count": null,
      "metadata": {
        "id": "9MOHNzrtC5G0"
      },
      "outputs": [],
      "source": [
        "M = matrix(A)\n",
        "v = matrix(v1).T # транспонирует массив в вектор столбец"
      ]
    },
    {
      "cell_type": "code",
      "execution_count": null,
      "metadata": {
        "id": "1Qv6LSAvC5G0",
        "outputId": "cca93cf6-f671-4470-834e-863efee18b2c"
      },
      "outputs": [
        {
          "data": {
            "text/plain": [
              "matrix([[0],\n",
              "        [1],\n",
              "        [2],\n",
              "        [3],\n",
              "        [4]])"
            ]
          },
          "execution_count": 161,
          "metadata": {},
          "output_type": "execute_result"
        }
      ],
      "source": [
        "v"
      ]
    },
    {
      "cell_type": "code",
      "execution_count": null,
      "metadata": {
        "id": "z7Kc9m1nC5G0",
        "outputId": "5bf53f1d-0d69-4af7-c480-dbc3ed43f2df"
      },
      "outputs": [
        {
          "data": {
            "text/plain": [
              "matrix([[ 300,  310,  320,  330,  340],\n",
              "        [1300, 1360, 1420, 1480, 1540],\n",
              "        [2300, 2410, 2520, 2630, 2740],\n",
              "        [3300, 3460, 3620, 3780, 3940],\n",
              "        [4300, 4510, 4720, 4930, 5140]])"
            ]
          },
          "execution_count": 162,
          "metadata": {},
          "output_type": "execute_result"
        }
      ],
      "source": [
        "M * M"
      ]
    },
    {
      "cell_type": "code",
      "execution_count": null,
      "metadata": {
        "id": "3bXIkB-8C5G2",
        "outputId": "d99490f2-eeaf-478c-e3ca-9fa8f844ff69"
      },
      "outputs": [
        {
          "data": {
            "text/plain": [
              "matrix([[ 30],\n",
              "        [130],\n",
              "        [230],\n",
              "        [330],\n",
              "        [430]])"
            ]
          },
          "execution_count": 163,
          "metadata": {},
          "output_type": "execute_result"
        }
      ],
      "source": [
        "M * v"
      ]
    },
    {
      "cell_type": "code",
      "execution_count": null,
      "metadata": {
        "id": "a-00u-CxC5G2",
        "outputId": "a24b76f0-5fb4-4ee9-9b0f-262ec57154d1"
      },
      "outputs": [
        {
          "data": {
            "text/plain": [
              "matrix([[30]])"
            ]
          },
          "execution_count": 164,
          "metadata": {},
          "output_type": "execute_result"
        }
      ],
      "source": [
        "# скалярное произведение\n",
        "v.T * v"
      ]
    },
    {
      "cell_type": "code",
      "execution_count": null,
      "metadata": {
        "id": "vsWciNMyC5G2",
        "outputId": "fa5ae2fa-dc6c-4a75-a5ed-68ab3b077db0"
      },
      "outputs": [
        {
          "data": {
            "text/plain": [
              "matrix([[ 30],\n",
              "        [131],\n",
              "        [232],\n",
              "        [333],\n",
              "        [434]])"
            ]
          },
          "execution_count": 165,
          "metadata": {},
          "output_type": "execute_result"
        }
      ],
      "source": [
        "# с объектами типа matrix работают все операции\n",
        "v + M*v"
      ]
    },
    {
      "cell_type": "markdown",
      "metadata": {
        "id": "vq6N55roC5G2"
      },
      "source": [
        "Если использовать операции `+, -, *` с несовместимыми объектами будет выброс исключения или ошибки"
      ]
    },
    {
      "cell_type": "code",
      "execution_count": null,
      "metadata": {
        "id": "oR6TeAKvC5G3"
      },
      "outputs": [],
      "source": [
        "v = matrix([1,2,3,4,5]).T"
      ]
    },
    {
      "cell_type": "code",
      "execution_count": null,
      "metadata": {
        "id": "EhmodtiNC5G3",
        "outputId": "37120807-6d74-40d6-9847-83537ed15bdd"
      },
      "outputs": [
        {
          "data": {
            "text/plain": [
              "((5, 5), (5, 1))"
            ]
          },
          "execution_count": 167,
          "metadata": {},
          "output_type": "execute_result"
        }
      ],
      "source": [
        "shape(M), shape(v)"
      ]
    },
    {
      "cell_type": "code",
      "execution_count": null,
      "metadata": {
        "id": "ePZm0nUjC5G3",
        "outputId": "17271a08-8f29-4699-c611-f013a77d6130"
      },
      "outputs": [
        {
          "data": {
            "text/plain": [
              "matrix([[ 40],\n",
              "        [190],\n",
              "        [340],\n",
              "        [490],\n",
              "        [640]])"
            ]
          },
          "execution_count": 168,
          "metadata": {},
          "output_type": "execute_result"
        }
      ],
      "source": [
        "M * v"
      ]
    },
    {
      "cell_type": "markdown",
      "metadata": {
        "id": "FCzZ-M0nC5G3"
      },
      "source": [
        "Посмотрите также другие подобные функции: `inner`, `outer`, `cross`, `kron`, `tensordot`. Попробуйте набрать `help(kron)`."
      ]
    },
    {
      "cell_type": "markdown",
      "metadata": {
        "id": "BZokB2kuC5G3"
      },
      "source": [
        "### Преобразования массив/матрица"
      ]
    },
    {
      "cell_type": "markdown",
      "metadata": {
        "id": "Y4jEh__eC5G3"
      },
      "source": [
        "Выше мы уже использовали `.T` для транспонирования матричного объекта `v`. Мы также могли бы использовать функцию `transpose` для выполнения того же самого.\n",
        "\n",
        "Другими математическими функциями, преобразующими матричные объекты, являются:"
      ]
    },
    {
      "cell_type": "code",
      "execution_count": null,
      "metadata": {
        "id": "nhI47dl1C5G3",
        "outputId": "9da459fb-886c-42df-cd02-8608b456e1cf"
      },
      "outputs": [
        {
          "data": {
            "text/plain": [
              "matrix([[0.+1.j, 0.+2.j],\n",
              "        [0.+3.j, 0.+4.j]])"
            ]
          },
          "execution_count": 169,
          "metadata": {},
          "output_type": "execute_result"
        }
      ],
      "source": [
        "C = matrix([[1j, 2j], [3j, 4j]])\n",
        "C"
      ]
    },
    {
      "cell_type": "code",
      "execution_count": null,
      "metadata": {
        "id": "USYiQZejC5G3",
        "outputId": "58be0c86-dfef-4e03-d26b-2d666149e30e"
      },
      "outputs": [
        {
          "data": {
            "text/plain": [
              "matrix([[0.-1.j, 0.-2.j],\n",
              "        [0.-3.j, 0.-4.j]])"
            ]
          },
          "execution_count": 170,
          "metadata": {},
          "output_type": "execute_result"
        }
      ],
      "source": [
        "conjugate(C)"
      ]
    },
    {
      "cell_type": "markdown",
      "metadata": {
        "id": "Qr32XyQXC5G3"
      },
      "source": [
        "Эрмитово сопряжение: `transpose + conjugate`"
      ]
    },
    {
      "cell_type": "code",
      "execution_count": null,
      "metadata": {
        "id": "qTGc-fVUC5G3",
        "outputId": "e2f197b5-e973-4c29-8148-97525fea15d3"
      },
      "outputs": [
        {
          "data": {
            "text/plain": [
              "matrix([[0.-1.j, 0.-3.j],\n",
              "        [0.-2.j, 0.-4.j]])"
            ]
          },
          "execution_count": 171,
          "metadata": {},
          "output_type": "execute_result"
        }
      ],
      "source": [
        "C.H"
      ]
    },
    {
      "cell_type": "markdown",
      "metadata": {
        "id": "YOb7xRxSC5G4"
      },
      "source": [
        "Можно извлекать действительную и мнимую часть комплексного объекта, используя `real` и `imag`:"
      ]
    },
    {
      "cell_type": "code",
      "execution_count": null,
      "metadata": {
        "id": "L0yQ7e8NC5G4",
        "outputId": "48b66694-f969-412c-a373-34aaa43f2fe1"
      },
      "outputs": [
        {
          "data": {
            "text/plain": [
              "matrix([[0., 0.],\n",
              "        [0., 0.]])"
            ]
          },
          "execution_count": 172,
          "metadata": {},
          "output_type": "execute_result"
        }
      ],
      "source": [
        "real(C) # то же, что и: C.real"
      ]
    },
    {
      "cell_type": "code",
      "execution_count": null,
      "metadata": {
        "id": "S-_Z0WPGC5G4",
        "outputId": "43dd21c7-3a4f-4de4-c19e-2864a35d895c"
      },
      "outputs": [
        {
          "data": {
            "text/plain": [
              "matrix([[1., 2.],\n",
              "        [3., 4.]])"
            ]
          },
          "execution_count": 173,
          "metadata": {},
          "output_type": "execute_result"
        }
      ],
      "source": [
        "imag(C) # то же, что и: C.imag"
      ]
    },
    {
      "cell_type": "markdown",
      "metadata": {
        "id": "P4fw3WbdC5G4"
      },
      "source": [
        "Или комплексный аргумент(угол) и модуль"
      ]
    },
    {
      "cell_type": "code",
      "execution_count": null,
      "metadata": {
        "id": "Wfs_5cGxC5G4",
        "outputId": "4dc4bac1-d160-4825-a5d5-cdbd75931276"
      },
      "outputs": [
        {
          "data": {
            "text/plain": [
              "matrix([[0.78539816, 1.10714872],\n",
              "        [1.24904577, 1.32581766]])"
            ]
          },
          "execution_count": 174,
          "metadata": {},
          "output_type": "execute_result"
        }
      ],
      "source": [
        "angle(C+1) # для пользователей MATLAB, angle используется вместо arg"
      ]
    },
    {
      "cell_type": "code",
      "execution_count": null,
      "metadata": {
        "id": "EEBr6XNWC5G4",
        "outputId": "32ad107a-6d99-419d-8a4f-b84d9cefc67b"
      },
      "outputs": [
        {
          "data": {
            "text/plain": [
              "matrix([[1., 2.],\n",
              "        [3., 4.]])"
            ]
          },
          "execution_count": 175,
          "metadata": {},
          "output_type": "execute_result"
        }
      ],
      "source": [
        "abs(C)"
      ]
    },
    {
      "cell_type": "markdown",
      "metadata": {
        "id": "3AcJUSaAC5G4"
      },
      "source": [
        "### Задание 8\n",
        "Даны вектора v1(0,1,2,3,4) v2(5,6,7,8,9) найти угол между ними, учитывая что косинус угла между векторами можно найти как отношения их скалярного произведения к их длинам."
      ]
    },
    {
      "cell_type": "markdown",
      "metadata": {
        "id": "Hwz-jy9nC5G4"
      },
      "source": [
        "### Вычисления над матрицами"
      ]
    },
    {
      "cell_type": "markdown",
      "metadata": {
        "id": "_5YKqCFxC5G4"
      },
      "source": [
        "#### Функция Inv - инверсия"
      ]
    },
    {
      "cell_type": "code",
      "execution_count": null,
      "metadata": {
        "id": "sRJjMPi0C5G4",
        "outputId": "f5b0e2bd-ea58-48dc-89e0-c22d3e4b0c22"
      },
      "outputs": [
        {
          "data": {
            "text/plain": [
              "matrix([[0.+2.j , 0.-1.j ],\n",
              "        [0.-1.5j, 0.+0.5j]])"
            ]
          },
          "execution_count": 176,
          "metadata": {},
          "output_type": "execute_result"
        }
      ],
      "source": [
        "linalg.inv(C) # эквивалентно C.I "
      ]
    },
    {
      "cell_type": "code",
      "execution_count": null,
      "metadata": {
        "id": "q3lTAt0KC5G4",
        "outputId": "88096ae3-81be-4ea2-fb26-56fb67df940c"
      },
      "outputs": [
        {
          "data": {
            "text/plain": [
              "matrix([[1.0000000e+00+0.j, 8.8817842e-16+0.j],\n",
              "        [0.0000000e+00+0.j, 1.0000000e+00+0.j]])"
            ]
          },
          "execution_count": 177,
          "metadata": {},
          "output_type": "execute_result"
        }
      ],
      "source": [
        "C.I * C"
      ]
    },
    {
      "cell_type": "markdown",
      "metadata": {
        "id": "Jd0xaO9XC5G5"
      },
      "source": [
        "#### Функция det - детерминант"
      ]
    },
    {
      "cell_type": "code",
      "execution_count": null,
      "metadata": {
        "id": "jKMmVWFQC5G5",
        "outputId": "02793e3a-7242-4bb2-a0d7-828892be10e0"
      },
      "outputs": [
        {
          "data": {
            "text/plain": [
              "(2.0000000000000004+0j)"
            ]
          },
          "execution_count": 178,
          "metadata": {},
          "output_type": "execute_result"
        }
      ],
      "source": [
        "linalg.det(C)"
      ]
    },
    {
      "cell_type": "code",
      "execution_count": null,
      "metadata": {
        "id": "Tuyb3K8IC5G5",
        "outputId": "f6f25a1e-79a4-438c-c04a-e709e3093089"
      },
      "outputs": [
        {
          "data": {
            "text/plain": [
              "(0.5+0j)"
            ]
          },
          "execution_count": 179,
          "metadata": {},
          "output_type": "execute_result"
        }
      ],
      "source": [
        "linalg.det(C.I)"
      ]
    },
    {
      "cell_type": "markdown",
      "metadata": {
        "id": "iSyIuGOfC5G5"
      },
      "source": [
        "### Задача 9\n",
        "Создайте две матрицы размером (5,5). Одна матрица содержит 5 в шахматном порядке как в задаче домашнего задания, другая имеет треугольную форму содержающую 5 на основной диагонали и в позициях выше ее, а ниже все 0. Посчитайте их детерминант и найдите обратные матрицы. Если для матрицы не у дается найти обратную, видимо этому мешает нулевое значение детерминанта."
      ]
    },
    {
      "cell_type": "markdown",
      "metadata": {
        "id": "omGZWCsrC5G5"
      },
      "source": [
        "### Обработка данных"
      ]
    },
    {
      "cell_type": "markdown",
      "metadata": {
        "id": "dEZ1tUyYC5G5"
      },
      "source": [
        "Часто бывает полезно хранить наборы данных в массивах Numpy. Numpy предоставляет ряд функций для вычисления статистики наборов данных в массивах.\n",
        "\n",
        "Например, давайте рассчитаем некоторые свойства из набора данных температуры Стокгольма, использованного выше."
      ]
    },
    {
      "cell_type": "code",
      "execution_count": null,
      "metadata": {
        "id": "ZOnV6e9wC5G5",
        "outputId": "1e3a5617-f6b6-4810-e41e-3088e9689de2"
      },
      "outputs": [
        {
          "data": {
            "text/plain": [
              "(77431, 7)"
            ]
          },
          "execution_count": 180,
          "metadata": {},
          "output_type": "execute_result"
        }
      ],
      "source": [
        "# напоминаем в переменной data храняться данные температуры в Стокгольме\n",
        "data.shape"
      ]
    },
    {
      "cell_type": "markdown",
      "metadata": {
        "id": "QtqwrwVyC5G5"
      },
      "source": [
        "#### Функция mean"
      ]
    },
    {
      "cell_type": "code",
      "execution_count": null,
      "metadata": {
        "id": "cnk2uRxlC5G5",
        "outputId": "c91ab439-adc1-4c10-8c15-010fcc995f3c"
      },
      "outputs": [
        {
          "data": {
            "text/plain": [
              "6.197109684751585"
            ]
          },
          "execution_count": 181,
          "metadata": {},
          "output_type": "execute_result"
        }
      ],
      "source": [
        "# the temperature data is in column 3\n",
        "mean(data[:,3])"
      ]
    },
    {
      "cell_type": "markdown",
      "metadata": {
        "id": "G0SwhFBtC5G6"
      },
      "source": [
        "Средняя дневная температура в Стокгольме за последние 200 лет 6.2 C."
      ]
    },
    {
      "cell_type": "markdown",
      "metadata": {
        "id": "ZcKJEOGaC5G6"
      },
      "source": [
        "#### Функции стандартного отклонения и дисперсии"
      ]
    },
    {
      "cell_type": "code",
      "execution_count": null,
      "metadata": {
        "id": "KLdynO4wC5G6",
        "outputId": "e1799379-e9e5-4545-beba-94a4d04b8af9"
      },
      "outputs": [
        {
          "data": {
            "text/plain": [
              "(8.282271621340573, 68.59602320966341)"
            ]
          },
          "execution_count": 182,
          "metadata": {},
          "output_type": "execute_result"
        }
      ],
      "source": [
        "std(data[:,3]), var(data[:,3])"
      ]
    },
    {
      "cell_type": "code",
      "execution_count": null,
      "metadata": {
        "id": "xX8xZvS6C5G6"
      },
      "outputs": [],
      "source": []
    },
    {
      "cell_type": "markdown",
      "metadata": {
        "id": "y23i9M_bC5G6"
      },
      "source": [
        "#### Функции min и max"
      ]
    },
    {
      "cell_type": "code",
      "execution_count": null,
      "metadata": {
        "id": "j9wzVpEcC5G6",
        "outputId": "8ed05dc4-3d4e-43a9-92dd-e4cba1cdd3c9"
      },
      "outputs": [
        {
          "data": {
            "text/plain": [
              "-25.8"
            ]
          },
          "execution_count": 183,
          "metadata": {},
          "output_type": "execute_result"
        }
      ],
      "source": [
        "# минимальная температура\n",
        "data[:,3].min()"
      ]
    },
    {
      "cell_type": "code",
      "execution_count": null,
      "metadata": {
        "id": "PJ9oPoTjC5G6",
        "outputId": "61e4dd74-955d-4d05-c0de-42cb32b27778"
      },
      "outputs": [
        {
          "data": {
            "text/plain": [
              "28.3"
            ]
          },
          "execution_count": 184,
          "metadata": {},
          "output_type": "execute_result"
        }
      ],
      "source": [
        "# максимальная температура\n",
        "data[:,3].max()"
      ]
    },
    {
      "cell_type": "markdown",
      "metadata": {
        "id": "pPOwjOiKC5G6"
      },
      "source": [
        "#### Функции sum, prod и trace"
      ]
    },
    {
      "cell_type": "code",
      "execution_count": null,
      "metadata": {
        "id": "8psMe7s8C5G6",
        "outputId": "c406e493-74f8-4c30-d445-2332a61d0b1c"
      },
      "outputs": [
        {
          "data": {
            "text/plain": [
              "array([0, 1, 2, 3, 4, 5, 6, 7, 8, 9])"
            ]
          },
          "execution_count": 185,
          "metadata": {},
          "output_type": "execute_result"
        }
      ],
      "source": [
        "d = arange(0, 10)\n",
        "d"
      ]
    },
    {
      "cell_type": "code",
      "execution_count": null,
      "metadata": {
        "id": "6E5ypzDLC5G6",
        "outputId": "d0a1f791-e3ca-41aa-c474-e1a008b64a9e"
      },
      "outputs": [
        {
          "data": {
            "text/plain": [
              "45"
            ]
          },
          "execution_count": 186,
          "metadata": {},
          "output_type": "execute_result"
        }
      ],
      "source": [
        "# сумма всех элементов\n",
        "sum(d)"
      ]
    },
    {
      "cell_type": "code",
      "execution_count": null,
      "metadata": {
        "id": "UAoUjyvMC5G7",
        "outputId": "5959568b-a0b8-4c5e-d0d7-c57c3d4068f2"
      },
      "outputs": [
        {
          "data": {
            "text/plain": [
              "3628800"
            ]
          },
          "execution_count": 187,
          "metadata": {},
          "output_type": "execute_result"
        }
      ],
      "source": [
        "# произведение всех элементов\n",
        "prod(d+1)"
      ]
    },
    {
      "cell_type": "code",
      "execution_count": null,
      "metadata": {
        "id": "mZg4pSTvC5G7",
        "outputId": "77ab480c-464e-442e-9329-5d862c7966e1"
      },
      "outputs": [
        {
          "data": {
            "text/plain": [
              "array([ 0,  1,  3,  6, 10, 15, 21, 28, 36, 45], dtype=int32)"
            ]
          },
          "execution_count": 188,
          "metadata": {},
          "output_type": "execute_result"
        }
      ],
      "source": [
        "# совокупная сумма\n",
        "cumsum(d)"
      ]
    },
    {
      "cell_type": "code",
      "execution_count": null,
      "metadata": {
        "id": "ra9w4viTC5G7",
        "outputId": "8697554a-3005-4735-8782-8acbeb1fd974"
      },
      "outputs": [
        {
          "data": {
            "text/plain": [
              "array([      1,       2,       6,      24,     120,     720,    5040,\n",
              "         40320,  362880, 3628800], dtype=int32)"
            ]
          },
          "execution_count": 189,
          "metadata": {},
          "output_type": "execute_result"
        }
      ],
      "source": [
        "# совокупное произведение\n",
        "cumprod(d+1)"
      ]
    },
    {
      "cell_type": "code",
      "execution_count": null,
      "metadata": {
        "id": "9-R8Pu0bC5G7",
        "outputId": "6b84c1f7-ca08-4472-c2b0-4175e797a56f"
      },
      "outputs": [
        {
          "data": {
            "text/plain": [
              "110"
            ]
          },
          "execution_count": 190,
          "metadata": {},
          "output_type": "execute_result"
        }
      ],
      "source": [
        "# тоже что и: diag(A).sum()\n",
        "trace(A)"
      ]
    },
    {
      "cell_type": "markdown",
      "metadata": {
        "id": "Hpka140EC5G7"
      },
      "source": [
        "### Вычисления на подмножествах массива"
      ]
    },
    {
      "cell_type": "markdown",
      "metadata": {
        "id": "UEladhokC5G7"
      },
      "source": [
        "Можно выполнять вычисления на подмножествах используя индексирование, необычное индексирование и другие методы извлечения данных из массива.\n",
        "\n",
        "Рассмотрим данные массива температур в Стокгольме:"
      ]
    },
    {
      "cell_type": "markdown",
      "metadata": {
        "id": "dgqU5wBHC5G7"
      },
      "source": [
        "Формат данных: год, месяц, день, дневная средняя температура, самая низкая, самая высокая, местность.\n",
        "\n",
        "Если необходимо извлечь среднюю температуру в какой-то конкретный месяц, например февраль, тогда нужно создать маску индексов и использовать ее для извлечения данных только за этот месяц:"
      ]
    },
    {
      "cell_type": "code",
      "execution_count": null,
      "metadata": {
        "id": "O3TJ7BBbC5G7",
        "outputId": "1db397d7-7b85-4863-f68d-d83bd9f1b86f"
      },
      "outputs": [
        {
          "data": {
            "text/plain": [
              "array([ 1.,  2.,  3.,  4.,  5.,  6.,  7.,  8.,  9., 10., 11., 12.])"
            ]
          },
          "execution_count": 191,
          "metadata": {},
          "output_type": "execute_result"
        }
      ],
      "source": [
        "unique(data[:,1]) # столбик месяцев от 1 до 12"
      ]
    },
    {
      "cell_type": "code",
      "execution_count": null,
      "metadata": {
        "id": "l5A1K3h1C5G7"
      },
      "outputs": [],
      "source": [
        "mask_feb = data[:,1] == 2"
      ]
    },
    {
      "cell_type": "code",
      "execution_count": null,
      "metadata": {
        "id": "1IhiKiQKC5G8",
        "outputId": "d4bc362e-884b-4da1-f8bc-0ff9e2f153e9"
      },
      "outputs": [
        {
          "data": {
            "text/plain": [
              "-3.212109570736596"
            ]
          },
          "execution_count": 193,
          "metadata": {},
          "output_type": "execute_result"
        }
      ],
      "source": [
        "# температурные данные в столбике 3\n",
        "mean(data[mask_feb,3])"
      ]
    },
    {
      "cell_type": "markdown",
      "metadata": {
        "id": "Lj06Hqv3C5G8"
      },
      "source": [
        "С этими интструментами открываются широкие возможности для обработки данных. Например, чтобы извлечь среднюю температуру за месяц по всем месяцам достаточно несколько строк кода:"
      ]
    },
    {
      "cell_type": "code",
      "execution_count": null,
      "metadata": {
        "id": "ZaZQDQ_VC5G8",
        "outputId": "971482c0-b0fc-42a8-a01f-fd521d0a5399"
      },
      "outputs": [
        {
          "data": {
            "image/png": "[encoded data removed]",
            "text/plain": [
              "<Figure size 432x288 with 1 Axes>"
            ]
          },
          "metadata": {
            "needs_background": "light"
          },
          "output_type": "display_data"
        }
      ],
      "source": [
        "months = arange(1,13)\n",
        "monthly_mean = [mean(data[data[:,1] == month, 3]) for month in months]\n",
        "\n",
        "fig, ax = plt.subplots()\n",
        "ax.bar(months, monthly_mean)\n",
        "ax.set_xlabel(\"Month\")\n",
        "ax.set_ylabel(\"Monthly avg. temp.\");"
      ]
    },
    {
      "cell_type": "markdown",
      "metadata": {
        "id": "z8T20mNXC5G8"
      },
      "source": [
        "### Вычисления с данными высокой размерности"
      ]
    },
    {
      "cell_type": "markdown",
      "metadata": {
        "id": "6oQEuT7uC5G8"
      },
      "source": [
        "Когда функции, такие как `min`, `max` и т. д. применяются к многомерным массивам, иногда полезно применять расчет ко всему массиву, а иногда только на основе строки или столбца. Используя аргумент `axis`, мы можем указать, как должны вести себя эти функции:"
      ]
    },
    {
      "cell_type": "code",
      "execution_count": null,
      "metadata": {
        "id": "rkER6XN2C5G8",
        "outputId": "58497c3f-9cfa-45c1-a62f-2a9b7cf314cb"
      },
      "outputs": [
        {
          "data": {
            "text/plain": [
              "array([[0.86270493, 0.96981009, 0.96959743],\n",
              "       [0.35425871, 0.52085563, 0.48726959],\n",
              "       [0.61650805, 0.05690313, 0.1292265 ]])"
            ]
          },
          "execution_count": 195,
          "metadata": {},
          "output_type": "execute_result"
        }
      ],
      "source": [
        "m = random.rand(3,3)\n",
        "m"
      ]
    },
    {
      "cell_type": "code",
      "execution_count": null,
      "metadata": {
        "id": "9gRLygP_C5G8",
        "outputId": "ec8d7539-f34b-476c-f609-3f6caebf0f88"
      },
      "outputs": [
        {
          "data": {
            "text/plain": [
              "0.9698100908575067"
            ]
          },
          "execution_count": 196,
          "metadata": {},
          "output_type": "execute_result"
        }
      ],
      "source": [
        "# максимум по массиву\n",
        "m.max()"
      ]
    },
    {
      "cell_type": "code",
      "execution_count": null,
      "metadata": {
        "id": "iCWYEcZIC5G8",
        "outputId": "a467abcc-f936-4640-e05a-b554181e9c5a"
      },
      "outputs": [
        {
          "data": {
            "text/plain": [
              "array([0.86270493, 0.96981009, 0.96959743])"
            ]
          },
          "execution_count": 197,
          "metadata": {},
          "output_type": "execute_result"
        }
      ],
      "source": [
        "# максимумы по каждому столбцу\n",
        "m.max(axis=0)"
      ]
    },
    {
      "cell_type": "code",
      "execution_count": null,
      "metadata": {
        "id": "K9BK2RYHC5G8",
        "outputId": "b4ce1e3f-882a-4870-d071-f50f3ad47593"
      },
      "outputs": [
        {
          "data": {
            "text/plain": [
              "array([0.96981009, 0.52085563, 0.61650805])"
            ]
          },
          "execution_count": 198,
          "metadata": {},
          "output_type": "execute_result"
        }
      ],
      "source": [
        "# максимумы по каждой строке\n",
        "m.max(axis=1)"
      ]
    },
    {
      "cell_type": "markdown",
      "metadata": {
        "id": "zmiJI176C5G9"
      },
      "source": [
        "Многие другие функции и методы в классах `array` и `matrix` принимают один и тот же (необязательный) аргумент ключевого слова `axis`."
      ]
    },
    {
      "cell_type": "markdown",
      "metadata": {
        "id": "q_AuRut6C5G9"
      },
      "source": [
        "## Преобразования формы, размера и соединение массивов"
      ]
    },
    {
      "cell_type": "markdown",
      "metadata": {
        "id": "WfUbwP1mC5G9"
      },
      "source": [
        "Форма массива Numpy может быть изменена без копирования базовых данных, что делает его быстрой операцией даже для больших массивов."
      ]
    },
    {
      "cell_type": "code",
      "execution_count": null,
      "metadata": {
        "id": "Aw1m8fwFC5G9",
        "outputId": "b665a6e2-b979-45e1-e1fb-ea3b5f7b5784"
      },
      "outputs": [
        {
          "data": {
            "text/plain": [
              "array([[ 0,  1,  2,  3,  4],\n",
              "       [10, 11, 12, 13, 14],\n",
              "       [20, 21, 22, 23, 24],\n",
              "       [30, 31, 32, 33, 34],\n",
              "       [40, 41, 42, 43, 44]])"
            ]
          },
          "execution_count": 199,
          "metadata": {},
          "output_type": "execute_result"
        }
      ],
      "source": [
        "A"
      ]
    },
    {
      "cell_type": "code",
      "execution_count": null,
      "metadata": {
        "id": "8AXVODQYC5G9"
      },
      "outputs": [],
      "source": [
        "n, m = A.shape"
      ]
    },
    {
      "cell_type": "code",
      "execution_count": null,
      "metadata": {
        "id": "7CVPE0BdC5G9",
        "outputId": "5b851590-dd54-4bcc-bb9b-6649ce0dd64f"
      },
      "outputs": [
        {
          "data": {
            "text/plain": [
              "array([[ 0,  1,  2,  3,  4, 10, 11, 12, 13, 14, 20, 21, 22, 23, 24, 30,\n",
              "        31, 32, 33, 34, 40, 41, 42, 43, 44]])"
            ]
          },
          "execution_count": 201,
          "metadata": {},
          "output_type": "execute_result"
        }
      ],
      "source": [
        "B = A.reshape((1,n*m))\n",
        "B"
      ]
    },
    {
      "cell_type": "code",
      "execution_count": null,
      "metadata": {
        "id": "Ms-5kw2sC5G9",
        "outputId": "b01ac55d-46a4-4a93-b51c-a3356faecaba"
      },
      "outputs": [
        {
          "data": {
            "text/plain": [
              "array([[ 5,  5,  5,  5,  5, 10, 11, 12, 13, 14, 20, 21, 22, 23, 24, 30,\n",
              "        31, 32, 33, 34, 40, 41, 42, 43, 44]])"
            ]
          },
          "execution_count": 202,
          "metadata": {},
          "output_type": "execute_result"
        }
      ],
      "source": [
        "B[0,0:5] = 5 # изменим массив\n",
        "\n",
        "B"
      ]
    },
    {
      "cell_type": "code",
      "execution_count": null,
      "metadata": {
        "id": "qgGFnWgDC5G9",
        "outputId": "2973c9cb-a00c-4112-a14e-86ca2b6e6a53"
      },
      "outputs": [
        {
          "data": {
            "text/plain": [
              "array([[ 5,  5,  5,  5,  5],\n",
              "       [10, 11, 12, 13, 14],\n",
              "       [20, 21, 22, 23, 24],\n",
              "       [30, 31, 32, 33, 34],\n",
              "       [40, 41, 42, 43, 44]])"
            ]
          },
          "execution_count": 203,
          "metadata": {},
          "output_type": "execute_result"
        }
      ],
      "source": [
        "A # и оригинальные данные тоже изменятся. A и B это ссылки на одни и теже данные"
      ]
    },
    {
      "cell_type": "markdown",
      "metadata": {
        "id": "GgmI7yS7C5G9"
      },
      "source": [
        "Мы также можем использовать функцию `flatten`, чтобы превратить массив более высоких измерений в вектор. Но эта функция создает копию данных."
      ]
    },
    {
      "cell_type": "code",
      "execution_count": null,
      "metadata": {
        "id": "6iuC3tikC5G9",
        "outputId": "ffe5adaf-4d81-4316-8f8a-ea7a329f4e35"
      },
      "outputs": [
        {
          "data": {
            "text/plain": [
              "array([ 5,  5,  5,  5,  5, 10, 11, 12, 13, 14, 20, 21, 22, 23, 24, 30, 31,\n",
              "       32, 33, 34, 40, 41, 42, 43, 44])"
            ]
          },
          "execution_count": 204,
          "metadata": {},
          "output_type": "execute_result"
        }
      ],
      "source": [
        "B = A.flatten()\n",
        "\n",
        "B"
      ]
    },
    {
      "cell_type": "code",
      "execution_count": null,
      "metadata": {
        "id": "R5mmE4WFC5G-",
        "outputId": "00f12c23-086c-406a-e806-261a78acd0db"
      },
      "outputs": [
        {
          "data": {
            "text/plain": [
              "array([10, 10, 10, 10, 10, 10, 11, 12, 13, 14, 20, 21, 22, 23, 24, 30, 31,\n",
              "       32, 33, 34, 40, 41, 42, 43, 44])"
            ]
          },
          "execution_count": 205,
          "metadata": {},
          "output_type": "execute_result"
        }
      ],
      "source": [
        "B[0:5] = 10\n",
        "\n",
        "B"
      ]
    },
    {
      "cell_type": "code",
      "execution_count": null,
      "metadata": {
        "id": "RvyK-IafC5G-",
        "outputId": "aae50a0f-b54b-420e-f863-747662a117fe"
      },
      "outputs": [
        {
          "data": {
            "text/plain": [
              "array([[ 5,  5,  5,  5,  5],\n",
              "       [10, 11, 12, 13, 14],\n",
              "       [20, 21, 22, 23, 24],\n",
              "       [30, 31, 32, 33, 34],\n",
              "       [40, 41, 42, 43, 44]])"
            ]
          },
          "execution_count": 206,
          "metadata": {},
          "output_type": "execute_result"
        }
      ],
      "source": [
        "A # теперь A неизменилась, поскольку данные B это копия A, теперь B не ссылается на те же данные."
      ]
    },
    {
      "cell_type": "markdown",
      "metadata": {
        "id": "EYFjEuPSC5G-"
      },
      "source": [
        "## Дополнение новых размерностей: newaxis"
      ]
    },
    {
      "cell_type": "markdown",
      "metadata": {
        "id": "H9YFXyH-C5G-"
      },
      "source": [
        "С `newaxis`, можно добавить новые размерности в массив. Например, превратить вектор в матрицу:"
      ]
    },
    {
      "cell_type": "code",
      "execution_count": null,
      "metadata": {
        "id": "28xWy6ImC5G-"
      },
      "outputs": [],
      "source": [
        "v = array([1,2,3])"
      ]
    },
    {
      "cell_type": "code",
      "execution_count": null,
      "metadata": {
        "id": "yWHd-nmiC5G-",
        "outputId": "aa73380b-d9f4-4f38-c573-6af7c86a40f9"
      },
      "outputs": [
        {
          "data": {
            "text/plain": [
              "(3,)"
            ]
          },
          "execution_count": 208,
          "metadata": {},
          "output_type": "execute_result"
        }
      ],
      "source": [
        "shape(v)"
      ]
    },
    {
      "cell_type": "code",
      "execution_count": null,
      "metadata": {
        "id": "jbBrRlFmC5G-",
        "outputId": "09d0da5b-153e-497d-b476-0e420707e4ff"
      },
      "outputs": [
        {
          "data": {
            "text/plain": [
              "array([[1],\n",
              "       [2],\n",
              "       [3]])"
            ]
          },
          "execution_count": 209,
          "metadata": {},
          "output_type": "execute_result"
        }
      ],
      "source": [
        "# создание столбца матрицы из вектора v\n",
        "v[:, newaxis]"
      ]
    },
    {
      "cell_type": "code",
      "execution_count": null,
      "metadata": {
        "id": "yik1ZBiyC5G-",
        "outputId": "e5d44789-207d-400a-a382-20dec1e10f11"
      },
      "outputs": [
        {
          "data": {
            "text/plain": [
              "(3, 1)"
            ]
          },
          "execution_count": 210,
          "metadata": {},
          "output_type": "execute_result"
        }
      ],
      "source": [
        "# столбец матрицы\n",
        "v[:,newaxis].shape"
      ]
    },
    {
      "cell_type": "code",
      "execution_count": null,
      "metadata": {
        "id": "kazpIv8vC5G-",
        "outputId": "a4691620-b49b-4e13-9eb6-a5adf64bed04"
      },
      "outputs": [
        {
          "data": {
            "text/plain": [
              "(1, 3)"
            ]
          },
          "execution_count": 211,
          "metadata": {},
          "output_type": "execute_result"
        }
      ],
      "source": [
        "# строка матрицы\n",
        "v[newaxis,:].shape"
      ]
    },
    {
      "cell_type": "markdown",
      "metadata": {
        "id": "I45fpdzZC5G-"
      },
      "source": [
        "## Соединение и повторение массивов"
      ]
    },
    {
      "cell_type": "markdown",
      "metadata": {
        "id": "KT_zS5QoC5G_"
      },
      "source": [
        "Используя функции `repeat`, `tile`, `vstack`, `hstack` и `concatenate` мы можем создать больше векторов и матриц из более мелких:"
      ]
    },
    {
      "cell_type": "markdown",
      "metadata": {
        "id": "LdFAOglgC5G_"
      },
      "source": [
        "### `tile` и `repeat`"
      ]
    },
    {
      "cell_type": "code",
      "execution_count": null,
      "metadata": {
        "id": "eCePKEeuC5G_"
      },
      "outputs": [],
      "source": [
        "a = array([[1, 2], [3, 4]])"
      ]
    },
    {
      "cell_type": "code",
      "execution_count": null,
      "metadata": {
        "id": "HSVdu54UC5G_",
        "outputId": "f460f4e8-e3a7-4ef5-dc24-3bc7c65de501"
      },
      "outputs": [
        {
          "data": {
            "text/plain": [
              "array([1, 1, 1, 2, 2, 2, 3, 3, 3, 4, 4, 4])"
            ]
          },
          "execution_count": 213,
          "metadata": {},
          "output_type": "execute_result"
        }
      ],
      "source": [
        "# повторить каждый элемент 3 раза\n",
        "repeat(a, 3)"
      ]
    },
    {
      "cell_type": "code",
      "execution_count": null,
      "metadata": {
        "id": "fbmedkSsC5G_",
        "outputId": "6b59cf09-4127-4d40-ba4a-32f6245727f6"
      },
      "outputs": [
        {
          "data": {
            "text/plain": [
              "array([[1, 2, 1, 2, 1, 2],\n",
              "       [3, 4, 3, 4, 3, 4]])"
            ]
          },
          "execution_count": 214,
          "metadata": {},
          "output_type": "execute_result"
        }
      ],
      "source": [
        "# повторить матрицу 3 раза \n",
        "tile(a, 3)"
      ]
    },
    {
      "cell_type": "markdown",
      "metadata": {
        "id": "ApWxqsBKC5G_"
      },
      "source": [
        "### `concatenate`"
      ]
    },
    {
      "cell_type": "code",
      "execution_count": null,
      "metadata": {
        "id": "7YpKNKOnC5G_"
      },
      "outputs": [],
      "source": [
        "b = array([[5, 6]])"
      ]
    },
    {
      "cell_type": "code",
      "execution_count": null,
      "metadata": {
        "id": "f2rDQPl-C5G_",
        "outputId": "e204a935-7a9f-48eb-83be-462b1fa69e2a"
      },
      "outputs": [
        {
          "data": {
            "text/plain": [
              "array([[1, 2],\n",
              "       [3, 4],\n",
              "       [5, 6]])"
            ]
          },
          "execution_count": 216,
          "metadata": {},
          "output_type": "execute_result"
        }
      ],
      "source": [
        "concatenate((a, b), axis=0)"
      ]
    },
    {
      "cell_type": "code",
      "execution_count": null,
      "metadata": {
        "id": "fxMhWt1WC5G_",
        "outputId": "f1fa6767-a236-4454-fb73-85b1659c41cf"
      },
      "outputs": [
        {
          "data": {
            "text/plain": [
              "array([[1, 2, 5],\n",
              "       [3, 4, 6]])"
            ]
          },
          "execution_count": 217,
          "metadata": {},
          "output_type": "execute_result"
        }
      ],
      "source": [
        "concatenate((a, b.T), axis=1)"
      ]
    },
    {
      "cell_type": "markdown",
      "metadata": {
        "id": "_r4uCgnIC5G_"
      },
      "source": [
        "### `hstack` и `vstack`"
      ]
    },
    {
      "cell_type": "code",
      "execution_count": null,
      "metadata": {
        "id": "piVzCixSC5HA",
        "outputId": "c8125125-c684-4561-a7c3-761abad7333f"
      },
      "outputs": [
        {
          "data": {
            "text/plain": [
              "array([[1, 2],\n",
              "       [3, 4],\n",
              "       [5, 6]])"
            ]
          },
          "execution_count": 218,
          "metadata": {},
          "output_type": "execute_result"
        }
      ],
      "source": [
        "vstack((a,b))"
      ]
    },
    {
      "cell_type": "code",
      "execution_count": null,
      "metadata": {
        "id": "ZANlYvXzC5HA",
        "outputId": "5db9653a-9f8e-451a-9a95-b736980a10e2"
      },
      "outputs": [
        {
          "data": {
            "text/plain": [
              "array([[1, 2, 5],\n",
              "       [3, 4, 6]])"
            ]
          },
          "execution_count": 219,
          "metadata": {},
          "output_type": "execute_result"
        }
      ],
      "source": [
        "hstack((a,b.T))"
      ]
    },
    {
      "cell_type": "markdown",
      "metadata": {
        "id": "h-dk0Hb0C5HA"
      },
      "source": [
        "## Копия и \"глубокая копия\""
      ]
    },
    {
      "cell_type": "markdown",
      "metadata": {
        "id": "bQBWdJW8C5HA"
      },
      "source": [
        "Для достижения высокой производительности назначения в Python обычно не копируют базовые объекты. Это важно, например, когда объекты передаются между функциями, чтобы избежать чрезмерного объема копирования памяти, когда это не является необходимым (технический термин: пропуск по ссылке)."
      ]
    },
    {
      "cell_type": "code",
      "execution_count": null,
      "metadata": {
        "id": "oH-KVeDgC5HA",
        "outputId": "2b25f806-e556-4a1d-8e53-02fb9b668aa3"
      },
      "outputs": [
        {
          "data": {
            "text/plain": [
              "array([[1, 2],\n",
              "       [3, 4]])"
            ]
          },
          "execution_count": 220,
          "metadata": {},
          "output_type": "execute_result"
        }
      ],
      "source": [
        "A = array([[1, 2], [3, 4]])\n",
        "\n",
        "A"
      ]
    },
    {
      "cell_type": "code",
      "execution_count": null,
      "metadata": {
        "id": "XfgveZX2C5HA"
      },
      "outputs": [],
      "source": [
        "# теперь В ссылается натеже данные, что и А \n",
        "B = A "
      ]
    },
    {
      "cell_type": "code",
      "execution_count": null,
      "metadata": {
        "id": "nFq64MW0C5HA",
        "outputId": "5a64cd0a-e4c7-4b6e-f171-e684467927c3"
      },
      "outputs": [
        {
          "data": {
            "text/plain": [
              "array([[10,  2],\n",
              "       [ 3,  4]])"
            ]
          },
          "execution_count": 222,
          "metadata": {},
          "output_type": "execute_result"
        }
      ],
      "source": [
        "# изменения B отражаются в A\n",
        "B[0,0] = 10\n",
        "\n",
        "B"
      ]
    },
    {
      "cell_type": "code",
      "execution_count": null,
      "metadata": {
        "id": "DIlYmWdGC5HA",
        "outputId": "42ccd5d9-8df0-480c-edd1-809f1e702413"
      },
      "outputs": [
        {
          "data": {
            "text/plain": [
              "array([[10,  2],\n",
              "       [ 3,  4]])"
            ]
          },
          "execution_count": 223,
          "metadata": {},
          "output_type": "execute_result"
        }
      ],
      "source": [
        "A"
      ]
    },
    {
      "cell_type": "markdown",
      "metadata": {
        "id": "HstasP_lC5HA"
      },
      "source": [
        "Если мы хотим избежать такого поведения, чтобы при получении нового полностью независимого объекта `B`, скопированного из `A`, нам нужно было сделать так называемое \"глубокое копирование\" с помощью функции `copy`:"
      ]
    },
    {
      "cell_type": "code",
      "execution_count": null,
      "metadata": {
        "id": "BNms5MvTC5HA"
      },
      "outputs": [],
      "source": [
        "B = copy(A)"
      ]
    },
    {
      "cell_type": "code",
      "execution_count": null,
      "metadata": {
        "id": "Upk_oCxOC5HB",
        "outputId": "92e52961-9455-429e-e5fa-6849a05b4229"
      },
      "outputs": [
        {
          "data": {
            "text/plain": [
              "array([[10,  2],\n",
              "       [ 3,  4]])"
            ]
          },
          "execution_count": 225,
          "metadata": {},
          "output_type": "execute_result"
        }
      ],
      "source": [
        "# теперь при изменении В, А не меняется\n",
        "\n",
        "B"
      ]
    },
    {
      "cell_type": "code",
      "execution_count": null,
      "metadata": {
        "id": "L7x-IwwTC5HB",
        "outputId": "4111b69d-4356-49e7-b3e8-9e1631cf7431"
      },
      "outputs": [
        {
          "data": {
            "text/plain": [
              "array([[10,  2],\n",
              "       [ 3,  4]])"
            ]
          },
          "execution_count": 226,
          "metadata": {},
          "output_type": "execute_result"
        }
      ],
      "source": [
        "A"
      ]
    },
    {
      "cell_type": "markdown",
      "metadata": {
        "id": "WDmVF0XwC5HB"
      },
      "source": [
        "## Иттерация на элементах массива"
      ]
    },
    {
      "cell_type": "markdown",
      "metadata": {
        "id": "NMijT00vC5HB"
      },
      "source": [
        "Как правило, мы хотим избежать повторения элементов массивов всякий раз, когда это возможно (любой ценой). Причина в том, что в интерпретируемом языке, таком как Python (или MATLAB), итерации действительно медленны по сравнению с векторизованными операциями.\n",
        "\n",
        "Однако, иногда итерации неизбежны. Для таких случаев цикл Python `for` является наиболее удобным способом перебора массива:"
      ]
    },
    {
      "cell_type": "code",
      "execution_count": null,
      "metadata": {
        "id": "7UEcKMAqC5HB",
        "outputId": "4b52d0bc-0067-49a0-ab1a-ab39ff271246"
      },
      "outputs": [
        {
          "name": "stdout",
          "output_type": "stream",
          "text": [
            "1\n",
            "2\n",
            "3\n",
            "4\n"
          ]
        }
      ],
      "source": [
        "v = array([1,2,3,4])\n",
        "\n",
        "for element in v:\n",
        "    print(element)"
      ]
    },
    {
      "cell_type": "code",
      "execution_count": null,
      "metadata": {
        "id": "gRx84pTzC5HB",
        "outputId": "7e9dd265-5ff1-4153-9d1c-f4871d1538d9"
      },
      "outputs": [
        {
          "name": "stdout",
          "output_type": "stream",
          "text": [
            "row [1 2]\n",
            "1\n",
            "2\n",
            "row [3 4]\n",
            "3\n",
            "4\n"
          ]
        }
      ],
      "source": [
        "M = array([[1,2], [3,4]])\n",
        "\n",
        "for row in M:\n",
        "    print(\"row\", row)\n",
        "    \n",
        "    for element in row:\n",
        "        print(element)"
      ]
    },
    {
      "cell_type": "markdown",
      "metadata": {
        "id": "-gvnMGvZC5HB"
      },
      "source": [
        "Когда нам нужно перебирать каждый элемент массива и изменять его элементы, удобно использовать функцию `enumerate` для получения как элемента, так и его индекса в цикле `for` :"
      ]
    },
    {
      "cell_type": "code",
      "execution_count": null,
      "metadata": {
        "id": "Z7eB-rCmC5HB",
        "outputId": "93b0fb34-b5d8-4b6c-8998-92f42efb6124"
      },
      "outputs": [
        {
          "name": "stdout",
          "output_type": "stream",
          "text": [
            "row_idx 0 row [1 2]\n",
            "col_idx 0 element 1\n",
            "col_idx 1 element 2\n",
            "row_idx 1 row [3 4]\n",
            "col_idx 0 element 3\n",
            "col_idx 1 element 4\n"
          ]
        }
      ],
      "source": [
        "for row_idx, row in enumerate(M):\n",
        "    print(\"row_idx\", row_idx, \"row\", row)\n",
        "    \n",
        "    for col_idx, element in enumerate(row):\n",
        "        print(\"col_idx\", col_idx, \"element\", element)\n",
        "       \n",
        "        # обновляет матрицу M: возводя ее элементы в квадрат\n",
        "        M[row_idx, col_idx] = element ** 2"
      ]
    },
    {
      "cell_type": "code",
      "execution_count": null,
      "metadata": {
        "id": "1UwoTI27C5HB",
        "outputId": "d4580a96-3e1d-4919-c558-68bb39795995"
      },
      "outputs": [
        {
          "data": {
            "text/plain": [
              "array([[ 1,  4],\n",
              "       [ 9, 16]])"
            ]
          },
          "execution_count": 230,
          "metadata": {},
          "output_type": "execute_result"
        }
      ],
      "source": [
        "# каждый элемент в M возведен в квадрат\n",
        "M"
      ]
    },
    {
      "cell_type": "markdown",
      "metadata": {
        "id": "36iFiLzwC5HC"
      },
      "source": [
        "## Векторные функции"
      ]
    },
    {
      "cell_type": "markdown",
      "metadata": {
        "id": "oqcDwXgcC5HC"
      },
      "source": [
        "Как уже упоминалось несколько раз, чтобы получить хорошую производительность, мы должны стараться избегать циклического перебора элементов в наших векторах и матрицах, а вместо этого использовать векторизованные алгоритмы. Первый шаг в преобразовании скалярного алгоритма в векторизованный алгоритм заключается в том, чтобы убедиться, что функции, которые мы пишем, работают с векторными входными данными."
      ]
    },
    {
      "cell_type": "code",
      "execution_count": null,
      "metadata": {
        "id": "RbNJUyn8C5HC"
      },
      "outputs": [],
      "source": [
        "def Theta(x):\n",
        "    \"\"\"\n",
        "    Скалярная реализация функции порога Хевисайда.\n",
        "    \"\"\"\n",
        "    if x >= 0:\n",
        "        return 1\n",
        "    else:\n",
        "        return 0"
      ]
    },
    {
      "cell_type": "code",
      "execution_count": null,
      "metadata": {
        "id": "NW2TTWTGC5HC",
        "outputId": "0019dfd6-44fe-45a3-a5de-cf1e4f5b9969"
      },
      "outputs": [
        {
          "ename": "ValueError",
          "evalue": "The truth value of an array with more than one element is ambiguous. Use a.any() or a.all()",
          "output_type": "error",
          "traceback": [
            "\u001b[1;31m---------------------------------------------------------------------------\u001b[0m",
            "\u001b[1;31mValueError\u001b[0m                                Traceback (most recent call last)",
            "\u001b[1;32m<ipython-input-232-2cb2062a7e18>\u001b[0m in \u001b[0;36m<module>\u001b[1;34m\u001b[0m\n\u001b[1;32m----> 1\u001b[1;33m \u001b[0mTheta\u001b[0m\u001b[1;33m(\u001b[0m\u001b[0marray\u001b[0m\u001b[1;33m(\u001b[0m\u001b[1;33m[\u001b[0m\u001b[1;33m-\u001b[0m\u001b[1;36m3\u001b[0m\u001b[1;33m,\u001b[0m\u001b[1;33m-\u001b[0m\u001b[1;36m2\u001b[0m\u001b[1;33m,\u001b[0m\u001b[1;33m-\u001b[0m\u001b[1;36m1\u001b[0m\u001b[1;33m,\u001b[0m\u001b[1;36m0\u001b[0m\u001b[1;33m,\u001b[0m\u001b[1;36m1\u001b[0m\u001b[1;33m,\u001b[0m\u001b[1;36m2\u001b[0m\u001b[1;33m,\u001b[0m\u001b[1;36m3\u001b[0m\u001b[1;33m]\u001b[0m\u001b[1;33m)\u001b[0m\u001b[1;33m)\u001b[0m\u001b[1;33m\u001b[0m\u001b[1;33m\u001b[0m\u001b[0m\n\u001b[0m",
            "\u001b[1;32m<ipython-input-231-c9c3b027fcc6>\u001b[0m in \u001b[0;36mTheta\u001b[1;34m(x)\u001b[0m\n\u001b[0;32m      3\u001b[0m     \u001b[0mСкалярная\u001b[0m \u001b[0mреализация\u001b[0m \u001b[0mфункции\u001b[0m \u001b[0mпорога\u001b[0m \u001b[0mХевисайда\u001b[0m\u001b[1;33m.\u001b[0m\u001b[1;33m\u001b[0m\u001b[1;33m\u001b[0m\u001b[0m\n\u001b[0;32m      4\u001b[0m     \"\"\"\n\u001b[1;32m----> 5\u001b[1;33m     \u001b[1;32mif\u001b[0m \u001b[0mx\u001b[0m \u001b[1;33m>=\u001b[0m \u001b[1;36m0\u001b[0m\u001b[1;33m:\u001b[0m\u001b[1;33m\u001b[0m\u001b[1;33m\u001b[0m\u001b[0m\n\u001b[0m\u001b[0;32m      6\u001b[0m         \u001b[1;32mreturn\u001b[0m \u001b[1;36m1\u001b[0m\u001b[1;33m\u001b[0m\u001b[1;33m\u001b[0m\u001b[0m\n\u001b[0;32m      7\u001b[0m     \u001b[1;32melse\u001b[0m\u001b[1;33m:\u001b[0m\u001b[1;33m\u001b[0m\u001b[1;33m\u001b[0m\u001b[0m\n",
            "\u001b[1;31mValueError\u001b[0m: The truth value of an array with more than one element is ambiguous. Use a.any() or a.all()"
          ]
        }
      ],
      "source": [
        "Theta(array([-3,-2,-1,0,1,2,3]))"
      ]
    },
    {
      "cell_type": "markdown",
      "metadata": {
        "id": "EwZy_gP-C5HC"
      },
      "source": [
        "Хорошо, это не сработало, потому что мы не написали функцию `Theta`, чтобы она могла обрабатывать векторный ввод...\n",
        "\n",
        "Чтобы получить векторизованную версию теты, мы можем использовать функцию Numpy `vectorize`. Во многих случаях он может автоматически векторизовать функцию:"
      ]
    },
    {
      "cell_type": "code",
      "execution_count": null,
      "metadata": {
        "id": "rBqUjKXqC5HC"
      },
      "outputs": [],
      "source": [
        "Theta_vec = vectorize(Theta)"
      ]
    },
    {
      "cell_type": "code",
      "execution_count": null,
      "metadata": {
        "id": "BxrErs5GC5HC",
        "outputId": "0a551b3c-b83e-4b0b-8b74-5e3a609dd7e0"
      },
      "outputs": [
        {
          "data": {
            "text/plain": [
              "array([0, 0, 0, 1, 1, 1, 1])"
            ]
          },
          "execution_count": 234,
          "metadata": {},
          "output_type": "execute_result"
        }
      ],
      "source": [
        "Theta_vec(array([-3,-2,-1,0,1,2,3]))"
      ]
    },
    {
      "cell_type": "markdown",
      "metadata": {
        "id": "6CwReEMEC5HC"
      },
      "source": [
        "Мы также можем реализовать функцию для приема векторного ввода с самого начала (требует больше усилий, но может дать лучшую производительность):"
      ]
    },
    {
      "cell_type": "code",
      "execution_count": null,
      "metadata": {
        "id": "ySe6kAJZC5HC"
      },
      "outputs": [],
      "source": [
        "def Theta(x):\n",
        "    \"\"\"\n",
        "    Vector-aware implemenation of the Heaviside step function.\n",
        "    \"\"\"\n",
        "    return 1 * (x >= 0)"
      ]
    },
    {
      "cell_type": "code",
      "execution_count": null,
      "metadata": {
        "id": "dJIv8JjJC5HD",
        "outputId": "e3177179-13ab-4dee-8e27-d7f83ab906c8"
      },
      "outputs": [
        {
          "data": {
            "text/plain": [
              "array([0, 0, 0, 1, 1, 1, 1])"
            ]
          },
          "execution_count": 236,
          "metadata": {},
          "output_type": "execute_result"
        }
      ],
      "source": [
        "Theta(array([-3,-2,-1,0,1,2,3]))"
      ]
    },
    {
      "cell_type": "code",
      "execution_count": null,
      "metadata": {
        "id": "AdScGn7OC5HD",
        "outputId": "a5088607-5fc4-4ac8-df7b-c82dea132aab"
      },
      "outputs": [
        {
          "data": {
            "text/plain": [
              "(0, 1)"
            ]
          },
          "execution_count": 237,
          "metadata": {},
          "output_type": "execute_result"
        }
      ],
      "source": [
        "# still works for scalars as well\n",
        "Theta(-1.2), Theta(2.6)"
      ]
    },
    {
      "cell_type": "markdown",
      "metadata": {
        "id": "bK4MmtVAC5HD"
      },
      "source": [
        "## Использование массива в условии"
      ]
    },
    {
      "cell_type": "markdown",
      "metadata": {
        "id": "dRW5d9i5C5HD"
      },
      "source": [
        "При использовании массивов в условиях, например, `if` операторы и другие логические выражения, нужно использовать `any` или `all`, что требует, чтобы любой или все элементы в массиве равнялись `True`:"
      ]
    },
    {
      "cell_type": "code",
      "execution_count": null,
      "metadata": {
        "id": "75bf3TG8C5HD",
        "outputId": "1f3f1df2-646d-4ff9-d294-a7b3adea2d49"
      },
      "outputs": [
        {
          "data": {
            "text/plain": [
              "array([[ 1,  4],\n",
              "       [ 9, 16]])"
            ]
          },
          "execution_count": 238,
          "metadata": {},
          "output_type": "execute_result"
        }
      ],
      "source": [
        "M"
      ]
    },
    {
      "cell_type": "code",
      "execution_count": null,
      "metadata": {
        "id": "hmcmcdMbC5HD",
        "outputId": "80bb9ab0-d8f5-4a08-95a2-8a10c23c7b71"
      },
      "outputs": [
        {
          "name": "stdout",
          "output_type": "stream",
          "text": [
            "at least one element in M is larger than 5\n"
          ]
        }
      ],
      "source": [
        "if (M > 5).any():\n",
        "    print(\"at least one element in M is larger than 5\")\n",
        "else:\n",
        "    print(\"no element in M is larger than 5\")"
      ]
    },
    {
      "cell_type": "code",
      "execution_count": null,
      "metadata": {
        "id": "q-Q6JxCmC5HD",
        "outputId": "23c0b95e-5073-4da2-bab9-09a561d492c5"
      },
      "outputs": [
        {
          "name": "stdout",
          "output_type": "stream",
          "text": [
            "all elements in M are not larger than 5\n"
          ]
        }
      ],
      "source": [
        "if (M > 5).all():\n",
        "    print(\"all elements in M are larger than 5\")\n",
        "else:\n",
        "    print(\"all elements in M are not larger than 5\")"
      ]
    },
    {
      "cell_type": "markdown",
      "metadata": {
        "id": "Of7HE_y5C5HD"
      },
      "source": [
        "## Подбор типа"
      ]
    },
    {
      "cell_type": "markdown",
      "metadata": {
        "id": "o5OCkE6eC5HD"
      },
      "source": [
        "Поскольку массивы Numpy статически типизированы, тип массива не изменяется после его создания. Но мы можем явно привести массив некоторого типа к другому, используя функции `astype` (см. также аналогичную функцию `asarray`). Это всегда создает новый массив нового типа:"
      ]
    },
    {
      "cell_type": "code",
      "execution_count": null,
      "metadata": {
        "id": "dbzp_0D_C5HD",
        "outputId": "7eb43aab-b542-4853-b535-97ed2556ed01"
      },
      "outputs": [
        {
          "data": {
            "text/plain": [
              "dtype('int32')"
            ]
          },
          "execution_count": 241,
          "metadata": {},
          "output_type": "execute_result"
        }
      ],
      "source": [
        "M.dtype"
      ]
    },
    {
      "cell_type": "code",
      "execution_count": null,
      "metadata": {
        "id": "uR3YLPIHC5HE",
        "outputId": "fb919e30-7a36-406c-9b05-227b24fc3e9b"
      },
      "outputs": [
        {
          "data": {
            "text/plain": [
              "array([[ 1.,  4.],\n",
              "       [ 9., 16.]])"
            ]
          },
          "execution_count": 242,
          "metadata": {},
          "output_type": "execute_result"
        }
      ],
      "source": [
        "M2 = M.astype(float)\n",
        "\n",
        "M2"
      ]
    },
    {
      "cell_type": "code",
      "execution_count": null,
      "metadata": {
        "id": "cMgy2aVdC5HE",
        "outputId": "2699cb1a-1c70-49ce-da02-a8e3c1a245a4"
      },
      "outputs": [
        {
          "data": {
            "text/plain": [
              "dtype('float64')"
            ]
          },
          "execution_count": 243,
          "metadata": {},
          "output_type": "execute_result"
        }
      ],
      "source": [
        "M2.dtype"
      ]
    },
    {
      "cell_type": "code",
      "execution_count": null,
      "metadata": {
        "id": "_g-MeT60C5HE",
        "outputId": "9280cbce-8c71-487d-a35b-73f809bb4a8c"
      },
      "outputs": [
        {
          "data": {
            "text/plain": [
              "array([[ True,  True],\n",
              "       [ True,  True]])"
            ]
          },
          "execution_count": 244,
          "metadata": {},
          "output_type": "execute_result"
        }
      ],
      "source": [
        "M3 = M.astype(bool)\n",
        "\n",
        "M3"
      ]
    },
    {
      "cell_type": "markdown",
      "metadata": {
        "id": "74SsX8RyC5HE"
      },
      "source": [
        "## Дальнейшее изучение"
      ]
    },
    {
      "cell_type": "markdown",
      "metadata": {
        "id": "Z46JFBKoC5HE"
      },
      "source": [
        "* http://numpy.scipy.org\n",
        "* [Tentative NumPy Tutorial](http://scipy.org/Tentative_NumPy_Tutorial)\n",
        "* [A Numpy guide for MATLAB users](http://scipy.org/NumPy_for_Matlab_Users).\n",
        "* Этот [материал](http://github.com/jrjohansson/scientific-python-lectures) создан на основе книг [J.R. Johansson](http://jrjohansson.github.io)."
      ]
    },
    {
      "cell_type": "code",
      "execution_count": null,
      "metadata": {
        "id": "xr8Xt0y1C5HE"
      },
      "outputs": [],
      "source": []
    }
  ],
  "metadata": {
    "kernelspec": {
      "display_name": "Python 3 (ipykernel)",
      "language": "python",
      "name": "python3"
    },
    "language_info": {
      "codemirror_mode": {
        "name": "ipython",
        "version": 3
      },
      "file_extension": ".py",
      "mimetype": "text/x-python",
      "name": "python",
      "nbconvert_exporter": "python",
      "pygments_lexer": "ipython3",
      "version": "3.8.0"
    },
    "nbTranslate": {
      "displayLangs": [
        "*"
      ],
      "hotkey": "alt-t",
      "langInMainMenu": true,
      "sourceLang": "en",
      "targetLang": "fr",
      "useGoogleTranslate": true
    },
    "colab": {
      "provenance": [],
      "collapsed_sections": [
        "hmBqDUaEC5Gk",
        "2NUVo1vyC5Gl",
        "W0Rty8_iC5Gl",
        "-BF8-6hsC5Gm",
        "lkny0p-MC5Gm",
        "s4Rotc0mC5Go",
        "Z23Pjpk0C5Gx",
        "WdQW4Q_-C5Gx",
        "9hANpE9pC5Gy",
        "qfJY9lZfC5Gz",
        "BZokB2kuC5G3",
        "3AcJUSaAC5G4",
        "Hwz-jy9nC5G4",
        "_5YKqCFxC5G4",
        "Jd0xaO9XC5G5",
        "iSyIuGOfC5G5",
        "omGZWCsrC5G5",
        "QtqwrwVyC5G5",
        "ZcKJEOGaC5G6",
        "y23i9M_bC5G6",
        "pPOwjOiKC5G6",
        "Hpka140EC5G7",
        "z8T20mNXC5G8",
        "q_AuRut6C5G9",
        "EYFjEuPSC5G-",
        "I45fpdzZC5G-",
        "LdFAOglgC5G_",
        "ApWxqsBKC5G_",
        "_r4uCgnIC5G_",
        "h-dk0Hb0C5HA",
        "WDmVF0XwC5HB",
        "36iFiLzwC5HC",
        "bK4MmtVAC5HD",
        "Of7HE_y5C5HD",
        "74SsX8RyC5HE"
      ]
    }
  },
  "nbformat": 4,
  "nbformat_minor": 0
}