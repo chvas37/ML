{
  "nbformat": 4,
  "nbformat_minor": 0,
  "metadata": {
    "colab": {
      "provenance": []
    },
    "kernelspec": {
      "name": "python3",
      "display_name": "Python 3"
    },
    "language_info": {
      "name": "python"
    }
  },
  "cells": [
    {
      "cell_type": "markdown",
      "source": [
        "Загрузите данные о вероятности развития сердечного приступа. Описание датасета смотрите здесь: https://www.kaggle.com/datasets/fedesoriano/heart-failure-prediction."
      ],
      "metadata": {
        "id": "tymcFcBV7VHX"
      }
    },
    {
      "cell_type": "code",
      "execution_count": null,
      "metadata": {
        "id": "qmBjzlbi6Fyy"
      },
      "outputs": [],
      "source": [
        "import pandas as pd\n",
        "data = pd.read_csv('/content/heart.csv')"
      ]
    },
    {
      "cell_type": "code",
      "source": [
        "data"
      ],
      "metadata": {
        "colab": {
          "base_uri": "https://localhost:8080/",
          "height": 488
        },
        "id": "opXl5boC6lMF",
        "outputId": "669f5741-caba-4e77-9317-0b6d6d1eb13c"
      },
      "execution_count": null,
      "outputs": [
        {
          "output_type": "execute_result",
          "data": {
            "text/plain": [
              "     Age Sex ChestPainType  RestingBP  Cholesterol  FastingBS RestingECG  \\\n",
              "0     40   M           ATA        140          289          0     Normal   \n",
              "1     49   F           NAP        160          180          0     Normal   \n",
              "2     37   M           ATA        130          283          0         ST   \n",
              "3     48   F           ASY        138          214          0     Normal   \n",
              "4     54   M           NAP        150          195          0     Normal   \n",
              "..   ...  ..           ...        ...          ...        ...        ...   \n",
              "913   45   M            TA        110          264          0     Normal   \n",
              "914   68   M           ASY        144          193          1     Normal   \n",
              "915   57   M           ASY        130          131          0     Normal   \n",
              "916   57   F           ATA        130          236          0        LVH   \n",
              "917   38   M           NAP        138          175          0     Normal   \n",
              "\n",
              "     MaxHR ExerciseAngina  Oldpeak ST_Slope  HeartDisease  \n",
              "0      172              N      0.0       Up             0  \n",
              "1      156              N      1.0     Flat             1  \n",
              "2       98              N      0.0       Up             0  \n",
              "3      108              Y      1.5     Flat             1  \n",
              "4      122              N      0.0       Up             0  \n",
              "..     ...            ...      ...      ...           ...  \n",
              "913    132              N      1.2     Flat             1  \n",
              "914    141              N      3.4     Flat             1  \n",
              "915    115              Y      1.2     Flat             1  \n",
              "916    174              N      0.0     Flat             1  \n",
              "917    173              N      0.0       Up             0  \n",
              "\n",
              "[918 rows x 12 columns]"
            ],
            "text/html": [
              "\n",
              "  <div id=\"df-7f0a777a-863a-4018-b20d-45472de30370\">\n",
              "    <div class=\"colab-df-container\">\n",
              "      <div>\n",
              "<style scoped>\n",
              "    .dataframe tbody tr th:only-of-type {\n",
              "        vertical-align: middle;\n",
              "    }\n",
              "\n",
              "    .dataframe tbody tr th {\n",
              "        vertical-align: top;\n",
              "    }\n",
              "\n",
              "    .dataframe thead th {\n",
              "        text-align: right;\n",
              "    }\n",
              "</style>\n",
              "<table border=\"1\" class=\"dataframe\">\n",
              "  <thead>\n",
              "    <tr style=\"text-align: right;\">\n",
              "      <th></th>\n",
              "      <th>Age</th>\n",
              "      <th>Sex</th>\n",
              "      <th>ChestPainType</th>\n",
              "      <th>RestingBP</th>\n",
              "      <th>Cholesterol</th>\n",
              "      <th>FastingBS</th>\n",
              "      <th>RestingECG</th>\n",
              "      <th>MaxHR</th>\n",
              "      <th>ExerciseAngina</th>\n",
              "      <th>Oldpeak</th>\n",
              "      <th>ST_Slope</th>\n",
              "      <th>HeartDisease</th>\n",
              "    </tr>\n",
              "  </thead>\n",
              "  <tbody>\n",
              "    <tr>\n",
              "      <th>0</th>\n",
              "      <td>40</td>\n",
              "      <td>M</td>\n",
              "      <td>ATA</td>\n",
              "      <td>140</td>\n",
              "      <td>289</td>\n",
              "      <td>0</td>\n",
              "      <td>Normal</td>\n",
              "      <td>172</td>\n",
              "      <td>N</td>\n",
              "      <td>0.0</td>\n",
              "      <td>Up</td>\n",
              "      <td>0</td>\n",
              "    </tr>\n",
              "    <tr>\n",
              "      <th>1</th>\n",
              "      <td>49</td>\n",
              "      <td>F</td>\n",
              "      <td>NAP</td>\n",
              "      <td>160</td>\n",
              "      <td>180</td>\n",
              "      <td>0</td>\n",
              "      <td>Normal</td>\n",
              "      <td>156</td>\n",
              "      <td>N</td>\n",
              "      <td>1.0</td>\n",
              "      <td>Flat</td>\n",
              "      <td>1</td>\n",
              "    </tr>\n",
              "    <tr>\n",
              "      <th>2</th>\n",
              "      <td>37</td>\n",
              "      <td>M</td>\n",
              "      <td>ATA</td>\n",
              "      <td>130</td>\n",
              "      <td>283</td>\n",
              "      <td>0</td>\n",
              "      <td>ST</td>\n",
              "      <td>98</td>\n",
              "      <td>N</td>\n",
              "      <td>0.0</td>\n",
              "      <td>Up</td>\n",
              "      <td>0</td>\n",
              "    </tr>\n",
              "    <tr>\n",
              "      <th>3</th>\n",
              "      <td>48</td>\n",
              "      <td>F</td>\n",
              "      <td>ASY</td>\n",
              "      <td>138</td>\n",
              "      <td>214</td>\n",
              "      <td>0</td>\n",
              "      <td>Normal</td>\n",
              "      <td>108</td>\n",
              "      <td>Y</td>\n",
              "      <td>1.5</td>\n",
              "      <td>Flat</td>\n",
              "      <td>1</td>\n",
              "    </tr>\n",
              "    <tr>\n",
              "      <th>4</th>\n",
              "      <td>54</td>\n",
              "      <td>M</td>\n",
              "      <td>NAP</td>\n",
              "      <td>150</td>\n",
              "      <td>195</td>\n",
              "      <td>0</td>\n",
              "      <td>Normal</td>\n",
              "      <td>122</td>\n",
              "      <td>N</td>\n",
              "      <td>0.0</td>\n",
              "      <td>Up</td>\n",
              "      <td>0</td>\n",
              "    </tr>\n",
              "    <tr>\n",
              "      <th>...</th>\n",
              "      <td>...</td>\n",
              "      <td>...</td>\n",
              "      <td>...</td>\n",
              "      <td>...</td>\n",
              "      <td>...</td>\n",
              "      <td>...</td>\n",
              "      <td>...</td>\n",
              "      <td>...</td>\n",
              "      <td>...</td>\n",
              "      <td>...</td>\n",
              "      <td>...</td>\n",
              "      <td>...</td>\n",
              "    </tr>\n",
              "    <tr>\n",
              "      <th>913</th>\n",
              "      <td>45</td>\n",
              "      <td>M</td>\n",
              "      <td>TA</td>\n",
              "      <td>110</td>\n",
              "      <td>264</td>\n",
              "      <td>0</td>\n",
              "      <td>Normal</td>\n",
              "      <td>132</td>\n",
              "      <td>N</td>\n",
              "      <td>1.2</td>\n",
              "      <td>Flat</td>\n",
              "      <td>1</td>\n",
              "    </tr>\n",
              "    <tr>\n",
              "      <th>914</th>\n",
              "      <td>68</td>\n",
              "      <td>M</td>\n",
              "      <td>ASY</td>\n",
              "      <td>144</td>\n",
              "      <td>193</td>\n",
              "      <td>1</td>\n",
              "      <td>Normal</td>\n",
              "      <td>141</td>\n",
              "      <td>N</td>\n",
              "      <td>3.4</td>\n",
              "      <td>Flat</td>\n",
              "      <td>1</td>\n",
              "    </tr>\n",
              "    <tr>\n",
              "      <th>915</th>\n",
              "      <td>57</td>\n",
              "      <td>M</td>\n",
              "      <td>ASY</td>\n",
              "      <td>130</td>\n",
              "      <td>131</td>\n",
              "      <td>0</td>\n",
              "      <td>Normal</td>\n",
              "      <td>115</td>\n",
              "      <td>Y</td>\n",
              "      <td>1.2</td>\n",
              "      <td>Flat</td>\n",
              "      <td>1</td>\n",
              "    </tr>\n",
              "    <tr>\n",
              "      <th>916</th>\n",
              "      <td>57</td>\n",
              "      <td>F</td>\n",
              "      <td>ATA</td>\n",
              "      <td>130</td>\n",
              "      <td>236</td>\n",
              "      <td>0</td>\n",
              "      <td>LVH</td>\n",
              "      <td>174</td>\n",
              "      <td>N</td>\n",
              "      <td>0.0</td>\n",
              "      <td>Flat</td>\n",
              "      <td>1</td>\n",
              "    </tr>\n",
              "    <tr>\n",
              "      <th>917</th>\n",
              "      <td>38</td>\n",
              "      <td>M</td>\n",
              "      <td>NAP</td>\n",
              "      <td>138</td>\n",
              "      <td>175</td>\n",
              "      <td>0</td>\n",
              "      <td>Normal</td>\n",
              "      <td>173</td>\n",
              "      <td>N</td>\n",
              "      <td>0.0</td>\n",
              "      <td>Up</td>\n",
              "      <td>0</td>\n",
              "    </tr>\n",
              "  </tbody>\n",
              "</table>\n",
              "<p>918 rows × 12 columns</p>\n",
              "</div>\n",
              "      <button class=\"colab-df-convert\" onclick=\"convertToInteractive('df-7f0a777a-863a-4018-b20d-45472de30370')\"\n",
              "              title=\"Convert this dataframe to an interactive table.\"\n",
              "              style=\"display:none;\">\n",
              "        \n",
              "  <svg xmlns=\"http://www.w3.org/2000/svg\" height=\"24px\"viewBox=\"0 0 24 24\"\n",
              "       width=\"24px\">\n",
              "    <path d=\"M0 0h24v24H0V0z\" fill=\"none\"/>\n",
              "    <path d=\"M18.56 5.44l.94 2.06.94-2.06 2.06-.94-2.06-.94-.94-2.06-.94 2.06-2.06.94zm-11 1L8.5 8.5l.94-2.06 2.06-.94-2.06-.94L8.5 2.5l-.94 2.06-2.06.94zm10 10l.94 2.06.94-2.06 2.06-.94-2.06-.94-.94-2.06-.94 2.06-2.06.94z\"/><path d=\"M17.41 7.96l-1.37-1.37c-.4-.4-.92-.59-1.43-.59-.52 0-1.04.2-1.43.59L10.3 9.45l-7.72 7.72c-.78.78-.78 2.05 0 2.83L4 21.41c.39.39.9.59 1.41.59.51 0 1.02-.2 1.41-.59l7.78-7.78 2.81-2.81c.8-.78.8-2.07 0-2.86zM5.41 20L4 18.59l7.72-7.72 1.47 1.35L5.41 20z\"/>\n",
              "  </svg>\n",
              "      </button>\n",
              "      \n",
              "  <style>\n",
              "    .colab-df-container {\n",
              "      display:flex;\n",
              "      flex-wrap:wrap;\n",
              "      gap: 12px;\n",
              "    }\n",
              "\n",
              "    .colab-df-convert {\n",
              "      background-color: #E8F0FE;\n",
              "      border: none;\n",
              "      border-radius: 50%;\n",
              "      cursor: pointer;\n",
              "      display: none;\n",
              "      fill: #1967D2;\n",
              "      height: 32px;\n",
              "      padding: 0 0 0 0;\n",
              "      width: 32px;\n",
              "    }\n",
              "\n",
              "    .colab-df-convert:hover {\n",
              "      background-color: #E2EBFA;\n",
              "      box-shadow: 0px 1px 2px rgba(60, 64, 67, 0.3), 0px 1px 3px 1px rgba(60, 64, 67, 0.15);\n",
              "      fill: #174EA6;\n",
              "    }\n",
              "\n",
              "    [theme=dark] .colab-df-convert {\n",
              "      background-color: #3B4455;\n",
              "      fill: #D2E3FC;\n",
              "    }\n",
              "\n",
              "    [theme=dark] .colab-df-convert:hover {\n",
              "      background-color: #434B5C;\n",
              "      box-shadow: 0px 1px 3px 1px rgba(0, 0, 0, 0.15);\n",
              "      filter: drop-shadow(0px 1px 2px rgba(0, 0, 0, 0.3));\n",
              "      fill: #FFFFFF;\n",
              "    }\n",
              "  </style>\n",
              "\n",
              "      <script>\n",
              "        const buttonEl =\n",
              "          document.querySelector('#df-7f0a777a-863a-4018-b20d-45472de30370 button.colab-df-convert');\n",
              "        buttonEl.style.display =\n",
              "          google.colab.kernel.accessAllowed ? 'block' : 'none';\n",
              "\n",
              "        async function convertToInteractive(key) {\n",
              "          const element = document.querySelector('#df-7f0a777a-863a-4018-b20d-45472de30370');\n",
              "          const dataTable =\n",
              "            await google.colab.kernel.invokeFunction('convertToInteractive',\n",
              "                                                     [key], {});\n",
              "          if (!dataTable) return;\n",
              "\n",
              "          const docLinkHtml = 'Like what you see? Visit the ' +\n",
              "            '<a target=\"_blank\" href=https://colab.research.google.com/notebooks/data_table.ipynb>data table notebook</a>'\n",
              "            + ' to learn more about interactive tables.';\n",
              "          element.innerHTML = '';\n",
              "          dataTable['output_type'] = 'display_data';\n",
              "          await google.colab.output.renderOutput(dataTable, element);\n",
              "          const docLink = document.createElement('div');\n",
              "          docLink.innerHTML = docLinkHtml;\n",
              "          element.appendChild(docLink);\n",
              "        }\n",
              "      </script>\n",
              "    </div>\n",
              "  </div>\n",
              "  "
            ]
          },
          "metadata": {},
          "execution_count": 86
        }
      ]
    },
    {
      "cell_type": "code",
      "source": [
        "data.dtypes "
      ],
      "metadata": {
        "colab": {
          "base_uri": "https://localhost:8080/"
        },
        "id": "AmeaeM4c_aMm",
        "outputId": "d8ad942f-441f-4ca1-851d-490ef5a0eccf"
      },
      "execution_count": null,
      "outputs": [
        {
          "output_type": "execute_result",
          "data": {
            "text/plain": [
              "Age                 int64\n",
              "Sex                object\n",
              "ChestPainType      object\n",
              "RestingBP           int64\n",
              "Cholesterol         int64\n",
              "FastingBS           int64\n",
              "RestingECG         object\n",
              "MaxHR               int64\n",
              "ExerciseAngina     object\n",
              "Oldpeak           float64\n",
              "ST_Slope           object\n",
              "HeartDisease        int64\n",
              "dtype: object"
            ]
          },
          "metadata": {},
          "execution_count": 87
        }
      ]
    },
    {
      "cell_type": "markdown",
      "source": [
        "Разделите данные на обучающую и тестовую выборки в соотношении 80% / 20% без перемешивания."
      ],
      "metadata": {
        "id": "nZo4i-jV7YCm"
      }
    },
    {
      "cell_type": "code",
      "source": [
        "y = data[\"HeartDisease\"]\n",
        "x = data.drop([\"HeartDisease\",'Sex', 'ChestPainType', 'RestingECG', 'ExerciseAngina','ST_Slope'], axis=1)"
      ],
      "metadata": {
        "id": "Nf6EWwID6n2k"
      },
      "execution_count": null,
      "outputs": []
    },
    {
      "cell_type": "code",
      "source": [
        "x"
      ],
      "metadata": {
        "colab": {
          "base_uri": "https://localhost:8080/",
          "height": 424
        },
        "id": "ynoDFmdzC2kp",
        "outputId": "072fb944-b3c3-43ce-a057-beb51299dcc8"
      },
      "execution_count": null,
      "outputs": [
        {
          "output_type": "execute_result",
          "data": {
            "text/plain": [
              "     Age  RestingBP  Cholesterol  FastingBS  MaxHR  Oldpeak\n",
              "0     40        140          289          0    172      0.0\n",
              "1     49        160          180          0    156      1.0\n",
              "2     37        130          283          0     98      0.0\n",
              "3     48        138          214          0    108      1.5\n",
              "4     54        150          195          0    122      0.0\n",
              "..   ...        ...          ...        ...    ...      ...\n",
              "913   45        110          264          0    132      1.2\n",
              "914   68        144          193          1    141      3.4\n",
              "915   57        130          131          0    115      1.2\n",
              "916   57        130          236          0    174      0.0\n",
              "917   38        138          175          0    173      0.0\n",
              "\n",
              "[918 rows x 6 columns]"
            ],
            "text/html": [
              "\n",
              "  <div id=\"df-a9de92e9-180b-43ef-bf61-28c6f550cc15\">\n",
              "    <div class=\"colab-df-container\">\n",
              "      <div>\n",
              "<style scoped>\n",
              "    .dataframe tbody tr th:only-of-type {\n",
              "        vertical-align: middle;\n",
              "    }\n",
              "\n",
              "    .dataframe tbody tr th {\n",
              "        vertical-align: top;\n",
              "    }\n",
              "\n",
              "    .dataframe thead th {\n",
              "        text-align: right;\n",
              "    }\n",
              "</style>\n",
              "<table border=\"1\" class=\"dataframe\">\n",
              "  <thead>\n",
              "    <tr style=\"text-align: right;\">\n",
              "      <th></th>\n",
              "      <th>Age</th>\n",
              "      <th>RestingBP</th>\n",
              "      <th>Cholesterol</th>\n",
              "      <th>FastingBS</th>\n",
              "      <th>MaxHR</th>\n",
              "      <th>Oldpeak</th>\n",
              "    </tr>\n",
              "  </thead>\n",
              "  <tbody>\n",
              "    <tr>\n",
              "      <th>0</th>\n",
              "      <td>40</td>\n",
              "      <td>140</td>\n",
              "      <td>289</td>\n",
              "      <td>0</td>\n",
              "      <td>172</td>\n",
              "      <td>0.0</td>\n",
              "    </tr>\n",
              "    <tr>\n",
              "      <th>1</th>\n",
              "      <td>49</td>\n",
              "      <td>160</td>\n",
              "      <td>180</td>\n",
              "      <td>0</td>\n",
              "      <td>156</td>\n",
              "      <td>1.0</td>\n",
              "    </tr>\n",
              "    <tr>\n",
              "      <th>2</th>\n",
              "      <td>37</td>\n",
              "      <td>130</td>\n",
              "      <td>283</td>\n",
              "      <td>0</td>\n",
              "      <td>98</td>\n",
              "      <td>0.0</td>\n",
              "    </tr>\n",
              "    <tr>\n",
              "      <th>3</th>\n",
              "      <td>48</td>\n",
              "      <td>138</td>\n",
              "      <td>214</td>\n",
              "      <td>0</td>\n",
              "      <td>108</td>\n",
              "      <td>1.5</td>\n",
              "    </tr>\n",
              "    <tr>\n",
              "      <th>4</th>\n",
              "      <td>54</td>\n",
              "      <td>150</td>\n",
              "      <td>195</td>\n",
              "      <td>0</td>\n",
              "      <td>122</td>\n",
              "      <td>0.0</td>\n",
              "    </tr>\n",
              "    <tr>\n",
              "      <th>...</th>\n",
              "      <td>...</td>\n",
              "      <td>...</td>\n",
              "      <td>...</td>\n",
              "      <td>...</td>\n",
              "      <td>...</td>\n",
              "      <td>...</td>\n",
              "    </tr>\n",
              "    <tr>\n",
              "      <th>913</th>\n",
              "      <td>45</td>\n",
              "      <td>110</td>\n",
              "      <td>264</td>\n",
              "      <td>0</td>\n",
              "      <td>132</td>\n",
              "      <td>1.2</td>\n",
              "    </tr>\n",
              "    <tr>\n",
              "      <th>914</th>\n",
              "      <td>68</td>\n",
              "      <td>144</td>\n",
              "      <td>193</td>\n",
              "      <td>1</td>\n",
              "      <td>141</td>\n",
              "      <td>3.4</td>\n",
              "    </tr>\n",
              "    <tr>\n",
              "      <th>915</th>\n",
              "      <td>57</td>\n",
              "      <td>130</td>\n",
              "      <td>131</td>\n",
              "      <td>0</td>\n",
              "      <td>115</td>\n",
              "      <td>1.2</td>\n",
              "    </tr>\n",
              "    <tr>\n",
              "      <th>916</th>\n",
              "      <td>57</td>\n",
              "      <td>130</td>\n",
              "      <td>236</td>\n",
              "      <td>0</td>\n",
              "      <td>174</td>\n",
              "      <td>0.0</td>\n",
              "    </tr>\n",
              "    <tr>\n",
              "      <th>917</th>\n",
              "      <td>38</td>\n",
              "      <td>138</td>\n",
              "      <td>175</td>\n",
              "      <td>0</td>\n",
              "      <td>173</td>\n",
              "      <td>0.0</td>\n",
              "    </tr>\n",
              "  </tbody>\n",
              "</table>\n",
              "<p>918 rows × 6 columns</p>\n",
              "</div>\n",
              "      <button class=\"colab-df-convert\" onclick=\"convertToInteractive('df-a9de92e9-180b-43ef-bf61-28c6f550cc15')\"\n",
              "              title=\"Convert this dataframe to an interactive table.\"\n",
              "              style=\"display:none;\">\n",
              "        \n",
              "  <svg xmlns=\"http://www.w3.org/2000/svg\" height=\"24px\"viewBox=\"0 0 24 24\"\n",
              "       width=\"24px\">\n",
              "    <path d=\"M0 0h24v24H0V0z\" fill=\"none\"/>\n",
              "    <path d=\"M18.56 5.44l.94 2.06.94-2.06 2.06-.94-2.06-.94-.94-2.06-.94 2.06-2.06.94zm-11 1L8.5 8.5l.94-2.06 2.06-.94-2.06-.94L8.5 2.5l-.94 2.06-2.06.94zm10 10l.94 2.06.94-2.06 2.06-.94-2.06-.94-.94-2.06-.94 2.06-2.06.94z\"/><path d=\"M17.41 7.96l-1.37-1.37c-.4-.4-.92-.59-1.43-.59-.52 0-1.04.2-1.43.59L10.3 9.45l-7.72 7.72c-.78.78-.78 2.05 0 2.83L4 21.41c.39.39.9.59 1.41.59.51 0 1.02-.2 1.41-.59l7.78-7.78 2.81-2.81c.8-.78.8-2.07 0-2.86zM5.41 20L4 18.59l7.72-7.72 1.47 1.35L5.41 20z\"/>\n",
              "  </svg>\n",
              "      </button>\n",
              "      \n",
              "  <style>\n",
              "    .colab-df-container {\n",
              "      display:flex;\n",
              "      flex-wrap:wrap;\n",
              "      gap: 12px;\n",
              "    }\n",
              "\n",
              "    .colab-df-convert {\n",
              "      background-color: #E8F0FE;\n",
              "      border: none;\n",
              "      border-radius: 50%;\n",
              "      cursor: pointer;\n",
              "      display: none;\n",
              "      fill: #1967D2;\n",
              "      height: 32px;\n",
              "      padding: 0 0 0 0;\n",
              "      width: 32px;\n",
              "    }\n",
              "\n",
              "    .colab-df-convert:hover {\n",
              "      background-color: #E2EBFA;\n",
              "      box-shadow: 0px 1px 2px rgba(60, 64, 67, 0.3), 0px 1px 3px 1px rgba(60, 64, 67, 0.15);\n",
              "      fill: #174EA6;\n",
              "    }\n",
              "\n",
              "    [theme=dark] .colab-df-convert {\n",
              "      background-color: #3B4455;\n",
              "      fill: #D2E3FC;\n",
              "    }\n",
              "\n",
              "    [theme=dark] .colab-df-convert:hover {\n",
              "      background-color: #434B5C;\n",
              "      box-shadow: 0px 1px 3px 1px rgba(0, 0, 0, 0.15);\n",
              "      filter: drop-shadow(0px 1px 2px rgba(0, 0, 0, 0.3));\n",
              "      fill: #FFFFFF;\n",
              "    }\n",
              "  </style>\n",
              "\n",
              "      <script>\n",
              "        const buttonEl =\n",
              "          document.querySelector('#df-a9de92e9-180b-43ef-bf61-28c6f550cc15 button.colab-df-convert');\n",
              "        buttonEl.style.display =\n",
              "          google.colab.kernel.accessAllowed ? 'block' : 'none';\n",
              "\n",
              "        async function convertToInteractive(key) {\n",
              "          const element = document.querySelector('#df-a9de92e9-180b-43ef-bf61-28c6f550cc15');\n",
              "          const dataTable =\n",
              "            await google.colab.kernel.invokeFunction('convertToInteractive',\n",
              "                                                     [key], {});\n",
              "          if (!dataTable) return;\n",
              "\n",
              "          const docLinkHtml = 'Like what you see? Visit the ' +\n",
              "            '<a target=\"_blank\" href=https://colab.research.google.com/notebooks/data_table.ipynb>data table notebook</a>'\n",
              "            + ' to learn more about interactive tables.';\n",
              "          element.innerHTML = '';\n",
              "          dataTable['output_type'] = 'display_data';\n",
              "          await google.colab.output.renderOutput(dataTable, element);\n",
              "          const docLink = document.createElement('div');\n",
              "          docLink.innerHTML = docLinkHtml;\n",
              "          element.appendChild(docLink);\n",
              "        }\n",
              "      </script>\n",
              "    </div>\n",
              "  </div>\n",
              "  "
            ]
          },
          "metadata": {},
          "execution_count": 89
        }
      ]
    },
    {
      "cell_type": "code",
      "source": [
        "from sklearn.model_selection import train_test_split\n",
        "x_train, x_test, y_train, y_test = train_test_split(x, y, \n",
        "                                                    test_size=0.2)"
      ],
      "metadata": {
        "id": "DRhGS6nW61AY"
      },
      "execution_count": null,
      "outputs": []
    },
    {
      "cell_type": "markdown",
      "source": [
        "Постройте следующие модели классификации:\n",
        "\n",
        "-случайное предсказание (подбрасывание кубика)\n",
        "\n",
        "-логистическая регрессия (LogisticRegression);\n",
        "\n",
        "-метод опорных векторов с линейным ядром (SVC(kernel='linear'));\n",
        "\n",
        "-метод линейного дискриминантного анализа (LinearDiscriminantAnalysis)\n",
        "\n",
        "-метод k ближайших соседей (KNeighborsClassifier с двумя классами)."
      ],
      "metadata": {
        "id": "PQtVuZyb7a-X"
      }
    },
    {
      "cell_type": "code",
      "source": [],
      "metadata": {
        "id": "siTK5OMz8dbX"
      },
      "execution_count": null,
      "outputs": []
    },
    {
      "cell_type": "code",
      "source": [
        "from sklearn.linear_model import LogisticRegression\n",
        "cls = LogisticRegression()"
      ],
      "metadata": {
        "id": "ZEzyNrsC7Js1"
      },
      "execution_count": null,
      "outputs": []
    },
    {
      "cell_type": "code",
      "source": [
        "cls.fit(x_train, y_train)"
      ],
      "metadata": {
        "colab": {
          "base_uri": "https://localhost:8080/"
        },
        "id": "ISzRcvTq8cfK",
        "outputId": "f72ef580-d882-4d6b-b982-25f8e4e3664a"
      },
      "execution_count": null,
      "outputs": [
        {
          "output_type": "stream",
          "name": "stderr",
          "text": [
            "/usr/local/lib/python3.7/dist-packages/sklearn/linear_model/_logistic.py:818: ConvergenceWarning: lbfgs failed to converge (status=1):\n",
            "STOP: TOTAL NO. of ITERATIONS REACHED LIMIT.\n",
            "\n",
            "Increase the number of iterations (max_iter) or scale the data as shown in:\n",
            "    https://scikit-learn.org/stable/modules/preprocessing.html\n",
            "Please also refer to the documentation for alternative solver options:\n",
            "    https://scikit-learn.org/stable/modules/linear_model.html#logistic-regression\n",
            "  extra_warning_msg=_LOGISTIC_SOLVER_CONVERGENCE_MSG,\n"
          ]
        },
        {
          "output_type": "execute_result",
          "data": {
            "text/plain": [
              "LogisticRegression()"
            ]
          },
          "metadata": {},
          "execution_count": 92
        }
      ]
    },
    {
      "cell_type": "code",
      "source": [
        "y_pred1 = cls.predict(x_test)\n",
        "y_pred1"
      ],
      "metadata": {
        "colab": {
          "base_uri": "https://localhost:8080/"
        },
        "id": "XpMSY1358fVi",
        "outputId": "3e9039cf-1699-4f45-9799-6fc6a432d28c"
      },
      "execution_count": null,
      "outputs": [
        {
          "output_type": "execute_result",
          "data": {
            "text/plain": [
              "array([0, 1, 1, 0, 1, 0, 0, 1, 1, 1, 1, 0, 1, 0, 1, 1, 1, 0, 1, 0, 1, 0,\n",
              "       0, 1, 1, 1, 1, 0, 0, 0, 1, 1, 1, 0, 0, 0, 0, 1, 1, 1, 0, 1, 0, 1,\n",
              "       0, 0, 1, 0, 1, 0, 0, 0, 1, 1, 1, 1, 0, 1, 1, 1, 1, 1, 0, 0, 1, 1,\n",
              "       1, 0, 0, 0, 1, 0, 0, 0, 0, 0, 0, 1, 1, 0, 0, 0, 0, 0, 1, 0, 0, 1,\n",
              "       1, 0, 1, 1, 0, 0, 0, 1, 1, 1, 1, 1, 0, 1, 1, 0, 1, 1, 0, 0, 0, 0,\n",
              "       1, 1, 0, 1, 1, 0, 0, 1, 1, 1, 1, 0, 1, 1, 1, 1, 0, 1, 1, 1, 1, 1,\n",
              "       1, 0, 0, 0, 0, 1, 1, 0, 1, 1, 1, 1, 1, 0, 1, 1, 1, 1, 1, 0, 1, 0,\n",
              "       0, 1, 0, 0, 1, 1, 0, 0, 1, 0, 0, 1, 0, 0, 0, 1, 0, 1, 1, 1, 1, 0,\n",
              "       0, 0, 0, 0, 0, 0, 0, 0])"
            ]
          },
          "metadata": {},
          "execution_count": 93
        }
      ]
    },
    {
      "cell_type": "code",
      "source": [
        "from sklearn.metrics import classification_report, confusion_matrix \n",
        "print(confusion_matrix(y_test,y_pred1)) \n",
        "print(classification_report(y_test,y_pred1))"
      ],
      "metadata": {
        "colab": {
          "base_uri": "https://localhost:8080/"
        },
        "id": "o9db3p5RDCmb",
        "outputId": "4bc0f420-981c-4e7c-f48e-fcd11a8617d1"
      },
      "execution_count": null,
      "outputs": [
        {
          "output_type": "stream",
          "name": "stdout",
          "text": [
            "[[67 21]\n",
            " [20 76]]\n",
            "              precision    recall  f1-score   support\n",
            "\n",
            "           0       0.77      0.76      0.77        88\n",
            "           1       0.78      0.79      0.79        96\n",
            "\n",
            "    accuracy                           0.78       184\n",
            "   macro avg       0.78      0.78      0.78       184\n",
            "weighted avg       0.78      0.78      0.78       184\n",
            "\n"
          ]
        }
      ]
    },
    {
      "cell_type": "code",
      "source": [
        "from sklearn.metrics import accuracy_score, roc_curve, auc, f1_score"
      ],
      "metadata": {
        "id": "DKVgXjpVDGFw"
      },
      "execution_count": null,
      "outputs": []
    },
    {
      "cell_type": "code",
      "source": [
        "y_pred_train = cls.predict(x_train)\n",
        "accuracy_score(y_train, y_pred_train)"
      ],
      "metadata": {
        "colab": {
          "base_uri": "https://localhost:8080/"
        },
        "id": "X-Luc_aJDQIS",
        "outputId": "320854de-e8b6-4c43-c3d9-30d64cd9e93f"
      },
      "execution_count": null,
      "outputs": [
        {
          "output_type": "execute_result",
          "data": {
            "text/plain": [
              "0.7561307901907357"
            ]
          },
          "metadata": {},
          "execution_count": 96
        }
      ]
    },
    {
      "cell_type": "code",
      "source": [
        "y_pred1 = cls.predict(x_test)\n",
        "accuracy_score(y_test, y_pred1)"
      ],
      "metadata": {
        "colab": {
          "base_uri": "https://localhost:8080/"
        },
        "id": "nh_tXp7tDUzK",
        "outputId": "0cd75ba5-f66e-466f-b5f4-84930cd5ff61"
      },
      "execution_count": null,
      "outputs": [
        {
          "output_type": "execute_result",
          "data": {
            "text/plain": [
              "0.7771739130434783"
            ]
          },
          "metadata": {},
          "execution_count": 97
        }
      ]
    },
    {
      "cell_type": "code",
      "source": [
        "f1 = f1_score(y_test, y_pred1)\n",
        "f1"
      ],
      "metadata": {
        "colab": {
          "base_uri": "https://localhost:8080/"
        },
        "id": "bfjs4MLlDWjY",
        "outputId": "2a5d838f-9e48-4178-d445-822b0688db2d"
      },
      "execution_count": null,
      "outputs": [
        {
          "output_type": "execute_result",
          "data": {
            "text/plain": [
              "0.7875647668393783"
            ]
          },
          "metadata": {},
          "execution_count": 98
        }
      ]
    },
    {
      "cell_type": "code",
      "source": [
        "y_pred1 = cls.predict(x_test)\n",
        "y_pred_proba = cls.predict_proba(x_test)\n",
        "y_pred_proba"
      ],
      "metadata": {
        "colab": {
          "base_uri": "https://localhost:8080/"
        },
        "id": "OTb9xS3eDlLM",
        "outputId": "9d868fad-32e7-494b-8410-2794926c504b"
      },
      "execution_count": null,
      "outputs": [
        {
          "output_type": "execute_result",
          "data": {
            "text/plain": [
              "array([[0.86464509, 0.13535491],\n",
              "       [0.4045251 , 0.5954749 ],\n",
              "       [0.19621683, 0.80378317],\n",
              "       [0.79760712, 0.20239288],\n",
              "       [0.14949443, 0.85050557],\n",
              "       [0.8311227 , 0.1688773 ],\n",
              "       [0.72132908, 0.27867092],\n",
              "       [0.05059179, 0.94940821],\n",
              "       [0.24637678, 0.75362322],\n",
              "       [0.23338328, 0.76661672],\n",
              "       [0.07325803, 0.92674197],\n",
              "       [0.53877476, 0.46122524],\n",
              "       [0.09435497, 0.90564503],\n",
              "       [0.89449843, 0.10550157],\n",
              "       [0.07147981, 0.92852019],\n",
              "       [0.22929913, 0.77070087],\n",
              "       [0.05956824, 0.94043176],\n",
              "       [0.84173456, 0.15826544],\n",
              "       [0.49843275, 0.50156725],\n",
              "       [0.58793089, 0.41206911],\n",
              "       [0.39279902, 0.60720098],\n",
              "       [0.77089681, 0.22910319],\n",
              "       [0.66390935, 0.33609065],\n",
              "       [0.03879247, 0.96120753],\n",
              "       [0.49791069, 0.50208931],\n",
              "       [0.02074727, 0.97925273],\n",
              "       [0.16314963, 0.83685037],\n",
              "       [0.86459912, 0.13540088],\n",
              "       [0.55995011, 0.44004989],\n",
              "       [0.55124452, 0.44875548],\n",
              "       [0.03424773, 0.96575227],\n",
              "       [0.34703755, 0.65296245],\n",
              "       [0.42769073, 0.57230927],\n",
              "       [0.55948934, 0.44051066],\n",
              "       [0.73010567, 0.26989433],\n",
              "       [0.66296358, 0.33703642],\n",
              "       [0.79283812, 0.20716188],\n",
              "       [0.17348691, 0.82651309],\n",
              "       [0.39813961, 0.60186039],\n",
              "       [0.3075917 , 0.6924083 ],\n",
              "       [0.86789848, 0.13210152],\n",
              "       [0.15078797, 0.84921203],\n",
              "       [0.5934751 , 0.4065249 ],\n",
              "       [0.19756939, 0.80243061],\n",
              "       [0.6240066 , 0.3759934 ],\n",
              "       [0.77601546, 0.22398454],\n",
              "       [0.49076577, 0.50923423],\n",
              "       [0.88016534, 0.11983466],\n",
              "       [0.2640715 , 0.7359285 ],\n",
              "       [0.82590958, 0.17409042],\n",
              "       [0.60363858, 0.39636142],\n",
              "       [0.86149195, 0.13850805],\n",
              "       [0.21661718, 0.78338282],\n",
              "       [0.21920199, 0.78079801],\n",
              "       [0.23585777, 0.76414223],\n",
              "       [0.06514884, 0.93485116],\n",
              "       [0.69353609, 0.30646391],\n",
              "       [0.23383199, 0.76616801],\n",
              "       [0.03430818, 0.96569182],\n",
              "       [0.00772904, 0.99227096],\n",
              "       [0.08630003, 0.91369997],\n",
              "       [0.21415122, 0.78584878],\n",
              "       [0.64477903, 0.35522097],\n",
              "       [0.87601953, 0.12398047],\n",
              "       [0.11324705, 0.88675295],\n",
              "       [0.21134606, 0.78865394],\n",
              "       [0.15166192, 0.84833808],\n",
              "       [0.61255952, 0.38744048],\n",
              "       [0.73470029, 0.26529971],\n",
              "       [0.86087009, 0.13912991],\n",
              "       [0.15144255, 0.84855745],\n",
              "       [0.84326208, 0.15673792],\n",
              "       [0.78492284, 0.21507716],\n",
              "       [0.89514796, 0.10485204],\n",
              "       [0.62800656, 0.37199344],\n",
              "       [0.86798388, 0.13201612],\n",
              "       [0.89136545, 0.10863455],\n",
              "       [0.25347524, 0.74652476],\n",
              "       [0.26107151, 0.73892849],\n",
              "       [0.56912033, 0.43087967],\n",
              "       [0.71480259, 0.28519741],\n",
              "       [0.51434357, 0.48565643],\n",
              "       [0.90453738, 0.09546262],\n",
              "       [0.66590729, 0.33409271],\n",
              "       [0.17667164, 0.82332836],\n",
              "       [0.67721723, 0.32278277],\n",
              "       [0.89246749, 0.10753251],\n",
              "       [0.35320902, 0.64679098],\n",
              "       [0.28904024, 0.71095976],\n",
              "       [0.7704819 , 0.2295181 ],\n",
              "       [0.15051426, 0.84948574],\n",
              "       [0.06601423, 0.93398577],\n",
              "       [0.88123117, 0.11876883],\n",
              "       [0.84479671, 0.15520329],\n",
              "       [0.70529456, 0.29470544],\n",
              "       [0.05609074, 0.94390926],\n",
              "       [0.01700465, 0.98299535],\n",
              "       [0.28684786, 0.71315214],\n",
              "       [0.11276705, 0.88723295],\n",
              "       [0.18527795, 0.81472205],\n",
              "       [0.86648867, 0.13351133],\n",
              "       [0.03334771, 0.96665229],\n",
              "       [0.12351184, 0.87648816],\n",
              "       [0.81759031, 0.18240969],\n",
              "       [0.19913058, 0.80086942],\n",
              "       [0.33824828, 0.66175172],\n",
              "       [0.809264  , 0.190736  ],\n",
              "       [0.73738887, 0.26261113],\n",
              "       [0.91985081, 0.08014919],\n",
              "       [0.77293527, 0.22706473],\n",
              "       [0.03776535, 0.96223465],\n",
              "       [0.40523492, 0.59476508],\n",
              "       [0.72541556, 0.27458444],\n",
              "       [0.03878469, 0.96121531],\n",
              "       [0.05578205, 0.94421795],\n",
              "       [0.52636296, 0.47363704],\n",
              "       [0.88938426, 0.11061574],\n",
              "       [0.10070318, 0.89929682],\n",
              "       [0.20917542, 0.79082458],\n",
              "       [0.04887637, 0.95112363],\n",
              "       [0.01097944, 0.98902056],\n",
              "       [0.76508127, 0.23491873],\n",
              "       [0.09260785, 0.90739215],\n",
              "       [0.09550465, 0.90449535],\n",
              "       [0.46903593, 0.53096407],\n",
              "       [0.09774061, 0.90225939],\n",
              "       [0.86409505, 0.13590495],\n",
              "       [0.07391354, 0.92608646],\n",
              "       [0.30081283, 0.69918717],\n",
              "       [0.29608318, 0.70391682],\n",
              "       [0.47912178, 0.52087822],\n",
              "       [0.4182024 , 0.5817976 ],\n",
              "       [0.40762803, 0.59237197],\n",
              "       [0.52068719, 0.47931281],\n",
              "       [0.9123332 , 0.0876668 ],\n",
              "       [0.56089381, 0.43910619],\n",
              "       [0.52204431, 0.47795569],\n",
              "       [0.28056604, 0.71943396],\n",
              "       [0.25196899, 0.74803101],\n",
              "       [0.90436139, 0.09563861],\n",
              "       [0.17614868, 0.82385132],\n",
              "       [0.04476895, 0.95523105],\n",
              "       [0.30020485, 0.69979515],\n",
              "       [0.19541661, 0.80458339],\n",
              "       [0.1398073 , 0.8601927 ],\n",
              "       [0.63578428, 0.36421572],\n",
              "       [0.33220994, 0.66779006],\n",
              "       [0.43734128, 0.56265872],\n",
              "       [0.46770979, 0.53229021],\n",
              "       [0.25133941, 0.74866059],\n",
              "       [0.30375075, 0.69624925],\n",
              "       [0.85209355, 0.14790645],\n",
              "       [0.19403331, 0.80596669],\n",
              "       [0.60370676, 0.39629324],\n",
              "       [0.85212855, 0.14787145],\n",
              "       [0.366514  , 0.633486  ],\n",
              "       [0.87732622, 0.12267378],\n",
              "       [0.88425691, 0.11574309],\n",
              "       [0.12939655, 0.87060345],\n",
              "       [0.14459129, 0.85540871],\n",
              "       [0.77759902, 0.22240098],\n",
              "       [0.71330142, 0.28669858],\n",
              "       [0.26475498, 0.73524502],\n",
              "       [0.79228761, 0.20771239],\n",
              "       [0.50159925, 0.49840075],\n",
              "       [0.0038011 , 0.9961989 ],\n",
              "       [0.56273625, 0.43726375],\n",
              "       [0.79731906, 0.20268094],\n",
              "       [0.68531539, 0.31468461],\n",
              "       [0.44631468, 0.55368532],\n",
              "       [0.5089241 , 0.4910759 ],\n",
              "       [0.33894359, 0.66105641],\n",
              "       [0.20908894, 0.79091106],\n",
              "       [0.20537928, 0.79462072],\n",
              "       [0.04874748, 0.95125252],\n",
              "       [0.56326823, 0.43673177],\n",
              "       [0.81676958, 0.18323042],\n",
              "       [0.84768576, 0.15231424],\n",
              "       [0.65769265, 0.34230735],\n",
              "       [0.63957958, 0.36042042],\n",
              "       [0.80752111, 0.19247889],\n",
              "       [0.84899869, 0.15100131],\n",
              "       [0.79866786, 0.20133214],\n",
              "       [0.84688557, 0.15311443]])"
            ]
          },
          "metadata": {},
          "execution_count": 99
        }
      ]
    },
    {
      "cell_type": "code",
      "source": [
        "probs = y_pred_proba[:, 1]\n",
        "fpr1, tpr1, treshold = roc_curve(y_test, probs)"
      ],
      "metadata": {
        "id": "FvX9JY--Dune"
      },
      "execution_count": null,
      "outputs": []
    },
    {
      "cell_type": "code",
      "source": [
        "import matplotlib.pyplot as plt\n",
        "plt.plot(fpr1, tpr1)\n",
        "plt.xlabel('False Positive Rate')\n",
        "plt.ylabel('True Positive Rate')\n",
        "plt.title('ROC-кривая')\n",
        "plt.show()"
      ],
      "metadata": {
        "colab": {
          "base_uri": "https://localhost:8080/",
          "height": 295
        },
        "id": "IFRHjhkvD3Ms",
        "outputId": "f47b3401-73a9-45f2-e686-a7cbf95f0813"
      },
      "execution_count": null,
      "outputs": [
        {
          "output_type": "display_data",
          "data": {
            "text/plain": [
              "<Figure size 432x288 with 1 Axes>"
            ],
            "image/png": "[encoded data removed]"
          },
          "metadata": {
            "needs_background": "light"
          }
        }
      ]
    },
    {
      "cell_type": "code",
      "source": [
        "roc_auc = auc(fpr1, tpr1)\n",
        "roc_auc"
      ],
      "metadata": {
        "colab": {
          "base_uri": "https://localhost:8080/"
        },
        "id": "2Q6x4Rr-D9r6",
        "outputId": "76b24680-57a9-4eb5-b28c-b0da4eee9dcd"
      },
      "execution_count": null,
      "outputs": [
        {
          "output_type": "execute_result",
          "data": {
            "text/plain": [
              "0.859375"
            ]
          },
          "metadata": {},
          "execution_count": 102
        }
      ]
    },
    {
      "cell_type": "code",
      "source": [
        "from sklearn.svm import SVC\n",
        "cll = SVC(kernel='linear', random_state=True,probability=True)\n",
        "cll.fit(x_train, y_train)"
      ],
      "metadata": {
        "colab": {
          "base_uri": "https://localhost:8080/"
        },
        "id": "KmwchpcPEHUo",
        "outputId": "9cc8296b-b0e6-4127-d72d-78a80a992c62"
      },
      "execution_count": null,
      "outputs": [
        {
          "output_type": "execute_result",
          "data": {
            "text/plain": [
              "SVC(kernel='linear', probability=True, random_state=True)"
            ]
          },
          "metadata": {},
          "execution_count": 110
        }
      ]
    },
    {
      "cell_type": "code",
      "source": [
        "y_pred2 = cll.predict(x_test)\n",
        "y_pred2"
      ],
      "metadata": {
        "colab": {
          "base_uri": "https://localhost:8080/"
        },
        "id": "a2dn5xv1EYNV",
        "outputId": "808cfed7-7aca-4b41-bdb9-850c1483ea5d"
      },
      "execution_count": null,
      "outputs": [
        {
          "output_type": "execute_result",
          "data": {
            "text/plain": [
              "array([0, 1, 1, 0, 1, 0, 0, 1, 1, 1, 1, 0, 1, 0, 1, 1, 1, 0, 0, 0, 1, 0,\n",
              "       0, 1, 0, 1, 1, 0, 0, 0, 1, 1, 1, 0, 0, 0, 0, 1, 1, 1, 0, 1, 0, 1,\n",
              "       0, 0, 0, 0, 1, 0, 0, 0, 1, 1, 1, 1, 0, 1, 1, 1, 1, 1, 0, 0, 1, 1,\n",
              "       1, 0, 0, 0, 1, 0, 0, 0, 0, 0, 0, 1, 1, 0, 0, 0, 0, 0, 1, 0, 0, 1,\n",
              "       1, 0, 1, 1, 0, 0, 0, 1, 1, 1, 1, 1, 0, 1, 1, 0, 1, 1, 0, 0, 0, 0,\n",
              "       1, 1, 0, 1, 1, 0, 0, 1, 1, 1, 1, 0, 1, 1, 1, 1, 0, 1, 1, 1, 0, 1,\n",
              "       1, 0, 0, 0, 0, 1, 1, 0, 1, 1, 1, 1, 1, 0, 1, 1, 1, 1, 1, 0, 1, 0,\n",
              "       0, 1, 0, 0, 1, 1, 0, 0, 1, 0, 0, 1, 0, 0, 0, 1, 0, 1, 1, 1, 1, 0,\n",
              "       0, 0, 0, 0, 0, 0, 0, 0])"
            ]
          },
          "metadata": {},
          "execution_count": 111
        }
      ]
    },
    {
      "cell_type": "code",
      "source": [
        "from sklearn.metrics import classification_report, confusion_matrix \n",
        "print(confusion_matrix(y_test,y_pred2)) \n",
        "print(classification_report(y_test,y_pred2))"
      ],
      "metadata": {
        "colab": {
          "base_uri": "https://localhost:8080/"
        },
        "id": "owsp8rPnEa_P",
        "outputId": "ff695fda-4485-4434-8faa-04e465bd7118"
      },
      "execution_count": null,
      "outputs": [
        {
          "output_type": "stream",
          "name": "stdout",
          "text": [
            "[[71 17]\n",
            " [20 76]]\n",
            "              precision    recall  f1-score   support\n",
            "\n",
            "           0       0.78      0.81      0.79        88\n",
            "           1       0.82      0.79      0.80        96\n",
            "\n",
            "    accuracy                           0.80       184\n",
            "   macro avg       0.80      0.80      0.80       184\n",
            "weighted avg       0.80      0.80      0.80       184\n",
            "\n"
          ]
        }
      ]
    },
    {
      "cell_type": "code",
      "source": [
        "y_pred_train = cll.predict(x_train)\n",
        "accuracy_score(y_train, y_pred_train)"
      ],
      "metadata": {
        "colab": {
          "base_uri": "https://localhost:8080/"
        },
        "id": "THAK1VPdEgWa",
        "outputId": "2d246da7-de99-452c-de3c-3d525af04451"
      },
      "execution_count": null,
      "outputs": [
        {
          "output_type": "execute_result",
          "data": {
            "text/plain": [
              "0.7602179836512262"
            ]
          },
          "metadata": {},
          "execution_count": 113
        }
      ]
    },
    {
      "cell_type": "code",
      "source": [
        "y_pred = cll.predict(x_test)\n",
        "accuracy_score(y_test, y_pred2)"
      ],
      "metadata": {
        "colab": {
          "base_uri": "https://localhost:8080/"
        },
        "id": "BUh5lBLxEtKq",
        "outputId": "9960f68d-e73f-4f76-cf5d-6f5dccee254c"
      },
      "execution_count": null,
      "outputs": [
        {
          "output_type": "execute_result",
          "data": {
            "text/plain": [
              "0.7989130434782609"
            ]
          },
          "metadata": {},
          "execution_count": 114
        }
      ]
    },
    {
      "cell_type": "code",
      "source": [
        "f1 = f1_score(y_test, y_pred2)\n",
        "f1"
      ],
      "metadata": {
        "colab": {
          "base_uri": "https://localhost:8080/"
        },
        "id": "9DxHH3TxEzmi",
        "outputId": "e95e74c7-3e23-47e7-8c18-f01b9cf4a7cc"
      },
      "execution_count": null,
      "outputs": [
        {
          "output_type": "execute_result",
          "data": {
            "text/plain": [
              "0.8042328042328043"
            ]
          },
          "metadata": {},
          "execution_count": 115
        }
      ]
    },
    {
      "cell_type": "code",
      "source": [
        "y_pred1 = cll.predict(x_test)\n",
        "y_pred_proba = cll.predict_proba(x_test)\n",
        "y_pred_proba"
      ],
      "metadata": {
        "colab": {
          "base_uri": "https://localhost:8080/"
        },
        "id": "-kGwF6_VRxVI",
        "outputId": "06832db7-c54a-4c49-92eb-037047e47a7d"
      },
      "execution_count": null,
      "outputs": [
        {
          "output_type": "execute_result",
          "data": {
            "text/plain": [
              "array([[0.84644479, 0.15355521],\n",
              "       [0.40724302, 0.59275698],\n",
              "       [0.1729635 , 0.8270365 ],\n",
              "       [0.76976176, 0.23023824],\n",
              "       [0.17353279, 0.82646721],\n",
              "       [0.81338089, 0.18661911],\n",
              "       [0.6796353 , 0.3203647 ],\n",
              "       [0.05987446, 0.94012554],\n",
              "       [0.27283213, 0.72716787],\n",
              "       [0.24137463, 0.75862537],\n",
              "       [0.09380589, 0.90619411],\n",
              "       [0.53627253, 0.46372747],\n",
              "       [0.10978137, 0.89021863],\n",
              "       [0.86998426, 0.13001574],\n",
              "       [0.09550254, 0.90449746],\n",
              "       [0.24622293, 0.75377707],\n",
              "       [0.07180319, 0.92819681],\n",
              "       [0.82731306, 0.17268694],\n",
              "       [0.52711204, 0.47288796],\n",
              "       [0.56886622, 0.43113378],\n",
              "       [0.39694799, 0.60305201],\n",
              "       [0.74120831, 0.25879169],\n",
              "       [0.66860359, 0.33139641],\n",
              "       [0.04091975, 0.95908025],\n",
              "       [0.51941689, 0.48058311],\n",
              "       [0.02640314, 0.97359686],\n",
              "       [0.17870115, 0.82129885],\n",
              "       [0.84425308, 0.15574692],\n",
              "       [0.57385868, 0.42614132],\n",
              "       [0.56562833, 0.43437167],\n",
              "       [0.0346535 , 0.9653465 ],\n",
              "       [0.38747468, 0.61252532],\n",
              "       [0.45555351, 0.54444649],\n",
              "       [0.55001553, 0.44998447],\n",
              "       [0.69976524, 0.30023476],\n",
              "       [0.66444929, 0.33555071],\n",
              "       [0.78183407, 0.21816593],\n",
              "       [0.20360053, 0.79639947],\n",
              "       [0.42113409, 0.57886591],\n",
              "       [0.30034835, 0.69965165],\n",
              "       [0.84706106, 0.15293894],\n",
              "       [0.15370548, 0.84629452],\n",
              "       [0.61136402, 0.38863598],\n",
              "       [0.21541074, 0.78458926],\n",
              "       [0.61616768, 0.38383232],\n",
              "       [0.76765894, 0.23234106],\n",
              "       [0.50707208, 0.49292792],\n",
              "       [0.86225295, 0.13774705],\n",
              "       [0.28694859, 0.71305141],\n",
              "       [0.81234853, 0.18765147],\n",
              "       [0.61103041, 0.38896959],\n",
              "       [0.84509823, 0.15490177],\n",
              "       [0.23940262, 0.76059738],\n",
              "       [0.23182987, 0.76817013],\n",
              "       [0.23193653, 0.76806347],\n",
              "       [0.07215316, 0.92784684],\n",
              "       [0.69430931, 0.30569069],\n",
              "       [0.24439122, 0.75560878],\n",
              "       [0.04304088, 0.95695912],\n",
              "       [0.01162154, 0.98837846],\n",
              "       [0.10529417, 0.89470583],\n",
              "       [0.22643113, 0.77356887],\n",
              "       [0.64729154, 0.35270846],\n",
              "       [0.85467955, 0.14532045],\n",
              "       [0.12702869, 0.87297131],\n",
              "       [0.20776987, 0.79223013],\n",
              "       [0.14943438, 0.85056562],\n",
              "       [0.61680783, 0.38319217],\n",
              "       [0.71533596, 0.28466404],\n",
              "       [0.83419217, 0.16580783],\n",
              "       [0.14591092, 0.85408908],\n",
              "       [0.82116227, 0.17883773],\n",
              "       [0.76941413, 0.23058587],\n",
              "       [0.87935795, 0.12064205],\n",
              "       [0.6025887 , 0.3974113 ],\n",
              "       [0.8425185 , 0.1574815 ],\n",
              "       [0.86895289, 0.13104711],\n",
              "       [0.25311406, 0.74688594],\n",
              "       [0.29095981, 0.70904019],\n",
              "       [0.57541217, 0.42458783],\n",
              "       [0.70979065, 0.29020935],\n",
              "       [0.50912689, 0.49087311],\n",
              "       [0.88495249, 0.11504751],\n",
              "       [0.64099324, 0.35900676],\n",
              "       [0.18396324, 0.81603676],\n",
              "       [0.6363345 , 0.3636655 ],\n",
              "       [0.87288946, 0.12711054],\n",
              "       [0.35605932, 0.64394068],\n",
              "       [0.30391527, 0.69608473],\n",
              "       [0.73243858, 0.26756142],\n",
              "       [0.17350647, 0.82649353],\n",
              "       [0.07161714, 0.92838286],\n",
              "       [0.86420462, 0.13579538],\n",
              "       [0.82248398, 0.17751602],\n",
              "       [0.69109785, 0.30890215],\n",
              "       [0.05839144, 0.94160856],\n",
              "       [0.02383774, 0.97616226],\n",
              "       [0.30197329, 0.69802671],\n",
              "       [0.13336348, 0.86663652],\n",
              "       [0.19668309, 0.80331691],\n",
              "       [0.84881399, 0.15118601],\n",
              "       [0.04146415, 0.95853585],\n",
              "       [0.15952273, 0.84047727],\n",
              "       [0.78932038, 0.21067962],\n",
              "       [0.23677826, 0.76322174],\n",
              "       [0.34155738, 0.65844262],\n",
              "       [0.79923799, 0.20076201],\n",
              "       [0.72975676, 0.27024324],\n",
              "       [0.9016107 , 0.0983893 ],\n",
              "       [0.74872427, 0.25127573],\n",
              "       [0.05113769, 0.94886231],\n",
              "       [0.42146865, 0.57853135],\n",
              "       [0.73285745, 0.26714255],\n",
              "       [0.03811771, 0.96188229],\n",
              "       [0.06710861, 0.93289139],\n",
              "       [0.54972592, 0.45027408],\n",
              "       [0.87030923, 0.12969077],\n",
              "       [0.10211835, 0.89788165],\n",
              "       [0.23948084, 0.76051916],\n",
              "       [0.0563015 , 0.9436985 ],\n",
              "       [0.01220956, 0.98779044],\n",
              "       [0.75157801, 0.24842199],\n",
              "       [0.12043219, 0.87956781],\n",
              "       [0.11321747, 0.88678253],\n",
              "       [0.45262259, 0.54737741],\n",
              "       [0.09946302, 0.90053698],\n",
              "       [0.84504614, 0.15495386],\n",
              "       [0.08035493, 0.91964507],\n",
              "       [0.29060379, 0.70939621],\n",
              "       [0.31629329, 0.68370671],\n",
              "       [0.48535429, 0.51464571],\n",
              "       [0.43871438, 0.56128562],\n",
              "       [0.39954324, 0.60045676],\n",
              "       [0.5115091 , 0.4884909 ],\n",
              "       [0.89506099, 0.10493901],\n",
              "       [0.54754699, 0.45245301],\n",
              "       [0.52895044, 0.47104956],\n",
              "       [0.27806559, 0.72193441],\n",
              "       [0.25279995, 0.74720005],\n",
              "       [0.88076714, 0.11923286],\n",
              "       [0.22483608, 0.77516392],\n",
              "       [0.04371845, 0.95628155],\n",
              "       [0.32160129, 0.67839871],\n",
              "       [0.19808156, 0.80191844],\n",
              "       [0.17282318, 0.82717682],\n",
              "       [0.62670321, 0.37329679],\n",
              "       [0.33602096, 0.66397904],\n",
              "       [0.44658432, 0.55341568],\n",
              "       [0.43321458, 0.56678542],\n",
              "       [0.27982468, 0.72017532],\n",
              "       [0.32106053, 0.67893947],\n",
              "       [0.82294443, 0.17705557],\n",
              "       [0.19277147, 0.80722853],\n",
              "       [0.56461271, 0.43538729],\n",
              "       [0.81790033, 0.18209967],\n",
              "       [0.38521771, 0.61478229],\n",
              "       [0.86335653, 0.13664347],\n",
              "       [0.8877957 , 0.1122043 ],\n",
              "       [0.13804442, 0.86195558],\n",
              "       [0.17455704, 0.82544296],\n",
              "       [0.76868939, 0.23131061],\n",
              "       [0.70762265, 0.29237735],\n",
              "       [0.27626423, 0.72373577],\n",
              "       [0.77036628, 0.22963372],\n",
              "       [0.5       , 0.5       ],\n",
              "       [0.00401819, 0.99598181],\n",
              "       [0.57649815, 0.42350185],\n",
              "       [0.79081158, 0.20918842],\n",
              "       [0.66878352, 0.33121648],\n",
              "       [0.44278164, 0.55721836],\n",
              "       [0.53755034, 0.46244966],\n",
              "       [0.38430966, 0.61569034],\n",
              "       [0.22047357, 0.77952643],\n",
              "       [0.22193803, 0.77806197],\n",
              "       [0.05111837, 0.94888163],\n",
              "       [0.54928428, 0.45071572],\n",
              "       [0.796253  , 0.203747  ],\n",
              "       [0.83921496, 0.16078504],\n",
              "       [0.64587159, 0.35412841],\n",
              "       [0.60883634, 0.39116366],\n",
              "       [0.79019321, 0.20980679],\n",
              "       [0.83178481, 0.16821519],\n",
              "       [0.78185546, 0.21814454],\n",
              "       [0.83345913, 0.16654087]])"
            ]
          },
          "metadata": {},
          "execution_count": 116
        }
      ]
    },
    {
      "cell_type": "code",
      "source": [
        "probs = y_pred_proba[:, 1]\n",
        "fpr2, tpr2, treshold = roc_curve(y_test, probs)"
      ],
      "metadata": {
        "id": "GecA-wVnFAkZ"
      },
      "execution_count": null,
      "outputs": []
    },
    {
      "cell_type": "code",
      "source": [
        "plt.plot(fpr2, tpr2)\n",
        "plt.xlabel('False Positive Rate')\n",
        "plt.ylabel('True Positive Rate')\n",
        "plt.title('ROC-кривая')\n",
        "plt.show()"
      ],
      "metadata": {
        "colab": {
          "base_uri": "https://localhost:8080/",
          "height": 295
        },
        "id": "GqgCcyOWFNPh",
        "outputId": "70918ac9-c021-4337-c9ce-532a7c898f8f"
      },
      "execution_count": null,
      "outputs": [
        {
          "output_type": "display_data",
          "data": {
            "text/plain": [
              "<Figure size 432x288 with 1 Axes>"
            ],
            "image/png": "[encoded data removed]"
          },
          "metadata": {
            "needs_background": "light"
          }
        }
      ]
    },
    {
      "cell_type": "code",
      "source": [
        "roc_auc = auc(fpr2, tpr2)\n",
        "roc_auc"
      ],
      "metadata": {
        "colab": {
          "base_uri": "https://localhost:8080/"
        },
        "id": "WlE2Mg7WFObB",
        "outputId": "9ffe3a32-a9d5-4d08-a6ef-b662ab2aa089"
      },
      "execution_count": null,
      "outputs": [
        {
          "output_type": "execute_result",
          "data": {
            "text/plain": [
              "0.8479115479115479"
            ]
          },
          "metadata": {},
          "execution_count": 49
        }
      ]
    },
    {
      "cell_type": "code",
      "source": [
        "from sklearn.discriminant_analysis import LinearDiscriminantAnalysis\n",
        "lda = LinearDiscriminantAnalysis()\n",
        "X_lda = lda.fit_transform(x_train, y_train)"
      ],
      "metadata": {
        "id": "gMK4DHMGFQh7"
      },
      "execution_count": null,
      "outputs": []
    },
    {
      "cell_type": "code",
      "source": [
        "y_pred3 = lda.predict(x_test)\n",
        "y_pred3"
      ],
      "metadata": {
        "colab": {
          "base_uri": "https://localhost:8080/"
        },
        "id": "YGZTyxoLGFQp",
        "outputId": "11bb2d7f-1936-463b-fabe-7d8567119557"
      },
      "execution_count": null,
      "outputs": [
        {
          "output_type": "execute_result",
          "data": {
            "text/plain": [
              "array([0, 0, 0, 1, 1, 1, 0, 1, 1, 0, 1, 1, 0, 0, 0, 0, 1, 0, 0, 1, 1, 1,\n",
              "       1, 0, 1, 0, 0, 1, 0, 1, 0, 1, 1, 1, 0, 1, 1, 0, 0, 1, 1, 1, 1, 1,\n",
              "       0, 1, 0, 0, 0, 1, 0, 0, 0, 1, 0, 0, 0, 0, 1, 1, 0, 0, 1, 1, 1, 1,\n",
              "       1, 1, 1, 0, 0, 1, 1, 1, 1, 1, 1, 0, 1, 0, 0, 1, 0, 1, 0, 1, 0, 0,\n",
              "       0, 1, 1, 0, 1, 0, 0, 1, 0, 1, 1, 1, 1, 1, 1, 1, 1, 0, 0, 1, 0, 0,\n",
              "       0, 1, 0, 1, 1, 0, 0, 1, 1, 0, 1, 1, 1, 1, 0, 1, 0, 0, 1, 0, 1, 1,\n",
              "       0, 0, 0, 0, 1, 0, 0, 1, 0, 1, 1, 0, 1, 0, 1, 0, 0, 1, 0, 1, 1, 1,\n",
              "       0, 1, 1, 0, 0, 0, 0, 1, 1, 1, 1, 1, 1, 0, 1, 0, 1, 0, 1, 1, 1, 0,\n",
              "       1, 1, 1, 0, 1, 1, 0, 1])"
            ]
          },
          "metadata": {},
          "execution_count": 51
        }
      ]
    },
    {
      "cell_type": "code",
      "source": [
        "from sklearn.metrics import classification_report, confusion_matrix \n",
        "print(confusion_matrix(y_test,y_pred3)) \n",
        "print(classification_report(y_test,y_pred3))"
      ],
      "metadata": {
        "colab": {
          "base_uri": "https://localhost:8080/"
        },
        "id": "yEwX8MfhGJAH",
        "outputId": "49a3c78a-75a2-4518-88c4-f93156e7316f"
      },
      "execution_count": null,
      "outputs": [
        {
          "output_type": "stream",
          "name": "stdout",
          "text": [
            "[[58 16]\n",
            " [24 86]]\n",
            "              precision    recall  f1-score   support\n",
            "\n",
            "           0       0.71      0.78      0.74        74\n",
            "           1       0.84      0.78      0.81       110\n",
            "\n",
            "    accuracy                           0.78       184\n",
            "   macro avg       0.78      0.78      0.78       184\n",
            "weighted avg       0.79      0.78      0.78       184\n",
            "\n"
          ]
        }
      ]
    },
    {
      "cell_type": "code",
      "source": [
        "y_pred_train = cll.predict(x_train)\n",
        "accuracy_score(y_train, y_pred_train)"
      ],
      "metadata": {
        "colab": {
          "base_uri": "https://localhost:8080/"
        },
        "id": "nkMA80T_GSss",
        "outputId": "7fd92e3b-3cd3-48a8-f6ec-9538439fa5b4"
      },
      "execution_count": null,
      "outputs": [
        {
          "output_type": "execute_result",
          "data": {
            "text/plain": [
              "0.771117166212534"
            ]
          },
          "metadata": {},
          "execution_count": 53
        }
      ]
    },
    {
      "cell_type": "code",
      "source": [
        "y_pred = cll.predict(x_test)\n",
        "accuracy_score(y_test, y_pred3)"
      ],
      "metadata": {
        "colab": {
          "base_uri": "https://localhost:8080/"
        },
        "id": "WE9dlR3VGVot",
        "outputId": "41bf99dd-e4a3-40df-cc70-b49368720c30"
      },
      "execution_count": null,
      "outputs": [
        {
          "output_type": "execute_result",
          "data": {
            "text/plain": [
              "0.782608695652174"
            ]
          },
          "metadata": {},
          "execution_count": 54
        }
      ]
    },
    {
      "cell_type": "code",
      "source": [
        "f1 = f1_score(y_test, y_pred3)\n",
        "f1"
      ],
      "metadata": {
        "colab": {
          "base_uri": "https://localhost:8080/"
        },
        "id": "w626bL3mGXSe",
        "outputId": "81ed35d1-716a-4805-f832-08ffa26835bc"
      },
      "execution_count": null,
      "outputs": [
        {
          "output_type": "execute_result",
          "data": {
            "text/plain": [
              "0.8113207547169811"
            ]
          },
          "metadata": {},
          "execution_count": 55
        }
      ]
    },
    {
      "cell_type": "code",
      "source": [
        "y_pred1 = lda.predict(x_test)\n",
        "y_pred_proba = lda.predict_proba(x_test)\n",
        "y_pred_proba"
      ],
      "metadata": {
        "colab": {
          "base_uri": "https://localhost:8080/"
        },
        "id": "-GUyp8bNTw5Q",
        "outputId": "a2e2bdb9-55cb-4151-d448-5b4f52f750dd"
      },
      "execution_count": null,
      "outputs": [
        {
          "output_type": "execute_result",
          "data": {
            "text/plain": [
              "array([[0.90977585, 0.09022415],\n",
              "       [0.41714851, 0.58285149],\n",
              "       [0.25372729, 0.74627271],\n",
              "       [0.85590037, 0.14409963],\n",
              "       [0.15405555, 0.84594445],\n",
              "       [0.86824303, 0.13175697],\n",
              "       [0.72550773, 0.27449227],\n",
              "       [0.07123264, 0.92876736],\n",
              "       [0.20548577, 0.79451423],\n",
              "       [0.18714866, 0.81285134],\n",
              "       [0.07197849, 0.92802151],\n",
              "       [0.48517714, 0.51482286],\n",
              "       [0.08753275, 0.91246725],\n",
              "       [0.91564193, 0.08435807],\n",
              "       [0.05046008, 0.94953992],\n",
              "       [0.16392662, 0.83607338],\n",
              "       [0.08541871, 0.91458129],\n",
              "       [0.87540001, 0.12459999],\n",
              "       [0.5348087 , 0.4651913 ],\n",
              "       [0.62214556, 0.37785444],\n",
              "       [0.43349928, 0.56650072],\n",
              "       [0.79530374, 0.20469626],\n",
              "       [0.71856839, 0.28143161],\n",
              "       [0.05764688, 0.94235312],\n",
              "       [0.56918373, 0.43081627],\n",
              "       [0.01712142, 0.98287858],\n",
              "       [0.19972174, 0.80027826],\n",
              "       [0.89802292, 0.10197708],\n",
              "       [0.58093348, 0.41906652],\n",
              "       [0.55905374, 0.44094626],\n",
              "       [0.03070232, 0.96929768],\n",
              "       [0.33918482, 0.66081518],\n",
              "       [0.45306318, 0.54693682],\n",
              "       [0.56312389, 0.43687611],\n",
              "       [0.76389258, 0.23610742],\n",
              "       [0.70196799, 0.29803201],\n",
              "       [0.83905579, 0.16094421],\n",
              "       [0.15431291, 0.84568709],\n",
              "       [0.40586867, 0.59413133],\n",
              "       [0.31948803, 0.68051197],\n",
              "       [0.90489895, 0.09510105],\n",
              "       [0.19335837, 0.80664163],\n",
              "       [0.6277591 , 0.3722409 ],\n",
              "       [0.19826307, 0.80173693],\n",
              "       [0.63660027, 0.36339973],\n",
              "       [0.81730573, 0.18269427],\n",
              "       [0.51868396, 0.48131604],\n",
              "       [0.9212574 , 0.0787426 ],\n",
              "       [0.22650065, 0.77349935],\n",
              "       [0.88754673, 0.11245327],\n",
              "       [0.60641891, 0.39358109],\n",
              "       [0.90485534, 0.09514466],\n",
              "       [0.22886513, 0.77113487],\n",
              "       [0.23038476, 0.76961524],\n",
              "       [0.2562093 , 0.7437907 ],\n",
              "       [0.07376398, 0.92623602],\n",
              "       [0.73847334, 0.26152666],\n",
              "       [0.2213006 , 0.7786994 ],\n",
              "       [0.04275285, 0.95724715],\n",
              "       [0.00570467, 0.99429533],\n",
              "       [0.09809949, 0.90190051],\n",
              "       [0.21466455, 0.78533545],\n",
              "       [0.67648684, 0.32351316],\n",
              "       [0.91089609, 0.08910391],\n",
              "       [0.09389917, 0.90610083],\n",
              "       [0.23121206, 0.76878794],\n",
              "       [0.16624598, 0.83375402],\n",
              "       [0.66681889, 0.33318111],\n",
              "       [0.74441885, 0.25558115],\n",
              "       [0.88197827, 0.11802173],\n",
              "       [0.17256851, 0.82743149],\n",
              "       [0.86834654, 0.13165346],\n",
              "       [0.83192556, 0.16807444],\n",
              "       [0.92896938, 0.07103062],\n",
              "       [0.68349451, 0.31650549],\n",
              "       [0.89527987, 0.10472013],\n",
              "       [0.91029025, 0.08970975],\n",
              "       [0.25400798, 0.74599202],\n",
              "       [0.30996984, 0.69003016],\n",
              "       [0.58277303, 0.41722697],\n",
              "       [0.76039396, 0.23960604],\n",
              "       [0.55584323, 0.44415677],\n",
              "       [0.9345216 , 0.0654784 ],\n",
              "       [0.75840074, 0.24159926],\n",
              "       [0.19214329, 0.80785671],\n",
              "       [0.73601734, 0.26398266],\n",
              "       [0.92495332, 0.07504668],\n",
              "       [0.33923662, 0.66076338],\n",
              "       [0.36331349, 0.63668651],\n",
              "       [0.81339941, 0.18660059],\n",
              "       [0.1307393 , 0.8692607 ],\n",
              "       [0.07624492, 0.92375508],\n",
              "       [0.92458232, 0.07541768],\n",
              "       [0.87890238, 0.12109762],\n",
              "       [0.72137894, 0.27862106],\n",
              "       [0.05408398, 0.94591602],\n",
              "       [0.01229086, 0.98770914],\n",
              "       [0.23267487, 0.76732513],\n",
              "       [0.11967649, 0.88032351],\n",
              "       [0.23313454, 0.76686546],\n",
              "       [0.91154616, 0.08845384],\n",
              "       [0.03590609, 0.96409391],\n",
              "       [0.11714665, 0.88285335],\n",
              "       [0.85163791, 0.14836209],\n",
              "       [0.16411374, 0.83588626],\n",
              "       [0.33800713, 0.66199287],\n",
              "       [0.85914648, 0.14085352],\n",
              "       [0.77488968, 0.22511032],\n",
              "       [0.93386291, 0.06613709],\n",
              "       [0.85303681, 0.14696319],\n",
              "       [0.02618758, 0.97381242],\n",
              "       [0.3406454 , 0.6593546 ],\n",
              "       [0.7893449 , 0.2106551 ],\n",
              "       [0.04595667, 0.95404333],\n",
              "       [0.05322811, 0.94677189],\n",
              "       [0.53823312, 0.46176688],\n",
              "       [0.92152337, 0.07847663],\n",
              "       [0.0774411 , 0.9225589 ],\n",
              "       [0.20302429, 0.79697571],\n",
              "       [0.0359718 , 0.9640282 ],\n",
              "       [0.01169185, 0.98830815],\n",
              "       [0.79486095, 0.20513905],\n",
              "       [0.10464415, 0.89535585],\n",
              "       [0.10084703, 0.89915297],\n",
              "       [0.56045908, 0.43954092],\n",
              "       [0.11222476, 0.88777524],\n",
              "       [0.90183104, 0.09816896],\n",
              "       [0.07494671, 0.92505329],\n",
              "       [0.32677418, 0.67322582],\n",
              "       [0.38034498, 0.61965502],\n",
              "       [0.54880606, 0.45119394],\n",
              "       [0.4963741 , 0.5036259 ],\n",
              "       [0.36526799, 0.63473201],\n",
              "       [0.60754101, 0.39245899],\n",
              "       [0.94630988, 0.05369012],\n",
              "       [0.63812597, 0.36187403],\n",
              "       [0.48655371, 0.51344629],\n",
              "       [0.23093373, 0.76906627],\n",
              "       [0.21320806, 0.78679194],\n",
              "       [0.93128545, 0.06871455],\n",
              "       [0.12129539, 0.87870461],\n",
              "       [0.05644901, 0.94355099],\n",
              "       [0.26583988, 0.73416012],\n",
              "       [0.21502228, 0.78497772],\n",
              "       [0.13042184, 0.86957816],\n",
              "       [0.66021299, 0.33978701],\n",
              "       [0.27654094, 0.72345906],\n",
              "       [0.48450047, 0.51549953],\n",
              "       [0.51346342, 0.48653658],\n",
              "       [0.29461125, 0.70538875],\n",
              "       [0.29887774, 0.70112226],\n",
              "       [0.91115494, 0.08884506],\n",
              "       [0.29199916, 0.70800084],\n",
              "       [0.60651131, 0.39348869],\n",
              "       [0.84431632, 0.15568368],\n",
              "       [0.35271531, 0.64728469],\n",
              "       [0.91813555, 0.08186445],\n",
              "       [0.92802558, 0.07197442],\n",
              "       [0.11550349, 0.88449651],\n",
              "       [0.183047  , 0.816953  ],\n",
              "       [0.81772235, 0.18227765],\n",
              "       [0.73094673, 0.26905327],\n",
              "       [0.27897299, 0.72102701],\n",
              "       [0.8071483 , 0.1928517 ],\n",
              "       [0.55278409, 0.44721591],\n",
              "       [0.00527281, 0.99472719],\n",
              "       [0.55619222, 0.44380778],\n",
              "       [0.84216286, 0.15783714],\n",
              "       [0.72336429, 0.27663571],\n",
              "       [0.52309965, 0.47690035],\n",
              "       [0.60437835, 0.39562165],\n",
              "       [0.33104991, 0.66895009],\n",
              "       [0.2023779 , 0.7976221 ],\n",
              "       [0.20305007, 0.79694993],\n",
              "       [0.042582  , 0.957418  ],\n",
              "       [0.55502123, 0.44497877],\n",
              "       [0.85220385, 0.14779615],\n",
              "       [0.89795608, 0.10204392],\n",
              "       [0.67564621, 0.32435379],\n",
              "       [0.76290249, 0.23709751],\n",
              "       [0.83707742, 0.16292258],\n",
              "       [0.88526177, 0.11473823],\n",
              "       [0.83388946, 0.16611054],\n",
              "       [0.8854887 , 0.1145113 ]])"
            ]
          },
          "metadata": {},
          "execution_count": 138
        }
      ]
    },
    {
      "cell_type": "code",
      "source": [
        "probs = y_pred_proba[:, 1]\n",
        "fpr3, tpr3, treshold = roc_curve(y_test, probs)"
      ],
      "metadata": {
        "id": "odf7JFIeGZCs"
      },
      "execution_count": null,
      "outputs": []
    },
    {
      "cell_type": "code",
      "source": [
        "plt.plot(fpr3, tpr3)\n",
        "plt.xlabel('False Positive Rate')\n",
        "plt.ylabel('True Positive Rate')\n",
        "plt.title('ROC-кривая')\n",
        "plt.show()"
      ],
      "metadata": {
        "colab": {
          "base_uri": "https://localhost:8080/",
          "height": 295
        },
        "id": "LxHGuUH4Ga9t",
        "outputId": "b1e74a83-d5f9-4db7-b37c-222ce5b981dd"
      },
      "execution_count": null,
      "outputs": [
        {
          "output_type": "display_data",
          "data": {
            "text/plain": [
              "<Figure size 432x288 with 1 Axes>"
            ],
            "image/png": "[encoded data removed]"
          },
          "metadata": {
            "needs_background": "light"
          }
        }
      ]
    },
    {
      "cell_type": "code",
      "source": [
        "roc_auc = auc(fpr3, tpr3)\n",
        "roc_auc"
      ],
      "metadata": {
        "colab": {
          "base_uri": "https://localhost:8080/"
        },
        "id": "LGH7dUvAGc3T",
        "outputId": "521a4cb4-59c8-4870-9db0-896f37e9da6b"
      },
      "execution_count": null,
      "outputs": [
        {
          "output_type": "execute_result",
          "data": {
            "text/plain": [
              "0.8635179924242424"
            ]
          },
          "metadata": {},
          "execution_count": 141
        }
      ]
    },
    {
      "cell_type": "code",
      "source": [
        "from sklearn.neighbors import KNeighborsClassifier"
      ],
      "metadata": {
        "id": "cgqJM1SrGgqL"
      },
      "execution_count": null,
      "outputs": []
    },
    {
      "cell_type": "code",
      "source": [
        "model2 = KNeighborsClassifier()"
      ],
      "metadata": {
        "id": "LMf0TcjhHEc4"
      },
      "execution_count": null,
      "outputs": []
    },
    {
      "cell_type": "code",
      "source": [
        "model2.fit(x_train, y_train)"
      ],
      "metadata": {
        "colab": {
          "base_uri": "https://localhost:8080/"
        },
        "id": "tF13hSyQHQyM",
        "outputId": "26bec5f9-16f5-4b2d-a5a1-7d13249f75bd"
      },
      "execution_count": null,
      "outputs": [
        {
          "output_type": "execute_result",
          "data": {
            "text/plain": [
              "KNeighborsClassifier()"
            ]
          },
          "metadata": {},
          "execution_count": 144
        }
      ]
    },
    {
      "cell_type": "code",
      "source": [
        "y_pred4 = model1.predict(x_test)\n",
        "y_pred4"
      ],
      "metadata": {
        "colab": {
          "base_uri": "https://localhost:8080/"
        },
        "id": "g4k4k93BHSf9",
        "outputId": "cbdf7dff-5581-4e2e-f5aa-8b1db8ce31f2"
      },
      "execution_count": null,
      "outputs": [
        {
          "output_type": "execute_result",
          "data": {
            "text/plain": [
              "array([0, 1, 0, 0, 1, 0, 1, 1, 1, 1, 1, 1, 1, 0, 1, 1, 1, 1, 1, 1, 1, 1,\n",
              "       0, 1, 1, 1, 1, 0, 0, 1, 1, 1, 0, 1, 0, 1, 0, 1, 0, 1, 0, 0, 1, 1,\n",
              "       1, 0, 0, 0, 1, 0, 0, 0, 1, 1, 1, 0, 0, 1, 0, 1, 1, 1, 1, 0, 1, 0,\n",
              "       0, 0, 0, 0, 1, 0, 1, 0, 1, 0, 0, 1, 0, 1, 0, 0, 0, 0, 1, 1, 0, 1,\n",
              "       0, 0, 1, 0, 0, 0, 0, 1, 1, 1, 1, 1, 0, 1, 1, 0, 1, 0, 0, 0, 1, 0,\n",
              "       1, 1, 1, 0, 1, 1, 0, 1, 1, 1, 1, 0, 1, 1, 0, 1, 0, 1, 1, 0, 1, 0,\n",
              "       1, 0, 0, 0, 1, 1, 1, 0, 1, 1, 1, 1, 1, 1, 1, 1, 0, 1, 0, 0, 1, 0,\n",
              "       1, 1, 0, 0, 1, 1, 0, 0, 1, 0, 1, 0, 0, 0, 1, 1, 0, 0, 1, 1, 1, 1,\n",
              "       1, 0, 1, 0, 0, 0, 0, 0])"
            ]
          },
          "metadata": {},
          "execution_count": 145
        }
      ]
    },
    {
      "cell_type": "code",
      "source": [
        "from sklearn.metrics import classification_report, confusion_matrix \n",
        "print(confusion_matrix(y_test,y_pred4)) \n",
        "print(classification_report(y_test,y_pred4))"
      ],
      "metadata": {
        "colab": {
          "base_uri": "https://localhost:8080/"
        },
        "id": "S7FsLmSHHUKw",
        "outputId": "99aded0f-61a0-4ff5-aaca-df45f7a7239b"
      },
      "execution_count": null,
      "outputs": [
        {
          "output_type": "stream",
          "name": "stdout",
          "text": [
            "[[63 25]\n",
            " [19 77]]\n",
            "              precision    recall  f1-score   support\n",
            "\n",
            "           0       0.77      0.72      0.74        88\n",
            "           1       0.75      0.80      0.78        96\n",
            "\n",
            "    accuracy                           0.76       184\n",
            "   macro avg       0.76      0.76      0.76       184\n",
            "weighted avg       0.76      0.76      0.76       184\n",
            "\n"
          ]
        }
      ]
    },
    {
      "cell_type": "code",
      "source": [
        "y_pred_train = cll.predict(x_train)\n",
        "accuracy_score(y_train, y_pred_train)"
      ],
      "metadata": {
        "colab": {
          "base_uri": "https://localhost:8080/"
        },
        "id": "gYSg_EPCHWJC",
        "outputId": "55bad716-4118-4153-b112-b2b95a0906d7"
      },
      "execution_count": null,
      "outputs": [
        {
          "output_type": "execute_result",
          "data": {
            "text/plain": [
              "0.7602179836512262"
            ]
          },
          "metadata": {},
          "execution_count": 147
        }
      ]
    },
    {
      "cell_type": "code",
      "source": [
        "y_pred = cll.predict(x_test)\n",
        "accuracy_score(y_test, y_pred4)"
      ],
      "metadata": {
        "colab": {
          "base_uri": "https://localhost:8080/"
        },
        "id": "G9hWQi7mHaVy",
        "outputId": "0f8d4635-e3b7-40fb-e445-df27675f59f4"
      },
      "execution_count": null,
      "outputs": [
        {
          "output_type": "execute_result",
          "data": {
            "text/plain": [
              "0.7608695652173914"
            ]
          },
          "metadata": {},
          "execution_count": 148
        }
      ]
    },
    {
      "cell_type": "code",
      "source": [
        "f1 = f1_score(y_test, y_pred4)\n",
        "f1"
      ],
      "metadata": {
        "colab": {
          "base_uri": "https://localhost:8080/"
        },
        "id": "_iTaRNkQHcSj",
        "outputId": "4e52f6d7-d1ee-4ad3-e48b-d4b31cdbe514"
      },
      "execution_count": null,
      "outputs": [
        {
          "output_type": "execute_result",
          "data": {
            "text/plain": [
              "0.7777777777777777"
            ]
          },
          "metadata": {},
          "execution_count": 149
        }
      ]
    },
    {
      "cell_type": "code",
      "source": [
        "y_pred1 = model2.predict(x_test)\n",
        "y_pred_proba = model2.predict_proba(x_test)\n",
        "y_pred_proba"
      ],
      "metadata": {
        "colab": {
          "base_uri": "https://localhost:8080/"
        },
        "id": "NOPpl3bbSZVB",
        "outputId": "2f73fe2e-37a0-481b-b1f3-543bf18ddaa3"
      },
      "execution_count": null,
      "outputs": [
        {
          "output_type": "execute_result",
          "data": {
            "text/plain": [
              "array([[0.8, 0.2],\n",
              "       [0.2, 0.8],\n",
              "       [0.8, 0.2],\n",
              "       [0.8, 0.2],\n",
              "       [0. , 1. ],\n",
              "       [0.8, 0.2],\n",
              "       [0.4, 0.6],\n",
              "       [0.4, 0.6],\n",
              "       [0.2, 0.8],\n",
              "       [0.6, 0.4],\n",
              "       [0. , 1. ],\n",
              "       [0.4, 0.6],\n",
              "       [0. , 1. ],\n",
              "       [0.6, 0.4],\n",
              "       [0. , 1. ],\n",
              "       [0.2, 0.8],\n",
              "       [0. , 1. ],\n",
              "       [0.2, 0.8],\n",
              "       [0.2, 0.8],\n",
              "       [0.2, 0.8],\n",
              "       [0.2, 0.8],\n",
              "       [0.4, 0.6],\n",
              "       [1. , 0. ],\n",
              "       [0. , 1. ],\n",
              "       [0.6, 0.4],\n",
              "       [0. , 1. ],\n",
              "       [0.4, 0.6],\n",
              "       [0.8, 0.2],\n",
              "       [0.6, 0.4],\n",
              "       [0. , 1. ],\n",
              "       [0.2, 0.8],\n",
              "       [0. , 1. ],\n",
              "       [0.2, 0.8],\n",
              "       [0. , 1. ],\n",
              "       [0.6, 0.4],\n",
              "       [0.6, 0.4],\n",
              "       [0.8, 0.2],\n",
              "       [0. , 1. ],\n",
              "       [0.2, 0.8],\n",
              "       [0.6, 0.4],\n",
              "       [1. , 0. ],\n",
              "       [0.6, 0.4],\n",
              "       [0.2, 0.8],\n",
              "       [0. , 1. ],\n",
              "       [0.2, 0.8],\n",
              "       [0.6, 0.4],\n",
              "       [0.6, 0.4],\n",
              "       [0.8, 0.2],\n",
              "       [0. , 1. ],\n",
              "       [0.8, 0.2],\n",
              "       [0.4, 0.6],\n",
              "       [1. , 0. ],\n",
              "       [0.4, 0.6],\n",
              "       [0.4, 0.6],\n",
              "       [0. , 1. ],\n",
              "       [0.4, 0.6],\n",
              "       [0.6, 0.4],\n",
              "       [0. , 1. ],\n",
              "       [0.6, 0.4],\n",
              "       [0. , 1. ],\n",
              "       [0. , 1. ],\n",
              "       [0.4, 0.6],\n",
              "       [0.4, 0.6],\n",
              "       [1. , 0. ],\n",
              "       [0.2, 0.8],\n",
              "       [0.8, 0.2],\n",
              "       [0.6, 0.4],\n",
              "       [1. , 0. ],\n",
              "       [1. , 0. ],\n",
              "       [0.6, 0.4],\n",
              "       [0. , 1. ],\n",
              "       [0.6, 0.4],\n",
              "       [0.2, 0.8],\n",
              "       [0.6, 0.4],\n",
              "       [0.4, 0.6],\n",
              "       [0.6, 0.4],\n",
              "       [0.8, 0.2],\n",
              "       [0.2, 0.8],\n",
              "       [1. , 0. ],\n",
              "       [0. , 1. ],\n",
              "       [0.6, 0.4],\n",
              "       [0.8, 0.2],\n",
              "       [0.8, 0.2],\n",
              "       [0.8, 0.2],\n",
              "       [0.2, 0.8],\n",
              "       [0.6, 0.4],\n",
              "       [1. , 0. ],\n",
              "       [0.6, 0.4],\n",
              "       [0.8, 0.2],\n",
              "       [0.2, 0.8],\n",
              "       [0. , 1. ],\n",
              "       [0.8, 0.2],\n",
              "       [0.8, 0.2],\n",
              "       [0.8, 0.2],\n",
              "       [0.6, 0.4],\n",
              "       [0. , 1. ],\n",
              "       [0. , 1. ],\n",
              "       [0. , 1. ],\n",
              "       [0.4, 0.6],\n",
              "       [0.4, 0.6],\n",
              "       [0.6, 0.4],\n",
              "       [0. , 1. ],\n",
              "       [0. , 1. ],\n",
              "       [1. , 0. ],\n",
              "       [0.4, 0.6],\n",
              "       [1. , 0. ],\n",
              "       [1. , 0. ],\n",
              "       [0.8, 0.2],\n",
              "       [0. , 1. ],\n",
              "       [0.8, 0.2],\n",
              "       [0. , 1. ],\n",
              "       [0.2, 0.8],\n",
              "       [0.4, 0.6],\n",
              "       [0.4, 0.6],\n",
              "       [0. , 1. ],\n",
              "       [0. , 1. ],\n",
              "       [0.8, 0.2],\n",
              "       [0.4, 0.6],\n",
              "       [0.4, 0.6],\n",
              "       [0.2, 0.8],\n",
              "       [0.4, 0.6],\n",
              "       [1. , 0. ],\n",
              "       [0. , 1. ],\n",
              "       [0.4, 0.6],\n",
              "       [0.8, 0.2],\n",
              "       [0.2, 0.8],\n",
              "       [0.6, 0.4],\n",
              "       [0. , 1. ],\n",
              "       [0.4, 0.6],\n",
              "       [0.8, 0.2],\n",
              "       [0.2, 0.8],\n",
              "       [0.8, 0.2],\n",
              "       [0.2, 0.8],\n",
              "       [1. , 0. ],\n",
              "       [0.6, 0.4],\n",
              "       [0.8, 0.2],\n",
              "       [0.6, 0.4],\n",
              "       [0. , 1. ],\n",
              "       [0.2, 0.8],\n",
              "       [0.8, 0.2],\n",
              "       [0. , 1. ],\n",
              "       [0.4, 0.6],\n",
              "       [0.2, 0.8],\n",
              "       [0.6, 0.4],\n",
              "       [0. , 1. ],\n",
              "       [0.6, 0.4],\n",
              "       [0.4, 0.6],\n",
              "       [0. , 1. ],\n",
              "       [1. , 0. ],\n",
              "       [0.6, 0.4],\n",
              "       [0.8, 0.2],\n",
              "       [0.8, 0.2],\n",
              "       [0.2, 0.8],\n",
              "       [0.6, 0.4],\n",
              "       [0.6, 0.4],\n",
              "       [0. , 1. ],\n",
              "       [0.6, 0.4],\n",
              "       [0.2, 0.8],\n",
              "       [0. , 1. ],\n",
              "       [0. , 1. ],\n",
              "       [0.6, 0.4],\n",
              "       [0.6, 0.4],\n",
              "       [0. , 1. ],\n",
              "       [0.6, 0.4],\n",
              "       [0. , 1. ],\n",
              "       [0.8, 0.2],\n",
              "       [0.4, 0.6],\n",
              "       [0.4, 0.6],\n",
              "       [0.4, 0.6],\n",
              "       [0.2, 0.8],\n",
              "       [0.8, 0.2],\n",
              "       [0.6, 0.4],\n",
              "       [0.2, 0.8],\n",
              "       [0.4, 0.6],\n",
              "       [0. , 1. ],\n",
              "       [0.2, 0.8],\n",
              "       [0.6, 0.4],\n",
              "       [0.4, 0.6],\n",
              "       [0. , 1. ],\n",
              "       [1. , 0. ],\n",
              "       [0.6, 0.4],\n",
              "       [0.6, 0.4],\n",
              "       [0.8, 0.2],\n",
              "       [0.6, 0.4]])"
            ]
          },
          "metadata": {},
          "execution_count": 150
        }
      ]
    },
    {
      "cell_type": "code",
      "source": [
        "probs = y_pred_proba[:, 1]\n",
        "fpr4, tpr4, treshold = roc_curve(y_test, probs)"
      ],
      "metadata": {
        "id": "FLd-ZA3zHd9m"
      },
      "execution_count": null,
      "outputs": []
    },
    {
      "cell_type": "code",
      "source": [
        "plt.plot(fpr4, tpr4)\n",
        "plt.xlabel('False Positive Rate')\n",
        "plt.ylabel('True Positive Rate')\n",
        "plt.title('ROC-кривая')\n",
        "plt.show()"
      ],
      "metadata": {
        "colab": {
          "base_uri": "https://localhost:8080/",
          "height": 295
        },
        "id": "ui3h9a2WHf2s",
        "outputId": "7b7b345e-1d99-470e-ed85-108b7a290ad4"
      },
      "execution_count": null,
      "outputs": [
        {
          "output_type": "display_data",
          "data": {
            "text/plain": [
              "<Figure size 432x288 with 1 Axes>"
            ],
            "image/png": "[encoded data removed]"
          },
          "metadata": {
            "needs_background": "light"
          }
        }
      ]
    },
    {
      "cell_type": "code",
      "source": [
        "roc_auc = auc(fpr4, tpr4)\n",
        "roc_auc"
      ],
      "metadata": {
        "colab": {
          "base_uri": "https://localhost:8080/"
        },
        "id": "rnwTi1gwHh25",
        "outputId": "0f397def-7273-4686-9d02-a166bc0ffec0"
      },
      "execution_count": null,
      "outputs": [
        {
          "output_type": "execute_result",
          "data": {
            "text/plain": [
              "0.73828125"
            ]
          },
          "metadata": {},
          "execution_count": 153
        }
      ]
    },
    {
      "cell_type": "markdown",
      "source": [
        "#На одном графике постройте ROC-кривые для каждой модели. Визуально определите самую эффективную и наименее пригодную модели. Чем ROC-кривая выше, тем модель более эффективна."
      ],
      "metadata": {
        "id": "ZS6y48y8XU4N"
      }
    },
    {
      "cell_type": "code",
      "source": [
        "fig , ax = plt.subplots()\n",
        "ax.plot(fpr1, tpr1, c = 'yellow')\n",
        "ax.plot(fpr2, tpr2, c ='purple')\n",
        "ax.plot(fpr3, tpr3, c = 'green')\n",
        "ax.plot(fpr4, tpr4, c = 'blue')\n"
      ],
      "metadata": {
        "colab": {
          "base_uri": "https://localhost:8080/",
          "height": 282
        },
        "id": "QA8Ob0bHLlUL",
        "outputId": "f326f335-7806-4e93-e7ab-f0b36dad91e7"
      },
      "execution_count": null,
      "outputs": [
        {
          "output_type": "execute_result",
          "data": {
            "text/plain": [
              "[<matplotlib.lines.Line2D at 0x7f7fc9fe6150>]"
            ]
          },
          "metadata": {},
          "execution_count": 154
        },
        {
          "output_type": "display_data",
          "data": {
            "text/plain": [
              "<Figure size 432x288 with 1 Axes>"
            ],
            "image/png": "[encoded data removed]"
          },
          "metadata": {
            "needs_background": "light"
          }
        }
      ]
    },
    {
      "cell_type": "markdown",
      "source": [
        "LinearDiscriminantAnalysis наиболее эффективна \n",
        "\n",
        "\n"
      ],
      "metadata": {
        "id": "UjdMuXuYUTUw"
      }
    },
    {
      "cell_type": "markdown",
      "source": [
        "#Выведите соответствующие значения AUC (площадь под ROC - кривой) и расположите модели в порядке пригодности."
      ],
      "metadata": {
        "id": "dOu7WaGcXPe2"
      }
    },
    {
      "cell_type": "code",
      "source": [
        "roc_auc_log_reg = auc(fpr1, tpr1)\n",
        "roc_auc_svc = auc(fpr2, tpr2)\n",
        "roc_auc_lda = auc(fpr3, tpr3)\n",
        "roc_auc_kneb = auc(fpr4, tpr4)\n",
        "roc_auc_lda, roc_auc_log_reg, roc_auc_svc,  roc_auc_kneb"
      ],
      "metadata": {
        "colab": {
          "base_uri": "https://localhost:8080/"
        },
        "id": "I2ck4AFtUjcQ",
        "outputId": "f4bae997-1d91-4885-f7f4-4b093f30e953"
      },
      "execution_count": null,
      "outputs": [
        {
          "output_type": "execute_result",
          "data": {
            "text/plain": [
              "(0.8635179924242424, 0.8578361742424242, 0.8578361742424242, 0.73828125)"
            ]
          },
          "metadata": {},
          "execution_count": 158
        }
      ]
    },
    {
      "cell_type": "markdown",
      "source": [
        "#Изобразите precision-recall кривую."
      ],
      "metadata": {
        "id": "BqkOLMoEXM66"
      }
    },
    {
      "cell_type": "code",
      "source": [
        "from sklearn. metrics import precision_recall_curve\n",
        "precision, recall, thresholds = precision_recall_curve(y_test, y_pred_proba[:, 1])\n",
        "\n",
        "#create precision recall curve\n",
        "fig, ax = plt.subplots()\n",
        "ax.plot(recall, precision, color='purple')\n",
        "\n",
        "#add axis labels to plot\n",
        "ax.set_title('Precision-Recall Curve')\n",
        "ax.set_ylabel('Precision')\n",
        "ax.set_xlabel('Recall')\n",
        "\n",
        "#display plot\n",
        "plt.show() "
      ],
      "metadata": {
        "colab": {
          "base_uri": "https://localhost:8080/",
          "height": 295
        },
        "id": "tLLczJn2HkVQ",
        "outputId": "def1d39b-d3ca-4c34-8f26-1158183fbc95"
      },
      "execution_count": null,
      "outputs": [
        {
          "output_type": "display_data",
          "data": {
            "text/plain": [
              "<Figure size 432x288 with 1 Axes>"
            ],
            "image/png": "[encoded data removed]"
          },
          "metadata": {
            "needs_background": "light"
          }
        }
      ]
    },
    {
      "cell_type": "markdown",
      "source": [
        "#Оцените эффективность моделей при помощи показателя average precision."
      ],
      "metadata": {
        "id": "GUY3vaYzXZ4X"
      }
    },
    {
      "cell_type": "code",
      "source": [
        "import sklearn\n",
        "from sklearn. metrics import average_precision_score\n",
        "\n",
        "print(sklearn.metrics. average_precision_score(y_test, y_pred1))\n",
        "print(sklearn.metrics. average_precision_score(y_test, y_pred2))\n",
        "print(sklearn.metrics. average_precision_score(y_test, y_pred3))\n",
        "print(sklearn.metrics. average_precision_score(y_test, y_pred4))"
      ],
      "metadata": {
        "id": "s7AJK2SzJlt3",
        "colab": {
          "base_uri": "https://localhost:8080/"
        },
        "outputId": "5d9e37c9-caf1-4c75-807c-d4bdcf78cce2"
      },
      "execution_count": null,
      "outputs": [
        {
          "output_type": "stream",
          "name": "stdout",
          "text": [
            "0.7866847826086957\n",
            "0.7556490571918343\n",
            "0.5376527422563229\n",
            "0.5035251382040938\n"
          ]
        }
      ]
    },
    {
      "cell_type": "markdown",
      "source": [
        "#Постройте другую классификационную модель и сравните ее с описанными по следующим метрикам: accuracy, precision, recall, ROC-AUC, F1. Сделайте вывод о том, какая модель наиболее удачная для данной задачи."
      ],
      "metadata": {
        "id": "OxrjIbtZX6Ou"
      }
    },
    {
      "cell_type": "code",
      "source": [
        "from sklearn.neural_network import MLPClassifier"
      ],
      "metadata": {
        "id": "lsUvm0IAjJ5n"
      },
      "execution_count": null,
      "outputs": []
    },
    {
      "cell_type": "code",
      "source": [
        "%%time\n",
        "\n",
        "model2 = MLPClassifier()\n",
        "model2.fit(x_train, y_train)\n",
        "y_pred = model2.predict(x_test)\n",
        "y_pred"
      ],
      "metadata": {
        "colab": {
          "base_uri": "https://localhost:8080/"
        },
        "id": "8wE_LA30lS8v",
        "outputId": "c57ad99f-419b-49b0-9736-24f59cbee4ec"
      },
      "execution_count": null,
      "outputs": [
        {
          "output_type": "stream",
          "name": "stdout",
          "text": [
            "CPU times: user 245 ms, sys: 213 ms, total: 457 ms\n",
            "Wall time: 239 ms\n"
          ]
        },
        {
          "output_type": "execute_result",
          "data": {
            "text/plain": [
              "array([0, 1, 1, 0, 1, 0, 0, 1, 1, 1, 1, 1, 1, 0, 1, 1, 1, 0, 0, 1, 1, 1,\n",
              "       0, 1, 1, 1, 1, 0, 0, 0, 1, 1, 0, 1, 0, 0, 0, 1, 1, 1, 0, 1, 1, 1,\n",
              "       1, 0, 0, 0, 1, 0, 0, 0, 1, 1, 1, 1, 0, 1, 1, 1, 1, 1, 0, 0, 1, 1,\n",
              "       1, 0, 0, 0, 1, 0, 0, 0, 0, 0, 0, 1, 1, 1, 0, 0, 0, 0, 1, 1, 0, 1,\n",
              "       0, 1, 1, 1, 0, 0, 0, 1, 1, 1, 1, 1, 0, 1, 1, 0, 1, 1, 0, 0, 1, 0,\n",
              "       1, 1, 0, 1, 1, 1, 0, 1, 1, 1, 1, 0, 1, 1, 0, 1, 0, 1, 1, 0, 1, 0,\n",
              "       1, 0, 0, 0, 0, 1, 1, 0, 1, 1, 1, 1, 1, 0, 1, 1, 0, 1, 0, 0, 1, 1,\n",
              "       0, 1, 0, 0, 1, 1, 0, 0, 1, 1, 1, 1, 0, 0, 1, 1, 0, 0, 1, 1, 1, 1,\n",
              "       0, 0, 1, 0, 0, 0, 0, 0])"
            ]
          },
          "metadata": {},
          "execution_count": 132
        }
      ]
    },
    {
      "cell_type": "code",
      "source": [
        "from sklearn.metrics import classification_report, confusion_matrix \n",
        "print(confusion_matrix(y_test,y_pred)) \n",
        "print(classification_report(y_test,y_pred))"
      ],
      "metadata": {
        "colab": {
          "base_uri": "https://localhost:8080/"
        },
        "id": "xRgZUNxllUII",
        "outputId": "a7007baf-7269-4441-8468-1fbd157d3571"
      },
      "execution_count": null,
      "outputs": [
        {
          "output_type": "stream",
          "name": "stdout",
          "text": [
            "[[61 27]\n",
            " [19 77]]\n",
            "              precision    recall  f1-score   support\n",
            "\n",
            "           0       0.76      0.69      0.73        88\n",
            "           1       0.74      0.80      0.77        96\n",
            "\n",
            "    accuracy                           0.75       184\n",
            "   macro avg       0.75      0.75      0.75       184\n",
            "weighted avg       0.75      0.75      0.75       184\n",
            "\n"
          ]
        }
      ]
    },
    {
      "cell_type": "code",
      "source": [
        "probs = y_pred_proba[:, 1]\n",
        "fpr, tpr, treshold = roc_curve(y_test, probs)"
      ],
      "metadata": {
        "id": "gnlGzcLklaN_"
      },
      "execution_count": null,
      "outputs": []
    },
    {
      "cell_type": "code",
      "source": [
        "plt.plot(fpr, tpr)\n",
        "plt.xlabel('False Positive Rate')\n",
        "plt.ylabel('True Positive Rate')\n",
        "plt.title('ROC-кривая')\n",
        "plt.show()"
      ],
      "metadata": {
        "colab": {
          "base_uri": "https://localhost:8080/",
          "height": 295
        },
        "id": "Dcp_n899lpwe",
        "outputId": "0f527a7f-fcfa-4ffb-adb6-0212b78106a9"
      },
      "execution_count": null,
      "outputs": [
        {
          "output_type": "display_data",
          "data": {
            "text/plain": [
              "<Figure size 432x288 with 1 Axes>"
            ],
            "image/png": "[encoded data removed]"
          },
          "metadata": {
            "needs_background": "light"
          }
        }
      ]
    },
    {
      "cell_type": "code",
      "source": [
        "\n",
        "roc_auc = auc(fpr, tpr) \n",
        "roc_auc"
      ],
      "metadata": {
        "colab": {
          "base_uri": "https://localhost:8080/"
        },
        "id": "oOnujDZjlrgE",
        "outputId": "f4303aa6-4dea-4870-999b-aa08bb2219ce"
      },
      "execution_count": null,
      "outputs": [
        {
          "output_type": "execute_result",
          "data": {
            "text/plain": [
              "0.8635179924242424"
            ]
          },
          "metadata": {},
          "execution_count": 136
        }
      ]
    }
  ]
}