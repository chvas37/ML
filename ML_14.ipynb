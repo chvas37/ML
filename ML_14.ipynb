{
  "nbformat": 4,
  "nbformat_minor": 0,
  "metadata": {
    "colab": {
      "provenance": []
    },
    "kernelspec": {
      "name": "python3",
      "display_name": "Python 3"
    },
    "language_info": {
      "name": "python"
    }
  },
  "cells": [
    {
      "cell_type": "code",
      "execution_count": null,
      "metadata": {
        "id": "Gzw70bhRpGH3"
      },
      "outputs": [],
      "source": [
        "%matplotlib inline\n",
        "import matplotlib.pyplot as plt\n",
        "import seaborn as sns; sns.set()\n",
        "import numpy as np\n",
        "import pandas as pd\n",
        "from sklearn.ensemble import RandomForestClassifier\n",
        "from sklearn import metrics"
      ]
    },
    {
      "cell_type": "code",
      "source": [
        "data = pd.read_csv(r'/content/credit_data.csv',delimiter=',')\n",
        "print(data.isna().sum())"
      ],
      "metadata": {
        "colab": {
          "base_uri": "https://localhost:8080/"
        },
        "id": "SvdPC1qjpc_P",
        "outputId": "3736db49-0fa8-40a1-d260-f3d1d64ff19c"
      },
      "execution_count": null,
      "outputs": [
        {
          "output_type": "stream",
          "name": "stdout",
          "text": [
            "Unnamed: 0            0\n",
            "Age                   0\n",
            "Sex                   0\n",
            "Job                   0\n",
            "Housing               0\n",
            "Saving accounts     183\n",
            "Checking account    394\n",
            "Credit amount         0\n",
            "Duration              0\n",
            "Purpose               0\n",
            "Risk                  0\n",
            "dtype: int64\n"
          ]
        }
      ]
    },
    {
      "cell_type": "code",
      "source": [
        "target = data['Risk']\n",
        "data = data.drop(['Risk','Unnamed: 0', 'Purpose'], axis=1)"
      ],
      "metadata": {
        "id": "jhvQcV-CpgaT"
      },
      "execution_count": null,
      "outputs": []
    },
    {
      "cell_type": "code",
      "source": [
        "data['Saving accounts'] = data['Saving accounts'].map({\"little\":1,\"moderate\":2,\"quite rich\":3 ,\"rich\":4 });\n",
        "data['Checking account'] = data['Checking account'].map({\"little\":1,\"moderate\":2,\"rich\":3 });\n",
        "target = target.map({\"good\":1,\"bad\":0});\n",
        "data['Saving accounts'] = data['Saving accounts'].fillna(0)\n",
        "data['Checking account'] = data['Checking account'].fillna(0)"
      ],
      "metadata": {
        "id": "nb0pEUzGpgsy"
      },
      "execution_count": null,
      "outputs": []
    },
    {
      "cell_type": "code",
      "source": [
        "new_data = pd.get_dummies(data)\n",
        "new_data.head()"
      ],
      "metadata": {
        "colab": {
          "base_uri": "https://localhost:8080/",
          "height": 287
        },
        "id": "2JOE1v8yp9kV",
        "outputId": "0e588c36-0b21-4201-fce2-39cc6c546097"
      },
      "execution_count": null,
      "outputs": [
        {
          "output_type": "execute_result",
          "data": {
            "text/plain": [
              "   Age  Job  Saving accounts  Checking account  Credit amount  Duration  \\\n",
              "0   67    2              0.0               1.0           1169         6   \n",
              "1   22    2              1.0               2.0           5951        48   \n",
              "2   49    1              1.0               0.0           2096        12   \n",
              "3   45    2              1.0               1.0           7882        42   \n",
              "4   53    2              1.0               1.0           4870        24   \n",
              "\n",
              "   Sex_female  Sex_male  Housing_free  Housing_own  Housing_rent  \n",
              "0           0         1             0            1             0  \n",
              "1           1         0             0            1             0  \n",
              "2           0         1             0            1             0  \n",
              "3           0         1             1            0             0  \n",
              "4           0         1             1            0             0  "
            ],
            "text/html": [
              "\n",
              "  <div id=\"df-ddf00fa0-2f2b-4161-b19a-d5bdc354500c\">\n",
              "    <div class=\"colab-df-container\">\n",
              "      <div>\n",
              "<style scoped>\n",
              "    .dataframe tbody tr th:only-of-type {\n",
              "        vertical-align: middle;\n",
              "    }\n",
              "\n",
              "    .dataframe tbody tr th {\n",
              "        vertical-align: top;\n",
              "    }\n",
              "\n",
              "    .dataframe thead th {\n",
              "        text-align: right;\n",
              "    }\n",
              "</style>\n",
              "<table border=\"1\" class=\"dataframe\">\n",
              "  <thead>\n",
              "    <tr style=\"text-align: right;\">\n",
              "      <th></th>\n",
              "      <th>Age</th>\n",
              "      <th>Job</th>\n",
              "      <th>Saving accounts</th>\n",
              "      <th>Checking account</th>\n",
              "      <th>Credit amount</th>\n",
              "      <th>Duration</th>\n",
              "      <th>Sex_female</th>\n",
              "      <th>Sex_male</th>\n",
              "      <th>Housing_free</th>\n",
              "      <th>Housing_own</th>\n",
              "      <th>Housing_rent</th>\n",
              "    </tr>\n",
              "  </thead>\n",
              "  <tbody>\n",
              "    <tr>\n",
              "      <th>0</th>\n",
              "      <td>67</td>\n",
              "      <td>2</td>\n",
              "      <td>0.0</td>\n",
              "      <td>1.0</td>\n",
              "      <td>1169</td>\n",
              "      <td>6</td>\n",
              "      <td>0</td>\n",
              "      <td>1</td>\n",
              "      <td>0</td>\n",
              "      <td>1</td>\n",
              "      <td>0</td>\n",
              "    </tr>\n",
              "    <tr>\n",
              "      <th>1</th>\n",
              "      <td>22</td>\n",
              "      <td>2</td>\n",
              "      <td>1.0</td>\n",
              "      <td>2.0</td>\n",
              "      <td>5951</td>\n",
              "      <td>48</td>\n",
              "      <td>1</td>\n",
              "      <td>0</td>\n",
              "      <td>0</td>\n",
              "      <td>1</td>\n",
              "      <td>0</td>\n",
              "    </tr>\n",
              "    <tr>\n",
              "      <th>2</th>\n",
              "      <td>49</td>\n",
              "      <td>1</td>\n",
              "      <td>1.0</td>\n",
              "      <td>0.0</td>\n",
              "      <td>2096</td>\n",
              "      <td>12</td>\n",
              "      <td>0</td>\n",
              "      <td>1</td>\n",
              "      <td>0</td>\n",
              "      <td>1</td>\n",
              "      <td>0</td>\n",
              "    </tr>\n",
              "    <tr>\n",
              "      <th>3</th>\n",
              "      <td>45</td>\n",
              "      <td>2</td>\n",
              "      <td>1.0</td>\n",
              "      <td>1.0</td>\n",
              "      <td>7882</td>\n",
              "      <td>42</td>\n",
              "      <td>0</td>\n",
              "      <td>1</td>\n",
              "      <td>1</td>\n",
              "      <td>0</td>\n",
              "      <td>0</td>\n",
              "    </tr>\n",
              "    <tr>\n",
              "      <th>4</th>\n",
              "      <td>53</td>\n",
              "      <td>2</td>\n",
              "      <td>1.0</td>\n",
              "      <td>1.0</td>\n",
              "      <td>4870</td>\n",
              "      <td>24</td>\n",
              "      <td>0</td>\n",
              "      <td>1</td>\n",
              "      <td>1</td>\n",
              "      <td>0</td>\n",
              "      <td>0</td>\n",
              "    </tr>\n",
              "  </tbody>\n",
              "</table>\n",
              "</div>\n",
              "      <button class=\"colab-df-convert\" onclick=\"convertToInteractive('df-ddf00fa0-2f2b-4161-b19a-d5bdc354500c')\"\n",
              "              title=\"Convert this dataframe to an interactive table.\"\n",
              "              style=\"display:none;\">\n",
              "        \n",
              "  <svg xmlns=\"http://www.w3.org/2000/svg\" height=\"24px\"viewBox=\"0 0 24 24\"\n",
              "       width=\"24px\">\n",
              "    <path d=\"M0 0h24v24H0V0z\" fill=\"none\"/>\n",
              "    <path d=\"M18.56 5.44l.94 2.06.94-2.06 2.06-.94-2.06-.94-.94-2.06-.94 2.06-2.06.94zm-11 1L8.5 8.5l.94-2.06 2.06-.94-2.06-.94L8.5 2.5l-.94 2.06-2.06.94zm10 10l.94 2.06.94-2.06 2.06-.94-2.06-.94-.94-2.06-.94 2.06-2.06.94z\"/><path d=\"M17.41 7.96l-1.37-1.37c-.4-.4-.92-.59-1.43-.59-.52 0-1.04.2-1.43.59L10.3 9.45l-7.72 7.72c-.78.78-.78 2.05 0 2.83L4 21.41c.39.39.9.59 1.41.59.51 0 1.02-.2 1.41-.59l7.78-7.78 2.81-2.81c.8-.78.8-2.07 0-2.86zM5.41 20L4 18.59l7.72-7.72 1.47 1.35L5.41 20z\"/>\n",
              "  </svg>\n",
              "      </button>\n",
              "      \n",
              "  <style>\n",
              "    .colab-df-container {\n",
              "      display:flex;\n",
              "      flex-wrap:wrap;\n",
              "      gap: 12px;\n",
              "    }\n",
              "\n",
              "    .colab-df-convert {\n",
              "      background-color: #E8F0FE;\n",
              "      border: none;\n",
              "      border-radius: 50%;\n",
              "      cursor: pointer;\n",
              "      display: none;\n",
              "      fill: #1967D2;\n",
              "      height: 32px;\n",
              "      padding: 0 0 0 0;\n",
              "      width: 32px;\n",
              "    }\n",
              "\n",
              "    .colab-df-convert:hover {\n",
              "      background-color: #E2EBFA;\n",
              "      box-shadow: 0px 1px 2px rgba(60, 64, 67, 0.3), 0px 1px 3px 1px rgba(60, 64, 67, 0.15);\n",
              "      fill: #174EA6;\n",
              "    }\n",
              "\n",
              "    [theme=dark] .colab-df-convert {\n",
              "      background-color: #3B4455;\n",
              "      fill: #D2E3FC;\n",
              "    }\n",
              "\n",
              "    [theme=dark] .colab-df-convert:hover {\n",
              "      background-color: #434B5C;\n",
              "      box-shadow: 0px 1px 3px 1px rgba(0, 0, 0, 0.15);\n",
              "      filter: drop-shadow(0px 1px 2px rgba(0, 0, 0, 0.3));\n",
              "      fill: #FFFFFF;\n",
              "    }\n",
              "  </style>\n",
              "\n",
              "      <script>\n",
              "        const buttonEl =\n",
              "          document.querySelector('#df-ddf00fa0-2f2b-4161-b19a-d5bdc354500c button.colab-df-convert');\n",
              "        buttonEl.style.display =\n",
              "          google.colab.kernel.accessAllowed ? 'block' : 'none';\n",
              "\n",
              "        async function convertToInteractive(key) {\n",
              "          const element = document.querySelector('#df-ddf00fa0-2f2b-4161-b19a-d5bdc354500c');\n",
              "          const dataTable =\n",
              "            await google.colab.kernel.invokeFunction('convertToInteractive',\n",
              "                                                     [key], {});\n",
              "          if (!dataTable) return;\n",
              "\n",
              "          const docLinkHtml = 'Like what you see? Visit the ' +\n",
              "            '<a target=\"_blank\" href=https://colab.research.google.com/notebooks/data_table.ipynb>data table notebook</a>'\n",
              "            + ' to learn more about interactive tables.';\n",
              "          element.innerHTML = '';\n",
              "          dataTable['output_type'] = 'display_data';\n",
              "          await google.colab.output.renderOutput(dataTable, element);\n",
              "          const docLink = document.createElement('div');\n",
              "          docLink.innerHTML = docLinkHtml;\n",
              "          element.appendChild(docLink);\n",
              "        }\n",
              "      </script>\n",
              "    </div>\n",
              "  </div>\n",
              "  "
            ]
          },
          "metadata": {},
          "execution_count": 46
        }
      ]
    },
    {
      "cell_type": "code",
      "source": [
        "y = new_data['Housing_rent']\n",
        "X = new_data.drop(columns=['Housing_rent'])"
      ],
      "metadata": {
        "id": "Jwn0dslkrOdW"
      },
      "execution_count": null,
      "outputs": []
    },
    {
      "cell_type": "code",
      "source": [
        "from sklearn.model_selection import train_test_split\n",
        "x_train, x_test, y_train, y_test = train_test_split(X, y, \n",
        "                                                    test_size=0.2)"
      ],
      "metadata": {
        "id": "EzyVcIUMrJ0B"
      },
      "execution_count": null,
      "outputs": []
    },
    {
      "cell_type": "code",
      "source": [
        "from sklearn.ensemble import RandomForestClassifier\n",
        "\n",
        "model = RandomForestClassifier()\n",
        "model.fit(x_train, y_train)"
      ],
      "metadata": {
        "colab": {
          "base_uri": "https://localhost:8080/"
        },
        "id": "7Iz-y4dLrjH7",
        "outputId": "4e78b291-0c08-4e8b-a142-737e905a0f23"
      },
      "execution_count": null,
      "outputs": [
        {
          "output_type": "execute_result",
          "data": {
            "text/plain": [
              "RandomForestClassifier()"
            ]
          },
          "metadata": {},
          "execution_count": 49
        }
      ]
    },
    {
      "cell_type": "code",
      "source": [
        "y_pred1 = model.predict(x_test)\n",
        "y_pred1"
      ],
      "metadata": {
        "colab": {
          "base_uri": "https://localhost:8080/"
        },
        "id": "NNUQT7T3r7zP",
        "outputId": "70aa2c25-d3fb-44db-bfb7-4a5b91549e0e"
      },
      "execution_count": null,
      "outputs": [
        {
          "output_type": "execute_result",
          "data": {
            "text/plain": [
              "array([1, 0, 0, 1, 1, 1, 0, 1, 0, 0, 0, 0, 0, 0, 0, 1, 0, 0, 0, 0, 0, 0,\n",
              "       0, 0, 1, 0, 0, 0, 1, 1, 0, 0, 0, 1, 1, 0, 0, 0, 0, 0, 0, 0, 0, 0,\n",
              "       0, 0, 0, 0, 0, 0, 0, 1, 1, 0, 0, 0, 0, 0, 0, 0, 0, 0, 0, 0, 0, 0,\n",
              "       0, 0, 0, 1, 0, 0, 1, 0, 0, 0, 0, 0, 0, 0, 1, 0, 0, 0, 0, 0, 0, 0,\n",
              "       0, 0, 0, 0, 0, 0, 0, 0, 0, 0, 0, 0, 1, 0, 1, 0, 0, 0, 0, 1, 0, 0,\n",
              "       0, 0, 1, 1, 0, 1, 1, 0, 0, 0, 0, 0, 0, 1, 0, 1, 0, 0, 1, 0, 0, 0,\n",
              "       0, 0, 1, 0, 0, 0, 0, 0, 0, 0, 0, 0, 0, 0, 0, 0, 0, 0, 0, 1, 0, 1,\n",
              "       0, 0, 1, 1, 0, 0, 0, 1, 0, 0, 0, 1, 0, 0, 0, 0, 1, 1, 0, 1, 0, 0,\n",
              "       0, 1, 0, 1, 0, 0, 0, 0, 0, 0, 0, 0, 1, 1, 0, 1, 0, 0, 1, 0, 0, 0,\n",
              "       1, 0], dtype=uint8)"
            ]
          },
          "metadata": {},
          "execution_count": 50
        }
      ]
    },
    {
      "cell_type": "code",
      "source": [
        "from sklearn.metrics import classification_report, confusion_matrix \n",
        "print(confusion_matrix(y_test,y_pred1)) \n",
        "print(classification_report(y_test,y_pred1))"
      ],
      "metadata": {
        "colab": {
          "base_uri": "https://localhost:8080/"
        },
        "id": "dbZ6JCrjr-Ad",
        "outputId": "7adc079b-b47a-469c-dab8-34c4731da112"
      },
      "execution_count": null,
      "outputs": [
        {
          "output_type": "stream",
          "name": "stdout",
          "text": [
            "[[157   0]\n",
            " [  0  43]]\n",
            "              precision    recall  f1-score   support\n",
            "\n",
            "           0       1.00      1.00      1.00       157\n",
            "           1       1.00      1.00      1.00        43\n",
            "\n",
            "    accuracy                           1.00       200\n",
            "   macro avg       1.00      1.00      1.00       200\n",
            "weighted avg       1.00      1.00      1.00       200\n",
            "\n"
          ]
        }
      ]
    },
    {
      "cell_type": "code",
      "source": [
        "y_pred1 = model.predict(x_test)\n",
        "y_pred_proba = model.predict_proba(x_test)\n",
        "y_pred_proba"
      ],
      "metadata": {
        "colab": {
          "base_uri": "https://localhost:8080/"
        },
        "id": "JwHYBQ0Ssp71",
        "outputId": "8f281db5-22c9-4017-b67d-4edc82a1a9b9"
      },
      "execution_count": null,
      "outputs": [
        {
          "output_type": "execute_result",
          "data": {
            "text/plain": [
              "array([[0.15, 0.85],\n",
              "       [0.97, 0.03],\n",
              "       [1.  , 0.  ],\n",
              "       [0.04, 0.96],\n",
              "       [0.02, 0.98],\n",
              "       [0.  , 1.  ],\n",
              "       [0.98, 0.02],\n",
              "       [0.18, 0.82],\n",
              "       [1.  , 0.  ],\n",
              "       [1.  , 0.  ],\n",
              "       [1.  , 0.  ],\n",
              "       [1.  , 0.  ],\n",
              "       [0.98, 0.02],\n",
              "       [0.99, 0.01],\n",
              "       [1.  , 0.  ],\n",
              "       [0.12, 0.88],\n",
              "       [1.  , 0.  ],\n",
              "       [0.92, 0.08],\n",
              "       [0.97, 0.03],\n",
              "       [0.97, 0.03],\n",
              "       [1.  , 0.  ],\n",
              "       [0.98, 0.02],\n",
              "       [1.  , 0.  ],\n",
              "       [1.  , 0.  ],\n",
              "       [0.08, 0.92],\n",
              "       [0.99, 0.01],\n",
              "       [0.99, 0.01],\n",
              "       [0.86, 0.14],\n",
              "       [0.17, 0.83],\n",
              "       [0.13, 0.87],\n",
              "       [1.  , 0.  ],\n",
              "       [1.  , 0.  ],\n",
              "       [0.98, 0.02],\n",
              "       [0.07, 0.93],\n",
              "       [0.02, 0.98],\n",
              "       [0.99, 0.01],\n",
              "       [0.99, 0.01],\n",
              "       [1.  , 0.  ],\n",
              "       [0.96, 0.04],\n",
              "       [0.94, 0.06],\n",
              "       [0.97, 0.03],\n",
              "       [1.  , 0.  ],\n",
              "       [1.  , 0.  ],\n",
              "       [1.  , 0.  ],\n",
              "       [0.96, 0.04],\n",
              "       [1.  , 0.  ],\n",
              "       [1.  , 0.  ],\n",
              "       [0.96, 0.04],\n",
              "       [1.  , 0.  ],\n",
              "       [0.95, 0.05],\n",
              "       [1.  , 0.  ],\n",
              "       [0.1 , 0.9 ],\n",
              "       [0.07, 0.93],\n",
              "       [0.97, 0.03],\n",
              "       [0.99, 0.01],\n",
              "       [0.94, 0.06],\n",
              "       [1.  , 0.  ],\n",
              "       [1.  , 0.  ],\n",
              "       [1.  , 0.  ],\n",
              "       [1.  , 0.  ],\n",
              "       [1.  , 0.  ],\n",
              "       [1.  , 0.  ],\n",
              "       [0.99, 0.01],\n",
              "       [0.9 , 0.1 ],\n",
              "       [0.98, 0.02],\n",
              "       [1.  , 0.  ],\n",
              "       [1.  , 0.  ],\n",
              "       [1.  , 0.  ],\n",
              "       [0.99, 0.01],\n",
              "       [0.18, 0.82],\n",
              "       [1.  , 0.  ],\n",
              "       [0.97, 0.03],\n",
              "       [0.1 , 0.9 ],\n",
              "       [0.97, 0.03],\n",
              "       [1.  , 0.  ],\n",
              "       [0.99, 0.01],\n",
              "       [1.  , 0.  ],\n",
              "       [0.95, 0.05],\n",
              "       [1.  , 0.  ],\n",
              "       [0.92, 0.08],\n",
              "       [0.04, 0.96],\n",
              "       [0.99, 0.01],\n",
              "       [0.98, 0.02],\n",
              "       [1.  , 0.  ],\n",
              "       [1.  , 0.  ],\n",
              "       [0.99, 0.01],\n",
              "       [0.84, 0.16],\n",
              "       [0.99, 0.01],\n",
              "       [0.99, 0.01],\n",
              "       [1.  , 0.  ],\n",
              "       [0.97, 0.03],\n",
              "       [0.97, 0.03],\n",
              "       [1.  , 0.  ],\n",
              "       [1.  , 0.  ],\n",
              "       [1.  , 0.  ],\n",
              "       [1.  , 0.  ],\n",
              "       [0.95, 0.05],\n",
              "       [1.  , 0.  ],\n",
              "       [0.97, 0.03],\n",
              "       [0.99, 0.01],\n",
              "       [0.07, 0.93],\n",
              "       [1.  , 0.  ],\n",
              "       [0.02, 0.98],\n",
              "       [0.97, 0.03],\n",
              "       [1.  , 0.  ],\n",
              "       [0.97, 0.03],\n",
              "       [1.  , 0.  ],\n",
              "       [0.06, 0.94],\n",
              "       [1.  , 0.  ],\n",
              "       [1.  , 0.  ],\n",
              "       [0.95, 0.05],\n",
              "       [0.86, 0.14],\n",
              "       [0.  , 1.  ],\n",
              "       [0.29, 0.71],\n",
              "       [1.  , 0.  ],\n",
              "       [0.14, 0.86],\n",
              "       [0.04, 0.96],\n",
              "       [0.99, 0.01],\n",
              "       [1.  , 0.  ],\n",
              "       [0.99, 0.01],\n",
              "       [1.  , 0.  ],\n",
              "       [1.  , 0.  ],\n",
              "       [0.99, 0.01],\n",
              "       [0.04, 0.96],\n",
              "       [1.  , 0.  ],\n",
              "       [0.02, 0.98],\n",
              "       [1.  , 0.  ],\n",
              "       [1.  , 0.  ],\n",
              "       [0.12, 0.88],\n",
              "       [0.85, 0.15],\n",
              "       [1.  , 0.  ],\n",
              "       [0.99, 0.01],\n",
              "       [1.  , 0.  ],\n",
              "       [1.  , 0.  ],\n",
              "       [0.03, 0.97],\n",
              "       [0.98, 0.02],\n",
              "       [1.  , 0.  ],\n",
              "       [1.  , 0.  ],\n",
              "       [1.  , 0.  ],\n",
              "       [0.98, 0.02],\n",
              "       [1.  , 0.  ],\n",
              "       [1.  , 0.  ],\n",
              "       [0.99, 0.01],\n",
              "       [1.  , 0.  ],\n",
              "       [0.83, 0.17],\n",
              "       [0.94, 0.06],\n",
              "       [0.99, 0.01],\n",
              "       [0.87, 0.13],\n",
              "       [1.  , 0.  ],\n",
              "       [0.99, 0.01],\n",
              "       [1.  , 0.  ],\n",
              "       [0.04, 0.96],\n",
              "       [1.  , 0.  ],\n",
              "       [0.03, 0.97],\n",
              "       [0.91, 0.09],\n",
              "       [1.  , 0.  ],\n",
              "       [0.29, 0.71],\n",
              "       [0.03, 0.97],\n",
              "       [0.93, 0.07],\n",
              "       [0.94, 0.06],\n",
              "       [1.  , 0.  ],\n",
              "       [0.09, 0.91],\n",
              "       [0.97, 0.03],\n",
              "       [0.99, 0.01],\n",
              "       [0.99, 0.01],\n",
              "       [0.12, 0.88],\n",
              "       [1.  , 0.  ],\n",
              "       [1.  , 0.  ],\n",
              "       [1.  , 0.  ],\n",
              "       [0.99, 0.01],\n",
              "       [0.12, 0.88],\n",
              "       [0.14, 0.86],\n",
              "       [1.  , 0.  ],\n",
              "       [0.02, 0.98],\n",
              "       [1.  , 0.  ],\n",
              "       [0.97, 0.03],\n",
              "       [1.  , 0.  ],\n",
              "       [0.09, 0.91],\n",
              "       [1.  , 0.  ],\n",
              "       [0.21, 0.79],\n",
              "       [1.  , 0.  ],\n",
              "       [1.  , 0.  ],\n",
              "       [1.  , 0.  ],\n",
              "       [0.91, 0.09],\n",
              "       [1.  , 0.  ],\n",
              "       [0.99, 0.01],\n",
              "       [0.93, 0.07],\n",
              "       [0.93, 0.07],\n",
              "       [0.09, 0.91],\n",
              "       [0.06, 0.94],\n",
              "       [1.  , 0.  ],\n",
              "       [0.06, 0.94],\n",
              "       [0.89, 0.11],\n",
              "       [0.99, 0.01],\n",
              "       [0.05, 0.95],\n",
              "       [0.92, 0.08],\n",
              "       [0.88, 0.12],\n",
              "       [1.  , 0.  ],\n",
              "       [0.13, 0.87],\n",
              "       [1.  , 0.  ]])"
            ]
          },
          "metadata": {},
          "execution_count": 52
        }
      ]
    },
    {
      "cell_type": "code",
      "source": [
        "from sklearn.metrics import roc_curve"
      ],
      "metadata": {
        "id": "SRg3MUO3szpG"
      },
      "execution_count": null,
      "outputs": []
    },
    {
      "cell_type": "code",
      "source": [
        "probs = y_pred_proba[:, 1]\n",
        "fpr1, tpr1, treshold = roc_curve(y_test, probs)"
      ],
      "metadata": {
        "id": "VeGmMmYpsr-D"
      },
      "execution_count": null,
      "outputs": []
    },
    {
      "cell_type": "code",
      "source": [
        "import matplotlib.pyplot as plt\n",
        "plt.plot(fpr1, tpr1)\n",
        "plt.xlabel('False Positive Rate')\n",
        "plt.ylabel('True Positive Rate')\n",
        "plt.title('ROC-кривая')\n",
        "plt.show()"
      ],
      "metadata": {
        "colab": {
          "base_uri": "https://localhost:8080/",
          "height": 301
        },
        "id": "TyfFflv1stJr",
        "outputId": "5aa8fffe-023f-475f-ba99-d67ec4f2f43c"
      },
      "execution_count": null,
      "outputs": [
        {
          "output_type": "display_data",
          "data": {
            "text/plain": [
              "<Figure size 432x288 with 1 Axes>"
            ],
            "image/png": "[encoded data removed]"
          },
          "metadata": {}
        }
      ]
    },
    {
      "cell_type": "code",
      "source": [
        "from sklearn.cluster import KMeans;\n",
        "from sklearn.decomposition import PCA;\n",
        "from sklearn.preprocessing import normalize;\n",
        "y = KMeans().fit_predict(new_data)\n",
        "X = normalize(new_data);\n",
        "x_PCA = PCA(n_components=2).fit_transform(X,2);\n",
        "print(x_PCA.shape)"
      ],
      "metadata": {
        "colab": {
          "base_uri": "https://localhost:8080/"
        },
        "id": "x400YTW8qCmg",
        "outputId": "97c0c122-d00e-4d99-bcdc-c4501a2c994c"
      },
      "execution_count": null,
      "outputs": [
        {
          "output_type": "stream",
          "name": "stdout",
          "text": [
            "(1000, 2)\n"
          ]
        }
      ]
    },
    {
      "cell_type": "code",
      "source": [
        "from sklearn.model_selection import train_test_split\n",
        "x_train, x_test, y_train, y_test = train_test_split(X, y, \n",
        "                                                    test_size=0.2)"
      ],
      "metadata": {
        "id": "rtAQMMEmr4nA"
      },
      "execution_count": null,
      "outputs": []
    },
    {
      "cell_type": "code",
      "source": [
        "from sklearn.ensemble import RandomForestClassifier\n",
        "\n",
        "model = RandomForestClassifier()\n",
        "model.fit(x_train, y_train)"
      ],
      "metadata": {
        "colab": {
          "base_uri": "https://localhost:8080/"
        },
        "id": "hnF5WGmbtHlG",
        "outputId": "fcde6bbc-bb6a-4fdc-e14c-ef68cda049c6"
      },
      "execution_count": null,
      "outputs": [
        {
          "output_type": "execute_result",
          "data": {
            "text/plain": [
              "RandomForestClassifier()"
            ]
          },
          "metadata": {},
          "execution_count": 59
        }
      ]
    },
    {
      "cell_type": "code",
      "source": [
        "y_pred1 = model.predict(x_test)\n",
        "y_pred1"
      ],
      "metadata": {
        "colab": {
          "base_uri": "https://localhost:8080/"
        },
        "id": "3JY2cakQqwaE",
        "outputId": "63e0c327-6f92-4e36-fa98-1c6ff7d67009"
      },
      "execution_count": null,
      "outputs": [
        {
          "output_type": "execute_result",
          "data": {
            "text/plain": [
              "array([5, 7, 7, 0, 6, 0, 5, 0, 5, 3, 6, 0, 3, 0, 0, 5, 1, 5, 3, 3, 3, 7,\n",
              "       0, 0, 0, 1, 5, 3, 5, 5, 0, 1, 6, 1, 5, 3, 4, 0, 0, 5, 5, 7, 1, 5,\n",
              "       0, 3, 5, 5, 0, 1, 0, 6, 3, 3, 1, 3, 3, 6, 5, 0, 5, 5, 0, 4, 0, 3,\n",
              "       0, 3, 3, 5, 0, 0, 0, 0, 3, 6, 5, 6, 5, 5, 0, 5, 3, 3, 5, 0, 7, 0,\n",
              "       0, 5, 5, 0, 5, 3, 5, 2, 3, 1, 2, 0, 5, 0, 6, 5, 1, 7, 0, 6, 0, 7,\n",
              "       0, 3, 0, 1, 5, 5, 5, 0, 5, 0, 0, 5, 3, 0, 4, 6, 0, 7, 3, 1, 0, 0,\n",
              "       5, 3, 3, 0, 3, 3, 1, 0, 5, 0, 6, 6, 5, 7, 0, 3, 1, 0, 0, 0, 0, 0,\n",
              "       5, 0, 6, 0, 0, 6, 5, 5, 0, 5, 1, 1, 6, 1, 5, 5, 0, 2, 0, 3, 5, 0,\n",
              "       5, 5, 0, 5, 6, 0, 6, 6, 1, 7, 0, 6, 3, 0, 5, 1, 5, 2, 0, 0, 3, 5,\n",
              "       0, 3], dtype=int32)"
            ]
          },
          "metadata": {},
          "execution_count": 60
        }
      ]
    },
    {
      "cell_type": "code",
      "source": [
        "from sklearn.metrics import classification_report, confusion_matrix \n",
        "print(confusion_matrix(y_test,y_pred1)) \n",
        "print(classification_report(y_test,y_pred1))"
      ],
      "metadata": {
        "colab": {
          "base_uri": "https://localhost:8080/"
        },
        "id": "JTQiK4rRtz0v",
        "outputId": "fa22bc63-8b91-4b5a-f4fa-c3b54c5ed99b"
      },
      "execution_count": null,
      "outputs": [
        {
          "output_type": "stream",
          "name": "stdout",
          "text": [
            "[[64  0  0  0  0  0  0  0]\n",
            " [ 0 16  0  0  0  0  0  0]\n",
            " [ 0  0  4  0  0  0  0  0]\n",
            " [ 0  0  0 31  0  0  0  0]\n",
            " [ 0  0  0  0  3  0  0  1]\n",
            " [ 0  0  0  0  0 50  0  0]\n",
            " [ 0  2  0  1  0  0 19  1]\n",
            " [ 0  0  0  0  0  0  0  8]]\n",
            "              precision    recall  f1-score   support\n",
            "\n",
            "           0       1.00      1.00      1.00        64\n",
            "           1       0.89      1.00      0.94        16\n",
            "           2       1.00      1.00      1.00         4\n",
            "           3       0.97      1.00      0.98        31\n",
            "           4       1.00      0.75      0.86         4\n",
            "           5       1.00      1.00      1.00        50\n",
            "           6       1.00      0.83      0.90        23\n",
            "           7       0.80      1.00      0.89         8\n",
            "\n",
            "    accuracy                           0.97       200\n",
            "   macro avg       0.96      0.95      0.95       200\n",
            "weighted avg       0.98      0.97      0.97       200\n",
            "\n"
          ]
        }
      ]
    },
    {
      "cell_type": "code",
      "source": [
        "plt.scatter(x_PCA[:,0], x_PCA[:,1], c=target, cmap='Spectral')\n",
        "plt.figure()"
      ],
      "metadata": {
        "colab": {
          "base_uri": "https://localhost:8080/",
          "height": 303
        },
        "id": "A0b8x920twRF",
        "outputId": "48051627-80b8-4403-ce0b-255dec2855eb"
      },
      "execution_count": null,
      "outputs": [
        {
          "output_type": "execute_result",
          "data": {
            "text/plain": [
              "<Figure size 432x288 with 0 Axes>"
            ]
          },
          "metadata": {},
          "execution_count": 62
        },
        {
          "output_type": "display_data",
          "data": {
            "text/plain": [
              "<Figure size 432x288 with 1 Axes>"
            ],
            "image/png": "[encoded data removed]"
          },
          "metadata": {}
        },
        {
          "output_type": "display_data",
          "data": {
            "text/plain": [
              "<Figure size 432x288 with 0 Axes>"
            ]
          },
          "metadata": {}
        }
      ]
    },
    {
      "cell_type": "code",
      "source": [],
      "metadata": {
        "id": "oFNeP5Jaug4C"
      },
      "execution_count": null,
      "outputs": []
    }
  ]
}