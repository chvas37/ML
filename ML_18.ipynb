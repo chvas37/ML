{
 "cells": [
  {
   "cell_type": "markdown",
   "metadata": {
    "id": "403Mis3LAgED"
   },
   "source": [
    "## 1. Классификация предметов одежды (датасет Fashion MNIST)\n"
   ]
  },
  {
   "cell_type": "markdown",
   "metadata": {
    "id": "Mn6r8tMDQsaU"
   },
   "source": [
    "\n",
    "### 1.1 Решить задачу классификации, не используя сверточные слои. \n",
    "* Предложить архитектуру модели для решения задачи\n",
    "* Посчитать количество параметров модели.\n",
    "* Обучить модель\n",
    "* Вывести график функции потерь по эпохам. \n",
    "* Используя тестовое множество\n",
    "\n",
    "  * Продемонстрировать работу модели: вывести несколько изображений, указать над ними правильный класс и класс, предсказанный моделью. \n",
    "\n",
    "  * Вывести матрицу ошибок.\n",
    "\n",
    "  * Вывести значение accuracy на тестовом множестве.\n",
    "* Сохранить модель"
   ]
  },
  {
   "cell_type": "markdown",
   "metadata": {
    "id": "STzv4LvI2Fv0"
   },
   "source": [
    "#### Архитектура модели\n",
    "Эта архитектура нейронной сети включает в себя четыре слоя: \n",
    "\n",
    "1. Слой Flatten преобразует входное изображение в одномерный тензор. \n",
    "\n",
    "2. Первый линейный слой (nn.Linear) имеет 784 входных нейрона (28x28 изображение, представленное в виде одномерного тензора) и 256 выходных нейронов. \n",
    "\n",
    "3. Второй линейный слой имеет 256 входных нейронов и 128 выходных нейронов. \n",
    "\n",
    "4. Третий линейный слой имеет 128 входных нейронов и 64 выходных нейрона. \n",
    "\n",
    "5. Четвертый и последний линейный слой имеет 64 входных нейрона и 10 выходных нейронов, каждый из которых представляет классы (0-9), которые мы пытаемся классифицировать. \n",
    "\n",
    "Каждый линейный слой обрабатывается с использованием функции активации ReLU, которая помогает нейронам обнаруживать нелинейные зависимости между входными и выходными данными. \n",
    "\n",
    "В итоге, эта архитектура модели позволяет принимать на вход изображения размером 28х28 и предсказывать их класс (один из 10 возможных классов), используя 3 скрытых слоя и функцию активации ReLU."
   ]
  },
  {
   "cell_type": "code",
   "execution_count": 1,
   "metadata": {},
   "outputs": [],
   "source": [
    "import matplotlib.pyplot as plt\n",
    "from torchvision import datasets, transforms\n",
    "import torchvision\n",
    "import torch\n",
    "import torch.nn as nn\n",
    "import torch.optim as optim\n",
    "from torch.utils.data import DataLoader, random_split\n",
    "import torch.nn.functional as F \n",
    "from sklearn.metrics import f1_score, accuracy_score\n",
    "import seaborn as sns\n",
    "import numpy as np\n",
    "from sklearn.metrics import confusion_matrix\n",
    "from sklearn.metrics import accuracy_score"
   ]
  },
  {
   "cell_type": "code",
   "execution_count": 2,
   "metadata": {
    "id": "WeoE7hpg2Fv1"
   },
   "outputs": [
    {
     "name": "stdout",
     "output_type": "stream",
     "text": [
      "Epoch 1/10 - Training loss: 0.581, Test loss: 0.442, Accuracy: 0.833\n",
      "Epoch 2/10 - Training loss: 0.394, Test loss: 0.371, Accuracy: 0.867\n",
      "Epoch 3/10 - Training loss: 0.354, Test loss: 0.341, Accuracy: 0.876\n",
      "Epoch 4/10 - Training loss: 0.322, Test loss: 0.332, Accuracy: 0.880\n",
      "Epoch 5/10 - Training loss: 0.307, Test loss: 0.341, Accuracy: 0.874\n",
      "Epoch 6/10 - Training loss: 0.287, Test loss: 0.318, Accuracy: 0.884\n",
      "Epoch 7/10 - Training loss: 0.274, Test loss: 0.320, Accuracy: 0.883\n",
      "Epoch 8/10 - Training loss: 0.262, Test loss: 0.326, Accuracy: 0.882\n",
      "Epoch 9/10 - Training loss: 0.250, Test loss: 0.311, Accuracy: 0.888\n",
      "Epoch 10/10 - Training loss: 0.239, Test loss: 0.317, Accuracy: 0.889\n"
     ]
    },
    {
     "data": {
      "image/png": "[encoded data removed]",
      "text/plain": [
       "<Figure size 432x288 with 1 Axes>"
      ]
     },
     "metadata": {
      "needs_background": "light"
     },
     "output_type": "display_data"
    }
   ],
   "source": [
    "\n",
    "#______________________________________________\n",
    "\n",
    "class CNN1(nn.Module):\n",
    "    \n",
    "    def __init__(self):\n",
    "        super().__init__()\n",
    "        self.layers = nn.Sequential(\n",
    "                nn.Flatten(),\n",
    "                nn.Linear(784, 256),\n",
    "                nn.ReLU(),\n",
    "                nn.Linear(256, 128),\n",
    "                nn.ReLU(),\n",
    "                nn.Linear(128, 64),\n",
    "                nn.ReLU(),\n",
    "                nn.Linear(64, 10)\n",
    "            )\n",
    "        \n",
    "    def forward(self, x):\n",
    "        return self.layers(x)\n",
    "\n",
    "#______________________________________________\n",
    "\n",
    "\n",
    "model = CNN1()\n",
    "\n",
    "data_path = './data/fmnist'\n",
    "# данные в виде картинок 28x28\n",
    "transform = transforms.Compose([transforms.ToTensor()])\n",
    "dataset = datasets.FashionMNIST(data_path, train=True, download=True, transform=transform)\n",
    "\n",
    "val_ratio = 0.2\n",
    "\n",
    "train_dataset, val_dataset = random_split(\n",
    "    dataset=dataset, \n",
    "    lengths=[int(len(dataset)*(1-val_ratio)), int(len(dataset)*val_ratio)],\n",
    ")\n",
    "\n",
    "batch_size = 64\n",
    "\n",
    "train_loader = DataLoader(train_dataset, batch_size=batch_size, shuffle=True)\n",
    "test_loader = DataLoader(val_dataset, batch_size=batch_size, shuffle=True)\n",
    "\n",
    "device = torch.device('cuda:0' if torch.cuda.is_available() else 'cpu')\n",
    "model.to(device)\n",
    "\n",
    "criterion = nn.CrossEntropyLoss()\n",
    "optimizer = optim.Adam(model.parameters(), lr=0.001)\n",
    "\n",
    "epochs = 10\n",
    "\n",
    "train_losses = []\n",
    "test_losses = []\n",
    "test_accuracies = []\n",
    "\n",
    "for epoch in range(epochs):\n",
    "    \n",
    "    # Train\n",
    "    running_loss = 0.0\n",
    "    model.train()\n",
    "    \n",
    "    for inputs, labels in train_loader:\n",
    "        inputs, labels = inputs.to(device), labels.to(device)\n",
    "        \n",
    "        optimizer.zero_grad()\n",
    "        \n",
    "        outputs = model(inputs)\n",
    "        loss = criterion(outputs, labels)\n",
    "        loss.backward()\n",
    "        optimizer.step()\n",
    "        \n",
    "        running_loss += loss.item()\n",
    "        \n",
    "    train_loss = running_loss / len(train_loader)\n",
    "    train_losses.append(train_loss)\n",
    "    \n",
    "    # Test\n",
    "    running_loss = 0.0\n",
    "    running_accuracy = 0.0\n",
    "    model.eval()\n",
    "    with torch.no_grad():\n",
    "        for inputs, labels in test_loader:\n",
    "            inputs, labels = inputs.to(device), labels.to(device)\n",
    "\n",
    "            outputs = model(inputs)\n",
    "            loss = criterion(outputs, labels)\n",
    "            predictions = torch.argmax(outputs, dim=1)\n",
    "            accuracy = accuracy_score(labels.cpu().numpy(), predictions.cpu().numpy())\n",
    "            running_loss += loss.item()\n",
    "            running_accuracy += accuracy\n",
    "            \n",
    "\n",
    "        test_loss = running_loss / len(test_loader)\n",
    "        test_losses.append(test_loss)\n",
    "        \n",
    "        test_accuracy = running_accuracy / len(test_loader)\n",
    "        test_accuracies.append(test_accuracy)\n",
    "    \n",
    "    print(f\"Epoch {epoch+1}/{epochs} - Training loss: {train_loss:.3f}, Test loss: {test_loss:.3f}, Accuracy: {test_accuracy:.3f}\")\n",
    "    \n",
    "plt.plot(train_losses, label='Training loss')\n",
    "plt.plot(test_losses, label='Test loss')\n",
    "plt.xlabel('Epoch')\n",
    "plt.ylabel('Loss')\n",
    "plt.legend()\n",
    "plt.show()\n"
   ]
  },
  {
   "cell_type": "markdown",
   "metadata": {
    "id": "GmsMQUPP-XUh"
   },
   "source": [
    "### 1.2 Решить задачу 1.1, используя сверточную нейронную сеть. \n",
    "* Добиться значения accuracy на тестовом множестве не менее 90%\n",
    "* Визуализировать результаты работы первого сверточного слоя"
   ]
  },
  {
   "cell_type": "markdown",
   "metadata": {
    "id": "Rb3NCHtm2Fv8"
   },
   "source": [
    "Сверточный слой (Convolutional layer) - это основной блок сверточной нейронной сети, который применяет свертку к входным данным. Свертка - это математическая операция, которая позволяет извлекать признаки из изображений, звуковых файлов и других типов данных. \n",
    "\n",
    "В сверточном слое используется набор фильтров, которые скользят (свертываются) по входным данным и вычисляют операцию свертки. Каждый фильтр обнаруживает определенные признаки во входных данных, такие как границы, текстуры, формы и т.д. В результате свертки получается карта признаков, которая затем подается на следующий слой.\n",
    "\n",
    "Сверточные слои позволяют нейронной сети автоматически извлекать признаки из входных данных без необходимости задавать их явно. Они также помогают сократить количество параметров в сети, что упрощает ее обучение и ускоряет процесс распознавания. Сверточные сети широко используются для обработки изображений, видео, аудио и других типов данных, где важна локальная структура."
   ]
  },
  {
   "cell_type": "markdown",
   "metadata": {
    "id": "m7xrVx2o2Fv8"
   },
   "source": [
    "\n",
    "`self.conv1` является первым сверточным слоем и принимает на вход изображения с 1 каналом (черно-белые изображения), поэтому мы устанавливаем `in_channels=1`. Слой имеет 16 фильтров (out_channels=16), что означает, что он будет выдавать 16 карт признаков.\n",
    "\n",
    "`kernel_size=3` означает, что размер ядра свертки будет 3x3, что позволяет рассматривать каждый пиксель в контексте соседних пикселей. `stride=1` означает, что ядро свертки будет перемещаться на 1 пиксель за раз, чтобы вычислить свертку со всеми пикселями в изображении. `padding=1` означает, что мы дополняем изображение нулями на границах, чтобы избежать уменьшения размера изображения после свертки.\n",
    "\n",
    "`self.conv2` является вторым сверточным слоем и принимает на вход карты признаков, которые были выданы предыдущим сверточным слоем. В этом случае, `in_channels=16`, потому что первый сверточный слой выдал 16 карт признаков, а `out_channels=32`, что означает, что этот слой будет выдавать 32 карты признаков.\n",
    "\n",
    "`self.pool` является слоем пуллинга, который выполняет операцию максимального пулинга на картах признаков, чтобы уменьшить размерность изображения. `kernel_size=2` означает, что мы используем окно размером 2x2 для выполнения операции максимального пулинга.\n",
    "\n",
    "`self.fc1` является полносвязным слоем, который принимает на вход плоский вектор, полученный из карточек признаков, и выдает итоговый результат в виде 10 чисел, соответствующих классам в датасете fashionmnist. Размерность входа для этого слоя равна `32 * 7 * 7`, потому что после применения двух сверточных слоев и слоя пуллинга, размер карт признаков составляет 32x7x7."
   ]
  },
  {
   "cell_type": "markdown",
   "metadata": {
    "id": "8SjJ0n5h2Fv9"
   },
   "source": [
    "Слой пулинга (pooling layer) в сверточных нейронных сетях является одним из основных компонентов, который используется для уменьшения размерности карт признаков, извлеченных из изображений. Он используется после сверточных слоев для сокращения количества параметров модели, уменьшения вычислительной сложности и предотвращения переобучения.\n",
    "\n",
    "Слой пулинга работает путем разбиения карты признаков на несколько непересекающихся прямоугольных регионов (обычно 2x2 или 3x3), и затем заменяет все значения в каждом регионе на одно значение, которое является максимальным или средним значением в этом регионе. Максимальное пулингирование (max pooling) и среднее пулингирование (average pooling) являются двумя наиболее распространенными типами пулинга.\n",
    "\n",
    "В результате применения слоя пулинга, размер карт признаков уменьшается в два раза (если используется пулинг размера 2x2), что позволяет уменьшить количество параметров модели и ускорить вычисления. Одновременно это может помочь в избежании переобучения модели, поскольку слой пулинга удаляет избыточную информацию из карт признаков и фокусируется только на наиболее важных признаках.\n",
    "\n",
    "В сверточных нейронных сетях, слои пулинга обычно применяются после каждого сверточного слоя или нескольких сверточных слоев подряд, для того чтобы уменьшить размерность карт признаков. Они также позволяют сети получать инвариантность к небольшим трансляциям объектов в изображении, что повышает устойчивость к шуму и повышает точность классификации.\n",
    "\n",
    "Кроме того, слои пулинга не имеют параметров, которые нужно обучать, поэтому они не увеличивают количество параметров в модели и не увеличивают вычислительную сложность."
   ]
  },
  {
   "cell_type": "markdown",
   "metadata": {
    "id": "_LOEqw2Y2Fv9"
   },
   "source": [
    "Stride (шаг) определяет, на сколько пикселей (или элементов в других типах данных) будет сдвигаться фильтр при свертке. Если Stride больше единицы, то фильтр будет перескакивать через несколько пикселей, что уменьшает размер выходных данных. Уменьшение размера может быть полезно, например, для ускорения обучения или для сокращения количества параметров в сети.\n",
    "\n",
    "Padding (заполнение) - это добавление нулей вокруг границ входных данных перед применением свертки. Заполнение позволяет сохранить размер выходных данных после свертки и уменьшить искажение краевых пикселей. Без заполнения свертка может привести к сокращению размера выходных данных и искажению признаков в углах изображения."
   ]
  },
  {
   "cell_type": "markdown",
   "metadata": {
    "id": "8KeGx0Ll2Fv-"
   },
   "source": [
    "#### Архитектура сети\n",
    "\n",
    "1. Conv2d layer с 1 входным каналом, 16 выходными каналами, ядром размером 3x3, шагом 1 и заполнением 1.\n",
    "2. BatchNorm2d layer для нормализации выхода первого Conv2d слоя.\n",
    "3. Conv2d layer с 16 входными каналами, 32 выходными каналами, ядром размером 3x3, шагом 1 и заполнением 1.\n",
    "4. BatchNorm2d layer для нормализации выхода второго Conv2d слоя.\n",
    "5. MaxPool2d слой с ядром размером 2x2 для уменьшения размерности изображения вдвое.\n",
    "6. Conv2d layer с 32 входными каналами, 64 выходными каналами, ядром размером 3x3, шагом 1 и заполнением 1.\n",
    "7. BatchNorm2d layer для нормализации выхода третьего Conv2d слоя.\n",
    "8. MaxPool2d слой с ядром размером 2x2 для уменьшения размерности изображения вдвое.\n",
    "9. Полносвязный слой (Linear) с 32*7*7 входными нейронами и 10 выходными нейронами."
   ]
  },
  {
   "cell_type": "code",
   "execution_count": 72,
   "metadata": {
    "id": "K_x3hPNq2Fv_"
   },
   "outputs": [
    {
     "data": {
      "text/plain": [
       "CNN(\n",
       "  (layer1): Sequential(\n",
       "    (0): Conv2d(1, 16, kernel_size=(3, 3), stride=(1, 1), padding=(1, 1))\n",
       "    (1): BatchNorm2d(16, eps=1e-05, momentum=0.1, affine=True, track_running_stats=True)\n",
       "  )\n",
       "  (layer2): Sequential(\n",
       "    (0): Conv2d(16, 32, kernel_size=(3, 3), stride=(1, 1), padding=(1, 1))\n",
       "    (1): BatchNorm2d(32, eps=1e-05, momentum=0.1, affine=True, track_running_stats=True)\n",
       "    (2): MaxPool2d(kernel_size=(2, 2), stride=(2, 2), padding=0, dilation=1, ceil_mode=False)\n",
       "  )\n",
       "  (layer3): Sequential(\n",
       "    (0): Conv2d(32, 64, kernel_size=(3, 3), stride=(1, 1), padding=(1, 1))\n",
       "    (1): BatchNorm2d(64, eps=1e-05, momentum=0.1, affine=True, track_running_stats=True)\n",
       "    (2): MaxPool2d(kernel_size=(2, 2), stride=(2, 2), padding=0, dilation=1, ceil_mode=False)\n",
       "  )\n",
       "  (fc1): Linear(in_features=3136, out_features=10, bias=True)\n",
       ")"
      ]
     },
     "execution_count": 72,
     "metadata": {},
     "output_type": "execute_result"
    }
   ],
   "source": [
    "class CNN(torch.nn.Module):\n",
    "\n",
    "    def __init__(self):\n",
    "        super(CNN, self).__init__()\n",
    "        self.layer1 = torch.nn.Sequential(\n",
    "            torch.nn.Conv2d(1, 16, kernel_size=(3,3), stride=1, padding=1),\n",
    "            nn.BatchNorm2d(16))\n",
    " \n",
    "        self.layer2 = torch.nn.Sequential(\n",
    "            torch.nn.Conv2d(16, 32, kernel_size=(3,3), stride=1, padding=1),\n",
    "            nn.BatchNorm2d(32),\n",
    "            nn.MaxPool2d((2, 2)))\n",
    "    \n",
    "        self.layer3 = torch.nn.Sequential(\n",
    "            nn.Conv2d(32, 64, (3,3), stride=1, padding=1),\n",
    "            nn.BatchNorm2d(64),\n",
    "            nn.MaxPool2d((2, 2)))\n",
    " \n",
    " \n",
    "\n",
    "        \n",
    "        self.fc1 = torch.nn.Linear(3136, 10, bias=True)\n",
    "        \n",
    "\n",
    "    def forward(self, x):\n",
    "        out = self.layer1(x)\n",
    "        out = self.layer2(out)\n",
    "        out = self.layer3(out)\n",
    "        out = out.view(out.size(0), -1)   # Flatten them for FC\n",
    "        out = self.fc1(out)\n",
    "        return out\n",
    "\n",
    "\n",
    "#instantiate CNN model\n",
    "model = CNN()\n",
    "model"
   ]
  },
  {
   "cell_type": "code",
   "execution_count": 73,
   "metadata": {},
   "outputs": [],
   "source": [
    "learning_rate = 0.001\n",
    "criterion = torch.nn.CrossEntropyLoss()    # Softmax is internally computed.\n",
    "optimizer = torch.optim.Adam(params=model.parameters(), lr=learning_rate)"
   ]
  },
  {
   "cell_type": "code",
   "execution_count": 74,
   "metadata": {},
   "outputs": [
    {
     "name": "stdout",
     "output_type": "stream",
     "text": [
      "Training the Deep Learning network ...\n",
      "Size of the training dataset is torch.Size([60000, 28, 28])\n",
      "Size of the testing dataset\n",
      "Batch size is : 64\n",
      "Total number of batches is : 937\n",
      "\n",
      "Total number of epochs is : 10\n",
      "Epoch= 1,\t batch = 0,\t cost = 2.4105,\t accuracy = 0.0625\n",
      "Epoch= 1,\t batch = 200,\t cost = 0.0750,\t accuracy = 0.953125\n",
      "Epoch= 1,\t batch = 400,\t cost = 0.1013,\t accuracy = 0.953125\n",
      "Epoch= 1,\t batch = 600,\t cost = 0.0346,\t accuracy = 0.984375\n",
      "Epoch= 1,\t batch = 800,\t cost = 0.0603,\t accuracy = 0.96875\n",
      "[Epoch:    1], averaged cost = 0.127663195\n",
      "Epoch= 2,\t batch = 0,\t cost = 0.0580,\t accuracy = 0.96875\n",
      "Epoch= 2,\t batch = 200,\t cost = 0.0419,\t accuracy = 0.984375\n",
      "Epoch= 2,\t batch = 400,\t cost = 0.0032,\t accuracy = 1.0\n",
      "Epoch= 2,\t batch = 600,\t cost = 0.0163,\t accuracy = 1.0\n",
      "Epoch= 2,\t batch = 800,\t cost = 0.0134,\t accuracy = 1.0\n",
      "[Epoch:    2], averaged cost = 0.060675323\n",
      "Epoch= 3,\t batch = 0,\t cost = 0.0323,\t accuracy = 0.984375\n",
      "Epoch= 3,\t batch = 200,\t cost = 0.1218,\t accuracy = 0.96875\n",
      "Epoch= 3,\t batch = 400,\t cost = 0.0114,\t accuracy = 1.0\n",
      "Epoch= 3,\t batch = 600,\t cost = 0.0255,\t accuracy = 0.984375\n",
      "Epoch= 3,\t batch = 800,\t cost = 0.0038,\t accuracy = 1.0\n",
      "[Epoch:    3], averaged cost = 0.0480154678\n",
      "Epoch= 4,\t batch = 0,\t cost = 0.1408,\t accuracy = 0.96875\n",
      "Epoch= 4,\t batch = 200,\t cost = 0.0042,\t accuracy = 1.0\n",
      "Epoch= 4,\t batch = 400,\t cost = 0.0866,\t accuracy = 0.96875\n",
      "Epoch= 4,\t batch = 600,\t cost = 0.0148,\t accuracy = 1.0\n",
      "Epoch= 4,\t batch = 800,\t cost = 0.0119,\t accuracy = 1.0\n",
      "[Epoch:    4], averaged cost = 0.0377547964\n",
      "Epoch= 5,\t batch = 0,\t cost = 0.1474,\t accuracy = 0.96875\n",
      "Epoch= 5,\t batch = 200,\t cost = 0.0091,\t accuracy = 1.0\n",
      "Epoch= 5,\t batch = 400,\t cost = 0.0012,\t accuracy = 1.0\n",
      "Epoch= 5,\t batch = 600,\t cost = 0.1008,\t accuracy = 0.984375\n",
      "Epoch= 5,\t batch = 800,\t cost = 0.0607,\t accuracy = 0.984375\n",
      "[Epoch:    5], averaged cost = 0.0312033836\n",
      "Epoch= 6,\t batch = 0,\t cost = 0.0013,\t accuracy = 1.0\n",
      "Epoch= 6,\t batch = 200,\t cost = 0.0614,\t accuracy = 0.953125\n",
      "Epoch= 6,\t batch = 400,\t cost = 0.0007,\t accuracy = 1.0\n",
      "Epoch= 6,\t batch = 600,\t cost = 0.0145,\t accuracy = 0.984375\n",
      "Epoch= 6,\t batch = 800,\t cost = 0.0164,\t accuracy = 0.984375\n",
      "[Epoch:    6], averaged cost = 0.0260898285\n",
      "Epoch= 7,\t batch = 0,\t cost = 0.0224,\t accuracy = 0.984375\n",
      "Epoch= 7,\t batch = 200,\t cost = 0.0259,\t accuracy = 0.984375\n",
      "Epoch= 7,\t batch = 400,\t cost = 0.0078,\t accuracy = 1.0\n",
      "Epoch= 7,\t batch = 600,\t cost = 0.0033,\t accuracy = 1.0\n",
      "Epoch= 7,\t batch = 800,\t cost = 0.0004,\t accuracy = 1.0\n",
      "[Epoch:    7], averaged cost = 0.0197386052\n",
      "Epoch= 8,\t batch = 0,\t cost = 0.0101,\t accuracy = 1.0\n",
      "Epoch= 8,\t batch = 200,\t cost = 0.0023,\t accuracy = 1.0\n",
      "Epoch= 8,\t batch = 400,\t cost = 0.0000,\t accuracy = 1.0\n",
      "Epoch= 8,\t batch = 600,\t cost = 0.1706,\t accuracy = 0.984375\n",
      "Epoch= 8,\t batch = 800,\t cost = 0.0342,\t accuracy = 0.984375\n",
      "[Epoch:    8], averaged cost = 0.0188390166\n",
      "Epoch= 9,\t batch = 0,\t cost = 0.0041,\t accuracy = 1.0\n",
      "Epoch= 9,\t batch = 200,\t cost = 0.0031,\t accuracy = 1.0\n",
      "Epoch= 9,\t batch = 400,\t cost = 0.0007,\t accuracy = 1.0\n",
      "Epoch= 9,\t batch = 600,\t cost = 0.0060,\t accuracy = 1.0\n",
      "Epoch= 9,\t batch = 800,\t cost = 0.0013,\t accuracy = 1.0\n",
      "[Epoch:    9], averaged cost = 0.015274371\n",
      "Epoch= 10,\t batch = 0,\t cost = 0.0041,\t accuracy = 1.0\n",
      "Epoch= 10,\t batch = 200,\t cost = 0.0034,\t accuracy = 1.0\n",
      "Epoch= 10,\t batch = 400,\t cost = 0.0249,\t accuracy = 0.984375\n",
      "Epoch= 10,\t batch = 600,\t cost = 0.0007,\t accuracy = 1.0\n",
      "Epoch= 10,\t batch = 800,\t cost = 0.0001,\t accuracy = 1.0\n",
      "[Epoch:   10], averaged cost = 0.0134768588\n",
      "Learning Finished!\n"
     ]
    }
   ],
   "source": [
    "from torch.autograd import Variable\n",
    "mnist_train = dsets.MNIST(root='MNIST_data/',\n",
    "                          train=True,\n",
    "                          transform=transforms.ToTensor(),\n",
    "                          download=True)\n",
    "\n",
    "mnist_test = dsets.MNIST(root='MNIST_data/',\n",
    "                         train=False,\n",
    "                         transform=transforms.ToTensor(),\n",
    "                         download=True)\n",
    "\n",
    "# dataset loader\n",
    "data_loader = torch.utils.data.DataLoader(dataset=mnist_train,\n",
    "                                          batch_size=batch_size,\n",
    "                                          shuffle=True)\n",
    "\n",
    "\n",
    "\n",
    "print('Training the Deep Learning network ...')\n",
    "train_cost = []\n",
    "train_accu = []\n",
    "\n",
    "training_epochs = 10\n",
    "total_batch = len(mnist_train) // batch_size\n",
    "\n",
    "print('Size of the training dataset is {}'.format(mnist_train.data.size()))\n",
    "print('Size of the testing dataset'.format(mnist_test.data.size()))\n",
    "print('Batch size is : {}'.format(batch_size))\n",
    "print('Total number of batches is : {0:2.0f}'.format(total_batch))\n",
    "print('\\nTotal number of epochs is : {0:2.0f}'.format(training_epochs))\n",
    "\n",
    "for epoch in range(training_epochs):\n",
    "    avg_cost = 0\n",
    "    for i, (batch_X, batch_Y) in enumerate(data_loader):\n",
    "        X = Variable(batch_X)    # image is already size of (28x28), no reshape\n",
    "        Y = Variable(batch_Y)    # label is not one-hot encoded\n",
    "\n",
    "        optimizer.zero_grad() # <= initialization of the gradients\n",
    "        \n",
    "        # forward propagation\n",
    "        hypothesis = model(X)\n",
    "        cost = criterion(hypothesis, Y) # <= compute the loss function\n",
    "        \n",
    "        # Backward propagation\n",
    "        cost.backward() # <= compute the gradient of the loss/cost function     \n",
    "        optimizer.step() # <= Update the gradients\n",
    "             \n",
    "        # Print some performance to monitor the training\n",
    "        prediction = hypothesis.data.max(dim=1)[1]\n",
    "        train_accu.append(((prediction.data == Y.data).float().mean()).item())\n",
    "        train_cost.append(cost.item())   \n",
    "        if i % 200 == 0:\n",
    "            print(\"Epoch= {},\\t batch = {},\\t cost = {:2.4f},\\t accuracy = {}\".format(epoch+1, i, train_cost[-1], train_accu[-1]))\n",
    "       \n",
    "        avg_cost += cost.data / total_batch\n",
    "\n",
    "    print(\"[Epoch: {:>4}], averaged cost = {:>.9}\".format(epoch + 1, avg_cost.item()))\n",
    "\n",
    "\n",
    "print('Learning Finished!')\n",
    "\n"
   ]
  },
  {
   "cell_type": "code",
   "execution_count": 75,
   "metadata": {
    "id": "H-VP3BD_2FwB"
   },
   "outputs": [
    {
     "name": "stdout",
     "output_type": "stream",
     "text": [
      "\n",
      "Accuracy: 87.20 %\n"
     ]
    }
   ],
   "source": [
    "# Test model and check accuracy\n",
    "model.eval()    # set the model to evaluation mode (dropout=False)\n",
    "\n",
    "X_test = Variable(mnist_test.data.view(len(mnist_test), 1, 28, 28).float())\n",
    "Y_test = Variable(mnist_test.targets)\n",
    "\n",
    "prediction = model(X_test)\n",
    "\n",
    "# Compute accuracy\n",
    "correct_prediction = (torch.max(prediction.data, dim=1)[1] == Y_test.data)\n",
    "accuracy = correct_prediction.float().mean().item()\n",
    "print('\\nAccuracy: {:2.2f} %'.format(accuracy*100))"
   ]
  },
  {
   "cell_type": "markdown",
   "metadata": {
    "id": "cm6_9B3ZKLq9"
   },
   "source": [
    "##  2. Классификация изображений (датасет CIFAR 10) "
   ]
  },
  {
   "cell_type": "markdown",
   "metadata": {
    "id": "VNTZa9yWQvSF"
   },
   "source": [
    "\n",
    "### 2.1 Решить задачу классификации, не используя сверточные слои. \n",
    "\n",
    "* Нормализовать данные (если необходимо)\n",
    "* Предложить архитектуру модели для решения задачи\n",
    "* Посчитать количество параметров модели.\n",
    "* Обучить модель\n",
    "* Вывести график функции потерь по эпохам. \n",
    "* Используя тестовое множество\n",
    "\n",
    "  * Продемонстрировать работу модели: вывести несколько изображений, указать над ними правильный класс и класс, предсказанный моделью. \n",
    "\n",
    "  * Вывести матрицу ошибок.\n",
    "\n",
    "  * Вывести значение accuracy на тестовом множестве.\n",
    "* Сохранить модель"
   ]
  },
  {
   "cell_type": "code",
   "execution_count": 6,
   "metadata": {
    "id": "3ZKxawvX2FwD"
   },
   "outputs": [
    {
     "name": "stdout",
     "output_type": "stream",
     "text": [
      "Files already downloaded and verified\n",
      "Epoch 1/10 - Training loss: 1.918, Test loss: 1.785, Accuracy: 0.358\n",
      "Epoch 2/10 - Training loss: 1.716, Test loss: 1.707, Accuracy: 0.386\n",
      "Epoch 3/10 - Training loss: 1.639, Test loss: 1.616, Accuracy: 0.427\n",
      "Epoch 4/10 - Training loss: 1.576, Test loss: 1.617, Accuracy: 0.419\n",
      "Epoch 5/10 - Training loss: 1.530, Test loss: 1.618, Accuracy: 0.417\n",
      "Epoch 6/10 - Training loss: 1.491, Test loss: 1.500, Accuracy: 0.460\n",
      "Epoch 7/10 - Training loss: 1.455, Test loss: 1.530, Accuracy: 0.455\n",
      "Epoch 8/10 - Training loss: 1.436, Test loss: 1.476, Accuracy: 0.472\n",
      "Epoch 9/10 - Training loss: 1.406, Test loss: 1.530, Accuracy: 0.456\n",
      "Epoch 10/10 - Training loss: 1.383, Test loss: 1.465, Accuracy: 0.478\n"
     ]
    },
    {
     "data": {
      "image/png": "[encoded data removed]",
      "text/plain": [
       "<Figure size 432x288 with 1 Axes>"
      ]
     },
     "metadata": {
      "needs_background": "light"
     },
     "output_type": "display_data"
    }
   ],
   "source": [
    "class CNN1(nn.Module):\n",
    "    \n",
    "    def __init__(self):\n",
    "        super().__init__()\n",
    "        self.layers = nn.Sequential(\n",
    "                nn.Flatten(),\n",
    "                nn.Linear(3072, 256),\n",
    "                nn.ReLU(),\n",
    "                nn.Linear(256, 128),\n",
    "                nn.ReLU(),\n",
    "                nn.Linear(128, 64),\n",
    "                nn.ReLU(),\n",
    "                nn.Linear(64, 10)\n",
    "            )\n",
    "        \n",
    "    def forward(self, x):\n",
    "        return self.layers(x)\n",
    "\n",
    "#______________________________________________\n",
    "\n",
    "\n",
    "model = CNN1()\n",
    "\n",
    "\n",
    "transform = transforms.Compose([transforms.Resize((32, 32)), transforms.ToTensor()])\n",
    "dataset = datasets.CIFAR10('data_cifar10', train=True, download=True, transform=transform)\n",
    "\n",
    "val_ratio = 0.2\n",
    "\n",
    "train_dataset, val_dataset = random_split(\n",
    "    dataset=dataset, \n",
    "    lengths=[int(len(dataset)*(1-val_ratio)), int(len(dataset)*val_ratio)],\n",
    ")\n",
    "\n",
    "batch_size = 64\n",
    "\n",
    "train_loader = DataLoader(train_dataset, batch_size=batch_size, shuffle=True)\n",
    "test_loader = DataLoader(val_dataset, batch_size=batch_size, shuffle=True)\n",
    "\n",
    "device = torch.device('cuda:0' if torch.cuda.is_available() else 'cpu')\n",
    "model.to(device)\n",
    "\n",
    "criterion = nn.CrossEntropyLoss()\n",
    "optimizer = optim.Adam(model.parameters(), lr=0.001)\n",
    "\n",
    "epochs =10\n",
    "\n",
    "train_losses = []\n",
    "test_losses = []\n",
    "test_accuracies = []\n",
    "\n",
    "for epoch in range(epochs):\n",
    "    \n",
    "    # Train\n",
    "    running_loss = 0.0\n",
    "    model.train()\n",
    "    \n",
    "    for inputs, labels in train_loader:\n",
    "        inputs, labels = inputs.to(device), labels.to(device)\n",
    "        \n",
    "        optimizer.zero_grad()\n",
    "        \n",
    "        outputs = model(inputs)\n",
    "        loss = criterion(outputs, labels)\n",
    "        loss.backward()\n",
    "        optimizer.step()\n",
    "        \n",
    "        running_loss += loss.item()\n",
    "        \n",
    "    train_loss = running_loss / len(train_loader)\n",
    "    train_losses.append(train_loss)\n",
    "    \n",
    "    # Test\n",
    "    running_loss = 0.0\n",
    "    running_accuracy = 0.0\n",
    "    model.eval()\n",
    "    with torch.no_grad():\n",
    "        for inputs, labels in test_loader:\n",
    "            inputs, labels = inputs.to(device), labels.to(device)\n",
    "\n",
    "            outputs = model(inputs)\n",
    "            loss = criterion(outputs, labels)\n",
    "            predictions = torch.argmax(outputs, dim=1)\n",
    "            accuracy = accuracy_score(labels.cpu().numpy(), predictions.cpu().numpy())\n",
    "            running_loss += loss.item()\n",
    "            running_accuracy += accuracy\n",
    "            \n",
    "\n",
    "        test_loss = running_loss / len(test_loader)\n",
    "        test_losses.append(test_loss)\n",
    "        \n",
    "        test_accuracy = running_accuracy / len(test_loader)\n",
    "        test_accuracies.append(test_accuracy)\n",
    "    \n",
    "    print(f\"Epoch {epoch+1}/{epochs} - Training loss: {train_loss:.3f}, Test loss: {test_loss:.3f}, Accuracy: {test_accuracy:.3f}\")\n",
    "    \n",
    "plt.plot(train_losses, label='Training loss')\n",
    "plt.plot(test_losses, label='Test loss')\n",
    "plt.xlabel('Epoch')\n",
    "plt.ylabel('Loss')\n",
    "plt.legend()\n",
    "plt.show()\n"
   ]
  },
  {
   "cell_type": "code",
   "execution_count": 10,
   "metadata": {
    "id": "6iVBOTFx2FwD",
    "scrolled": true
   },
   "outputs": [
    {
     "name": "stderr",
     "output_type": "stream",
     "text": [
      "<ipython-input-10-d81d3f14c968>:16: MatplotlibDeprecationWarning: Passing non-integers as three-element position specification is deprecated since 3.3 and will be removed two minor releases later.\n",
      "  ax = fig.add_subplot(2, 20/2, idx+1, xticks=[], yticks=[])\n"
     ]
    },
    {
     "data": {
      "image/png": "[encoded data removed]",
      "text/plain": [
       "<Figure size 1800x288 with 20 Axes>"
      ]
     },
     "metadata": {},
     "output_type": "display_data"
    }
   ],
   "source": [
    "import matplotlib.pyplot as plt\n",
    "%matplotlib inline\n",
    "classes = ['airplane', 'automobile', 'bird', 'cat', 'deer',\n",
    "           'dog', 'frog', 'horse', 'ship', 'truck']\n",
    "def imshow(img):\n",
    "    img = img / 2 + 0.5  \n",
    "    plt.imshow(np.transpose(img, (1, 2, 0)))  \n",
    "\n",
    "dataiter = iter(test_loader)\n",
    "images, labels = next(dataiter)\n",
    "images = images.numpy() \n",
    "\n",
    "fig = plt.figure(figsize=(25, 4))\n",
    "\n",
    "for idx in np.arange(20):\n",
    "    ax = fig.add_subplot(2, 20/2, idx+1, xticks=[], yticks=[])\n",
    "    imshow(images[idx])\n",
    "    ax.set_title(classes[labels[idx]])"
   ]
  },
  {
   "cell_type": "markdown",
   "metadata": {
    "id": "IIxHLbKcDCFA"
   },
   "source": [
    "### 2.2 Решить задачу 2.1, используя сверточную нейронную сеть. \n",
    "* Добиться значения accuracy на тестовом множестве не менее 70%.\n",
    "* Визуализировать результаты работы первого сверточного слоя"
   ]
  },
  {
   "cell_type": "markdown",
   "metadata": {
    "id": "txsaAywB2FwG"
   },
   "source": [
    "Мы умножаем на 8 два раза, потому что на этом этапе мы преобразуем выход сверточных слоев в вектор перед передачей его в полносвязный слой. Размер выхода сверточных слоев в нашей модели составляет 64x8x8, где 64 - это количество фильтров, 8 - это высота и ширина выхода сверточных слоев. \n",
    "\n",
    "Первое умножение на 8 происходит в строке `x = self.maxpool(x)`, где мы уменьшаем высоту и ширину выхода сверточных слоев в 2 раза с помощью операции max pooling. В результате, высота и ширина выхода становятся равными 8.\n",
    "\n",
    "Второе умножение на 8 происходит в строке `x = x.view(-1, 64*8*8)`, где мы преобразуем выход сверточных слоев в вектор. Для этого мы умножаем количество фильтров (64) на высоту (8) и ширину (8) выхода сверточных слоев.\n",
    "\n",
    "Таким образом, мы получаем одномерный вектор длиной 4096 (64*8*8), который передаётся в полносвязный слой размерности 512.\n",
    "\n",
    "Высоту и ширину сверточного слоя определяют конфигурация сверточного слоя и размер входного изображения. \n",
    "\n",
    "Например, в модели из предыдущего ответа мы использовали два сверточных слоя с ядром размера 3x3 и с одинаковым заполнением (padding) равным 1. Это означает, что каждый пиксель входного изображения будет окружен пикселями из заполнения, чтобы размер выхода сверточного слоя был таким же, как и размер входа. \n",
    "\n",
    "Если входное изображение имеет размер 32x32 (32 пикселя по высоте и 32 пикселя по ширине), то после первого сверточного слоя размер выхода будет составлять 32x32 пикселя. Затем мы применяем операцию max pooling с ядром размера 2x2 и шагом (stride) 2, чтобы уменьшить размер выхода в 2 раза. Это дает нам выход размером 16x16 пикселей. После второго сверточного слоя размер выхода также составляет 16x16 пикселей.\n",
    "\n",
    "Затем мы преобразуем выход сверточных слоев в вектор и передаем его в полносвязный слой. Для этого мы умножаем количество фильтров (64) на высоту (8) и ширину (8) выхода сверточных слоев, который в данном случае равен 16x16 (8 = 16/2/2).\n",
    "\n",
    "Высота и ширина сверточного слоя определяются размером входного изображения, размером ядра свертки и параметрами padding и stride. \n",
    "\n",
    "Например, в случае сверточного слоя с ядром размером 3x3 и padding=1, для входного изображения размером 32x32 высота и ширина сверточного слоя будут равны 32. Если добавить stride=2, то высота и ширина сверточного слоя будут уменьшены в два раза и станут равными 16.\n",
    "\n",
    "При последующих сверточных слоях высота и ширина могут изменяться в зависимости от размера ядра, padding, stride и количества фильтров в слое. Например, при увеличении количества фильтров высота и ширина могут уменьшаться, так как размерность выходного тензора увеличивается за счет большего количества фильтров."
   ]
  },
  {
   "cell_type": "code",
   "execution_count": 38,
   "metadata": {
    "id": "TqNA6NlA2FwH"
   },
   "outputs": [
    {
     "data": {
      "text/plain": [
       "CNN(\n",
       "  (conv1): Conv2d(3, 32, kernel_size=(3, 3), stride=(1, 1), padding=(1, 1))\n",
       "  (conv2): Conv2d(32, 64, kernel_size=(3, 3), stride=(1, 1), padding=(1, 1))\n",
       "  (conv3): Conv2d(64, 128, kernel_size=(3, 3), stride=(1, 1), padding=(1, 1))\n",
       "  (pool): MaxPool2d(kernel_size=2, stride=2, padding=0, dilation=1, ceil_mode=False)\n",
       "  (fc1): Linear(in_features=2048, out_features=512, bias=True)\n",
       "  (fc2): Linear(in_features=512, out_features=10, bias=True)\n",
       "  (dropout): Dropout(p=0.5, inplace=False)\n",
       ")"
      ]
     },
     "execution_count": 38,
     "metadata": {},
     "output_type": "execute_result"
    }
   ],
   "source": [
    "class CNN(torch.nn.Module):\n",
    "\n",
    "#     def __init__(self):\n",
    "#         super(CNN, self).__init__()\n",
    "#         self.layer1 = torch.nn.Sequential(\n",
    "#             torch.nn.Conv2d(3, 16, kernel_size=(3,3), stride=1, padding=1),\n",
    "#             nn.BatchNorm2d(16))\n",
    " \n",
    "#         self.layer2 = torch.nn.Sequential(\n",
    "#             torch.nn.Conv2d(16, 32, kernel_size=(3,3), stride=1, padding=1),\n",
    "#             nn.BatchNorm2d(32),\n",
    "#             nn.MaxPool2d((2, 2)))\n",
    "    \n",
    "#         self.layer3 = torch.nn.Sequential(\n",
    "#             nn.Conv2d(32, 64, (3,3), stride=1, padding=1),\n",
    "#             nn.BatchNorm2d(64),\n",
    "#             nn.MaxPool2d((2, 2)))\n",
    "\n",
    "        \n",
    "#         self.fc1 = torch.nn.Linear(4096, 10, bias=True)\n",
    "        \n",
    "\n",
    "#     def forward(self, x):\n",
    "#         out = self.layer1(x)\n",
    "#         out = self.layer2(out)\n",
    "#         out = self.layer3(out)\n",
    "#         out = out.view(out.size(0), -1)   # Flatten them for FC\n",
    "#         out = self.fc1(out)\n",
    "#         return out\n",
    "\n",
    "    def __init__(self):\n",
    "        super(CNN, self).__init__()\n",
    "        self.conv1 = nn.Conv2d(3, 32, kernel_size=3, padding=1)\n",
    "        self.conv2 = nn.Conv2d(32, 64, kernel_size=3, padding=1)\n",
    "        self.conv3 = nn.Conv2d(64, 128, kernel_size=3, padding=1)\n",
    "        self.pool = nn.MaxPool2d(2, 2)\n",
    "        self.fc1 = nn.Linear(128 * 4 * 4, 512)\n",
    "        self.fc2 = nn.Linear(512, 10)\n",
    "        self.dropout = nn.Dropout(0.5)\n",
    "\n",
    "    def forward(self, x):\n",
    "        x = self.pool(nn.functional.relu(self.conv1(x)))\n",
    "        x = self.pool(nn.functional.relu(self.conv2(x)))\n",
    "        x = self.pool(nn.functional.relu(self.conv3(x)))\n",
    "        x = x.view(-1, 128 * 4 * 4)\n",
    "        x = self.dropout(nn.functional.relu(self.fc1(x)))\n",
    "        x = self.fc2(x)\n",
    "        return x\n",
    "\n",
    "\n",
    "#instantiate CNN model\n",
    "model = CNN()\n",
    "model"
   ]
  },
  {
   "cell_type": "code",
   "execution_count": 39,
   "metadata": {},
   "outputs": [],
   "source": [
    "learning_rate = 0.001\n",
    "criterion = torch.nn.CrossEntropyLoss()    # Softmax is internally computed.\n",
    "optimizer = torch.optim.Adam(params=model.parameters(), lr=learning_rate)"
   ]
  },
  {
   "cell_type": "code",
   "execution_count": 40,
   "metadata": {
    "id": "_CWf9J8I2FwH"
   },
   "outputs": [
    {
     "name": "stdout",
     "output_type": "stream",
     "text": [
      "Files already downloaded and verified\n",
      "Files already downloaded and verified\n",
      "Training the Deep Learning network ...\n",
      "Size of the training dataset is (50000, 32, 32, 3)\n",
      "Size of the testing dataset\n",
      "Batch size is : 128\n",
      "Total number of batches is : 390\n",
      "\n",
      "Total number of epochs is : 10\n",
      "Epoch= 1,\t batch = 0,\t cost = 2.3019,\t accuracy = 0.0625\n",
      "Epoch= 1,\t batch = 200,\t cost = 1.5441,\t accuracy = 0.390625\n",
      "[Epoch:    1], averaged cost = 1.66160393\n",
      "Epoch= 2,\t batch = 0,\t cost = 1.3217,\t accuracy = 0.5390625\n",
      "Epoch= 2,\t batch = 200,\t cost = 1.1918,\t accuracy = 0.625\n",
      "[Epoch:    2], averaged cost = 1.26031792\n",
      "Epoch= 3,\t batch = 0,\t cost = 1.0533,\t accuracy = 0.6328125\n",
      "Epoch= 3,\t batch = 200,\t cost = 1.1066,\t accuracy = 0.625\n",
      "[Epoch:    3], averaged cost = 1.080158\n",
      "Epoch= 4,\t batch = 0,\t cost = 0.9379,\t accuracy = 0.6171875\n",
      "Epoch= 4,\t batch = 200,\t cost = 1.0289,\t accuracy = 0.6484375\n",
      "[Epoch:    4], averaged cost = 0.953641236\n",
      "Epoch= 5,\t batch = 0,\t cost = 0.8440,\t accuracy = 0.671875\n",
      "Epoch= 5,\t batch = 200,\t cost = 0.8246,\t accuracy = 0.6953125\n",
      "[Epoch:    5], averaged cost = 0.858037472\n",
      "Epoch= 6,\t batch = 0,\t cost = 0.7848,\t accuracy = 0.671875\n",
      "Epoch= 6,\t batch = 200,\t cost = 0.8601,\t accuracy = 0.671875\n",
      "[Epoch:    6], averaged cost = 0.780388236\n",
      "Epoch= 7,\t batch = 0,\t cost = 0.6774,\t accuracy = 0.7734375\n",
      "Epoch= 7,\t batch = 200,\t cost = 0.8116,\t accuracy = 0.6796875\n",
      "[Epoch:    7], averaged cost = 0.718959749\n",
      "Epoch= 8,\t batch = 0,\t cost = 0.7112,\t accuracy = 0.7421875\n",
      "Epoch= 8,\t batch = 200,\t cost = 0.6750,\t accuracy = 0.703125\n",
      "[Epoch:    8], averaged cost = 0.662551105\n",
      "Epoch= 9,\t batch = 0,\t cost = 0.4149,\t accuracy = 0.8359375\n",
      "Epoch= 9,\t batch = 200,\t cost = 0.5439,\t accuracy = 0.8125\n",
      "[Epoch:    9], averaged cost = 0.611341119\n",
      "Epoch= 10,\t batch = 0,\t cost = 0.5956,\t accuracy = 0.8203125\n",
      "Epoch= 10,\t batch = 200,\t cost = 0.5732,\t accuracy = 0.8125\n",
      "[Epoch:   10], averaged cost = 0.565883934\n",
      "Learning Finished!\n"
     ]
    }
   ],
   "source": [
    "from torch.autograd import Variable\n",
    "cifar_train = datasets.CIFAR10(root='CIFAR10_data/',\n",
    "                          train=True,\n",
    "                          transform=transforms.ToTensor(),\n",
    "                          download=True)\n",
    "\n",
    "cifar_test = datasets.CIFAR10(root='CIFAR10_data/',\n",
    "                         train=False,\n",
    "                         transform=transforms.ToTensor(),\n",
    "                         download=True)\n",
    "batch_size = 128\n",
    "# dataset loader\n",
    "data_loader = torch.utils.data.DataLoader(dataset=cifar_train,\n",
    "                                          batch_size=batch_size,\n",
    "                                          shuffle=True)\n",
    "\n",
    "\n",
    "\n",
    "print('Training the Deep Learning network ...')\n",
    "train_cost = []\n",
    "train_accu = []\n",
    "\n",
    "training_epochs = 10\n",
    "total_batch = len(cifar_train) // batch_size\n",
    "\n",
    "print('Size of the training dataset is {}'.format(cifar_train.data.shape))\n",
    "print('Size of the testing dataset'.format(cifar_test.data.shape))\n",
    "print('Batch size is : {}'.format(batch_size))\n",
    "print('Total number of batches is : {0:2.0f}'.format(total_batch))\n",
    "print('\\nTotal number of epochs is : {0:2.0f}'.format(training_epochs))\n",
    "\n",
    "for epoch in range(training_epochs):\n",
    "    avg_cost = 0\n",
    "    for i, (batch_X, batch_Y) in enumerate(data_loader):\n",
    "        X = Variable(batch_X)    # image is already size of (28x28), no reshape\n",
    "        Y = Variable(batch_Y)    # label is not one-hot encoded\n",
    "\n",
    "        optimizer.zero_grad() # <= initialization of the gradients\n",
    "        \n",
    "        # forward propagation\n",
    "        hypothesis = model(X)\n",
    "        cost = criterion(hypothesis, Y) # <= compute the loss function\n",
    "        \n",
    "        # Backward propagation\n",
    "        cost.backward() # <= compute the gradient of the loss/cost function     \n",
    "        optimizer.step() # <= Update the gradients\n",
    "             \n",
    "        # Print some performance to monitor the training\n",
    "        prediction = hypothesis.data.max(dim=1)[1]\n",
    "        train_accu.append(((prediction.data == Y.data).float().mean()).item())\n",
    "        train_cost.append(cost.item())   \n",
    "        if i % 200 == 0:\n",
    "            print(\"Epoch= {},\\t batch = {},\\t cost = {:2.4f},\\t accuracy = {}\".format(epoch+1, i, train_cost[-1], train_accu[-1]))\n",
    "       \n",
    "        avg_cost += cost.data / total_batch\n",
    "\n",
    "    print(\"[Epoch: {:>4}], averaged cost = {:>.9}\".format(epoch + 1, avg_cost.item()))\n",
    "\n",
    "\n",
    "print('Learning Finished!')\n",
    "\n"
   ]
  },
  {
   "cell_type": "code",
   "execution_count": 41,
   "metadata": {
    "id": "ZPFCpVEg2FwI"
   },
   "outputs": [
    {
     "name": "stdout",
     "output_type": "stream",
     "text": [
      "Accuracy of the network on the 10000 test images: 75 %\n"
     ]
    }
   ],
   "source": [
    "# Load test data\n",
    "test_loader = torch.utils.data.DataLoader(dataset=cifar_test,\n",
    "                                          batch_size=batch_size,\n",
    "                                          shuffle=False)\n",
    "\n",
    "# Set the model to evaluation mode\n",
    "model.eval()\n",
    "\n",
    "# Iterate over the test data and make predictions\n",
    "correct = 0\n",
    "total = 0\n",
    "for images, labels in test_loader:\n",
    "    images = Variable(images)\n",
    "    outputs = model(images)\n",
    "    _, predicted = torch.max(outputs.data, 1)\n",
    "    total += labels.size(0)\n",
    "    correct += (predicted == labels).sum()\n",
    "\n",
    "# Calculate and print accuracy\n",
    "accuracy = 100 * correct / total\n",
    "print('Accuracy of the network on the 10000 test images: %d %%' % accuracy)\n"
   ]
  },
  {
   "cell_type": "markdown",
   "metadata": {
    "id": "nPg8k4YTFOgc"
   },
   "source": [
    "## 3. Загрузка изображений из внешних источников"
   ]
  },
  {
   "cell_type": "markdown",
   "metadata": {
    "id": "1hLnpe_570wd"
   },
   "source": [
    "### 3.1 Решить задачу классификации обезьян (датасет [monkey.zip](https://disk.yandex.ru/d/OxYgY4S7aR6ulQ)).\n",
    "* Загрузить архив с данными на диск\n",
    "* Создать датасет на основе файлов при помощи `torchvision.datasets.ImageFolder`\n",
    "* Преобразовать изображения к тензорами одного размера (например, 400х400). Потестировать другие преобразования из `torchvision.transforms`\n",
    "* Предложить архитектуру модели для решения задачи. Обучить модель.\n",
    "* Используя тестовое множество\n",
    "\n",
    "  * Продемонстрировать работу модели: вывести несколько изображений, указать над ними правильный класс и класс, предсказанный моделью. \n",
    "\n",
    "  * Вывести матрицу ошибок.\n",
    "\n",
    "  * Вывести значение accuracy на тестовом множестве.\n",
    "  * Добиться значения accuracy на тестовом множестве не менее 60%"
   ]
  },
  {
   "cell_type": "code",
   "execution_count": 44,
   "metadata": {
    "id": "AWpN9i4f2FwL"
   },
   "outputs": [],
   "source": [
    "transform = transforms.Compose([transforms.Resize((400, 400)), transforms.ToTensor()])\n",
    "dataset = datasets.ImageFolder('C:\\\\Users\\\\-\\\\Downloads\\\\monkeys\\\\training\\\\training', transform=transform)"
   ]
  },
  {
   "cell_type": "code",
   "execution_count": 46,
   "metadata": {},
   "outputs": [
    {
     "data": {
      "text/plain": [
       "Dataset ImageFolder\n",
       "    Number of datapoints: 1097\n",
       "    Root location: C:\\Users\\-\\Downloads\\monkeys\\training\\training\n",
       "    StandardTransform\n",
       "Transform: Compose(\n",
       "               Resize(size=(400, 400), interpolation=bilinear, max_size=None, antialias=None)\n",
       "               ToTensor()\n",
       "           )"
      ]
     },
     "execution_count": 46,
     "metadata": {},
     "output_type": "execute_result"
    }
   ],
   "source": [
    "dataset"
   ]
  },
  {
   "cell_type": "code",
   "execution_count": 54,
   "metadata": {
    "id": "3HV6kCCh_0Y2"
   },
   "outputs": [
    {
     "name": "stdout",
     "output_type": "stream",
     "text": [
      "Epoch 1/10 - Training loss: 11.046, Test loss: 4.528, Accuracy: 0.151\n",
      "Epoch 2/10 - Training loss: 2.918, Test loss: 2.636, Accuracy: 0.173\n",
      "Epoch 3/10 - Training loss: 2.234, Test loss: 2.260, Accuracy: 0.259\n",
      "Epoch 4/10 - Training loss: 1.797, Test loss: 2.058, Accuracy: 0.301\n",
      "Epoch 5/10 - Training loss: 1.720, Test loss: 2.270, Accuracy: 0.291\n",
      "Epoch 6/10 - Training loss: 1.586, Test loss: 1.856, Accuracy: 0.346\n",
      "Epoch 7/10 - Training loss: 1.345, Test loss: 2.049, Accuracy: 0.286\n",
      "Epoch 8/10 - Training loss: 1.351, Test loss: 1.958, Accuracy: 0.298\n",
      "Epoch 9/10 - Training loss: 1.206, Test loss: 2.264, Accuracy: 0.292\n",
      "Epoch 10/10 - Training loss: 1.134, Test loss: 1.879, Accuracy: 0.366\n"
     ]
    },
    {
     "data": {
      "image/png": "[encoded data removed]",
      "text/plain": [
       "<Figure size 432x288 with 1 Axes>"
      ]
     },
     "metadata": {
      "needs_background": "light"
     },
     "output_type": "display_data"
    }
   ],
   "source": [
    "class CNN1(nn.Module):\n",
    "    \n",
    "    def __init__(self):\n",
    "        super().__init__()\n",
    "        self.layers = nn.Sequential(\n",
    "                nn.Flatten(),\n",
    "                nn.Linear(480000, 256),\n",
    "                nn.ReLU(),\n",
    "                nn.Linear(256, 128),\n",
    "                nn.ReLU(),\n",
    "                nn.Linear(128, 64),\n",
    "                nn.ReLU(),\n",
    "                nn.Linear(64, 10)\n",
    "            )\n",
    "        \n",
    "    def forward(self, x):\n",
    "        return self.layers(x)\n",
    "\n",
    "#______________________________________________\n",
    "\n",
    "\n",
    "model = CNN1()\n",
    "\n",
    "\n",
    "\n",
    "\n",
    "\n",
    "# Разбиваем датасет на тренировочную и тестовую выборки\n",
    "val_ratio = 0.2\n",
    "val_size = int(val_ratio * len(dataset))\n",
    "train_size = len(dataset) - val_size\n",
    "train_dataset, val_dataset = random_split(dataset, [train_size, val_size])\n",
    "\n",
    "# Объявляем загрузчики данных для тренировочной и тестовой выборок\n",
    "batch_size = 32\n",
    "train_loader = torch.utils.data.DataLoader(train_dataset, batch_size=batch_size, shuffle=True)\n",
    "val_loader = torch.utils.data.DataLoader(val_dataset, batch_size=batch_size, shuffle=False)\n",
    "\n",
    "\n",
    "\n",
    "device = torch.device('cuda:0' if torch.cuda.is_available() else 'cpu')\n",
    "model.to(device)\n",
    "\n",
    "criterion = nn.CrossEntropyLoss()\n",
    "optimizer = optim.Adam(model.parameters(), lr=0.001)\n",
    "\n",
    "epochs =10\n",
    "\n",
    "train_losses = []\n",
    "test_losses = []\n",
    "test_accuracies = []\n",
    "\n",
    "for epoch in range(epochs):\n",
    "    \n",
    "    # Train\n",
    "    running_loss = 0.0\n",
    "    model.train()\n",
    "    \n",
    "    for inputs, labels in train_loader:\n",
    "        inputs, labels = inputs.to(device), labels.to(device)\n",
    "        \n",
    "        optimizer.zero_grad()\n",
    "        \n",
    "        outputs = model(inputs)\n",
    "        loss = criterion(outputs, labels)\n",
    "        loss.backward()\n",
    "        optimizer.step()\n",
    "        \n",
    "        running_loss += loss.item()\n",
    "        \n",
    "    train_loss = running_loss / len(train_loader)\n",
    "    train_losses.append(train_loss)\n",
    "    \n",
    "    # Test\n",
    "    # ...\n",
    "\n",
    "    running_loss = 0.0\n",
    "    running_accuracy = 0.0\n",
    "    model.eval()\n",
    "    with torch.no_grad():\n",
    "        for inputs, labels in val_loader:\n",
    "            inputs, labels = inputs.to(device), labels.to(device)\n",
    "\n",
    "            outputs = model(inputs)\n",
    "            loss = criterion(outputs, labels)\n",
    "            predictions = torch.argmax(outputs, dim=1)\n",
    "            accuracy = accuracy_score(labels.cpu().numpy(), predictions.cpu().numpy())\n",
    "            running_loss += loss.item()\n",
    "            running_accuracy += accuracy\n",
    "\n",
    "\n",
    "    test_loss = running_loss / len(val_loader)\n",
    "    test_losses.append(test_loss)\n",
    "\n",
    "    test_accuracy = running_accuracy / len(val_loader)\n",
    "    test_accuracies.append(test_accuracy)\n",
    "\n",
    "# ...\n",
    "\n",
    "    \n",
    "    print(f\"Epoch {epoch+1}/{epochs} - Training loss: {train_loss:.3f}, Test loss: {test_loss:.3f}, Accuracy: {test_accuracy:.3f}\")\n",
    "    \n",
    "plt.plot(train_losses, label='Training loss')\n",
    "plt.plot(test_losses, label='Test loss')\n",
    "plt.xlabel('Epoch')\n",
    "plt.ylabel('Loss')\n",
    "plt.legend()\n",
    "plt.show()\n"
   ]
  },
  {
   "cell_type": "code",
   "execution_count": null,
   "metadata": {
    "id": "31ifSkXC2FwL"
   },
   "outputs": [],
   "source": [
    "\n"
   ]
  },
  {
   "cell_type": "markdown",
   "metadata": {
    "id": "5-tMy4qJ9j1k"
   },
   "source": [
    "### 3.2 Решить задачу классификации собак и кошек (датасет [cats_dogs.zip](https://disk.yandex.ru/d/wQtt5O1JF9ctnA)).\n",
    "* Загрузить архив с данными на диск\n",
    "* Создать датасет на основе файлов при помощи `torchvision.datasets.ImageFolder`\n",
    "* Преобразовать изображения к тензорами одного размера (например, 400х400). Потестировать другие преобразования из `torchvision.transforms`\n",
    "* Предложить архитектуру модели для решения задачи. Обучить модель.\n",
    "* Используя тестовое множество\n",
    "\n",
    "  * Продемонстрировать работу модели: вывести несколько изображений, указать над ними правильный класс и класс, предсказанный моделью. \n",
    "\n",
    "  * Вывести матрицу ошибок.\n",
    "\n",
    "  * Вывести значение accuracy на тестовом множестве.\n",
    "  * Добиться значения accuracy на тестовом множестве не менее 80%"
   ]
  },
  {
   "cell_type": "code",
   "execution_count": 6,
   "metadata": {},
   "outputs": [],
   "source": [
    "transform = transforms.Compose([transforms.Resize((32, 32)), transforms.ToTensor()])\n",
    "dataset = datasets.ImageFolder('C:\\\\Users\\\\-\\\\Downloads\\\\cats_dogs\\\\cats_dogs\\\\train', transform=transform)"
   ]
  },
  {
   "cell_type": "code",
   "execution_count": 8,
   "metadata": {
    "id": "HU2LR2923dsR"
   },
   "outputs": [
    {
     "name": "stdout",
     "output_type": "stream",
     "text": [
      "Epoch 1/10 - Training loss: 0.699, Test loss: 0.668, Accuracy: 0.596\n",
      "Epoch 2/10 - Training loss: 0.662, Test loss: 0.646, Accuracy: 0.630\n",
      "Epoch 3/10 - Training loss: 0.652, Test loss: 0.663, Accuracy: 0.598\n",
      "Epoch 4/10 - Training loss: 0.646, Test loss: 0.641, Accuracy: 0.634\n",
      "Epoch 5/10 - Training loss: 0.636, Test loss: 0.635, Accuracy: 0.635\n",
      "Epoch 6/10 - Training loss: 0.632, Test loss: 0.644, Accuracy: 0.618\n",
      "Epoch 7/10 - Training loss: 0.628, Test loss: 0.649, Accuracy: 0.604\n",
      "Epoch 8/10 - Training loss: 0.623, Test loss: 0.632, Accuracy: 0.646\n",
      "Epoch 9/10 - Training loss: 0.618, Test loss: 0.617, Accuracy: 0.651\n",
      "Epoch 10/10 - Training loss: 0.613, Test loss: 0.634, Accuracy: 0.640\n"
     ]
    },
    {
     "data": {
      "image/png": "[encoded data removed]",
      "text/plain": [
       "<Figure size 432x288 with 1 Axes>"
      ]
     },
     "metadata": {
      "needs_background": "light"
     },
     "output_type": "display_data"
    }
   ],
   "source": [
    "class CNN1(nn.Module):\n",
    "    \n",
    "    def __init__(self):\n",
    "        super().__init__()\n",
    "        self.layers = nn.Sequential(\n",
    "                nn.Flatten(),\n",
    "                nn.Linear(3072, 256),\n",
    "                nn.ReLU(),\n",
    "                nn.Linear(256, 128),\n",
    "                nn.ReLU(),\n",
    "                nn.Linear(128, 64),\n",
    "                nn.ReLU(),\n",
    "                nn.Linear(64, 10)\n",
    "            )\n",
    "        \n",
    "    def forward(self, x):\n",
    "        return self.layers(x)\n",
    "\n",
    "#______________________________________________\n",
    "\n",
    "\n",
    "model = CNN1()\n",
    "\n",
    "\n",
    "\n",
    "\n",
    "\n",
    "# Разбиваем датасет на тренировочную и тестовую выборки\n",
    "val_ratio = 0.2\n",
    "val_size = int(val_ratio * len(dataset))\n",
    "train_size = len(dataset) - val_size\n",
    "train_dataset, val_dataset = random_split(dataset, [train_size, val_size])\n",
    "\n",
    "# Объявляем загрузчики данных для тренировочной и тестовой выборок\n",
    "batch_size = 32\n",
    "train_loader = torch.utils.data.DataLoader(train_dataset, batch_size=batch_size, shuffle=True)\n",
    "val_loader = torch.utils.data.DataLoader(val_dataset, batch_size=batch_size, shuffle=False)\n",
    "\n",
    "\n",
    "\n",
    "device = torch.device('cuda:0' if torch.cuda.is_available() else 'cpu')\n",
    "model.to(device)\n",
    "\n",
    "criterion = nn.CrossEntropyLoss()\n",
    "optimizer = optim.Adam(model.parameters(), lr=0.001)\n",
    "\n",
    "epochs = 10\n",
    "\n",
    "train_losses = []\n",
    "test_losses = []\n",
    "test_accuracies = []\n",
    "\n",
    "for epoch in range(epochs):\n",
    "    \n",
    "    # Train\n",
    "    running_loss = 0.0\n",
    "    model.train()\n",
    "    \n",
    "    for inputs, labels in train_loader:\n",
    "        inputs, labels = inputs.to(device), labels.to(device)\n",
    "        \n",
    "        optimizer.zero_grad()\n",
    "        \n",
    "        outputs = model(inputs)\n",
    "        loss = criterion(outputs, labels)\n",
    "        loss.backward()\n",
    "        optimizer.step()\n",
    "        \n",
    "        running_loss += loss.item()\n",
    "        \n",
    "    train_loss = running_loss / len(train_loader)\n",
    "    train_losses.append(train_loss)\n",
    "    \n",
    "    # Test\n",
    "    # ...\n",
    "\n",
    "    running_loss = 0.0\n",
    "    running_accuracy = 0.0\n",
    "    model.eval()\n",
    "    with torch.no_grad():\n",
    "        for inputs, labels in val_loader:\n",
    "            inputs, labels = inputs.to(device), labels.to(device)\n",
    "\n",
    "            outputs = model(inputs)\n",
    "            loss = criterion(outputs, labels)\n",
    "            predictions = torch.argmax(outputs, dim=1)\n",
    "            accuracy = accuracy_score(labels.cpu().numpy(), predictions.cpu().numpy())\n",
    "            running_loss += loss.item()\n",
    "            running_accuracy += accuracy\n",
    "\n",
    "\n",
    "    test_loss = running_loss / len(val_loader)\n",
    "    test_losses.append(test_loss)\n",
    "\n",
    "    test_accuracy = running_accuracy / len(val_loader)\n",
    "    test_accuracies.append(test_accuracy)\n",
    "\n",
    "# ...\n",
    "\n",
    "    \n",
    "    print(f\"Epoch {epoch+1}/{epochs} - Training loss: {train_loss:.3f}, Test loss: {test_loss:.3f}, Accuracy: {test_accuracy:.3f}\")\n",
    "    \n",
    "plt.plot(train_losses, label='Training loss')\n",
    "plt.plot(test_losses, label='Test loss')\n",
    "plt.xlabel('Epoch')\n",
    "plt.ylabel('Loss')\n",
    "plt.legend()\n",
    "plt.show()\n"
   ]
  },
  {
   "cell_type": "markdown",
   "metadata": {
    "id": "EqvleAgxfC6B"
   },
   "source": [
    "# 4. Transfer Learning"
   ]
  },
  {
   "cell_type": "markdown",
   "metadata": {
    "id": "ZjNUwuho9tm9"
   },
   "source": [
    "### 4.1 Решить задачу 3.1, воспользовавшись предобученной моделью VGG16\n",
    "* Загрузить данные для обучения\n",
    "* Преобразования: размер 224x224, нормализация с параметрами `mean=(0.485, 0.456, 0.406), std=(0.229, 0.224, 0.225)`\n",
    "* Заменить последний полносвязный слой модели в соответствии с задачей\n",
    "* Дообучить модель (не замораживать веса). Вычислить значение accuracy на тестовом множестве\n",
    "* Дообучить модель (заморозить все веса, кроме последнего блока слоев (`classifier`)). \n",
    "* Вычислить значение accuracy на тестовом множестве.\n"
   ]
  },
  {
   "cell_type": "code",
   "execution_count": 2,
   "metadata": {
    "id": "0i4XdPmDKUTT"
   },
   "outputs": [],
   "source": [
    "import torch\n",
    "import torchvision\n",
    "from torchvision import transforms\n",
    "\n",
    "# загрузка данных\n",
    "train_data = torchvision.datasets.ImageFolder(root='C:\\\\Users\\\\-\\\\Downloads\\\\monkeys\\\\training\\\\training', transform=transforms.Compose([\n",
    "    transforms.Resize((224,224)),\n",
    "    transforms.ToTensor(),\n",
    "    transforms.Normalize(mean=[0.485, 0.456, 0.406], std=[0.229, 0.224, 0.225])\n",
    "]))\n",
    "\n",
    "test_data = torchvision.datasets.ImageFolder(root='C:\\\\Users\\\\-\\\\Downloads\\\\monkeys\\\\validation\\\\validation', transform=transforms.Compose([\n",
    "    transforms.Resize((224,224)),\n",
    "    transforms.ToTensor(),\n",
    "    transforms.Normalize(mean=[0.485, 0.456, 0.406], std=[0.229, 0.224, 0.225])\n",
    "]))\n",
    "\n",
    "# разделение данных на батчи\n",
    "batch_size = 32\n",
    "\n",
    "train_loader = torch.utils.data.DataLoader(train_data, batch_size=batch_size, shuffle=True)\n",
    "test_loader = torch.utils.data.DataLoader(test_data, batch_size=batch_size, shuffle=True)\n"
   ]
  },
  {
   "cell_type": "code",
   "execution_count": 10,
   "metadata": {
    "id": "f04G5PW7QLpx"
   },
   "outputs": [
    {
     "name": "stderr",
     "output_type": "stream",
     "text": [
      "Downloading: \"https://download.pytorch.org/models/vgg16-397923af.pth\" to C:\\Users\\-/.cache\\torch\\hub\\checkpoints\\vgg16-397923af.pth\n"
     ]
    },
    {
     "data": {
      "application/vnd.jupyter.widget-view+json": {
       "model_id": "af0a1147c78e4c7cbfdb98b2fcb33413",
       "version_major": 2,
       "version_minor": 0
      },
      "text/plain": [
       "  0%|          | 0.00/528M [00:00<?, ?B/s]"
      ]
     },
     "metadata": {},
     "output_type": "display_data"
    },
    {
     "name": "stdout",
     "output_type": "stream",
     "text": [
      "VGG(\n",
      "  (features): Sequential(\n",
      "    (0): Conv2d(3, 64, kernel_size=(3, 3), stride=(1, 1), padding=(1, 1))\n",
      "    (1): ReLU(inplace=True)\n",
      "    (2): Conv2d(64, 64, kernel_size=(3, 3), stride=(1, 1), padding=(1, 1))\n",
      "    (3): ReLU(inplace=True)\n",
      "    (4): MaxPool2d(kernel_size=2, stride=2, padding=0, dilation=1, ceil_mode=False)\n",
      "    (5): Conv2d(64, 128, kernel_size=(3, 3), stride=(1, 1), padding=(1, 1))\n",
      "    (6): ReLU(inplace=True)\n",
      "    (7): Conv2d(128, 128, kernel_size=(3, 3), stride=(1, 1), padding=(1, 1))\n",
      "    (8): ReLU(inplace=True)\n",
      "    (9): MaxPool2d(kernel_size=2, stride=2, padding=0, dilation=1, ceil_mode=False)\n",
      "    (10): Conv2d(128, 256, kernel_size=(3, 3), stride=(1, 1), padding=(1, 1))\n",
      "    (11): ReLU(inplace=True)\n",
      "    (12): Conv2d(256, 256, kernel_size=(3, 3), stride=(1, 1), padding=(1, 1))\n",
      "    (13): ReLU(inplace=True)\n",
      "    (14): Conv2d(256, 256, kernel_size=(3, 3), stride=(1, 1), padding=(1, 1))\n",
      "    (15): ReLU(inplace=True)\n",
      "    (16): MaxPool2d(kernel_size=2, stride=2, padding=0, dilation=1, ceil_mode=False)\n",
      "    (17): Conv2d(256, 512, kernel_size=(3, 3), stride=(1, 1), padding=(1, 1))\n",
      "    (18): ReLU(inplace=True)\n",
      "    (19): Conv2d(512, 512, kernel_size=(3, 3), stride=(1, 1), padding=(1, 1))\n",
      "    (20): ReLU(inplace=True)\n",
      "    (21): Conv2d(512, 512, kernel_size=(3, 3), stride=(1, 1), padding=(1, 1))\n",
      "    (22): ReLU(inplace=True)\n",
      "    (23): MaxPool2d(kernel_size=2, stride=2, padding=0, dilation=1, ceil_mode=False)\n",
      "    (24): Conv2d(512, 512, kernel_size=(3, 3), stride=(1, 1), padding=(1, 1))\n",
      "    (25): ReLU(inplace=True)\n",
      "    (26): Conv2d(512, 512, kernel_size=(3, 3), stride=(1, 1), padding=(1, 1))\n",
      "    (27): ReLU(inplace=True)\n",
      "    (28): Conv2d(512, 512, kernel_size=(3, 3), stride=(1, 1), padding=(1, 1))\n",
      "    (29): ReLU(inplace=True)\n",
      "    (30): MaxPool2d(kernel_size=2, stride=2, padding=0, dilation=1, ceil_mode=False)\n",
      "  )\n",
      "  (avgpool): AdaptiveAvgPool2d(output_size=(7, 7))\n",
      "  (classifier): Sequential(\n",
      "    (0): Linear(in_features=25088, out_features=4096, bias=True)\n",
      "    (1): ReLU(inplace=True)\n",
      "    (2): Dropout(p=0.5, inplace=False)\n",
      "    (3): Linear(in_features=4096, out_features=4096, bias=True)\n",
      "    (4): ReLU(inplace=True)\n",
      "    (5): Dropout(p=0.5, inplace=False)\n",
      "    (6): Linear(in_features=4096, out_features=10, bias=True)\n",
      "  )\n",
      ")\n"
     ]
    }
   ],
   "source": [
    "import torch.nn as nn\n",
    "import torchvision.models as models\n",
    "\n",
    "# загрузка предобученной модели VGG16\n",
    "model = models.vgg16(pretrained=True)\n",
    "\n",
    "\n",
    "\n",
    "# замена последнего полносвязного слоя\n",
    "n_inputs = model.classifier[-1].in_features\n",
    "last_layer = nn.Linear(n_inputs, 10)\n",
    "model.classifier[-1] = last_layer\n",
    "\n",
    "# вывод модели\n",
    "print(model)\n",
    "    "
   ]
  },
  {
   "cell_type": "code",
   "execution_count": 14,
   "metadata": {
    "id": "ElliQNSIQLpx"
   },
   "outputs": [
    {
     "name": "stdout",
     "output_type": "stream",
     "text": [
      "Epoch 1/10 - Training loss: 2.110, Test loss: 2.009, Accuracy: 0.302\n",
      "Epoch 2/10 - Training loss: 1.997, Test loss: 2.066, Accuracy: 0.194\n",
      "Epoch 3/10 - Training loss: 1.935, Test loss: 2.119, Accuracy: 0.233\n",
      "Epoch 4/10 - Training loss: 1.969, Test loss: 1.966, Accuracy: 0.253\n",
      "Epoch 5/10 - Training loss: 1.896, Test loss: 1.958, Accuracy: 0.257\n",
      "Epoch 6/10 - Training loss: 1.886, Test loss: 1.999, Accuracy: 0.247\n",
      "Epoch 7/10 - Training loss: 1.863, Test loss: 1.944, Accuracy: 0.257\n",
      "Epoch 8/10 - Training loss: 1.866, Test loss: 1.931, Accuracy: 0.330\n",
      "Epoch 9/10 - Training loss: 1.772, Test loss: 2.018, Accuracy: 0.271\n",
      "Epoch 10/10 - Training loss: 1.788, Test loss: 2.411, Accuracy: 0.160\n"
     ]
    },
    {
     "data": {
      "image/png": "[encoded data removed]",
      "text/plain": [
       "<Figure size 432x288 with 1 Axes>"
      ]
     },
     "metadata": {
      "needs_background": "light"
     },
     "output_type": "display_data"
    }
   ],
   "source": [
    "device = torch.device('cuda:0' if torch.cuda.is_available() else 'cpu')\n",
    "model.to(device)\n",
    "\n",
    "criterion = nn.CrossEntropyLoss()\n",
    "optimizer = optim.Adam(model.parameters(), lr=0.001)\n",
    "\n",
    "epochs = 10\n",
    "\n",
    "train_losses = []\n",
    "test_losses = []\n",
    "test_accuracies = []\n",
    "\n",
    "for epoch in range(epochs):\n",
    "    \n",
    "    # Train\n",
    "    running_loss = 0.0\n",
    "    model.train()\n",
    "    \n",
    "    for inputs, labels in train_loader:\n",
    "        inputs, labels = inputs.to(device), labels.to(device)\n",
    "        \n",
    "        optimizer.zero_grad()\n",
    "        \n",
    "        outputs = model(inputs)\n",
    "        loss = criterion(outputs, labels)\n",
    "        loss.backward()\n",
    "        optimizer.step()\n",
    "        \n",
    "        running_loss += loss.item()\n",
    "        \n",
    "    train_loss = running_loss / len(train_loader)\n",
    "    train_losses.append(train_loss)\n",
    "    \n",
    "    # Test\n",
    "    # ...\n",
    "\n",
    "    running_loss = 0.0\n",
    "    running_accuracy = 0.0\n",
    "    model.eval()\n",
    "    with torch.no_grad():\n",
    "        for inputs, labels in test_loader:\n",
    "            inputs, labels = inputs.to(device), labels.to(device)\n",
    "\n",
    "            outputs = model(inputs)\n",
    "            loss = criterion(outputs, labels)\n",
    "            predictions = torch.argmax(outputs, dim=1)\n",
    "            accuracy = accuracy_score(labels.cpu().numpy(), predictions.cpu().numpy())\n",
    "            running_loss += loss.item()\n",
    "            running_accuracy += accuracy\n",
    "\n",
    "\n",
    "    test_loss = running_loss / len(test_loader)\n",
    "    test_losses.append(test_loss)\n",
    "\n",
    "    test_accuracy = running_accuracy / len(test_loader)\n",
    "    test_accuracies.append(test_accuracy)\n",
    "\n",
    "    \n",
    "    print(f\"Epoch {epoch+1}/{epochs} - Training loss: {train_loss:.3f}, Test loss: {test_loss:.3f}, Accuracy: {test_accuracy:.3f}\")\n",
    "    \n",
    "plt.plot(train_losses, label='Training loss')\n",
    "plt.plot(test_losses, label='Test loss')\n",
    "plt.xlabel('Epoch')\n",
    "plt.ylabel('Loss')\n",
    "plt.legend()\n",
    "plt.show()\n"
   ]
  },
  {
   "cell_type": "code",
   "execution_count": 15,
   "metadata": {
    "id": "wkYM6yUCQLpy"
   },
   "outputs": [
    {
     "name": "stdout",
     "output_type": "stream",
     "text": [
      "VGG(\n",
      "  (features): Sequential(\n",
      "    (0): Conv2d(3, 64, kernel_size=(3, 3), stride=(1, 1), padding=(1, 1))\n",
      "    (1): ReLU(inplace=True)\n",
      "    (2): Conv2d(64, 64, kernel_size=(3, 3), stride=(1, 1), padding=(1, 1))\n",
      "    (3): ReLU(inplace=True)\n",
      "    (4): MaxPool2d(kernel_size=2, stride=2, padding=0, dilation=1, ceil_mode=False)\n",
      "    (5): Conv2d(64, 128, kernel_size=(3, 3), stride=(1, 1), padding=(1, 1))\n",
      "    (6): ReLU(inplace=True)\n",
      "    (7): Conv2d(128, 128, kernel_size=(3, 3), stride=(1, 1), padding=(1, 1))\n",
      "    (8): ReLU(inplace=True)\n",
      "    (9): MaxPool2d(kernel_size=2, stride=2, padding=0, dilation=1, ceil_mode=False)\n",
      "    (10): Conv2d(128, 256, kernel_size=(3, 3), stride=(1, 1), padding=(1, 1))\n",
      "    (11): ReLU(inplace=True)\n",
      "    (12): Conv2d(256, 256, kernel_size=(3, 3), stride=(1, 1), padding=(1, 1))\n",
      "    (13): ReLU(inplace=True)\n",
      "    (14): Conv2d(256, 256, kernel_size=(3, 3), stride=(1, 1), padding=(1, 1))\n",
      "    (15): ReLU(inplace=True)\n",
      "    (16): MaxPool2d(kernel_size=2, stride=2, padding=0, dilation=1, ceil_mode=False)\n",
      "    (17): Conv2d(256, 512, kernel_size=(3, 3), stride=(1, 1), padding=(1, 1))\n",
      "    (18): ReLU(inplace=True)\n",
      "    (19): Conv2d(512, 512, kernel_size=(3, 3), stride=(1, 1), padding=(1, 1))\n",
      "    (20): ReLU(inplace=True)\n",
      "    (21): Conv2d(512, 512, kernel_size=(3, 3), stride=(1, 1), padding=(1, 1))\n",
      "    (22): ReLU(inplace=True)\n",
      "    (23): MaxPool2d(kernel_size=2, stride=2, padding=0, dilation=1, ceil_mode=False)\n",
      "    (24): Conv2d(512, 512, kernel_size=(3, 3), stride=(1, 1), padding=(1, 1))\n",
      "    (25): ReLU(inplace=True)\n",
      "    (26): Conv2d(512, 512, kernel_size=(3, 3), stride=(1, 1), padding=(1, 1))\n",
      "    (27): ReLU(inplace=True)\n",
      "    (28): Conv2d(512, 512, kernel_size=(3, 3), stride=(1, 1), padding=(1, 1))\n",
      "    (29): ReLU(inplace=True)\n",
      "    (30): MaxPool2d(kernel_size=2, stride=2, padding=0, dilation=1, ceil_mode=False)\n",
      "  )\n",
      "  (avgpool): AdaptiveAvgPool2d(output_size=(7, 7))\n",
      "  (classifier): Sequential(\n",
      "    (0): Linear(in_features=25088, out_features=4096, bias=True)\n",
      "    (1): ReLU(inplace=True)\n",
      "    (2): Dropout(p=0.5, inplace=False)\n",
      "    (3): Linear(in_features=4096, out_features=4096, bias=True)\n",
      "    (4): ReLU(inplace=True)\n",
      "    (5): Dropout(p=0.5, inplace=False)\n",
      "    (6): Linear(in_features=4096, out_features=10, bias=True)\n",
      "  )\n",
      ")\n"
     ]
    }
   ],
   "source": [
    "# заморозка весов, кроме последнего блока слоев\n",
    "for param in model.features.parameters():\n",
    "    param.requires_grad = False\n",
    "\n",
    "for param in model.classifier[0:4].parameters():\n",
    "    param.requires_grad = False\n",
    "\n",
    "# вывод модели\n",
    "print(model)"
   ]
  },
  {
   "cell_type": "code",
   "execution_count": 17,
   "metadata": {
    "id": "k2_N3n5GXjO5"
   },
   "outputs": [
    {
     "name": "stdout",
     "output_type": "stream",
     "text": [
      "Epoch 1/10 - Training loss: 2.056, Test loss: 2.061, Accuracy: 0.222\n",
      "Epoch 2/10 - Training loss: 2.022, Test loss: 2.044, Accuracy: 0.194\n",
      "Epoch 3/10 - Training loss: 2.006, Test loss: 2.064, Accuracy: 0.240\n",
      "Epoch 4/10 - Training loss: 2.002, Test loss: 2.051, Accuracy: 0.264\n",
      "Epoch 5/10 - Training loss: 2.008, Test loss: 2.039, Accuracy: 0.201\n",
      "Epoch 6/10 - Training loss: 1.999, Test loss: 2.039, Accuracy: 0.243\n",
      "Epoch 7/10 - Training loss: 1.991, Test loss: 2.021, Accuracy: 0.240\n",
      "Epoch 8/10 - Training loss: 1.999, Test loss: 2.045, Accuracy: 0.229\n",
      "Epoch 9/10 - Training loss: 1.997, Test loss: 2.037, Accuracy: 0.267\n",
      "Epoch 10/10 - Training loss: 1.993, Test loss: 2.036, Accuracy: 0.250\n"
     ]
    },
    {
     "data": {
      "image/png": "[encoded data removed]",
      "text/plain": [
       "<Figure size 432x288 with 1 Axes>"
      ]
     },
     "metadata": {
      "needs_background": "light"
     },
     "output_type": "display_data"
    }
   ],
   "source": [
    "device = torch.device('cuda:0' if torch.cuda.is_available() else 'cpu')\n",
    "model.to(device)\n",
    "\n",
    "criterion = nn.CrossEntropyLoss()\n",
    "optimizer = optim.Adam(model.parameters(), lr=0.001)\n",
    "\n",
    "epochs = 10\n",
    "\n",
    "train_losses = []\n",
    "test_losses = []\n",
    "test_accuracies = []\n",
    "\n",
    "for epoch in range(epochs):\n",
    "    \n",
    "    # Train\n",
    "    running_loss = 0.0\n",
    "    model.train()\n",
    "    \n",
    "    for inputs, labels in train_loader:\n",
    "        inputs, labels = inputs.to(device), labels.to(device)\n",
    "        \n",
    "        optimizer.zero_grad()\n",
    "        \n",
    "        outputs = model(inputs)\n",
    "        loss = criterion(outputs, labels)\n",
    "        loss.backward()\n",
    "        optimizer.step()\n",
    "        \n",
    "        running_loss += loss.item()\n",
    "        \n",
    "    train_loss = running_loss / len(train_loader)\n",
    "    train_losses.append(train_loss)\n",
    "    \n",
    "    # Test\n",
    "    # ...\n",
    "\n",
    "    running_loss = 0.0\n",
    "    running_accuracy = 0.0\n",
    "    model.eval()\n",
    "    with torch.no_grad():\n",
    "        for inputs, labels in test_loader:\n",
    "            inputs, labels = inputs.to(device), labels.to(device)\n",
    "\n",
    "            outputs = model(inputs)\n",
    "            loss = criterion(outputs, labels)\n",
    "            predictions = torch.argmax(outputs, dim=1)\n",
    "            accuracy = accuracy_score(labels.cpu().numpy(), predictions.cpu().numpy())\n",
    "            running_loss += loss.item()\n",
    "            running_accuracy += accuracy\n",
    "\n",
    "\n",
    "    test_loss = running_loss / len(test_loader)\n",
    "    test_losses.append(test_loss)\n",
    "\n",
    "    test_accuracy = running_accuracy / len(test_loader)\n",
    "    test_accuracies.append(test_accuracy)\n",
    "\n",
    "    \n",
    "    print(f\"Epoch {epoch+1}/{epochs} - Training loss: {train_loss:.3f}, Test loss: {test_loss:.3f}, Accuracy: {test_accuracy:.3f}\")\n",
    "    \n",
    "plt.plot(train_losses, label='Training loss')\n",
    "plt.plot(test_losses, label='Test loss')\n",
    "plt.xlabel('Epoch')\n",
    "plt.ylabel('Loss')\n",
    "plt.legend()\n",
    "plt.show()"
   ]
  },
  {
   "cell_type": "markdown",
   "metadata": {
    "id": "Dt_hXy5a5CE8"
   },
   "source": [
    "### 4.2 Решить задачу 3.2, воспользовавшись подходящей предобученной моделью\n",
    "* Не использовать VGG16 (вместо нее можно взять resnet18 или другую)\n",
    "* Загрузить данные для обучения\n",
    "* Преобразования: размер 224x224, нормализация с параметрами `mean=(0.485, 0.456, 0.406), std=(0.229, 0.224, 0.225)`\n",
    "* Заменить последний полносвязный слой модели в соответствии с задачей\n",
    "* Дообучить модель. \n",
    "* Вычислить значение accuracy на тестовом множестве (добиться значения не меньше 97-98%)"
   ]
  },
  {
   "cell_type": "code",
   "execution_count": 18,
   "metadata": {
    "id": "rHQl4cfEYcvL"
   },
   "outputs": [],
   "source": [
    "import torch\n",
    "import torchvision\n",
    "from torchvision import transforms\n",
    "\n",
    "# загрузка данных\n",
    "train_data = torchvision.datasets.ImageFolder(root='C:\\\\Users\\\\-\\\\Downloads\\\\monkeys\\\\training\\\\training', transform=transforms.Compose([\n",
    "    transforms.Resize((224,224)),\n",
    "    transforms.ToTensor(),\n",
    "    transforms.Normalize(mean=[0.485, 0.456, 0.406], std=[0.229, 0.224, 0.225])\n",
    "]))\n",
    "\n",
    "test_data = torchvision.datasets.ImageFolder(root='C:\\\\Users\\\\-\\\\Downloads\\\\monkeys\\\\validation\\\\validation', transform=transforms.Compose([\n",
    "    transforms.Resize((224,224)),\n",
    "    transforms.ToTensor(),\n",
    "    transforms.Normalize(mean=[0.485, 0.456, 0.406], std=[0.229, 0.224, 0.225])\n",
    "]))\n",
    "\n",
    "# разделение данных на батчи\n",
    "batch_size = 32\n",
    "\n",
    "train_loader = torch.utils.data.DataLoader(train_data, batch_size=batch_size, shuffle=True)\n",
    "test_loader = torch.utils.data.DataLoader(test_data, batch_size=batch_size, shuffle=True)\n"
   ]
  },
  {
   "cell_type": "code",
   "execution_count": 20,
   "metadata": {
    "id": "3SJ2WROVZtoE"
   },
   "outputs": [],
   "source": [
    "model = models.resnet18(pretrained=True)\n",
    "\n",
    "num_ftrs = model.fc.in_features\n",
    "model.fc = nn.Linear(num_ftrs, 10)\n"
   ]
  },
  {
   "cell_type": "code",
   "execution_count": 22,
   "metadata": {
    "id": "1u2mKr1UYlBF"
   },
   "outputs": [
    {
     "name": "stdout",
     "output_type": "stream",
     "text": [
      "Epoch 1/10 - Training loss: 0.473, Test loss: 2.095, Accuracy: 0.601\n",
      "Epoch 2/10 - Training loss: 0.255, Test loss: 0.309, Accuracy: 0.892\n",
      "Epoch 3/10 - Training loss: 0.081, Test loss: 0.244, Accuracy: 0.931\n",
      "Epoch 4/10 - Training loss: 0.076, Test loss: 0.887, Accuracy: 0.851\n",
      "Epoch 5/10 - Training loss: 0.132, Test loss: 0.386, Accuracy: 0.851\n",
      "Epoch 6/10 - Training loss: 0.137, Test loss: 0.473, Accuracy: 0.878\n",
      "Epoch 7/10 - Training loss: 0.194, Test loss: 1.922, Accuracy: 0.622\n",
      "Epoch 8/10 - Training loss: 0.101, Test loss: 0.213, Accuracy: 0.941\n",
      "Epoch 9/10 - Training loss: 0.095, Test loss: 0.584, Accuracy: 0.830\n",
      "Epoch 10/10 - Training loss: 0.143, Test loss: 1.047, Accuracy: 0.778\n"
     ]
    },
    {
     "data": {
      "image/png": "[encoded data removed]",
      "text/plain": [
       "<Figure size 432x288 with 1 Axes>"
      ]
     },
     "metadata": {
      "needs_background": "light"
     },
     "output_type": "display_data"
    }
   ],
   "source": [
    "device = torch.device('cuda:0' if torch.cuda.is_available() else 'cpu')\n",
    "model.to(device)\n",
    "\n",
    "criterion = nn.CrossEntropyLoss()\n",
    "optimizer = optim.Adam(model.parameters(), lr=0.001)\n",
    "\n",
    "epochs = 10\n",
    "\n",
    "train_losses = []\n",
    "test_losses = []\n",
    "test_accuracies = []\n",
    "\n",
    "for epoch in range(epochs):\n",
    "    \n",
    "    # Train\n",
    "    running_loss = 0.0\n",
    "    model.train()\n",
    "    \n",
    "    for inputs, labels in train_loader:\n",
    "        inputs, labels = inputs.to(device), labels.to(device)\n",
    "        \n",
    "        optimizer.zero_grad()\n",
    "        \n",
    "        outputs = model(inputs)\n",
    "        loss = criterion(outputs, labels)\n",
    "        loss.backward()\n",
    "        optimizer.step()\n",
    "        \n",
    "        running_loss += loss.item()\n",
    "        \n",
    "    train_loss = running_loss / len(train_loader)\n",
    "    train_losses.append(train_loss)\n",
    "    \n",
    "    # Test\n",
    "    # ...\n",
    "\n",
    "    running_loss = 0.0\n",
    "    running_accuracy = 0.0\n",
    "    model.eval()\n",
    "    with torch.no_grad():\n",
    "        for inputs, labels in test_loader:\n",
    "            inputs, labels = inputs.to(device), labels.to(device)\n",
    "\n",
    "            outputs = model(inputs)\n",
    "            loss = criterion(outputs, labels)\n",
    "            predictions = torch.argmax(outputs, dim=1)\n",
    "            accuracy = accuracy_score(labels.cpu().numpy(), predictions.cpu().numpy())\n",
    "            running_loss += loss.item()\n",
    "            running_accuracy += accuracy\n",
    "\n",
    "\n",
    "    test_loss = running_loss / len(test_loader)\n",
    "    test_losses.append(test_loss)\n",
    "\n",
    "    test_accuracy = running_accuracy / len(test_loader)\n",
    "    test_accuracies.append(test_accuracy)\n",
    "\n",
    "    \n",
    "    print(f\"Epoch {epoch+1}/{epochs} - Training loss: {train_loss:.3f}, Test loss: {test_loss:.3f}, Accuracy: {test_accuracy:.3f}\")\n",
    "    \n",
    "plt.plot(train_losses, label='Training loss')\n",
    "plt.plot(test_losses, label='Test loss')\n",
    "plt.xlabel('Epoch')\n",
    "plt.ylabel('Loss')\n",
    "plt.legend()\n",
    "plt.show()"
   ]
  },
  {
   "cell_type": "code",
   "execution_count": null,
   "metadata": {},
   "outputs": [],
   "source": []
  }
 ],
 "metadata": {
  "accelerator": "GPU",
  "colab": {
   "provenance": []
  },
  "gpuClass": "standard",
  "kernelspec": {
   "display_name": "Python 3",
   "language": "python",
   "name": "python3"
  },
  "language_info": {
   "codemirror_mode": {
    "name": "ipython",
    "version": 3
   },
   "file_extension": ".py",
   "mimetype": "text/x-python",
   "name": "python",
   "nbconvert_exporter": "python",
   "pygments_lexer": "ipython3",
   "version": "3.8.8"
  }
 },
 "nbformat": 4,
 "nbformat_minor": 1
}
