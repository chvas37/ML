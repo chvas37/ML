{
  "nbformat": 4,
  "nbformat_minor": 0,
  "metadata": {
    "colab": {
      "provenance": []
    },
    "kernelspec": {
      "name": "python3",
      "display_name": "Python 3"
    },
    "language_info": {
      "name": "python"
    }
  },
  "cells": [
    {
      "cell_type": "code",
      "execution_count": null,
      "metadata": {
        "id": "RI65gbPamkGn"
      },
      "outputs": [],
      "source": [
        "import pandas as pd\n",
        "import matplotlib.pyplot as plt"
      ]
    },
    {
      "cell_type": "markdown",
      "source": [
        "Загрязнение воздуха - сочетание твердых частиц на открытом воздухе и внутри помещений и озона - является фактором риска для многих ведущих причин смерти, включая болезни сердца, инсульт, инфекции нижних дыхательных путей, рак легких, диабет и хроническую обструктивную болезнь легких (ХОБЛ)."
      ],
      "metadata": {
        "id": "DTCnIjgd3TTw"
      }
    },
    {
      "cell_type": "markdown",
      "source": [
        "Задача классификации "
      ],
      "metadata": {
        "id": "qy_RWw3K2ZCV"
      }
    },
    {
      "cell_type": "code",
      "source": [
        "df = pd.read_csv('/content/air-pollution.csv')"
      ],
      "metadata": {
        "id": "6G0ldY5nnejI"
      },
      "execution_count": null,
      "outputs": []
    },
    {
      "cell_type": "code",
      "source": [
        "df=df[df['Year']>1950]\n",
        "df = df[(df[\"Country\"] == 'Afghanistan') | (df[\"Country\"] == 'Zimbabwe')]\n",
        "df.head()"
      ],
      "metadata": {
        "colab": {
          "base_uri": "https://localhost:8080/",
          "height": 206
        },
        "id": "-DAUwkVcnkOl",
        "outputId": "57fc65ec-27f4-40a2-bd2f-88f817364d24"
      },
      "execution_count": null,
      "outputs": [
        {
          "output_type": "execute_result",
          "data": {
            "text/plain": [
              "         Country  Year  Nitrogen Oxide  Sulphur Dioxide  Carbon Monoxide  \\\n",
              "156  Afghanistan  1951        22543.15           798.25        420386.77   \n",
              "157  Afghanistan  1952        21627.07           808.01        397146.98   \n",
              "158  Afghanistan  1953        22802.86           852.10        378114.13   \n",
              "159  Afghanistan  1954        22913.53           877.14        356587.85   \n",
              "160  Afghanistan  1955        30384.85          1077.10        351366.49   \n",
              "\n",
              "     Organic Carbon    NMVOCs  Black Carbon   Ammonia  \n",
              "156        15181.04  35130.32       4577.78  36392.72  \n",
              "157        15248.12  33781.44       4596.74  36974.06  \n",
              "158        15310.15  34532.97       4615.94  37591.01  \n",
              "159        15367.04  34223.80       4632.69  38072.12  \n",
              "160        15427.54  41376.50       4657.80  38407.29  "
            ],
            "text/html": [
              "\n",
              "  <div id=\"df-c0973a08-f57a-4616-b0bd-3960f22a37dc\">\n",
              "    <div class=\"colab-df-container\">\n",
              "      <div>\n",
              "<style scoped>\n",
              "    .dataframe tbody tr th:only-of-type {\n",
              "        vertical-align: middle;\n",
              "    }\n",
              "\n",
              "    .dataframe tbody tr th {\n",
              "        vertical-align: top;\n",
              "    }\n",
              "\n",
              "    .dataframe thead th {\n",
              "        text-align: right;\n",
              "    }\n",
              "</style>\n",
              "<table border=\"1\" class=\"dataframe\">\n",
              "  <thead>\n",
              "    <tr style=\"text-align: right;\">\n",
              "      <th></th>\n",
              "      <th>Country</th>\n",
              "      <th>Year</th>\n",
              "      <th>Nitrogen Oxide</th>\n",
              "      <th>Sulphur Dioxide</th>\n",
              "      <th>Carbon Monoxide</th>\n",
              "      <th>Organic Carbon</th>\n",
              "      <th>NMVOCs</th>\n",
              "      <th>Black Carbon</th>\n",
              "      <th>Ammonia</th>\n",
              "    </tr>\n",
              "  </thead>\n",
              "  <tbody>\n",
              "    <tr>\n",
              "      <th>156</th>\n",
              "      <td>Afghanistan</td>\n",
              "      <td>1951</td>\n",
              "      <td>22543.15</td>\n",
              "      <td>798.25</td>\n",
              "      <td>420386.77</td>\n",
              "      <td>15181.04</td>\n",
              "      <td>35130.32</td>\n",
              "      <td>4577.78</td>\n",
              "      <td>36392.72</td>\n",
              "    </tr>\n",
              "    <tr>\n",
              "      <th>157</th>\n",
              "      <td>Afghanistan</td>\n",
              "      <td>1952</td>\n",
              "      <td>21627.07</td>\n",
              "      <td>808.01</td>\n",
              "      <td>397146.98</td>\n",
              "      <td>15248.12</td>\n",
              "      <td>33781.44</td>\n",
              "      <td>4596.74</td>\n",
              "      <td>36974.06</td>\n",
              "    </tr>\n",
              "    <tr>\n",
              "      <th>158</th>\n",
              "      <td>Afghanistan</td>\n",
              "      <td>1953</td>\n",
              "      <td>22802.86</td>\n",
              "      <td>852.10</td>\n",
              "      <td>378114.13</td>\n",
              "      <td>15310.15</td>\n",
              "      <td>34532.97</td>\n",
              "      <td>4615.94</td>\n",
              "      <td>37591.01</td>\n",
              "    </tr>\n",
              "    <tr>\n",
              "      <th>159</th>\n",
              "      <td>Afghanistan</td>\n",
              "      <td>1954</td>\n",
              "      <td>22913.53</td>\n",
              "      <td>877.14</td>\n",
              "      <td>356587.85</td>\n",
              "      <td>15367.04</td>\n",
              "      <td>34223.80</td>\n",
              "      <td>4632.69</td>\n",
              "      <td>38072.12</td>\n",
              "    </tr>\n",
              "    <tr>\n",
              "      <th>160</th>\n",
              "      <td>Afghanistan</td>\n",
              "      <td>1955</td>\n",
              "      <td>30384.85</td>\n",
              "      <td>1077.10</td>\n",
              "      <td>351366.49</td>\n",
              "      <td>15427.54</td>\n",
              "      <td>41376.50</td>\n",
              "      <td>4657.80</td>\n",
              "      <td>38407.29</td>\n",
              "    </tr>\n",
              "  </tbody>\n",
              "</table>\n",
              "</div>\n",
              "      <button class=\"colab-df-convert\" onclick=\"convertToInteractive('df-c0973a08-f57a-4616-b0bd-3960f22a37dc')\"\n",
              "              title=\"Convert this dataframe to an interactive table.\"\n",
              "              style=\"display:none;\">\n",
              "        \n",
              "  <svg xmlns=\"http://www.w3.org/2000/svg\" height=\"24px\"viewBox=\"0 0 24 24\"\n",
              "       width=\"24px\">\n",
              "    <path d=\"M0 0h24v24H0V0z\" fill=\"none\"/>\n",
              "    <path d=\"M18.56 5.44l.94 2.06.94-2.06 2.06-.94-2.06-.94-.94-2.06-.94 2.06-2.06.94zm-11 1L8.5 8.5l.94-2.06 2.06-.94-2.06-.94L8.5 2.5l-.94 2.06-2.06.94zm10 10l.94 2.06.94-2.06 2.06-.94-2.06-.94-.94-2.06-.94 2.06-2.06.94z\"/><path d=\"M17.41 7.96l-1.37-1.37c-.4-.4-.92-.59-1.43-.59-.52 0-1.04.2-1.43.59L10.3 9.45l-7.72 7.72c-.78.78-.78 2.05 0 2.83L4 21.41c.39.39.9.59 1.41.59.51 0 1.02-.2 1.41-.59l7.78-7.78 2.81-2.81c.8-.78.8-2.07 0-2.86zM5.41 20L4 18.59l7.72-7.72 1.47 1.35L5.41 20z\"/>\n",
              "  </svg>\n",
              "      </button>\n",
              "      \n",
              "  <style>\n",
              "    .colab-df-container {\n",
              "      display:flex;\n",
              "      flex-wrap:wrap;\n",
              "      gap: 12px;\n",
              "    }\n",
              "\n",
              "    .colab-df-convert {\n",
              "      background-color: #E8F0FE;\n",
              "      border: none;\n",
              "      border-radius: 50%;\n",
              "      cursor: pointer;\n",
              "      display: none;\n",
              "      fill: #1967D2;\n",
              "      height: 32px;\n",
              "      padding: 0 0 0 0;\n",
              "      width: 32px;\n",
              "    }\n",
              "\n",
              "    .colab-df-convert:hover {\n",
              "      background-color: #E2EBFA;\n",
              "      box-shadow: 0px 1px 2px rgba(60, 64, 67, 0.3), 0px 1px 3px 1px rgba(60, 64, 67, 0.15);\n",
              "      fill: #174EA6;\n",
              "    }\n",
              "\n",
              "    [theme=dark] .colab-df-convert {\n",
              "      background-color: #3B4455;\n",
              "      fill: #D2E3FC;\n",
              "    }\n",
              "\n",
              "    [theme=dark] .colab-df-convert:hover {\n",
              "      background-color: #434B5C;\n",
              "      box-shadow: 0px 1px 3px 1px rgba(0, 0, 0, 0.15);\n",
              "      filter: drop-shadow(0px 1px 2px rgba(0, 0, 0, 0.3));\n",
              "      fill: #FFFFFF;\n",
              "    }\n",
              "  </style>\n",
              "\n",
              "      <script>\n",
              "        const buttonEl =\n",
              "          document.querySelector('#df-c0973a08-f57a-4616-b0bd-3960f22a37dc button.colab-df-convert');\n",
              "        buttonEl.style.display =\n",
              "          google.colab.kernel.accessAllowed ? 'block' : 'none';\n",
              "\n",
              "        async function convertToInteractive(key) {\n",
              "          const element = document.querySelector('#df-c0973a08-f57a-4616-b0bd-3960f22a37dc');\n",
              "          const dataTable =\n",
              "            await google.colab.kernel.invokeFunction('convertToInteractive',\n",
              "                                                     [key], {});\n",
              "          if (!dataTable) return;\n",
              "\n",
              "          const docLinkHtml = 'Like what you see? Visit the ' +\n",
              "            '<a target=\"_blank\" href=https://colab.research.google.com/notebooks/data_table.ipynb>data table notebook</a>'\n",
              "            + ' to learn more about interactive tables.';\n",
              "          element.innerHTML = '';\n",
              "          dataTable['output_type'] = 'display_data';\n",
              "          await google.colab.output.renderOutput(dataTable, element);\n",
              "          const docLink = document.createElement('div');\n",
              "          docLink.innerHTML = docLinkHtml;\n",
              "          element.appendChild(docLink);\n",
              "        }\n",
              "      </script>\n",
              "    </div>\n",
              "  </div>\n",
              "  "
            ]
          },
          "metadata": {},
          "execution_count": 56
        }
      ]
    },
    {
      "cell_type": "code",
      "source": [
        "df.shape"
      ],
      "metadata": {
        "colab": {
          "base_uri": "https://localhost:8080/"
        },
        "id": "dMyujQZr8F6B",
        "outputId": "d7e69161-e4f1-4dff-dd83-61a2ddc8f3cd"
      },
      "execution_count": null,
      "outputs": [
        {
          "output_type": "execute_result",
          "data": {
            "text/plain": [
              "(138, 9)"
            ]
          },
          "metadata": {},
          "execution_count": 58
        }
      ]
    },
    {
      "cell_type": "code",
      "source": [
        "df['Country'].unique().shape"
      ],
      "metadata": {
        "colab": {
          "base_uri": "https://localhost:8080/"
        },
        "id": "Q_OHepfK8jJL",
        "outputId": "11045203-8c5b-4ec6-ea37-0226a105dd26"
      },
      "execution_count": null,
      "outputs": [
        {
          "output_type": "execute_result",
          "data": {
            "text/plain": [
              "(2,)"
            ]
          },
          "metadata": {},
          "execution_count": 59
        }
      ]
    },
    {
      "cell_type": "code",
      "source": [
        "df.dtypes"
      ],
      "metadata": {
        "colab": {
          "base_uri": "https://localhost:8080/"
        },
        "id": "yOLtCK2XDHyN",
        "outputId": "ca361e50-4694-428d-94c2-3471710c000e"
      },
      "execution_count": null,
      "outputs": [
        {
          "output_type": "execute_result",
          "data": {
            "text/plain": [
              "Country             object\n",
              "Year                 int64\n",
              "Nitrogen Oxide     float64\n",
              "Sulphur Dioxide    float64\n",
              "Carbon Monoxide    float64\n",
              "Organic Carbon     float64\n",
              "NMVOCs             float64\n",
              "Black Carbon       float64\n",
              "Ammonia            float64\n",
              "dtype: object"
            ]
          },
          "metadata": {},
          "execution_count": 60
        }
      ]
    },
    {
      "cell_type": "code",
      "source": [
        "df.isnull().sum()"
      ],
      "metadata": {
        "colab": {
          "base_uri": "https://localhost:8080/"
        },
        "id": "LXj3VE3vqt-h",
        "outputId": "b92863dd-ad82-46f5-804a-9b6200599082"
      },
      "execution_count": null,
      "outputs": [
        {
          "output_type": "execute_result",
          "data": {
            "text/plain": [
              "Country            0\n",
              "Year               0\n",
              "Nitrogen Oxide     0\n",
              "Sulphur Dioxide    0\n",
              "Carbon Monoxide    0\n",
              "Organic Carbon     0\n",
              "NMVOCs             0\n",
              "Black Carbon       0\n",
              "Ammonia            0\n",
              "dtype: int64"
            ]
          },
          "metadata": {},
          "execution_count": 22
        }
      ]
    },
    {
      "cell_type": "code",
      "source": [
        "plt.hist(df['Year'])"
      ],
      "metadata": {
        "colab": {
          "base_uri": "https://localhost:8080/",
          "height": 334
        },
        "id": "ZhEpUCSF5HiT",
        "outputId": "f4270989-30b1-4214-9b5a-9346083d7351"
      },
      "execution_count": null,
      "outputs": [
        {
          "output_type": "execute_result",
          "data": {
            "text/plain": [
              "(array([14., 14., 14., 14., 12., 14., 14., 14., 14., 14.]),\n",
              " array([1951. , 1957.8, 1964.6, 1971.4, 1978.2, 1985. , 1991.8, 1998.6,\n",
              "        2005.4, 2012.2, 2019. ]),\n",
              " <a list of 10 Patch objects>)"
            ]
          },
          "metadata": {},
          "execution_count": 61
        },
        {
          "output_type": "display_data",
          "data": {
            "text/plain": [
              "<Figure size 432x288 with 1 Axes>"
            ],
            "image/png": "[encoded data removed]"
          },
          "metadata": {
            "needs_background": "light"
          }
        }
      ]
    },
    {
      "cell_type": "code",
      "source": [
        "plt.hist(df['Nitrogen Oxide'])"
      ],
      "metadata": {
        "colab": {
          "base_uri": "https://localhost:8080/",
          "height": 384
        },
        "id": "x-bxn59q5OTs",
        "outputId": "6a9b4793-f90e-4987-fcd5-a8e364ef1d63"
      },
      "execution_count": null,
      "outputs": [
        {
          "output_type": "execute_result",
          "data": {
            "text/plain": [
              "(array([1.5378e+04, 1.5800e+02, 1.7500e+02, 4.1000e+01, 5.1000e+01,\n",
              "        1.7000e+01, 6.0000e+00, 9.0000e+00, 1.9000e+01, 1.6000e+01]),\n",
              " array([0.00000000e+00, 1.09566318e+07, 2.19132637e+07, 3.28698955e+07,\n",
              "        4.38265273e+07, 5.47831591e+07, 6.57397910e+07, 7.66964228e+07,\n",
              "        8.76530546e+07, 9.86096865e+07, 1.09566318e+08]),\n",
              " <a list of 10 Patch objects>)"
            ]
          },
          "metadata": {},
          "execution_count": 24
        },
        {
          "output_type": "display_data",
          "data": {
            "text/plain": [
              "<Figure size 432x288 with 1 Axes>"
            ],
            "image/png": "[encoded data removed]"
          },
          "metadata": {
            "needs_background": "light"
          }
        }
      ]
    },
    {
      "cell_type": "code",
      "source": [
        "plt.hist(df['Sulphur Dioxide'])"
      ],
      "metadata": {
        "colab": {
          "base_uri": "https://localhost:8080/",
          "height": 385
        },
        "id": "56TxFRhU5X9A",
        "outputId": "ddc4e15b-e996-45ed-cec9-ed0768fc8c2a"
      },
      "execution_count": null,
      "outputs": [
        {
          "output_type": "execute_result",
          "data": {
            "text/plain": [
              "(array([1.5361e+04, 1.9900e+02, 9.5000e+01, 8.5000e+01, 4.9000e+01,\n",
              "        2.5000e+01, 7.0000e+00, 1.7000e+01, 1.3000e+01, 1.9000e+01]),\n",
              " array([0.00000000e+00, 1.33526347e+07, 2.67052693e+07, 4.00579040e+07,\n",
              "        5.34105387e+07, 6.67631734e+07, 8.01158080e+07, 9.34684427e+07,\n",
              "        1.06821077e+08, 1.20173712e+08, 1.33526347e+08]),\n",
              " <a list of 10 Patch objects>)"
            ]
          },
          "metadata": {},
          "execution_count": 25
        },
        {
          "output_type": "display_data",
          "data": {
            "text/plain": [
              "<Figure size 432x288 with 1 Axes>"
            ],
            "image/png": "[encoded data removed]"
          },
          "metadata": {
            "needs_background": "light"
          }
        }
      ]
    },
    {
      "cell_type": "code",
      "source": [
        "plt.hist(df['Carbon Monoxide'])"
      ],
      "metadata": {
        "colab": {
          "base_uri": "https://localhost:8080/",
          "height": 385
        },
        "id": "KL4RgTMU5dW3",
        "outputId": "8987c7c4-6083-4c4e-f049-ebdd1b4c42a8"
      },
      "execution_count": null,
      "outputs": [
        {
          "output_type": "execute_result",
          "data": {
            "text/plain": [
              "(array([1.53e+04, 2.08e+02, 1.54e+02, 7.00e+01, 5.00e+01, 3.00e+01,\n",
              "        6.00e+00, 5.00e+00, 1.90e+01, 2.80e+01]),\n",
              " array([0.00000000e+00, 6.61623619e+07, 1.32324724e+08, 1.98487086e+08,\n",
              "        2.64649447e+08, 3.30811809e+08, 3.96974171e+08, 4.63136533e+08,\n",
              "        5.29298895e+08, 5.95461257e+08, 6.61623618e+08]),\n",
              " <a list of 10 Patch objects>)"
            ]
          },
          "metadata": {},
          "execution_count": 26
        },
        {
          "output_type": "display_data",
          "data": {
            "text/plain": [
              "<Figure size 432x288 with 1 Axes>"
            ],
            "image/png": "[encoded data removed]"
          },
          "metadata": {
            "needs_background": "light"
          }
        }
      ]
    },
    {
      "cell_type": "code",
      "source": [
        "df.corr()"
      ],
      "metadata": {
        "colab": {
          "base_uri": "https://localhost:8080/",
          "height": 300
        },
        "id": "hEUf0SXQC_gw",
        "outputId": "79b1b9f2-dbe1-4176-aa0a-b81e1f5bc5da"
      },
      "execution_count": null,
      "outputs": [
        {
          "output_type": "execute_result",
          "data": {
            "text/plain": [
              "                     Year  Nitrogen Oxide  Sulphur Dioxide  Carbon Monoxide  \\\n",
              "Year             1.000000        0.376762         0.345842         0.657211   \n",
              "Nitrogen Oxide   0.376762        1.000000        -0.045331         0.019289   \n",
              "Sulphur Dioxide  0.345842       -0.045331         1.000000         0.581777   \n",
              "Carbon Monoxide  0.657211        0.019289         0.581777         1.000000   \n",
              "Organic Carbon   0.614047       -0.332399         0.522078         0.902659   \n",
              "NMVOCs           0.668677        0.652104         0.263676         0.697785   \n",
              "Black Carbon     0.630875       -0.288572         0.574323         0.923552   \n",
              "Ammonia          0.935741        0.505851         0.373851         0.492594   \n",
              "\n",
              "                 Organic Carbon    NMVOCs  Black Carbon   Ammonia  \n",
              "Year                   0.614047  0.668677      0.630875  0.935741  \n",
              "Nitrogen Oxide        -0.332399  0.652104     -0.288572  0.505851  \n",
              "Sulphur Dioxide        0.522078  0.263676      0.574323  0.373851  \n",
              "Carbon Monoxide        0.902659  0.697785      0.923552  0.492594  \n",
              "Organic Carbon         1.000000  0.420328      0.996323  0.407500  \n",
              "NMVOCs                 0.420328  1.000000      0.452214  0.562979  \n",
              "Black Carbon           0.996323  0.452214      1.000000  0.438241  \n",
              "Ammonia                0.407500  0.562979      0.438241  1.000000  "
            ],
            "text/html": [
              "\n",
              "  <div id=\"df-33da9445-b218-4b38-9ca9-1826237d67db\">\n",
              "    <div class=\"colab-df-container\">\n",
              "      <div>\n",
              "<style scoped>\n",
              "    .dataframe tbody tr th:only-of-type {\n",
              "        vertical-align: middle;\n",
              "    }\n",
              "\n",
              "    .dataframe tbody tr th {\n",
              "        vertical-align: top;\n",
              "    }\n",
              "\n",
              "    .dataframe thead th {\n",
              "        text-align: right;\n",
              "    }\n",
              "</style>\n",
              "<table border=\"1\" class=\"dataframe\">\n",
              "  <thead>\n",
              "    <tr style=\"text-align: right;\">\n",
              "      <th></th>\n",
              "      <th>Year</th>\n",
              "      <th>Nitrogen Oxide</th>\n",
              "      <th>Sulphur Dioxide</th>\n",
              "      <th>Carbon Monoxide</th>\n",
              "      <th>Organic Carbon</th>\n",
              "      <th>NMVOCs</th>\n",
              "      <th>Black Carbon</th>\n",
              "      <th>Ammonia</th>\n",
              "    </tr>\n",
              "  </thead>\n",
              "  <tbody>\n",
              "    <tr>\n",
              "      <th>Year</th>\n",
              "      <td>1.000000</td>\n",
              "      <td>0.376762</td>\n",
              "      <td>0.345842</td>\n",
              "      <td>0.657211</td>\n",
              "      <td>0.614047</td>\n",
              "      <td>0.668677</td>\n",
              "      <td>0.630875</td>\n",
              "      <td>0.935741</td>\n",
              "    </tr>\n",
              "    <tr>\n",
              "      <th>Nitrogen Oxide</th>\n",
              "      <td>0.376762</td>\n",
              "      <td>1.000000</td>\n",
              "      <td>-0.045331</td>\n",
              "      <td>0.019289</td>\n",
              "      <td>-0.332399</td>\n",
              "      <td>0.652104</td>\n",
              "      <td>-0.288572</td>\n",
              "      <td>0.505851</td>\n",
              "    </tr>\n",
              "    <tr>\n",
              "      <th>Sulphur Dioxide</th>\n",
              "      <td>0.345842</td>\n",
              "      <td>-0.045331</td>\n",
              "      <td>1.000000</td>\n",
              "      <td>0.581777</td>\n",
              "      <td>0.522078</td>\n",
              "      <td>0.263676</td>\n",
              "      <td>0.574323</td>\n",
              "      <td>0.373851</td>\n",
              "    </tr>\n",
              "    <tr>\n",
              "      <th>Carbon Monoxide</th>\n",
              "      <td>0.657211</td>\n",
              "      <td>0.019289</td>\n",
              "      <td>0.581777</td>\n",
              "      <td>1.000000</td>\n",
              "      <td>0.902659</td>\n",
              "      <td>0.697785</td>\n",
              "      <td>0.923552</td>\n",
              "      <td>0.492594</td>\n",
              "    </tr>\n",
              "    <tr>\n",
              "      <th>Organic Carbon</th>\n",
              "      <td>0.614047</td>\n",
              "      <td>-0.332399</td>\n",
              "      <td>0.522078</td>\n",
              "      <td>0.902659</td>\n",
              "      <td>1.000000</td>\n",
              "      <td>0.420328</td>\n",
              "      <td>0.996323</td>\n",
              "      <td>0.407500</td>\n",
              "    </tr>\n",
              "    <tr>\n",
              "      <th>NMVOCs</th>\n",
              "      <td>0.668677</td>\n",
              "      <td>0.652104</td>\n",
              "      <td>0.263676</td>\n",
              "      <td>0.697785</td>\n",
              "      <td>0.420328</td>\n",
              "      <td>1.000000</td>\n",
              "      <td>0.452214</td>\n",
              "      <td>0.562979</td>\n",
              "    </tr>\n",
              "    <tr>\n",
              "      <th>Black Carbon</th>\n",
              "      <td>0.630875</td>\n",
              "      <td>-0.288572</td>\n",
              "      <td>0.574323</td>\n",
              "      <td>0.923552</td>\n",
              "      <td>0.996323</td>\n",
              "      <td>0.452214</td>\n",
              "      <td>1.000000</td>\n",
              "      <td>0.438241</td>\n",
              "    </tr>\n",
              "    <tr>\n",
              "      <th>Ammonia</th>\n",
              "      <td>0.935741</td>\n",
              "      <td>0.505851</td>\n",
              "      <td>0.373851</td>\n",
              "      <td>0.492594</td>\n",
              "      <td>0.407500</td>\n",
              "      <td>0.562979</td>\n",
              "      <td>0.438241</td>\n",
              "      <td>1.000000</td>\n",
              "    </tr>\n",
              "  </tbody>\n",
              "</table>\n",
              "</div>\n",
              "      <button class=\"colab-df-convert\" onclick=\"convertToInteractive('df-33da9445-b218-4b38-9ca9-1826237d67db')\"\n",
              "              title=\"Convert this dataframe to an interactive table.\"\n",
              "              style=\"display:none;\">\n",
              "        \n",
              "  <svg xmlns=\"http://www.w3.org/2000/svg\" height=\"24px\"viewBox=\"0 0 24 24\"\n",
              "       width=\"24px\">\n",
              "    <path d=\"M0 0h24v24H0V0z\" fill=\"none\"/>\n",
              "    <path d=\"M18.56 5.44l.94 2.06.94-2.06 2.06-.94-2.06-.94-.94-2.06-.94 2.06-2.06.94zm-11 1L8.5 8.5l.94-2.06 2.06-.94-2.06-.94L8.5 2.5l-.94 2.06-2.06.94zm10 10l.94 2.06.94-2.06 2.06-.94-2.06-.94-.94-2.06-.94 2.06-2.06.94z\"/><path d=\"M17.41 7.96l-1.37-1.37c-.4-.4-.92-.59-1.43-.59-.52 0-1.04.2-1.43.59L10.3 9.45l-7.72 7.72c-.78.78-.78 2.05 0 2.83L4 21.41c.39.39.9.59 1.41.59.51 0 1.02-.2 1.41-.59l7.78-7.78 2.81-2.81c.8-.78.8-2.07 0-2.86zM5.41 20L4 18.59l7.72-7.72 1.47 1.35L5.41 20z\"/>\n",
              "  </svg>\n",
              "      </button>\n",
              "      \n",
              "  <style>\n",
              "    .colab-df-container {\n",
              "      display:flex;\n",
              "      flex-wrap:wrap;\n",
              "      gap: 12px;\n",
              "    }\n",
              "\n",
              "    .colab-df-convert {\n",
              "      background-color: #E8F0FE;\n",
              "      border: none;\n",
              "      border-radius: 50%;\n",
              "      cursor: pointer;\n",
              "      display: none;\n",
              "      fill: #1967D2;\n",
              "      height: 32px;\n",
              "      padding: 0 0 0 0;\n",
              "      width: 32px;\n",
              "    }\n",
              "\n",
              "    .colab-df-convert:hover {\n",
              "      background-color: #E2EBFA;\n",
              "      box-shadow: 0px 1px 2px rgba(60, 64, 67, 0.3), 0px 1px 3px 1px rgba(60, 64, 67, 0.15);\n",
              "      fill: #174EA6;\n",
              "    }\n",
              "\n",
              "    [theme=dark] .colab-df-convert {\n",
              "      background-color: #3B4455;\n",
              "      fill: #D2E3FC;\n",
              "    }\n",
              "\n",
              "    [theme=dark] .colab-df-convert:hover {\n",
              "      background-color: #434B5C;\n",
              "      box-shadow: 0px 1px 3px 1px rgba(0, 0, 0, 0.15);\n",
              "      filter: drop-shadow(0px 1px 2px rgba(0, 0, 0, 0.3));\n",
              "      fill: #FFFFFF;\n",
              "    }\n",
              "  </style>\n",
              "\n",
              "      <script>\n",
              "        const buttonEl =\n",
              "          document.querySelector('#df-33da9445-b218-4b38-9ca9-1826237d67db button.colab-df-convert');\n",
              "        buttonEl.style.display =\n",
              "          google.colab.kernel.accessAllowed ? 'block' : 'none';\n",
              "\n",
              "        async function convertToInteractive(key) {\n",
              "          const element = document.querySelector('#df-33da9445-b218-4b38-9ca9-1826237d67db');\n",
              "          const dataTable =\n",
              "            await google.colab.kernel.invokeFunction('convertToInteractive',\n",
              "                                                     [key], {});\n",
              "          if (!dataTable) return;\n",
              "\n",
              "          const docLinkHtml = 'Like what you see? Visit the ' +\n",
              "            '<a target=\"_blank\" href=https://colab.research.google.com/notebooks/data_table.ipynb>data table notebook</a>'\n",
              "            + ' to learn more about interactive tables.';\n",
              "          element.innerHTML = '';\n",
              "          dataTable['output_type'] = 'display_data';\n",
              "          await google.colab.output.renderOutput(dataTable, element);\n",
              "          const docLink = document.createElement('div');\n",
              "          docLink.innerHTML = docLinkHtml;\n",
              "          element.appendChild(docLink);\n",
              "        }\n",
              "      </script>\n",
              "    </div>\n",
              "  </div>\n",
              "  "
            ]
          },
          "metadata": {},
          "execution_count": 62
        }
      ]
    },
    {
      "cell_type": "code",
      "source": [
        "import matplotlib.pyplot as plt\n",
        "import seaborn as sns"
      ],
      "metadata": {
        "id": "T16rTyr1DRHw"
      },
      "execution_count": null,
      "outputs": []
    },
    {
      "cell_type": "code",
      "source": [
        "sns.boxplot(df['Nitrogen Oxide'])"
      ],
      "metadata": {
        "colab": {
          "base_uri": "https://localhost:8080/",
          "height": 351
        },
        "id": "l4mPfDcTDt3A",
        "outputId": "c77d55a7-2110-4c62-cf93-63b8c69f6f1e"
      },
      "execution_count": null,
      "outputs": [
        {
          "output_type": "stream",
          "name": "stderr",
          "text": [
            "/usr/local/lib/python3.8/dist-packages/seaborn/_decorators.py:36: FutureWarning: Pass the following variable as a keyword arg: x. From version 0.12, the only valid positional argument will be `data`, and passing other arguments without an explicit keyword will result in an error or misinterpretation.\n",
            "  warnings.warn(\n"
          ]
        },
        {
          "output_type": "execute_result",
          "data": {
            "text/plain": [
              "<matplotlib.axes._subplots.AxesSubplot at 0x7f05d62c8040>"
            ]
          },
          "metadata": {},
          "execution_count": 64
        },
        {
          "output_type": "display_data",
          "data": {
            "text/plain": [
              "<Figure size 432x288 with 1 Axes>"
            ],
            "image/png": "[encoded data removed]"
          },
          "metadata": {
            "needs_background": "light"
          }
        }
      ]
    },
    {
      "cell_type": "code",
      "source": [
        "y = df['Country']\n",
        "X = df.drop(['Country'], axis=1)"
      ],
      "metadata": {
        "id": "RlR7lTW9E63q"
      },
      "execution_count": null,
      "outputs": []
    },
    {
      "cell_type": "code",
      "source": [
        "from sklearn.model_selection import train_test_split\n",
        "x_train, x_test, y_train, y_test = train_test_split(X, y, \n",
        "                                                    test_size=0.2,\n",
        "                                                    random_state=True)"
      ],
      "metadata": {
        "id": "_PNxtVavFCrG"
      },
      "execution_count": null,
      "outputs": []
    },
    {
      "cell_type": "code",
      "source": [
        "from sklearn.linear_model import LogisticRegression\n",
        "cls = LogisticRegression()"
      ],
      "metadata": {
        "id": "4PCGxkSLDwCd"
      },
      "execution_count": null,
      "outputs": []
    },
    {
      "cell_type": "code",
      "source": [
        "cls.fit(x_train, y_train)"
      ],
      "metadata": {
        "colab": {
          "base_uri": "https://localhost:8080/"
        },
        "id": "PBuWsOZaE4LW",
        "outputId": "bfc4cd35-d7ba-4821-af4e-2010071f3cc7"
      },
      "execution_count": null,
      "outputs": [
        {
          "output_type": "execute_result",
          "data": {
            "text/plain": [
              "LogisticRegression()"
            ]
          },
          "metadata": {},
          "execution_count": 68
        }
      ]
    },
    {
      "cell_type": "code",
      "source": [
        "y_pred = cls.predict(x_test)\n",
        "y_pred"
      ],
      "metadata": {
        "colab": {
          "base_uri": "https://localhost:8080/"
        },
        "id": "fTLtgYN1FFjN",
        "outputId": "bae3a0b8-9c3d-4f02-a3b3-348ecf090745"
      },
      "execution_count": null,
      "outputs": [
        {
          "output_type": "execute_result",
          "data": {
            "text/plain": [
              "array(['Afghanistan', 'Afghanistan', 'Zimbabwe', 'Afghanistan',\n",
              "       'Afghanistan', 'Afghanistan', 'Zimbabwe', 'Afghanistan',\n",
              "       'Zimbabwe', 'Afghanistan', 'Zimbabwe', 'Afghanistan', 'Zimbabwe',\n",
              "       'Zimbabwe', 'Afghanistan', 'Zimbabwe', 'Zimbabwe', 'Afghanistan',\n",
              "       'Afghanistan', 'Afghanistan', 'Afghanistan', 'Zimbabwe',\n",
              "       'Afghanistan', 'Afghanistan', 'Afghanistan', 'Afghanistan',\n",
              "       'Zimbabwe', 'Afghanistan'], dtype=object)"
            ]
          },
          "metadata": {},
          "execution_count": 69
        }
      ]
    },
    {
      "cell_type": "code",
      "source": [
        "from sklearn.metrics import classification_report, confusion_matrix \n",
        "print(confusion_matrix(y_test,y_pred)) \n",
        "print(classification_report(y_test,y_pred))"
      ],
      "metadata": {
        "colab": {
          "base_uri": "https://localhost:8080/"
        },
        "id": "LE8ucm-tFIJo",
        "outputId": "1681330f-a9f1-4356-af6b-9e568f351c56"
      },
      "execution_count": null,
      "outputs": [
        {
          "output_type": "stream",
          "name": "stdout",
          "text": [
            "[[18  0]\n",
            " [ 0 10]]\n",
            "              precision    recall  f1-score   support\n",
            "\n",
            " Afghanistan       1.00      1.00      1.00        18\n",
            "    Zimbabwe       1.00      1.00      1.00        10\n",
            "\n",
            "    accuracy                           1.00        28\n",
            "   macro avg       1.00      1.00      1.00        28\n",
            "weighted avg       1.00      1.00      1.00        28\n",
            "\n"
          ]
        }
      ]
    },
    {
      "cell_type": "code",
      "source": [
        "from sklearn.svm import SVC\n",
        "cll = SVC(kernel='linear', random_state=True)\n",
        "cll.fit(x_train, y_train)"
      ],
      "metadata": {
        "id": "lvHbWPbpFTfO",
        "colab": {
          "base_uri": "https://localhost:8080/"
        },
        "outputId": "73002857-9456-4fe4-b1d1-0818c60b8070"
      },
      "execution_count": null,
      "outputs": [
        {
          "output_type": "execute_result",
          "data": {
            "text/plain": [
              "SVC(kernel='linear', random_state=True)"
            ]
          },
          "metadata": {},
          "execution_count": 71
        }
      ]
    },
    {
      "cell_type": "code",
      "source": [
        "from sklearn.metrics import classification_report, confusion_matrix \n",
        "print(confusion_matrix(y_test,y_pred)) \n",
        "print(classification_report(y_test,y_pred))"
      ],
      "metadata": {
        "id": "RcGzDsYvF6yS",
        "colab": {
          "base_uri": "https://localhost:8080/"
        },
        "outputId": "2164ef0c-b078-4e28-878b-db10a90ea205"
      },
      "execution_count": null,
      "outputs": [
        {
          "output_type": "stream",
          "name": "stdout",
          "text": [
            "[[18  0]\n",
            " [ 0 10]]\n",
            "              precision    recall  f1-score   support\n",
            "\n",
            " Afghanistan       1.00      1.00      1.00        18\n",
            "    Zimbabwe       1.00      1.00      1.00        10\n",
            "\n",
            "    accuracy                           1.00        28\n",
            "   macro avg       1.00      1.00      1.00        28\n",
            "weighted avg       1.00      1.00      1.00        28\n",
            "\n"
          ]
        }
      ]
    },
    {
      "cell_type": "code",
      "source": [],
      "metadata": {
        "id": "wVReA8qCGAA0"
      },
      "execution_count": null,
      "outputs": []
    }
  ]
}