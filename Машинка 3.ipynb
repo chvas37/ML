{
 "cells": [
  {
   "cell_type": "code",
   "execution_count": 1,
   "metadata": {
    "id": "6ktSXdQVb9Li"
   },
   "outputs": [],
   "source": [
    "import torch\n",
    "import numpy as np"
   ]
  },
  {
   "cell_type": "markdown",
   "metadata": {
    "id": "4L7Inb1JbiDy"
   },
   "source": [
    "## 3.1 Автоматическое дифференцирование в `torch`"
   ]
  },
  {
   "cell_type": "markdown",
   "metadata": {
    "id": "HsZ69HZ0EsI7"
   },
   "source": [
    "3.1.1 Воспользовавшись классами `Neuron` и `SquaredLoss` из задачи 2.4.1 и автоматическим дифференцированием, которое предоставляет `torch`, решить задачу регрессии. Для оптимизации использовать стохастический градиетный спуск."
   ]
  },
  {
   "cell_type": "code",
   "execution_count": 6,
   "metadata": {},
   "outputs": [
    {
     "name": "stdout",
     "output_type": "stream",
     "text": [
      "Collecting torchviz\n",
      "  Downloading torchviz-0.0.2.tar.gz (4.9 kB)\n",
      "Requirement already satisfied: torch in c:\\users\\-\\downloads\\anaconda\\lib\\site-packages (from torchviz) (1.13.0)\n",
      "Requirement already satisfied: graphviz in c:\\users\\-\\downloads\\anaconda\\lib\\site-packages (from torchviz) (0.20)\n",
      "Requirement already satisfied: typing-extensions in c:\\users\\-\\downloads\\anaconda\\lib\\site-packages (from torch->torchviz) (4.4.0)\n",
      "Building wheels for collected packages: torchviz\n",
      "  Building wheel for torchviz (setup.py): started\n",
      "  Building wheel for torchviz (setup.py): finished with status 'done'\n",
      "  Created wheel for torchviz: filename=torchviz-0.0.2-py3-none-any.whl size=4151 sha256=a4a5e7f5b1b0b66e7963c95bae5ed19621100de9034a375f7a8483759425ddb8\n",
      "  Stored in directory: c:\\users\\-\\appdata\\local\\pip\\cache\\wheels\\05\\7d\\1b\\8306781244e42ede119edbb053bdcda1c1f424ca226165a417\n",
      "Successfully built torchviz\n",
      "Installing collected packages: torchviz\n",
      "Successfully installed torchviz-0.0.2\n"
     ]
    }
   ],
   "source": [
    "!pip install torchviz"
   ]
  },
  {
   "cell_type": "code",
   "execution_count": 57,
   "metadata": {
    "id": "zynPAaOrRKTm"
   },
   "outputs": [],
   "source": [
    "from sklearn.datasets import make_regression\n",
    "import torch\n",
    "from torchviz import make_dot\n",
    "X, y, coef = make_regression(n_features=4, n_informative=4, coef=True, bias=0.5)\n",
    "X = torch.from_numpy(X).to(dtype=torch.float32)\n",
    "y = torch.from_numpy(y).to(dtype=torch.float32)"
   ]
  },
  {
   "cell_type": "code",
   "execution_count": 49,
   "metadata": {},
   "outputs": [
    {
     "name": "stdout",
     "output_type": "stream",
     "text": [
      "Epoch [10/100], Loss: 255424.6104\n",
      "Epoch [20/100], Loss: 255424.1465\n",
      "Epoch [30/100], Loss: 255423.6875\n",
      "Epoch [40/100], Loss: 255423.2139\n",
      "Epoch [50/100], Loss: 255422.7598\n",
      "Epoch [60/100], Loss: 255422.2969\n",
      "Epoch [70/100], Loss: 255421.8350\n",
      "Epoch [80/100], Loss: 255421.3652\n",
      "Epoch [90/100], Loss: 255420.9092\n",
      "Epoch [100/100], Loss: 255420.4326\n",
      "Weights: tensor([[-1.5098, -0.5437, -0.1380, -0.2190, -2.3515,  0.7835, -1.3310,  1.3200,\n",
      "          0.2227,  1.1662],\n",
      "        [-0.0431, -1.7126, -1.5871, -0.1491, -1.5550, -0.5039,  1.5458,  1.1797,\n",
      "          1.1473, -1.4122],\n",
      "        [ 1.2371,  0.0038, -0.3075,  0.7735,  0.1042, -1.1513, -0.6486,  0.8962,\n",
      "         -0.3078, -0.9115],\n",
      "        [-0.6358,  2.0872, -1.8527,  1.0035, -1.3172, -2.2376,  0.0060, -0.0275,\n",
      "          0.1598, -0.8406]])\n",
      "Bias: tensor([0.7623])\n"
     ]
    }
   ],
   "source": [
    "from sklearn.datasets import make_regression\n",
    "import torch\n",
    "from torch.autograd import Variable\n",
    "\n",
    "X, y, coef = make_regression(n_features=4, n_informative=4, coef=True, bias=0.5)\n",
    "X = torch.from_numpy(X).to(dtype=torch.float32)\n",
    "y = torch.from_numpy(y).to(dtype=torch.float32)\n",
    "\n",
    "class Neuron:\n",
    "    def __init__(self, input_size):\n",
    "        self.weights = Variable(torch.randn(4,input_size), requires_grad=True)\n",
    "        self.bias = Variable(torch.randn(1), requires_grad=True)\n",
    "    \n",
    "    def forward(self, input):\n",
    "        return torch.matmul(input, self.weights) + self.bias\n",
    "    \n",
    "class SquaredLoss:\n",
    "    def forward(self, input, target):\n",
    "        return torch.mean((input - target)**2)\n",
    "\n",
    "def train_neuron(neuron, optimizer, criterion, x_train, y_train, num_epochs, batch_size):\n",
    "    for epoch in range(num_epochs):\n",
    "        batch_epoch_loss_list = []\n",
    "        alpha = 0.1\n",
    "        epoch_loss = 0.0\n",
    "        batch_epoch_loss_list\n",
    "        for i in range(0, len(X), batch_size):\n",
    "            x_batch = X[i:i+batch_size]\n",
    "            y_batch = y[i:i+batch_size]\n",
    "            \n",
    "            batch_m = np.shape(x_batch)[0]\n",
    "\n",
    "            y_pred = neuron.forward(x_batch)[0]\n",
    "            error = (y_pred - y_batch)*x_batch.T/10000000\n",
    "\n",
    "            loss = criterion.forward(y_pred, y_batch)\n",
    "         \n",
    "            neuron.weights = neuron.weights - alpha * error\n",
    "            neuron.bias = neuron.bias - alpha * torch.sum(error)\n",
    "            y_pred = neuron.forward(x_batch)[0]\n",
    "            loss = criterion.forward(y_pred, y_batch)\n",
    "            epoch_loss += loss.item()\n",
    "        \n",
    "        if (epoch+1) % 10 == 0:\n",
    "            print('Epoch [{}/{}], Loss: {:.4f}'.format(epoch+1, num_epochs, epoch_loss))\n",
    "            \n",
    "neuron = Neuron(input_size=10)\n",
    "criterion = SquaredLoss()\n",
    "\n",
    "learning_rate = 0.01\n",
    "optimizer = torch.optim.SGD([neuron.weights, neuron.bias], lr=learning_rate)\n",
    "\n",
    "\n",
    "num_epochs = 100\n",
    "batch_size = 10\n",
    "train_neuron(neuron, optimizer, criterion, X, y, num_epochs, batch_size)\n",
    "\n",
    "\n",
    "print('Weights:', neuron.weights.data)\n",
    "print('Bias:', neuron.bias.data)\n"
   ]
  },
  {
   "cell_type": "markdown",
   "metadata": {
    "id": "wxWeyJw5lAqU"
   },
   "source": [
    "3.1.2 Воспользовавшись классами `Linear` и `MSELoss` из задачи 2.1.4 и 2.3.1, `ReLU` из 2.2.1 и автоматическим дифференцированием, которое предоставляет `torch`, решить задачу регрессии. Для оптимизации использовать пакетный градиентный спуск. Вывести график функции потерь в зависимости от номера эпохи. Вывести на одном графике исходные данные и предсказанные значения."
   ]
  },
  {
   "cell_type": "code",
   "execution_count": 61,
   "metadata": {
    "id": "bnlAt1NEQoat"
   },
   "outputs": [],
   "source": [
    "X = torch.linspace(0, 1, 100).view(-1, 1)\n",
    "y = torch.sin(2 * np.pi * X) + 0.1 * torch.rand(X.size()) "
   ]
  },
  {
   "cell_type": "code",
   "execution_count": 62,
   "metadata": {},
   "outputs": [
    {
     "name": "stdout",
     "output_type": "stream",
     "text": [
      "Epoch [10/100], Loss: 4.1575\n",
      "Epoch [20/100], Loss: 3.8780\n",
      "Epoch [30/100], Loss: 3.6797\n",
      "Epoch [40/100], Loss: 3.5373\n",
      "Epoch [50/100], Loss: 3.4328\n",
      "Epoch [60/100], Loss: 3.3540\n",
      "Epoch [70/100], Loss: 3.2940\n",
      "Epoch [80/100], Loss: 3.2454\n",
      "Epoch [90/100], Loss: 3.2036\n",
      "Epoch [100/100], Loss: 3.1704\n",
      "Weights: tensor([[-1.0400]])\n",
      "Bias: tensor([0.6964])\n"
     ]
    },
    {
     "data": {
      "image/png": "[encoded data removed]",
      "text/plain": [
       "<Figure size 432x288 with 1 Axes>"
      ]
     },
     "metadata": {
      "needs_background": "light"
     },
     "output_type": "display_data"
    },
    {
     "data": {
      "text/plain": [
       "<matplotlib.collections.PathCollection at 0x2485f2671f0>"
      ]
     },
     "execution_count": 62,
     "metadata": {},
     "output_type": "execute_result"
    },
    {
     "data": {
      "image/png": "[encoded data removed]",
      "text/plain": [
       "<Figure size 432x288 with 1 Axes>"
      ]
     },
     "metadata": {
      "needs_background": "light"
     },
     "output_type": "display_data"
    }
   ],
   "source": [
    "import torch\n",
    "from torch.autograd import Variable\n",
    "import matplotlib.pyplot as plt\n",
    "\n",
    "class Neuron:\n",
    "    def __init__(self, input_size):\n",
    "        self.weights = Variable(torch.randn(1,input_size), requires_grad=True)\n",
    "        self.bias = Variable(torch.randn(1), requires_grad=True)\n",
    "    \n",
    "    def forward(self, input):\n",
    "        return torch.matmul(input, self.weights) + self.bias\n",
    "    \n",
    "class SquaredLoss:\n",
    "    def forward(self, input, target):\n",
    "        return torch.mean((input - target)**2)\n",
    "    \n",
    "class ReLU:\n",
    "    def forward(self, inputt):\n",
    "        for i in range(len(inputt)):\n",
    "            for index, j in enumerate(inputt[i]):\n",
    "                if inputt[i][index] < 0:\n",
    "                    inputt[i][index] = 0\n",
    "        return inputt\n",
    "\n",
    "def train_neuron(neuron, optimizer, criterion, relu, x_train, y_train, num_epochs, batch_size):\n",
    "    epochs_loss = []\n",
    "    for epoch in range(num_epochs):\n",
    "        epoch_loss = 0.0\n",
    "        y_p = []\n",
    "        for i in range(0, len(X), batch_size):\n",
    "            x_batch = X[i:i+batch_size]\n",
    "            y_batch = y[i:i+batch_size]\n",
    "            \n",
    "            optimizer.zero_grad()\n",
    "            y_pred = neuron.forward(x_batch)\n",
    "            ReLU = relu.forward(y_pred)\n",
    "            loss = criterion.forward(ReLU, y_batch)\n",
    "            loss.backward()\n",
    "            optimizer.step()\n",
    "            \n",
    "            epoch_loss += loss.item()\n",
    "            y_p.append(y_pred)\n",
    "        if (epoch+1) % 10 == 0:\n",
    "            print('Epoch [{}/{}], Loss: {:.4f}'.format(epoch+1, num_epochs, epoch_loss))\n",
    "        epochs_loss.append(epoch_loss)\n",
    "\n",
    "    return (epochs_loss, y_p)\n",
    " \n",
    "            \n",
    "neuron = Neuron(input_size=1)\n",
    "criterion = SquaredLoss()\n",
    "relu = ReLU()\n",
    "learning_rate = 0.01\n",
    "optimizer = torch.optim.SGD([neuron.weights, neuron.bias], lr=learning_rate)\n",
    "\n",
    "num_epochs = 100\n",
    "batch_size = 10\n",
    "train = train_neuron(neuron, optimizer, criterion, relu, X, y, num_epochs, batch_size)\n",
    "epochs_loss = train[0]\n",
    "y_pred = train[1]\n",
    "print('Weights:', neuron.weights.data)\n",
    "print('Bias:', neuron.bias.data)\n",
    "\n",
    "plt.plot(epochs_loss)\n",
    "plt.show()\n",
    "y_pred  = [item for sublist in y_pred for item in sublist]\n",
    "y_pred = torch.Tensor(y_pred)\n",
    "plt.scatter(X,y)\n",
    "plt.scatter(X,y_pred)"
   ]
  },
  {
   "cell_type": "markdown",
   "metadata": {
    "id": "nifm0FVB2y5N"
   },
   "source": [
    "## 3.2 Алгоритмы оптимизации в `torch.optim`"
   ]
  },
  {
   "cell_type": "code",
   "execution_count": 4,
   "metadata": {
    "id": "u5PTTYou3xx8"
   },
   "outputs": [],
   "source": [
    "import torch.optim as optim"
   ]
  },
  {
   "cell_type": "markdown",
   "metadata": {
    "id": "0oBFfJpmcwfn"
   },
   "source": [
    "3.2.1 Решить задачу 3.1.1, воспользовавшись оптимизатором `optim.SDG` для применения стохастического градиентого спуска"
   ]
  },
  {
   "cell_type": "code",
   "execution_count": 53,
   "metadata": {},
   "outputs": [],
   "source": [
    "from sklearn.datasets import make_regression\n",
    "import torch\n",
    "from torchviz import make_dot\n",
    "X, y, coef = make_regression(n_features=4, n_informative=4, coef=True, bias=0.5)\n",
    "X = torch.from_numpy(X).to(dtype=torch.float32)\n",
    "y = torch.from_numpy(y).to(dtype=torch.float32)"
   ]
  },
  {
   "cell_type": "code",
   "execution_count": 55,
   "metadata": {},
   "outputs": [
    {
     "name": "stdout",
     "output_type": "stream",
     "text": [
      "Epoch [10/100], Loss: 198131.2285\n",
      "Epoch [20/100], Loss: 195641.4570\n",
      "Epoch [30/100], Loss: 194021.6875\n",
      "Epoch [40/100], Loss: 192960.1484\n",
      "Epoch [50/100], Loss: 192258.5801\n",
      "Epoch [60/100], Loss: 191790.7031\n",
      "Epoch [70/100], Loss: 191475.7207\n",
      "Epoch [80/100], Loss: 191261.5938\n",
      "Epoch [90/100], Loss: 191114.6143\n",
      "Epoch [100/100], Loss: 191012.7314\n",
      "Weights: tensor([[ 5.0531e+00,  2.0637e-02,  1.2797e+01,  1.0704e+01, -1.2599e+01,\n",
      "          6.7357e+00, -8.2740e+00, -7.4710e+00,  4.8327e+01,  3.7130e+01],\n",
      "        [-1.1730e+01,  7.5574e+00,  2.6817e+00,  2.1270e+00,  2.6042e+01,\n",
      "          1.6994e+01,  2.2879e+00,  2.5372e+00,  9.6713e+00,  3.0335e+01],\n",
      "        [ 1.7360e+01, -2.1832e+00, -6.3220e+00,  5.6947e+00,  1.7513e+00,\n",
      "         -6.8500e-01,  1.0477e+00,  2.7395e+00,  2.1656e+01,  1.6391e+01],\n",
      "        [ 3.3754e+00,  2.6455e+00, -9.0332e+00,  6.7778e+00, -1.0262e+00,\n",
      "         -1.2082e+00, -6.2822e+00,  5.2920e+00,  4.0034e-01, -1.3676e+01]])\n",
      "Bias: tensor([-2.1224])\n"
     ]
    }
   ],
   "source": [
    "import torch\n",
    "from torch.autograd import Variable\n",
    "\n",
    "class Neuron:\n",
    "    def __init__(self, input_size):\n",
    "        self.weights = Variable(torch.randn(4,input_size), requires_grad=True)\n",
    "        self.bias = Variable(torch.randn(1), requires_grad=True)\n",
    "    \n",
    "    def forward(self, input):\n",
    "        return torch.matmul(input, self.weights) + self.bias\n",
    "    \n",
    "class SquaredLoss:\n",
    "    def forward(self, input, target):\n",
    "        return torch.mean((input - target)**2)\n",
    "\n",
    "def train_neuron(neuron, optimizer, criterion, x_train, y_train, num_epochs, batch_size):\n",
    "    for epoch in range(num_epochs):\n",
    "        epoch_loss = 0.0\n",
    "        for i in range(0, len(X), batch_size):\n",
    "            x_batch = X[i:i+batch_size]\n",
    "            y_batch = y[i:i+batch_size]\n",
    "            \n",
    "            optimizer.zero_grad()\n",
    "            y_pred = neuron.forward(x_batch)\n",
    "            loss = criterion.forward(y_pred, y_batch)\n",
    "            loss.backward()\n",
    "            optimizer.step()\n",
    "            \n",
    "            epoch_loss += loss.item()\n",
    "        \n",
    "        if (epoch+1) % 10 == 0:\n",
    "            print('Epoch [{}/{}], Loss: {:.4f}'.format(epoch+1, num_epochs, epoch_loss))\n",
    "            \n",
    "neuron = Neuron(input_size=10)\n",
    "criterion = SquaredLoss()\n",
    "\n",
    "learning_rate = 0.01\n",
    "optimizer = torch.optim.SGD([neuron.weights, neuron.bias], lr=learning_rate)\n",
    "\n",
    "\n",
    "num_epochs = 100\n",
    "batch_size = 10\n",
    "train_neuron(neuron, optimizer, criterion, X, y, num_epochs, batch_size)\n",
    "\n",
    "\n",
    "print('Weights:', neuron.weights.data)\n",
    "print('Bias:', neuron.bias.data)\n"
   ]
  },
  {
   "cell_type": "markdown",
   "metadata": {
    "id": "1LFAacdy46bX"
   },
   "source": [
    "3.2.2 Решить задачу 3.1.2, воспользовавшись оптимизатором `optim.Adam` для применения пакетного градиентого спуска. Вывести график функции потерь в зависимости от номера эпохи. Вывести на одном графике исходные данные и предсказанные значения."
   ]
  },
  {
   "cell_type": "code",
   "execution_count": 57,
   "metadata": {},
   "outputs": [],
   "source": [
    "X = torch.linspace(0, 1, 100).view(-1, 1)\n",
    "y = torch.sin(2 * np.pi * X) + 0.1 * torch.rand(X.size()) "
   ]
  },
  {
   "cell_type": "code",
   "execution_count": 63,
   "metadata": {},
   "outputs": [
    {
     "name": "stdout",
     "output_type": "stream",
     "text": [
      "Epoch [10/100], Loss: 3.0994\n",
      "Epoch [20/100], Loss: 3.0567\n",
      "Epoch [30/100], Loss: 3.0550\n",
      "Epoch [40/100], Loss: 3.0565\n",
      "Epoch [50/100], Loss: 3.0580\n",
      "Epoch [60/100], Loss: 3.0582\n",
      "Epoch [70/100], Loss: 3.0595\n",
      "Epoch [80/100], Loss: 3.0593\n",
      "Epoch [90/100], Loss: 3.0604\n",
      "Epoch [100/100], Loss: 3.0607\n",
      "Weights: tensor([[-1.5553]])\n",
      "Bias: tensor([0.9650])\n"
     ]
    },
    {
     "data": {
      "image/png": "[encoded data removed]",
      "text/plain": [
       "<Figure size 432x288 with 1 Axes>"
      ]
     },
     "metadata": {
      "needs_background": "light"
     },
     "output_type": "display_data"
    },
    {
     "data": {
      "text/plain": [
       "<matplotlib.collections.PathCollection at 0x2485f114fd0>"
      ]
     },
     "execution_count": 63,
     "metadata": {},
     "output_type": "execute_result"
    },
    {
     "data": {
      "image/png": "[encoded data removed]",
      "text/plain": [
       "<Figure size 432x288 with 1 Axes>"
      ]
     },
     "metadata": {
      "needs_background": "light"
     },
     "output_type": "display_data"
    }
   ],
   "source": [
    "import torch\n",
    "from torch.autograd import Variable\n",
    "import matplotlib.pyplot as plt\n",
    "\n",
    "class Neuron:\n",
    "    def __init__(self, input_size):\n",
    "        self.weights = Variable(torch.randn(1,input_size), requires_grad=True)\n",
    "        self.bias = Variable(torch.randn(1), requires_grad=True)\n",
    "    \n",
    "    def forward(self, input):\n",
    "        return torch.matmul(input, self.weights) + self.bias\n",
    "    \n",
    "class SquaredLoss:\n",
    "    def forward(self, input, target):\n",
    "        return torch.mean((input - target)**2)\n",
    "    \n",
    "class ReLU:\n",
    "    def forward(self, inputt):\n",
    "        for i in range(len(inputt)):\n",
    "            for index, j in enumerate(inputt[i]):\n",
    "                if inputt[i][index] < 0:\n",
    "                    inputt[i][index] = 0\n",
    "        return inputt\n",
    "\n",
    "def train_neuron(neuron, optimizer, criterion, relu, x_train, y_train, num_epochs, batch_size):\n",
    "    epochs_loss = []\n",
    "    for epoch in range(num_epochs):\n",
    "        epoch_loss = 0.0\n",
    "        y_p = []\n",
    "        for i in range(0, len(X), batch_size):\n",
    "            x_batch = X[i:i+batch_size]\n",
    "            y_batch = y[i:i+batch_size]\n",
    "            \n",
    "            optimizer.zero_grad()\n",
    "            y_pred = neuron.forward(x_batch)\n",
    "            ReLU = relu.forward(y_pred)\n",
    "            loss = criterion.forward(ReLU, y_batch)\n",
    "            loss.backward()\n",
    "            optimizer.step()\n",
    "            \n",
    "            epoch_loss += loss.item()\n",
    "            y_p.append(y_pred)\n",
    "        if (epoch+1) % 10 == 0:\n",
    "            print('Epoch [{}/{}], Loss: {:.4f}'.format(epoch+1, num_epochs, epoch_loss))\n",
    "        epochs_loss.append(epoch_loss)\n",
    "\n",
    "    return (epochs_loss, y_p)\n",
    " \n",
    "            \n",
    "neuron = Neuron(input_size=1)\n",
    "criterion = SquaredLoss()\n",
    "relu = ReLU()\n",
    "learning_rate = 0.01\n",
    "\n",
    "optimizer = optim.Adam([neuron.weights, neuron.bias], lr=0.05)\n",
    "\n",
    "num_epochs = 100\n",
    "batch_size = 10\n",
    "train = train_neuron(neuron, optimizer, criterion, relu, X, y, num_epochs, batch_size)\n",
    "epochs_loss = train[0]\n",
    "y_pred = train[1]\n",
    "print('Weights:', neuron.weights.data)\n",
    "print('Bias:', neuron.bias.data)\n",
    "\n",
    "plt.plot(epochs_loss)\n",
    "plt.show()\n",
    "y_pred  = [item for sublist in y_pred for item in sublist]\n",
    "y_pred = torch.Tensor(y_pred)\n",
    "plt.scatter(X,y)\n",
    "plt.scatter(X,y_pred)\n",
    "\n"
   ]
  },
  {
   "cell_type": "markdown",
   "metadata": {
    "id": "n-qUqdALiN-G"
   },
   "source": [
    "## 3.3 Построение сетей при помощи `torch.nn`"
   ]
  },
  {
   "cell_type": "code",
   "execution_count": 3,
   "metadata": {
    "id": "Vxsck-1M6TAV"
   },
   "outputs": [],
   "source": [
    "import torch.nn as nn"
   ]
  },
  {
   "cell_type": "markdown",
   "metadata": {
    "id": "M0ICJtarif3_"
   },
   "source": [
    "3.3.1 Решить задачу регрессии, соблюдая следующие условия:\n",
    "\n",
    "1. Оформить нейронную сеть в виде класса - наследника `nn.Module`\n",
    "2. При создании сети использовать готовые блоки из `torch.nn`: слои, функции активации, функции потерь и т.д.\n",
    "3. Для оптимизации использовать любой алгоритм оптимизации из `torch.optim` "
   ]
  },
  {
   "cell_type": "code",
   "execution_count": 65,
   "metadata": {
    "id": "L1bvXHhO7aWs"
   },
   "outputs": [],
   "source": [
    "X = torch.linspace(0, 1, 100).view(-1, 1)\n",
    "y = torch.sin(2 * np.pi * X) + 0.1 * torch.rand(X.size()) "
   ]
  },
  {
   "cell_type": "code",
   "execution_count": 67,
   "metadata": {},
   "outputs": [
    {
     "name": "stdout",
     "output_type": "stream",
     "text": [
      "Epoch [100/1000], Loss: 0.1675\n",
      "Epoch [200/1000], Loss: 0.1650\n",
      "Epoch [300/1000], Loss: 0.1622\n",
      "Epoch [400/1000], Loss: 0.1584\n",
      "Epoch [500/1000], Loss: 0.1535\n",
      "Epoch [600/1000], Loss: 0.1493\n",
      "Epoch [700/1000], Loss: 0.1468\n",
      "Epoch [800/1000], Loss: 0.1456\n",
      "Epoch [900/1000], Loss: 0.1451\n",
      "Epoch [1000/1000], Loss: 0.1449\n"
     ]
    },
    {
     "data": {
      "image/png": "[encoded data removed]",
      "text/plain": [
       "<Figure size 432x288 with 1 Axes>"
      ]
     },
     "metadata": {
      "needs_background": "light"
     },
     "output_type": "display_data"
    }
   ],
   "source": [
    "import torch\n",
    "from torch import nn\n",
    "from torch import optim\n",
    "import numpy as np\n",
    "import matplotlib.pyplot as plt\n",
    "\n",
    "\n",
    "input_dim = 1\n",
    "output_dim = 1\n",
    "hidden_dim = 10\n",
    "\n",
    "class Net(nn.Module):\n",
    "    def __init__(self, input_dim, hidden_dim, output_dim):\n",
    "        super(Net, self).__init__()\n",
    "        self.fc1 = nn.Linear(input_dim, hidden_dim)\n",
    "        self.fc2 = nn.Linear(hidden_dim, output_dim)\n",
    "\n",
    "    def forward(self, x):\n",
    "        out = torch.relu(self.fc1(x))\n",
    "        out = self.fc2(out)\n",
    "        return out\n",
    "\n",
    "model = Net(input_dim, hidden_dim, output_dim)\n",
    "\n",
    "criterion = nn.MSELoss()\n",
    "optimizer = optim.Adam(model.parameters(), lr=0.01)\n",
    "\n",
    "num_epochs = 1000\n",
    "\n",
    "for epoch in range(num_epochs):\n",
    "    optimizer.zero_grad()\n",
    "\n",
    "    y_pred = model(X)\n",
    "    \n",
    "    loss = criterion(y_pred, y)\n",
    "\n",
    "    loss.backward()\n",
    "\n",
    "    optimizer.step()\n",
    "\n",
    "    if (epoch+1) % 100 == 0:\n",
    "        print('Epoch [{}/{}], Loss: {:.4f}'.format(epoch+1, num_epochs, loss.item()))\n",
    "\n",
    "\n",
    "model.eval()\n",
    "with torch.no_grad():\n",
    "    y_pred = model(X)\n",
    "\n",
    "\n",
    "plt.plot(X.numpy(), y.numpy(), 'ro', label='Исходные данные')\n",
    "plt.plot(X.numpy(), y_pred.numpy(), label='Предсказанные данные')\n",
    "plt.legend()\n",
    "plt.show()\n"
   ]
  },
  {
   "cell_type": "markdown",
   "metadata": {
    "id": "UPUW6fm5jbQd"
   },
   "source": [
    "3.3.2 Решить задачу регрессии, соблюдая следующие условия:\n",
    "\n",
    "1. Оформить нейронную сеть в виде объекта `nn.Sequential`\n",
    "2. При создании сети использовать готовые блоки из `torch.nn`: слои, функции активации, функции потерь и т.д.\n",
    "3. Для оптимизации использовать любой алгоритм оптимизации из `torch.optim` "
   ]
  },
  {
   "cell_type": "code",
   "execution_count": 68,
   "metadata": {
    "id": "BBwbAEd57a2r"
   },
   "outputs": [],
   "source": [
    "X = torch.linspace(0, 1, 100).view(-1, 1)\n",
    "y = torch.sin(2 * np.pi * X) + 0.1 * torch.rand(X.size()) "
   ]
  },
  {
   "cell_type": "code",
   "execution_count": 69,
   "metadata": {},
   "outputs": [
    {
     "name": "stdout",
     "output_type": "stream",
     "text": [
      "Epoch [100/1000], Loss: 0.1672\n",
      "Epoch [200/1000], Loss: 0.1081\n",
      "Epoch [300/1000], Loss: 0.0390\n",
      "Epoch [400/1000], Loss: 0.0086\n",
      "Epoch [500/1000], Loss: 0.0055\n",
      "Epoch [600/1000], Loss: 0.0054\n",
      "Epoch [700/1000], Loss: 0.0054\n",
      "Epoch [800/1000], Loss: 0.0053\n",
      "Epoch [900/1000], Loss: 0.0053\n",
      "Epoch [1000/1000], Loss: 0.0053\n"
     ]
    },
    {
     "data": {
      "image/png": "[encoded data removed]",
      "text/plain": [
       "<Figure size 432x288 with 1 Axes>"
      ]
     },
     "metadata": {
      "needs_background": "light"
     },
     "output_type": "display_data"
    }
   ],
   "source": [
    "import torch\n",
    "from torch import nn\n",
    "from torch import optim\n",
    "import numpy as np\n",
    "import matplotlib.pyplot as plt\n",
    "\n",
    "\n",
    "input_dim = 1\n",
    "output_dim = 1\n",
    "hidden_dim = 10\n",
    "\n",
    "\n",
    "model = nn.Sequential(\n",
    "    nn.Linear(input_dim, hidden_dim),\n",
    "    nn.ReLU(),\n",
    "    nn.Linear(hidden_dim, output_dim)\n",
    ")\n",
    "\n",
    "\n",
    "criterion = nn.MSELoss()\n",
    "optimizer = optim.Adam(model.parameters(), lr=0.01)\n",
    "\n",
    "\n",
    "num_epochs = 1000\n",
    "\n",
    "for epoch in range(num_epochs):\n",
    "    optimizer.zero_grad()\n",
    "\n",
    "    y_pred = model(X)\n",
    "\n",
    "    loss = criterion(y_pred, y)\n",
    "\n",
    "    loss.backward()\n",
    "\n",
    "    optimizer.step()\n",
    "\n",
    "    if (epoch+1) % 100 == 0:\n",
    "        print('Epoch [{}/{}], Loss: {:.4f}'.format(epoch+1, num_epochs, loss.item()))\n",
    "\n",
    "model.eval()\n",
    "with torch.no_grad():\n",
    "    y_pred = model(X)\n",
    "\n",
    "plt.plot(X.numpy(), y.numpy(), 'ro', label='Исходные данные')\n",
    "plt.plot(X.numpy(), y_pred.numpy(), label='Предсказанные данные')\n",
    "plt.legend()\n",
    "plt.show()\n"
   ]
  },
  {
   "cell_type": "markdown",
   "metadata": {
    "id": "jQj0oVeLj2A1"
   },
   "source": [
    "## 3.4. Datasets and dataloaders"
   ]
  },
  {
   "cell_type": "code",
   "execution_count": 2,
   "metadata": {
    "id": "c82tAkXMjajm"
   },
   "outputs": [],
   "source": [
    "from torch.utils.data import Dataset, DataLoader"
   ]
  },
  {
   "cell_type": "markdown",
   "metadata": {
    "id": "hoFPckkp8yhz"
   },
   "source": [
    "3.4.1 Создать датасет, поставляющий данные из задачи 3.1.2. \n",
    "\n",
    "Создать `DataLoader` на основе этого датасета и проверить работоспособность.\n",
    "\n",
    "Воспользовавшись результатами 3.3.1 (или 3.3.2) обучите модель, пользуясь мини-пакетным градиентным спуском с размером пакета (`batch_size`) = 10"
   ]
  },
  {
   "cell_type": "code",
   "execution_count": 54,
   "metadata": {},
   "outputs": [],
   "source": [
    "X = torch.linspace(0, 1, 100).view(-1, 1)\n",
    "y = torch.sin(2 * np.pi * X) + 0.1 * torch.rand(X.size()) "
   ]
  },
  {
   "cell_type": "code",
   "execution_count": 11,
   "metadata": {
    "id": "tlcwQzCFRvFc"
   },
   "outputs": [],
   "source": [
    "class SinDataset(Dataset):\n",
    "    def __init__(self):\n",
    "        self.x = torch.linspace(0, 1, 100).view(-1, 1)\n",
    "        self.y = torch.sin(2 * np.pi * X) + 0.1 * torch.rand(X.size()) \n",
    "        self.n_samples = self.x.shape[0] \n",
    "\n",
    "    def __len__(self):\n",
    "        return self.n_samples\n",
    "\n",
    "    def __getitem__(self, idx):\n",
    "        return self.x[idx], self.y[idx]"
   ]
  },
  {
   "cell_type": "code",
   "execution_count": 12,
   "metadata": {},
   "outputs": [
    {
     "name": "stdout",
     "output_type": "stream",
     "text": [
      "tensor([0.]) tensor([0.0779])\n"
     ]
    }
   ],
   "source": [
    "dataset = SinDataset()\n",
    "\n",
    "first_data = dataset[0]\n",
    "features, labels = first_data\n",
    "print(features, labels)"
   ]
  },
  {
   "cell_type": "code",
   "execution_count": 20,
   "metadata": {},
   "outputs": [
    {
     "name": "stdout",
     "output_type": "stream",
     "text": [
      "100 10\n",
      "tensor([[0.0000],\n",
      "        [0.0101],\n",
      "        [0.0202],\n",
      "        [0.0303],\n",
      "        [0.0404],\n",
      "        [0.0505],\n",
      "        [0.0606],\n",
      "        [0.0707],\n",
      "        [0.0808],\n",
      "        [0.0909]]) tensor([[0.0779],\n",
      "        [0.0861],\n",
      "        [0.1699],\n",
      "        [0.2638],\n",
      "        [0.3086],\n",
      "        [0.3236],\n",
      "        [0.4341],\n",
      "        [0.5279],\n",
      "        [0.5312],\n",
      "        [0.5517]])\n",
      "tensor([[0.1010],\n",
      "        [0.1111],\n",
      "        [0.1212],\n",
      "        [0.1313],\n",
      "        [0.1414],\n",
      "        [0.1515],\n",
      "        [0.1616],\n",
      "        [0.1717],\n",
      "        [0.1818],\n",
      "        [0.1919]]) tensor([[0.6518],\n",
      "        [0.7117],\n",
      "        [0.7390],\n",
      "        [0.7410],\n",
      "        [0.8708],\n",
      "        [0.8218],\n",
      "        [0.8789],\n",
      "        [0.9350],\n",
      "        [0.9367],\n",
      "        [0.9942]])\n",
      "tensor([[0.2020],\n",
      "        [0.2121],\n",
      "        [0.2222],\n",
      "        [0.2323],\n",
      "        [0.2424],\n",
      "        [0.2525],\n",
      "        [0.2626],\n",
      "        [0.2727],\n",
      "        [0.2828],\n",
      "        [0.2929]]) tensor([[1.0048],\n",
      "        [1.0683],\n",
      "        [1.0249],\n",
      "        [0.9942],\n",
      "        [1.0667],\n",
      "        [1.0081],\n",
      "        [1.0006],\n",
      "        [1.0331],\n",
      "        [1.0493],\n",
      "        [1.0309]])\n",
      "tensor([[0.3030],\n",
      "        [0.3131],\n",
      "        [0.3232],\n",
      "        [0.3333],\n",
      "        [0.3434],\n",
      "        [0.3535],\n",
      "        [0.3636],\n",
      "        [0.3737],\n",
      "        [0.3838],\n",
      "        [0.3939]]) tensor([[0.9868],\n",
      "        [0.9513],\n",
      "        [0.9879],\n",
      "        [0.9501],\n",
      "        [0.8731],\n",
      "        [0.8692],\n",
      "        [0.8197],\n",
      "        [0.7670],\n",
      "        [0.6881],\n",
      "        [0.6888]])\n",
      "tensor([[0.4040],\n",
      "        [0.4141],\n",
      "        [0.4242],\n",
      "        [0.4343],\n",
      "        [0.4444],\n",
      "        [0.4545],\n",
      "        [0.4646],\n",
      "        [0.4747],\n",
      "        [0.4848],\n",
      "        [0.4949]]) tensor([[0.5753],\n",
      "        [0.6081],\n",
      "        [0.4726],\n",
      "        [0.4687],\n",
      "        [0.3942],\n",
      "        [0.3256],\n",
      "        [0.2712],\n",
      "        [0.2570],\n",
      "        [0.1844],\n",
      "        [0.0533]])\n",
      "tensor([[0.5051],\n",
      "        [0.5152],\n",
      "        [0.5253],\n",
      "        [0.5354],\n",
      "        [0.5455],\n",
      "        [0.5556],\n",
      "        [0.5657],\n",
      "        [0.5758],\n",
      "        [0.5859],\n",
      "        [0.5960]]) tensor([[ 0.0325],\n",
      "        [-0.0910],\n",
      "        [-0.0986],\n",
      "        [-0.1791],\n",
      "        [-0.1858],\n",
      "        [-0.2465],\n",
      "        [-0.3453],\n",
      "        [-0.4484],\n",
      "        [-0.4957],\n",
      "        [-0.4836]])\n",
      "tensor([[0.6061],\n",
      "        [0.6162],\n",
      "        [0.6263],\n",
      "        [0.6364],\n",
      "        [0.6465],\n",
      "        [0.6566],\n",
      "        [0.6667],\n",
      "        [0.6768],\n",
      "        [0.6869],\n",
      "        [0.6970]]) tensor([[-0.5381],\n",
      "        [-0.6551],\n",
      "        [-0.6190],\n",
      "        [-0.7374],\n",
      "        [-0.7074],\n",
      "        [-0.7578],\n",
      "        [-0.8032],\n",
      "        [-0.8601],\n",
      "        [-0.8656],\n",
      "        [-0.8577]])\n",
      "tensor([[0.7071],\n",
      "        [0.7172],\n",
      "        [0.7273],\n",
      "        [0.7374],\n",
      "        [0.7475],\n",
      "        [0.7576],\n",
      "        [0.7677],\n",
      "        [0.7778],\n",
      "        [0.7879],\n",
      "        [0.7980]]) tensor([[-0.9276],\n",
      "        [-0.9760],\n",
      "        [-0.9609],\n",
      "        [-0.9265],\n",
      "        [-0.9763],\n",
      "        [-0.9360],\n",
      "        [-0.9562],\n",
      "        [-0.9266],\n",
      "        [-0.9546],\n",
      "        [-0.9508]])\n",
      "tensor([[0.8081],\n",
      "        [0.8182],\n",
      "        [0.8283],\n",
      "        [0.8384],\n",
      "        [0.8485],\n",
      "        [0.8586],\n",
      "        [0.8687],\n",
      "        [0.8788],\n",
      "        [0.8889],\n",
      "        [0.8990]]) tensor([[-0.9312],\n",
      "        [-0.8222],\n",
      "        [-0.7885],\n",
      "        [-0.8095],\n",
      "        [-0.7662],\n",
      "        [-0.7565],\n",
      "        [-0.7189],\n",
      "        [-0.6829],\n",
      "        [-0.6323],\n",
      "        [-0.5402]])\n",
      "tensor([[0.9091],\n",
      "        [0.9192],\n",
      "        [0.9293],\n",
      "        [0.9394],\n",
      "        [0.9495],\n",
      "        [0.9596],\n",
      "        [0.9697],\n",
      "        [0.9798],\n",
      "        [0.9899],\n",
      "        [1.0000]]) tensor([[-0.4900],\n",
      "        [-0.4336],\n",
      "        [-0.3574],\n",
      "        [-0.3477],\n",
      "        [-0.2833],\n",
      "        [-0.1701],\n",
      "        [-0.1217],\n",
      "        [-0.0581],\n",
      "        [-0.0489],\n",
      "        [ 0.0463]])\n"
     ]
    }
   ],
   "source": [
    "dataloader = DataLoader(dataset=dataset, batch_size=10)\n",
    "total_samples = len(dataset)\n",
    "n_iterations = total_samples//10\n",
    "print(total_samples, n_iterations)\n",
    "inputt = []\n",
    "for i, (targets, labels) in enumerate(dataloader):\n",
    "    inputt.append(targets)\n",
    "    inputt.append(labels)\n",
    "    print(targets, labels)"
   ]
  },
  {
   "cell_type": "code",
   "execution_count": 38,
   "metadata": {},
   "outputs": [
    {
     "name": "stdout",
     "output_type": "stream",
     "text": [
      "Epoch [100/1000], Loss: 0.1606\n",
      "Epoch [200/1000], Loss: 0.1524\n",
      "Epoch [300/1000], Loss: 0.1437\n",
      "Epoch [400/1000], Loss: 0.1133\n",
      "Epoch [500/1000], Loss: 0.0675\n",
      "Epoch [600/1000], Loss: 0.0253\n",
      "Epoch [700/1000], Loss: 0.0101\n",
      "Epoch [800/1000], Loss: 0.0065\n",
      "Epoch [900/1000], Loss: 0.0052\n",
      "Epoch [1000/1000], Loss: 0.0046\n"
     ]
    },
    {
     "data": {
      "image/png": "[encoded data removed]",
      "text/plain": [
       "<Figure size 432x288 with 1 Axes>"
      ]
     },
     "metadata": {
      "needs_background": "light"
     },
     "output_type": "display_data"
    }
   ],
   "source": [
    "import torch\n",
    "from torch import nn\n",
    "from torch import optim\n",
    "import numpy as np\n",
    "import matplotlib.pyplot as plt\n",
    "\n",
    "\n",
    "input_dim = 1\n",
    "output_dim = 1\n",
    "hidden_dim = 10\n",
    "\n",
    "\n",
    "model = nn.Sequential(\n",
    "    nn.Linear(input_dim, hidden_dim),\n",
    "    nn.ReLU(),\n",
    "    nn.Linear(hidden_dim, output_dim)\n",
    ")\n",
    "\n",
    "\n",
    "criterion = nn.MSELoss()\n",
    "optimizer = optim.Adam(model.parameters(), lr=0.01)\n",
    "\n",
    "\n",
    "num_epochs = 1000\n",
    "\n",
    "for epoch in range(num_epochs):\n",
    "    optimizer.zero_grad()\n",
    "\n",
    "    y_pred = model(X)\n",
    "\n",
    "    loss = criterion(y_pred, y)\n",
    "\n",
    "    loss.backward()\n",
    "\n",
    "    optimizer.step()\n",
    "\n",
    "    if (epoch+1) % 100 == 0:\n",
    "        print('Epoch [{}/{}], Loss: {:.4f}'.format(epoch+1, num_epochs, loss.item()))\n",
    "\n",
    "model.eval()\n",
    "with torch.no_grad():\n",
    "    y_pred = model(X)\n",
    "\n",
    "plt.plot(X.numpy(), y.numpy(), 'b', label='Исходные данные')\n",
    "plt.plot(X.numpy(), y_pred.numpy(),'r', label='Предсказанные данные')\n",
    "plt.legend()\n",
    "plt.show()\n"
   ]
  },
  {
   "cell_type": "markdown",
   "metadata": {
    "id": "bxz02a3k_VQL"
   },
   "source": [
    "3.4.2 Предсказание цен алмазов\n",
    "\n",
    "3.4.2.1 Создайте датасет на основе файла diamonds.csv. \n",
    "\n",
    "1. Удалите все нечисловые столбцы\n",
    "2. Целевой столбец (`y`) - `price`\n",
    "3. Преобразуйте данные в тензоры корректных размеров\n",
    "\n",
    "3.4.2.2 Разбейте датасет на обучающий и тестовый датасет при помощи `torch.utils.data.random_split`.\n",
    "\n",
    "3.4.2.3 Обучите модель для предсказания цен при помощи мини-пакетного градиентного спуска (`batch_size = 256`). \n",
    "\n",
    "3.4.2.4 Выведите график функции потерь в зависимости от номера эпохи (значение потерь для эпохи рассчитывайте как среднее значение ошибок на каждом батче). Проверьте качество модели на тестовой выборке. \n"
   ]
  },
  {
   "cell_type": "code",
   "execution_count": 201,
   "metadata": {},
   "outputs": [],
   "source": [
    "import pandas as pd\n",
    "import torch\n",
    "import torch.nn as nn\n",
    "import torch.optim as optim\n",
    "from torch.utils.data import TensorDataset, DataLoader, random_split"
   ]
  },
  {
   "cell_type": "code",
   "execution_count": 202,
   "metadata": {},
   "outputs": [
    {
     "data": {
      "text/html": [
       "<div>\n",
       "<style scoped>\n",
       "    .dataframe tbody tr th:only-of-type {\n",
       "        vertical-align: middle;\n",
       "    }\n",
       "\n",
       "    .dataframe tbody tr th {\n",
       "        vertical-align: top;\n",
       "    }\n",
       "\n",
       "    .dataframe thead th {\n",
       "        text-align: right;\n",
       "    }\n",
       "</style>\n",
       "<table border=\"1\" class=\"dataframe\">\n",
       "  <thead>\n",
       "    <tr style=\"text-align: right;\">\n",
       "      <th></th>\n",
       "      <th>Unnamed: 0</th>\n",
       "      <th>carat</th>\n",
       "      <th>cut</th>\n",
       "      <th>color</th>\n",
       "      <th>clarity</th>\n",
       "      <th>depth</th>\n",
       "      <th>table</th>\n",
       "      <th>price</th>\n",
       "      <th>x</th>\n",
       "      <th>y</th>\n",
       "      <th>z</th>\n",
       "    </tr>\n",
       "  </thead>\n",
       "  <tbody>\n",
       "    <tr>\n",
       "      <th>0</th>\n",
       "      <td>1</td>\n",
       "      <td>0.23</td>\n",
       "      <td>Ideal</td>\n",
       "      <td>E</td>\n",
       "      <td>SI2</td>\n",
       "      <td>61.5</td>\n",
       "      <td>55.0</td>\n",
       "      <td>326</td>\n",
       "      <td>3.95</td>\n",
       "      <td>3.98</td>\n",
       "      <td>2.43</td>\n",
       "    </tr>\n",
       "    <tr>\n",
       "      <th>1</th>\n",
       "      <td>2</td>\n",
       "      <td>0.21</td>\n",
       "      <td>Premium</td>\n",
       "      <td>E</td>\n",
       "      <td>SI1</td>\n",
       "      <td>59.8</td>\n",
       "      <td>61.0</td>\n",
       "      <td>326</td>\n",
       "      <td>3.89</td>\n",
       "      <td>3.84</td>\n",
       "      <td>2.31</td>\n",
       "    </tr>\n",
       "    <tr>\n",
       "      <th>2</th>\n",
       "      <td>3</td>\n",
       "      <td>0.23</td>\n",
       "      <td>Good</td>\n",
       "      <td>E</td>\n",
       "      <td>VS1</td>\n",
       "      <td>56.9</td>\n",
       "      <td>65.0</td>\n",
       "      <td>327</td>\n",
       "      <td>4.05</td>\n",
       "      <td>4.07</td>\n",
       "      <td>2.31</td>\n",
       "    </tr>\n",
       "    <tr>\n",
       "      <th>3</th>\n",
       "      <td>4</td>\n",
       "      <td>0.29</td>\n",
       "      <td>Premium</td>\n",
       "      <td>I</td>\n",
       "      <td>VS2</td>\n",
       "      <td>62.4</td>\n",
       "      <td>58.0</td>\n",
       "      <td>334</td>\n",
       "      <td>4.20</td>\n",
       "      <td>4.23</td>\n",
       "      <td>2.63</td>\n",
       "    </tr>\n",
       "    <tr>\n",
       "      <th>4</th>\n",
       "      <td>5</td>\n",
       "      <td>0.31</td>\n",
       "      <td>Good</td>\n",
       "      <td>J</td>\n",
       "      <td>SI2</td>\n",
       "      <td>63.3</td>\n",
       "      <td>58.0</td>\n",
       "      <td>335</td>\n",
       "      <td>4.34</td>\n",
       "      <td>4.35</td>\n",
       "      <td>2.75</td>\n",
       "    </tr>\n",
       "    <tr>\n",
       "      <th>...</th>\n",
       "      <td>...</td>\n",
       "      <td>...</td>\n",
       "      <td>...</td>\n",
       "      <td>...</td>\n",
       "      <td>...</td>\n",
       "      <td>...</td>\n",
       "      <td>...</td>\n",
       "      <td>...</td>\n",
       "      <td>...</td>\n",
       "      <td>...</td>\n",
       "      <td>...</td>\n",
       "    </tr>\n",
       "    <tr>\n",
       "      <th>53935</th>\n",
       "      <td>53936</td>\n",
       "      <td>0.72</td>\n",
       "      <td>Ideal</td>\n",
       "      <td>D</td>\n",
       "      <td>SI1</td>\n",
       "      <td>60.8</td>\n",
       "      <td>57.0</td>\n",
       "      <td>2757</td>\n",
       "      <td>5.75</td>\n",
       "      <td>5.76</td>\n",
       "      <td>3.50</td>\n",
       "    </tr>\n",
       "    <tr>\n",
       "      <th>53936</th>\n",
       "      <td>53937</td>\n",
       "      <td>0.72</td>\n",
       "      <td>Good</td>\n",
       "      <td>D</td>\n",
       "      <td>SI1</td>\n",
       "      <td>63.1</td>\n",
       "      <td>55.0</td>\n",
       "      <td>2757</td>\n",
       "      <td>5.69</td>\n",
       "      <td>5.75</td>\n",
       "      <td>3.61</td>\n",
       "    </tr>\n",
       "    <tr>\n",
       "      <th>53937</th>\n",
       "      <td>53938</td>\n",
       "      <td>0.70</td>\n",
       "      <td>Very Good</td>\n",
       "      <td>D</td>\n",
       "      <td>SI1</td>\n",
       "      <td>62.8</td>\n",
       "      <td>60.0</td>\n",
       "      <td>2757</td>\n",
       "      <td>5.66</td>\n",
       "      <td>5.68</td>\n",
       "      <td>3.56</td>\n",
       "    </tr>\n",
       "    <tr>\n",
       "      <th>53938</th>\n",
       "      <td>53939</td>\n",
       "      <td>0.86</td>\n",
       "      <td>Premium</td>\n",
       "      <td>H</td>\n",
       "      <td>SI2</td>\n",
       "      <td>61.0</td>\n",
       "      <td>58.0</td>\n",
       "      <td>2757</td>\n",
       "      <td>6.15</td>\n",
       "      <td>6.12</td>\n",
       "      <td>3.74</td>\n",
       "    </tr>\n",
       "    <tr>\n",
       "      <th>53939</th>\n",
       "      <td>53940</td>\n",
       "      <td>0.75</td>\n",
       "      <td>Ideal</td>\n",
       "      <td>D</td>\n",
       "      <td>SI2</td>\n",
       "      <td>62.2</td>\n",
       "      <td>55.0</td>\n",
       "      <td>2757</td>\n",
       "      <td>5.83</td>\n",
       "      <td>5.87</td>\n",
       "      <td>3.64</td>\n",
       "    </tr>\n",
       "  </tbody>\n",
       "</table>\n",
       "<p>53940 rows × 11 columns</p>\n",
       "</div>"
      ],
      "text/plain": [
       "       Unnamed: 0  carat        cut color clarity  depth  table  price     x  \\\n",
       "0               1   0.23      Ideal     E     SI2   61.5   55.0    326  3.95   \n",
       "1               2   0.21    Premium     E     SI1   59.8   61.0    326  3.89   \n",
       "2               3   0.23       Good     E     VS1   56.9   65.0    327  4.05   \n",
       "3               4   0.29    Premium     I     VS2   62.4   58.0    334  4.20   \n",
       "4               5   0.31       Good     J     SI2   63.3   58.0    335  4.34   \n",
       "...           ...    ...        ...   ...     ...    ...    ...    ...   ...   \n",
       "53935       53936   0.72      Ideal     D     SI1   60.8   57.0   2757  5.75   \n",
       "53936       53937   0.72       Good     D     SI1   63.1   55.0   2757  5.69   \n",
       "53937       53938   0.70  Very Good     D     SI1   62.8   60.0   2757  5.66   \n",
       "53938       53939   0.86    Premium     H     SI2   61.0   58.0   2757  6.15   \n",
       "53939       53940   0.75      Ideal     D     SI2   62.2   55.0   2757  5.83   \n",
       "\n",
       "          y     z  \n",
       "0      3.98  2.43  \n",
       "1      3.84  2.31  \n",
       "2      4.07  2.31  \n",
       "3      4.23  2.63  \n",
       "4      4.35  2.75  \n",
       "...     ...   ...  \n",
       "53935  5.76  3.50  \n",
       "53936  5.75  3.61  \n",
       "53937  5.68  3.56  \n",
       "53938  6.12  3.74  \n",
       "53939  5.87  3.64  \n",
       "\n",
       "[53940 rows x 11 columns]"
      ]
     },
     "execution_count": 202,
     "metadata": {},
     "output_type": "execute_result"
    }
   ],
   "source": [
    "df = pd.read_csv('diamonds.csv')\n",
    "df"
   ]
  },
  {
   "cell_type": "code",
   "execution_count": 41,
   "metadata": {},
   "outputs": [
    {
     "data": {
      "text/html": [
       "<div>\n",
       "<style scoped>\n",
       "    .dataframe tbody tr th:only-of-type {\n",
       "        vertical-align: middle;\n",
       "    }\n",
       "\n",
       "    .dataframe tbody tr th {\n",
       "        vertical-align: top;\n",
       "    }\n",
       "\n",
       "    .dataframe thead th {\n",
       "        text-align: right;\n",
       "    }\n",
       "</style>\n",
       "<table border=\"1\" class=\"dataframe\">\n",
       "  <thead>\n",
       "    <tr style=\"text-align: right;\">\n",
       "      <th></th>\n",
       "      <th>Unnamed: 0</th>\n",
       "      <th>carat</th>\n",
       "      <th>depth</th>\n",
       "      <th>table</th>\n",
       "      <th>price</th>\n",
       "      <th>x</th>\n",
       "      <th>y</th>\n",
       "      <th>z</th>\n",
       "    </tr>\n",
       "  </thead>\n",
       "  <tbody>\n",
       "    <tr>\n",
       "      <th>0</th>\n",
       "      <td>1</td>\n",
       "      <td>0.23</td>\n",
       "      <td>61.5</td>\n",
       "      <td>55.0</td>\n",
       "      <td>326</td>\n",
       "      <td>3.95</td>\n",
       "      <td>3.98</td>\n",
       "      <td>2.43</td>\n",
       "    </tr>\n",
       "    <tr>\n",
       "      <th>1</th>\n",
       "      <td>2</td>\n",
       "      <td>0.21</td>\n",
       "      <td>59.8</td>\n",
       "      <td>61.0</td>\n",
       "      <td>326</td>\n",
       "      <td>3.89</td>\n",
       "      <td>3.84</td>\n",
       "      <td>2.31</td>\n",
       "    </tr>\n",
       "    <tr>\n",
       "      <th>2</th>\n",
       "      <td>3</td>\n",
       "      <td>0.23</td>\n",
       "      <td>56.9</td>\n",
       "      <td>65.0</td>\n",
       "      <td>327</td>\n",
       "      <td>4.05</td>\n",
       "      <td>4.07</td>\n",
       "      <td>2.31</td>\n",
       "    </tr>\n",
       "    <tr>\n",
       "      <th>3</th>\n",
       "      <td>4</td>\n",
       "      <td>0.29</td>\n",
       "      <td>62.4</td>\n",
       "      <td>58.0</td>\n",
       "      <td>334</td>\n",
       "      <td>4.20</td>\n",
       "      <td>4.23</td>\n",
       "      <td>2.63</td>\n",
       "    </tr>\n",
       "    <tr>\n",
       "      <th>4</th>\n",
       "      <td>5</td>\n",
       "      <td>0.31</td>\n",
       "      <td>63.3</td>\n",
       "      <td>58.0</td>\n",
       "      <td>335</td>\n",
       "      <td>4.34</td>\n",
       "      <td>4.35</td>\n",
       "      <td>2.75</td>\n",
       "    </tr>\n",
       "    <tr>\n",
       "      <th>...</th>\n",
       "      <td>...</td>\n",
       "      <td>...</td>\n",
       "      <td>...</td>\n",
       "      <td>...</td>\n",
       "      <td>...</td>\n",
       "      <td>...</td>\n",
       "      <td>...</td>\n",
       "      <td>...</td>\n",
       "    </tr>\n",
       "    <tr>\n",
       "      <th>53935</th>\n",
       "      <td>53936</td>\n",
       "      <td>0.72</td>\n",
       "      <td>60.8</td>\n",
       "      <td>57.0</td>\n",
       "      <td>2757</td>\n",
       "      <td>5.75</td>\n",
       "      <td>5.76</td>\n",
       "      <td>3.50</td>\n",
       "    </tr>\n",
       "    <tr>\n",
       "      <th>53936</th>\n",
       "      <td>53937</td>\n",
       "      <td>0.72</td>\n",
       "      <td>63.1</td>\n",
       "      <td>55.0</td>\n",
       "      <td>2757</td>\n",
       "      <td>5.69</td>\n",
       "      <td>5.75</td>\n",
       "      <td>3.61</td>\n",
       "    </tr>\n",
       "    <tr>\n",
       "      <th>53937</th>\n",
       "      <td>53938</td>\n",
       "      <td>0.70</td>\n",
       "      <td>62.8</td>\n",
       "      <td>60.0</td>\n",
       "      <td>2757</td>\n",
       "      <td>5.66</td>\n",
       "      <td>5.68</td>\n",
       "      <td>3.56</td>\n",
       "    </tr>\n",
       "    <tr>\n",
       "      <th>53938</th>\n",
       "      <td>53939</td>\n",
       "      <td>0.86</td>\n",
       "      <td>61.0</td>\n",
       "      <td>58.0</td>\n",
       "      <td>2757</td>\n",
       "      <td>6.15</td>\n",
       "      <td>6.12</td>\n",
       "      <td>3.74</td>\n",
       "    </tr>\n",
       "    <tr>\n",
       "      <th>53939</th>\n",
       "      <td>53940</td>\n",
       "      <td>0.75</td>\n",
       "      <td>62.2</td>\n",
       "      <td>55.0</td>\n",
       "      <td>2757</td>\n",
       "      <td>5.83</td>\n",
       "      <td>5.87</td>\n",
       "      <td>3.64</td>\n",
       "    </tr>\n",
       "  </tbody>\n",
       "</table>\n",
       "<p>53940 rows × 8 columns</p>\n",
       "</div>"
      ],
      "text/plain": [
       "       Unnamed: 0  carat  depth  table  price     x     y     z\n",
       "0               1   0.23   61.5   55.0    326  3.95  3.98  2.43\n",
       "1               2   0.21   59.8   61.0    326  3.89  3.84  2.31\n",
       "2               3   0.23   56.9   65.0    327  4.05  4.07  2.31\n",
       "3               4   0.29   62.4   58.0    334  4.20  4.23  2.63\n",
       "4               5   0.31   63.3   58.0    335  4.34  4.35  2.75\n",
       "...           ...    ...    ...    ...    ...   ...   ...   ...\n",
       "53935       53936   0.72   60.8   57.0   2757  5.75  5.76  3.50\n",
       "53936       53937   0.72   63.1   55.0   2757  5.69  5.75  3.61\n",
       "53937       53938   0.70   62.8   60.0   2757  5.66  5.68  3.56\n",
       "53938       53939   0.86   61.0   58.0   2757  6.15  6.12  3.74\n",
       "53939       53940   0.75   62.2   55.0   2757  5.83  5.87  3.64\n",
       "\n",
       "[53940 rows x 8 columns]"
      ]
     },
     "execution_count": 41,
     "metadata": {},
     "output_type": "execute_result"
    }
   ],
   "source": [
    "numerics = ['int16', 'int32', 'int64', 'float16', 'float32', 'float64']\n",
    "\n",
    "newdf = df.select_dtypes(include=numerics)\n",
    "newdf"
   ]
  },
  {
   "cell_type": "code",
   "execution_count": 163,
   "metadata": {},
   "outputs": [],
   "source": [
    "X = newdf.drop(columns=['price'])\n",
    "y = newdf['price']"
   ]
  },
  {
   "cell_type": "code",
   "execution_count": 164,
   "metadata": {},
   "outputs": [],
   "source": [
    "X = torch.tensor(X.values, dtype=torch.float32)\n",
    "y = torch.tensor(y.values, dtype=torch.float32)"
   ]
  },
  {
   "cell_type": "code",
   "execution_count": 165,
   "metadata": {},
   "outputs": [],
   "source": [
    "train_size = int(len(df) * 0.6)\n",
    "test_size = len(df) - train_size\n",
    "\n",
    "train_dataset = TensorDataset(X[:train_size], y[:train_size])\n",
    "test_dataset = TensorDataset(X[train_size:], y[train_size:])\n"
   ]
  },
  {
   "cell_type": "code",
   "execution_count": 180,
   "metadata": {},
   "outputs": [
    {
     "name": "stdout",
     "output_type": "stream",
     "text": [
      "Epoch 1/10 | Train Loss: 35587.8383 | Test Loss: 441123.0089\n",
      "Epoch 2/10 | Train Loss: 35233.6133 | Test Loss: 383576.9841\n",
      "Epoch 3/10 | Train Loss: 34882.3608 | Test Loss: 330762.8821\n",
      "Epoch 4/10 | Train Loss: 34532.4017 | Test Loss: 283113.4587\n",
      "Epoch 5/10 | Train Loss: 34184.4692 | Test Loss: 240760.4836\n",
      "Epoch 6/10 | Train Loss: 33838.9242 | Test Loss: 203747.2724\n",
      "Epoch 7/10 | Train Loss: 33495.9883 | Test Loss: 172079.2494\n",
      "Epoch 8/10 | Train Loss: 33155.8083 | Test Loss: 145741.7609\n",
      "Epoch 9/10 | Train Loss: 32818.4842 | Test Loss: 124707.9938\n",
      "Epoch 10/10 | Train Loss: 32484.0892 | Test Loss: 108943.2109\n"
     ]
    }
   ],
   "source": [
    "batch_size = 256\n",
    "\n",
    "train_loader = DataLoader(train_dataset, batch_size=batch_size)\n",
    "test_loader = DataLoader(test_dataset, batch_size=batch_size)\n",
    "\n",
    "\n",
    "model = nn.Linear(X.shape[1], 1)\n",
    "\n",
    "criterion = nn.MSELoss()\n",
    "optimizer = optim.Adam(model.parameters(), lr=learning_rate, weight_decay=10000)\n",
    "\n",
    "\n",
    "train_losses = []\n",
    "test_losses = []\n",
    "\n",
    "for epoch in range(10):\n",
    "    train_loss = 0.0\n",
    "    test_loss = 0.0\n",
    "    \n",
    "    model.train()\n",
    "    for batch_X, batch_y in train_loader:\n",
    "        optimizer.zero_grad()\n",
    "        outputs = model(batch_X)\n",
    "        loss = criterion(outputs, batch_y)\n",
    "        loss.backward()\n",
    "        optimizer.step()\n",
    "        train_loss += loss.item() \n",
    "    \n",
    "    model.eval()\n",
    "    with torch.no_grad():\n",
    "        for batch_X, batch_y in test_loader:\n",
    "            outputs = model(batch_X)\n",
    "            loss = criterion(outputs, batch_y)\n",
    "            test_loss += loss.item() \n",
    "    \n",
    "    train_loss /= len(train_loader.dataset)\n",
    "    test_loss /= len(test_loader.dataset)\n",
    "    train_losses.append(train_loss)\n",
    "    test_losses.append(test_loss)\n",
    "    \n",
    "\n",
    "    print(f'Epoch {epoch + 1}/{10} | Train Loss: {train_loss:.4f} | Test Loss: {test_loss:.4f}')\n"
   ]
  },
  {
   "cell_type": "code",
   "execution_count": 181,
   "metadata": {
    "scrolled": true
   },
   "outputs": [
    {
     "data": {
      "image/png": "[encoded data removed]",
      "text/plain": [
       "<Figure size 432x288 with 1 Axes>"
      ]
     },
     "metadata": {
      "needs_background": "light"
     },
     "output_type": "display_data"
    }
   ],
   "source": [
    "plt.plot(train_losses, label='Train Loss')\n",
    "plt.plot(test_losses, label='Test Loss')\n",
    "plt.legend()\n",
    "plt.xlabel('Epoch')\n",
    "plt.ylabel('Loss')\n",
    "plt.show()\n"
   ]
  },
  {
   "cell_type": "markdown",
   "metadata": {
    "id": "qE81cgQdGM7I"
   },
   "source": [
    "3.4.3 Модифицируйте метод `__init__` датасета из 3.4.2 таким образом, чтобы он мог принимать параметр `transform: callable`. Реализуйте класс `DropColsTransform` для удаления нечисловых данных из массива. Реализуйте класс `ToTensorTransorm` для трансформации массива в тензор."
   ]
  },
  {
   "cell_type": "code",
   "execution_count": 203,
   "metadata": {
    "id": "J02LNj_F8qxK"
   },
   "outputs": [],
   "source": [
    "class DiamondsDataset(Dataset):\n",
    "    def __init__(self, data, transform: callable = None):\n",
    "        self.data = data\n",
    "        self.X = data.drop(columns=[\"price\"])\n",
    "        self.transform = transform\n",
    "        self.y = data.y\n",
    "\n",
    "    def __len__(self):\n",
    "        return self.data.shape[0]\n",
    "\n",
    "    def __getitem__(self, idx):\n",
    "        sample = self.X.iloc[idx], self.y.iloc[idx]\n",
    "        if self.transform:\n",
    "            sample = self.transform(sample)\n",
    "        return sample"
   ]
  },
  {
   "cell_type": "code",
   "execution_count": 204,
   "metadata": {
    "id": "tJii-22pHIlU"
   },
   "outputs": [],
   "source": [
    "class DropColsTransform:\n",
    "    def __init__(self, drop: list):\n",
    "        self.drop = drop\n",
    "\n",
    "    def __call__(self, sample):\n",
    "        _X, _y = sample\n",
    "        _X: pd.Series\n",
    "        _X = _X.drop(self.drop)\n",
    "        return _X.values, _y"
   ]
  },
  {
   "cell_type": "code",
   "execution_count": 205,
   "metadata": {
    "id": "dZZ-OKrVHnY5"
   },
   "outputs": [],
   "source": [
    "class ToTensorTransform:\n",
    "    def __call__(self, sample):\n",
    "        _X, _y = sample\n",
    "        return torch.tensor(list(_X)).float(), torch.tensor(_y).float()"
   ]
  },
  {
   "cell_type": "code",
   "execution_count": 206,
   "metadata": {
    "id": "GssBjT9JHt5g"
   },
   "outputs": [],
   "source": [
    "from torchvision import transforms\n",
    "\n",
    "drop = DropColsTransform(drop=[\"cut\", \"color\", \"clarity\"])\n",
    "to_tensor = ToTensorTransform()\n",
    "dataset = DiamondsDataset(df, transforms.Compose([drop, to_tensor]))\n",
    "train_data, test_data = torch.utils.data.random_split(dataset, [len(dataset) - test_size, test_size])"
   ]
  },
  {
   "cell_type": "code",
   "execution_count": 209,
   "metadata": {},
   "outputs": [
    {
     "name": "stdout",
     "output_type": "stream",
     "text": [
      "Epoch 0: 1.2193\n",
      "Epoch 2: 0.0542\n",
      "Epoch 4: 0.0495\n",
      "Epoch 6: 0.0482\n",
      "Epoch 8: 0.0458\n",
      "Epoch 10: 0.0426\n"
     ]
    }
   ],
   "source": [
    "model = torch.nn.Sequential(\n",
    "    torch.nn.BatchNorm1d(7),\n",
    "    torch.nn.Linear(7, 128),\n",
    "    torch.nn.ReLU(),\n",
    "    torch.nn.Linear(128, 1)\n",
    ")\n",
    "\n",
    "optimizer = torch.optim.Adam(model.parameters(), 0.01)\n",
    "loss = torch.nn.MSELoss()\n",
    "losses = []\n",
    "\n",
    "\n",
    "for i in range(11):\n",
    "    epoch_loss = 0\n",
    "    for j, (x, y) in enumerate(DataLoader(train_data, batch_size=256), 1):\n",
    "        y_pred = model(x)\n",
    "        data_loss = loss(y_pred.flatten(), y.flatten())\n",
    "        data_loss.backward()\n",
    "        epoch_loss += data_loss.item()\n",
    "\n",
    "        with torch.no_grad():\n",
    "            optimizer.step()\n",
    "            model.zero_grad()\n",
    "\n",
    "    losses.append(epoch_loss / j)\n",
    "    if i % 2 == 0:\n",
    "        print(f\"Epoch {i}: {epoch_loss / j:.4f}\")"
   ]
  },
  {
   "cell_type": "code",
   "execution_count": null,
   "metadata": {},
   "outputs": [],
   "source": []
  }
 ],
 "metadata": {
  "colab": {
   "collapsed_sections": [],
   "name": "blank_03_autograd_optim_nn_datasets.ipynb",
   "provenance": []
  },
  "kernelspec": {
   "display_name": "Python 3",
   "language": "python",
   "name": "python3"
  },
  "language_info": {
   "codemirror_mode": {
    "name": "ipython",
    "version": 3
   },
   "file_extension": ".py",
   "mimetype": "text/x-python",
   "name": "python",
   "nbconvert_exporter": "python",
   "pygments_lexer": "ipython3",
   "version": "3.8.8"
  }
 },
 "nbformat": 4,
 "nbformat_minor": 1
}
